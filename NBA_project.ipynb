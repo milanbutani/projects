{
 "cells": [
  {
   "cell_type": "code",
   "execution_count": 159,
   "metadata": {
    "scrolled": true
   },
   "outputs": [
    {
     "data": {
      "text/html": [
       "<table border=\"1\" class=\"dataframe\">\n",
       "    <thead>\n",
       "        <tr>\n",
       "            <th>Rk</th> <th>Player</th> <th>Pos</th> <th>Age</th> <th>Tm</th> <th>G</th> <th>GS</th> <th>MP</th> <th>FG</th> <th>FGA</th> <th>FG%</th> <th>3P</th> <th>3PA</th> <th>3P%</th> <th>2P</th> <th>2PA</th> <th>2P%</th> <th>eFG%</th> <th>FT</th> <th>FTA</th> <th>FT%</th> <th>ORB</th> <th>DRB</th> <th>TRB</th> <th>AST</th> <th>STL</th> <th>BLK</th> <th>TOV</th> <th>PF</th> <th>PS/G</th>\n",
       "        </tr>\n",
       "    </thead>\n",
       "    <tbody>\n",
       "        <tr>\n",
       "            <td>1   </td> <td>Alex Abrines\\abrinal01     </td> <td>SG  </td> <td>24  </td> <td>OKC </td> <td>75  </td> <td>8   </td> <td>15.1</td> <td>1.5 </td> <td>3.9 </td> <td>0.395</td> <td>1.1 </td> <td>2.9 </td> <td>0.38 </td> <td>0.4 </td> <td>0.9 </td> <td>0.443</td> <td>0.54 </td> <td>0.5 </td> <td>0.6 </td> <td>0.848</td> <td>0.3 </td> <td>1.2 </td> <td>1.5 </td> <td>0.4 </td> <td>0.5 </td> <td>0.1 </td> <td>0.3 </td> <td>1.7 </td> <td>4.7 </td>\n",
       "        </tr>\n",
       "        <tr>\n",
       "            <td>2   </td> <td>Quincy Acy\\acyqu01         </td> <td>PF  </td> <td>27  </td> <td>BRK </td> <td>70  </td> <td>8   </td> <td>19.4</td> <td>1.9 </td> <td>5.2 </td> <td>0.356</td> <td>1.5 </td> <td>4.2 </td> <td>0.349</td> <td>0.4 </td> <td>1   </td> <td>0.384</td> <td>0.496</td> <td>0.7 </td> <td>0.9 </td> <td>0.817</td> <td>0.6 </td> <td>3.1 </td> <td>3.7 </td> <td>0.8 </td> <td>0.5 </td> <td>0.4 </td> <td>0.9 </td> <td>2.1 </td> <td>5.9 </td>\n",
       "        </tr>\n",
       "        <tr>\n",
       "            <td>3   </td> <td>Steven Adams\\adamsst01     </td> <td>C   </td> <td>24  </td> <td>OKC </td> <td>76  </td> <td>76  </td> <td>32.7</td> <td>5.9 </td> <td>9.4 </td> <td>0.629</td> <td>0   </td> <td>0   </td> <td>0    </td> <td>5.9 </td> <td>9.3 </td> <td>0.631</td> <td>0.629</td> <td>2.1 </td> <td>3.8 </td> <td>0.559</td> <td>5.1 </td> <td>4   </td> <td>9   </td> <td>1.2 </td> <td>1.2 </td> <td>1   </td> <td>1.7 </td> <td>2.8 </td> <td>13.9</td>\n",
       "        </tr>\n",
       "        <tr>\n",
       "            <td>4   </td> <td>Bam Adebayo\\adebaba01      </td> <td>C   </td> <td>20  </td> <td>MIA </td> <td>69  </td> <td>19  </td> <td>19.8</td> <td>2.5 </td> <td>4.9 </td> <td>0.512</td> <td>0   </td> <td>0.1 </td> <td>0    </td> <td>2.5 </td> <td>4.8 </td> <td>0.523</td> <td>0.512</td> <td>1.9 </td> <td>2.6 </td> <td>0.721</td> <td>1.7 </td> <td>3.8 </td> <td>5.5 </td> <td>1.5 </td> <td>0.5 </td> <td>0.6 </td> <td>1   </td> <td>2   </td> <td>6.9 </td>\n",
       "        </tr>\n",
       "        <tr>\n",
       "            <td>5   </td> <td>Arron Afflalo\\afflaar01    </td> <td>SG  </td> <td>32  </td> <td>ORL </td> <td>53  </td> <td>3   </td> <td>12.9</td> <td>1.2 </td> <td>3.1 </td> <td>0.401</td> <td>0.5 </td> <td>1.3 </td> <td>0.386</td> <td>0.7 </td> <td>1.7 </td> <td>0.413</td> <td>0.485</td> <td>0.4 </td> <td>0.5 </td> <td>0.846</td> <td>0.1 </td> <td>1.2 </td> <td>1.2 </td> <td>0.6 </td> <td>0.1 </td> <td>0.2 </td> <td>0.4 </td> <td>1.1 </td> <td>3.4 </td>\n",
       "        </tr>\n",
       "        <tr>\n",
       "            <td>6   </td> <td>Cole Aldrich\\aldrico01     </td> <td>C   </td> <td>29  </td> <td>MIN </td> <td>21  </td> <td>0   </td> <td>2.3 </td> <td>0.2 </td> <td>0.7 </td> <td>0.333</td> <td>0   </td> <td>0   </td> <td>nan  </td> <td>0.2 </td> <td>0.7 </td> <td>0.333</td> <td>0.333</td> <td>0.1 </td> <td>0.3 </td> <td>0.333</td> <td>0.1 </td> <td>0.6 </td> <td>0.7 </td> <td>0.1 </td> <td>0.1 </td> <td>0   </td> <td>0   </td> <td>0.5 </td> <td>0.6 </td>\n",
       "        </tr>\n",
       "        <tr>\n",
       "            <td>7   </td> <td>LaMarcus Aldridge\\aldrila01</td> <td>C   </td> <td>32  </td> <td>SAS </td> <td>75  </td> <td>75  </td> <td>33.5</td> <td>9.2 </td> <td>18  </td> <td>0.51 </td> <td>0.4 </td> <td>1.2 </td> <td>0.293</td> <td>8.8 </td> <td>16.7</td> <td>0.526</td> <td>0.52 </td> <td>4.5 </td> <td>5.3 </td> <td>0.837</td> <td>3.3 </td> <td>5.2 </td> <td>8.5 </td> <td>2   </td> <td>0.6 </td> <td>1.2 </td> <td>1.5 </td> <td>2.1 </td> <td>23.1</td>\n",
       "        </tr>\n",
       "        <tr>\n",
       "            <td>8   </td> <td>Jarrett Allen\\allenja01    </td> <td>C   </td> <td>19  </td> <td>BRK </td> <td>72  </td> <td>31  </td> <td>20  </td> <td>3.3 </td> <td>5.5 </td> <td>0.589</td> <td>0.1 </td> <td>0.2 </td> <td>0.333</td> <td>3.2 </td> <td>5.3 </td> <td>0.599</td> <td>0.596</td> <td>1.6 </td> <td>2   </td> <td>0.776</td> <td>2   </td> <td>3.4 </td> <td>5.4 </td> <td>0.7 </td> <td>0.4 </td> <td>1.2 </td> <td>1.1 </td> <td>2   </td> <td>8.2 </td>\n",
       "        </tr>\n",
       "        <tr>\n",
       "            <td>9   </td> <td>Kadeem Allen\\allenka01     </td> <td>PG  </td> <td>25  </td> <td>BOS </td> <td>18  </td> <td>1   </td> <td>5.9 </td> <td>0.3 </td> <td>1.2 </td> <td>0.273</td> <td>0   </td> <td>0.6 </td> <td>0    </td> <td>0.3 </td> <td>0.6 </td> <td>0.545</td> <td>0.273</td> <td>0.4 </td> <td>0.5 </td> <td>0.778</td> <td>0.2 </td> <td>0.4 </td> <td>0.6 </td> <td>0.7 </td> <td>0.2 </td> <td>0.1 </td> <td>0.5 </td> <td>0.8 </td> <td>1.1 </td>\n",
       "        </tr>\n",
       "        <tr>\n",
       "            <td>10  </td> <td>Tony Allen\\allento01       </td> <td>SF  </td> <td>36  </td> <td>NOP </td> <td>22  </td> <td>0   </td> <td>12.4</td> <td>2   </td> <td>4.1 </td> <td>0.484</td> <td>0.2 </td> <td>0.5 </td> <td>0.333</td> <td>1.8 </td> <td>3.6 </td> <td>0.506</td> <td>0.505</td> <td>0.5 </td> <td>1   </td> <td>0.524</td> <td>0.9 </td> <td>1.2 </td> <td>2.1 </td> <td>0.4 </td> <td>0.5 </td> <td>0.1 </td> <td>0.9 </td> <td>2.2 </td> <td>4.7 </td>\n",
       "        </tr>\n",
       "    </tbody>\n",
       "</table>\n",
       "<p>... (655 rows omitted)</p>"
      ],
      "text/plain": [
       "<IPython.core.display.HTML object>"
      ]
     },
     "metadata": {},
     "output_type": "display_data"
    }
   ],
   "source": [
    "import numpy as np\n",
    "from datascience import *\n",
    "\n",
    "\n",
    "import matplotlib\n",
    "%matplotlib inline\n",
    "import matplotlib.pyplot as plt\n",
    "plt.style.use('fivethirtyeight')\n",
    "import warnings\n",
    "warnings.simplefilter('ignore', FutureWarning)\n",
    "from scipy.stats import zscore\n",
    "\n",
    "boxScore = Table.read_table('2017_2018_season.csv', sep=',')\n",
    "boxScore.show(10)"
   ]
  },
  {
   "cell_type": "code",
   "execution_count": 160,
   "metadata": {
    "scrolled": true
   },
   "outputs": [
    {
     "data": {
      "text/html": [
       "<table border=\"1\" class=\"dataframe\">\n",
       "    <thead>\n",
       "        <tr>\n",
       "            <th>Rk</th> <th>Player</th> <th>Tm</th> <th>2018-19</th> <th>2019-20</th> <th>2020-21</th> <th>2021-22</th> <th>2022-23</th> <th>2023-24</th> <th>Signed Using</th> <th>Guaranteed</th>\n",
       "        </tr>\n",
       "    </thead>\n",
       "    <tbody>\n",
       "        <tr>\n",
       "            <td>1   </td> <td>Stephen Curry\\curryst01    </td> <td>GSW </td> <td>$37457154</td> <td>$40231758</td> <td>$43006362</td> <td>$45780966</td> <td>nan      </td> <td>nan    </td> <td>Bird Rights   </td> <td>$166476240</td>\n",
       "        </tr>\n",
       "        <tr>\n",
       "            <td>2   </td> <td>Chris Paul\\paulch01        </td> <td>HOU </td> <td>$35654150</td> <td>$38506482</td> <td>$41358814</td> <td>$44211146</td> <td>nan      </td> <td>nan    </td> <td>nan           </td> <td>$159730592</td>\n",
       "        </tr>\n",
       "        <tr>\n",
       "            <td>3   </td> <td>Russell Westbrook\\westbru01</td> <td>OKC </td> <td>$35654150</td> <td>$38178000</td> <td>$41006000</td> <td>$43848000</td> <td>$46662000</td> <td>nan    </td> <td>Bird Rights   </td> <td>$158686150</td>\n",
       "        </tr>\n",
       "        <tr>\n",
       "            <td>4   </td> <td>LeBron James\\jamesle01     </td> <td>LAL </td> <td>$35654150</td> <td>$37436858</td> <td>$39219565</td> <td>$41002273</td> <td>nan      </td> <td>nan    </td> <td>nan           </td> <td>$113310573</td>\n",
       "        </tr>\n",
       "        <tr>\n",
       "            <td>5   </td> <td>Blake Griffin\\griffbl01    </td> <td>DET </td> <td>$32088932</td> <td>$34234964</td> <td>$36595996</td> <td>$38957028</td> <td>nan      </td> <td>nan    </td> <td>Bird Rights   </td> <td>$102919892</td>\n",
       "        </tr>\n",
       "        <tr>\n",
       "            <td>6   </td> <td>Gordon Hayward\\haywago01   </td> <td>BOS </td> <td>$31214295</td> <td>$32700690</td> <td>$34187085</td> <td>nan      </td> <td>nan      </td> <td>nan    </td> <td>Cap space     </td> <td>$63914985 </td>\n",
       "        </tr>\n",
       "        <tr>\n",
       "            <td>7   </td> <td>Kyle Lowry\\lowryky01       </td> <td>TOR </td> <td>$31200000</td> <td>$33296296</td> <td>nan      </td> <td>nan      </td> <td>nan      </td> <td>nan    </td> <td>Bird Rights   </td> <td>$64496296 </td>\n",
       "        </tr>\n",
       "        <tr>\n",
       "            <td>8   </td> <td>Paul George\\georgpa01      </td> <td>OKC </td> <td>$30560700</td> <td>$33005556</td> <td>$35450412</td> <td>$37895268</td> <td>nan      </td> <td>nan    </td> <td>Maximum Salary</td> <td>$99016668 </td>\n",
       "        </tr>\n",
       "        <tr>\n",
       "            <td>9   </td> <td>Mike Conley\\conlemi01      </td> <td>MEM </td> <td>$30521116</td> <td>$32511623</td> <td>$34504132</td> <td>nan      </td> <td>nan      </td> <td>nan    </td> <td>Cap Space     </td> <td>$85459122 </td>\n",
       "        </tr>\n",
       "        <tr>\n",
       "            <td>10  </td> <td>James Harden\\hardeja01     </td> <td>HOU </td> <td>$30431854</td> <td>$37800000</td> <td>$40824000</td> <td>$43848000</td> <td>$46872000</td> <td>nan    </td> <td>Bird Rights   </td> <td>$152903854</td>\n",
       "        </tr>\n",
       "    </tbody>\n",
       "</table>\n",
       "<p>... (478 rows omitted)</p>"
      ],
      "text/plain": [
       "<IPython.core.display.HTML object>"
      ]
     },
     "metadata": {},
     "output_type": "display_data"
    }
   ],
   "source": [
    "contracts = Table.read_table('2018_2019_Contracts.csv', sep=',')\n",
    "contracts.show(10)"
   ]
  },
  {
   "cell_type": "code",
   "execution_count": 161,
   "metadata": {
    "scrolled": true
   },
   "outputs": [
    {
     "data": {
      "text/html": [
       "<table border=\"1\" class=\"dataframe\">\n",
       "    <thead>\n",
       "        <tr>\n",
       "            <th>Rk</th> <th>Player</th> <th>Pos</th> <th>Age</th> <th>Tm</th> <th>G</th> <th>GS</th> <th>MP</th> <th>FG</th> <th>FGA</th> <th>FG%</th> <th>3P</th> <th>3PA</th> <th>3P%</th> <th>2P</th> <th>2PA</th> <th>2P%</th> <th>eFG%</th> <th>FT</th> <th>FTA</th> <th>FT%</th> <th>ORB</th> <th>DRB</th> <th>TRB</th> <th>AST</th> <th>STL</th> <th>BLK</th> <th>TOV</th> <th>PF</th> <th>PS/G</th>\n",
       "        </tr>\n",
       "    </thead>\n",
       "    <tbody>\n",
       "        <tr>\n",
       "            <td>1   </td> <td>Alex Abrines\\abrinal01     </td> <td>SG  </td> <td>24  </td> <td>OKC </td> <td>75  </td> <td>8   </td> <td>15.1</td> <td>1.5 </td> <td>3.9 </td> <td>0.395</td> <td>1.1 </td> <td>2.9 </td> <td>0.38 </td> <td>0.4 </td> <td>0.9 </td> <td>0.443</td> <td>0.54 </td> <td>0.5 </td> <td>0.6 </td> <td>0.848</td> <td>0.3 </td> <td>1.2 </td> <td>1.5 </td> <td>0.4 </td> <td>0.5 </td> <td>0.1 </td> <td>0.3 </td> <td>1.7 </td> <td>4.7 </td>\n",
       "        </tr>\n",
       "        <tr>\n",
       "            <td>2   </td> <td>Quincy Acy\\acyqu01         </td> <td>PF  </td> <td>27  </td> <td>BRK </td> <td>70  </td> <td>8   </td> <td>19.4</td> <td>1.9 </td> <td>5.2 </td> <td>0.356</td> <td>1.5 </td> <td>4.2 </td> <td>0.349</td> <td>0.4 </td> <td>1   </td> <td>0.384</td> <td>0.496</td> <td>0.7 </td> <td>0.9 </td> <td>0.817</td> <td>0.6 </td> <td>3.1 </td> <td>3.7 </td> <td>0.8 </td> <td>0.5 </td> <td>0.4 </td> <td>0.9 </td> <td>2.1 </td> <td>5.9 </td>\n",
       "        </tr>\n",
       "        <tr>\n",
       "            <td>3   </td> <td>Steven Adams\\adamsst01     </td> <td>C   </td> <td>24  </td> <td>OKC </td> <td>76  </td> <td>76  </td> <td>32.7</td> <td>5.9 </td> <td>9.4 </td> <td>0.629</td> <td>0   </td> <td>0   </td> <td>0    </td> <td>5.9 </td> <td>9.3 </td> <td>0.631</td> <td>0.629</td> <td>2.1 </td> <td>3.8 </td> <td>0.559</td> <td>5.1 </td> <td>4   </td> <td>9   </td> <td>1.2 </td> <td>1.2 </td> <td>1   </td> <td>1.7 </td> <td>2.8 </td> <td>13.9</td>\n",
       "        </tr>\n",
       "        <tr>\n",
       "            <td>4   </td> <td>Bam Adebayo\\adebaba01      </td> <td>C   </td> <td>20  </td> <td>MIA </td> <td>69  </td> <td>19  </td> <td>19.8</td> <td>2.5 </td> <td>4.9 </td> <td>0.512</td> <td>0   </td> <td>0.1 </td> <td>0    </td> <td>2.5 </td> <td>4.8 </td> <td>0.523</td> <td>0.512</td> <td>1.9 </td> <td>2.6 </td> <td>0.721</td> <td>1.7 </td> <td>3.8 </td> <td>5.5 </td> <td>1.5 </td> <td>0.5 </td> <td>0.6 </td> <td>1   </td> <td>2   </td> <td>6.9 </td>\n",
       "        </tr>\n",
       "        <tr>\n",
       "            <td>5   </td> <td>Arron Afflalo\\afflaar01    </td> <td>SG  </td> <td>32  </td> <td>ORL </td> <td>53  </td> <td>3   </td> <td>12.9</td> <td>1.2 </td> <td>3.1 </td> <td>0.401</td> <td>0.5 </td> <td>1.3 </td> <td>0.386</td> <td>0.7 </td> <td>1.7 </td> <td>0.413</td> <td>0.485</td> <td>0.4 </td> <td>0.5 </td> <td>0.846</td> <td>0.1 </td> <td>1.2 </td> <td>1.2 </td> <td>0.6 </td> <td>0.1 </td> <td>0.2 </td> <td>0.4 </td> <td>1.1 </td> <td>3.4 </td>\n",
       "        </tr>\n",
       "        <tr>\n",
       "            <td>6   </td> <td>Cole Aldrich\\aldrico01     </td> <td>C   </td> <td>29  </td> <td>MIN </td> <td>21  </td> <td>0   </td> <td>2.3 </td> <td>0.2 </td> <td>0.7 </td> <td>0.333</td> <td>0   </td> <td>0   </td> <td>nan  </td> <td>0.2 </td> <td>0.7 </td> <td>0.333</td> <td>0.333</td> <td>0.1 </td> <td>0.3 </td> <td>0.333</td> <td>0.1 </td> <td>0.6 </td> <td>0.7 </td> <td>0.1 </td> <td>0.1 </td> <td>0   </td> <td>0   </td> <td>0.5 </td> <td>0.6 </td>\n",
       "        </tr>\n",
       "        <tr>\n",
       "            <td>7   </td> <td>LaMarcus Aldridge\\aldrila01</td> <td>C   </td> <td>32  </td> <td>SAS </td> <td>75  </td> <td>75  </td> <td>33.5</td> <td>9.2 </td> <td>18  </td> <td>0.51 </td> <td>0.4 </td> <td>1.2 </td> <td>0.293</td> <td>8.8 </td> <td>16.7</td> <td>0.526</td> <td>0.52 </td> <td>4.5 </td> <td>5.3 </td> <td>0.837</td> <td>3.3 </td> <td>5.2 </td> <td>8.5 </td> <td>2   </td> <td>0.6 </td> <td>1.2 </td> <td>1.5 </td> <td>2.1 </td> <td>23.1</td>\n",
       "        </tr>\n",
       "        <tr>\n",
       "            <td>8   </td> <td>Jarrett Allen\\allenja01    </td> <td>C   </td> <td>19  </td> <td>BRK </td> <td>72  </td> <td>31  </td> <td>20  </td> <td>3.3 </td> <td>5.5 </td> <td>0.589</td> <td>0.1 </td> <td>0.2 </td> <td>0.333</td> <td>3.2 </td> <td>5.3 </td> <td>0.599</td> <td>0.596</td> <td>1.6 </td> <td>2   </td> <td>0.776</td> <td>2   </td> <td>3.4 </td> <td>5.4 </td> <td>0.7 </td> <td>0.4 </td> <td>1.2 </td> <td>1.1 </td> <td>2   </td> <td>8.2 </td>\n",
       "        </tr>\n",
       "        <tr>\n",
       "            <td>9   </td> <td>Kadeem Allen\\allenka01     </td> <td>PG  </td> <td>25  </td> <td>BOS </td> <td>18  </td> <td>1   </td> <td>5.9 </td> <td>0.3 </td> <td>1.2 </td> <td>0.273</td> <td>0   </td> <td>0.6 </td> <td>0    </td> <td>0.3 </td> <td>0.6 </td> <td>0.545</td> <td>0.273</td> <td>0.4 </td> <td>0.5 </td> <td>0.778</td> <td>0.2 </td> <td>0.4 </td> <td>0.6 </td> <td>0.7 </td> <td>0.2 </td> <td>0.1 </td> <td>0.5 </td> <td>0.8 </td> <td>1.1 </td>\n",
       "        </tr>\n",
       "        <tr>\n",
       "            <td>10  </td> <td>Tony Allen\\allento01       </td> <td>SF  </td> <td>36  </td> <td>NOP </td> <td>22  </td> <td>0   </td> <td>12.4</td> <td>2   </td> <td>4.1 </td> <td>0.484</td> <td>0.2 </td> <td>0.5 </td> <td>0.333</td> <td>1.8 </td> <td>3.6 </td> <td>0.506</td> <td>0.505</td> <td>0.5 </td> <td>1   </td> <td>0.524</td> <td>0.9 </td> <td>1.2 </td> <td>2.1 </td> <td>0.4 </td> <td>0.5 </td> <td>0.1 </td> <td>0.9 </td> <td>2.2 </td> <td>4.7 </td>\n",
       "        </tr>\n",
       "    </tbody>\n",
       "</table>\n",
       "<p>... (657 rows omitted)</p>"
      ],
      "text/plain": [
       "<IPython.core.display.HTML object>"
      ]
     },
     "metadata": {},
     "output_type": "display_data"
    }
   ],
   "source": [
    "boxscore_clean = Table.read_table('2017_2018_season(clean).csv', sep=',')\n",
    "boxscore_clean.show(10)"
   ]
  },
  {
   "cell_type": "code",
   "execution_count": 162,
   "metadata": {},
   "outputs": [
    {
     "data": {
      "text/html": [
       "<table border=\"1\" class=\"dataframe\">\n",
       "    <thead>\n",
       "        <tr>\n",
       "            <th>Unnamed: 0</th> <th>Unnamed: 1</th> <th>Unnamed: 2</th> <th>Unnamed: 3</th> <th>Unnamed: 4</th> <th>Unnamed: 5</th> <th>Unnamed: 6</th> <th>Totals</th> <th>Totals.1</th> <th>Totals.2</th> <th>Totals.3</th> <th>Totals.4</th> <th>Totals.5</th> <th>Totals.6</th> <th>Totals.7</th> <th>Totals.8</th> <th>Totals.9</th> <th>Totals.10</th> <th>Totals.11</th> <th>Totals.12</th> <th>Totals.13</th> <th>Unnamed: 21</th> <th>Unnamed: 22</th> <th>Unnamed: 23</th> <th>Per Game</th> <th>Per Game.1</th> <th>Per Game.2</th> <th>Per Game.3</th>\n",
       "        </tr>\n",
       "    </thead>\n",
       "    <tbody>\n",
       "        <tr>\n",
       "            <td>Rk        </td> <td>Player                    </td> <td>Debut               </td> <td>Age       </td> <td>Yrs       </td> <td>G         </td> <td>MP        </td> <td>FG    </td> <td>FGA     </td> <td>3P      </td> <td>3PA     </td> <td>FT      </td> <td>FTA     </td> <td>ORB     </td> <td>TRB     </td> <td>AST     </td> <td>STL     </td> <td>BLK      </td> <td>TOV      </td> <td>PF       </td> <td>PTS      </td> <td>FG%        </td> <td>3P         </td> <td>FT%        </td> <td>MP      </td> <td>PS/G      </td> <td>TRB       </td> <td>AST       </td>\n",
       "        </tr>\n",
       "        <tr>\n",
       "            <td>1         </td> <td>Bam Adebayo\\adebaba01     </td> <td>01/10/18 MIA @ IND  </td> <td>20        </td> <td>2         </td> <td>89        </td> <td>1742      </td> <td>228   </td> <td>441     </td> <td>0       </td> <td>10      </td> <td>178     </td> <td>249     </td> <td>159     </td> <td>519     </td> <td>125     </td> <td>45      </td> <td>56       </td> <td>91       </td> <td>190      </td> <td>634      </td> <td>.517       </td> <td>.000       </td> <td>.715       </td> <td>19.6    </td> <td>7.1       </td> <td>5.8       </td> <td>1.4       </td>\n",
       "        </tr>\n",
       "        <tr>\n",
       "            <td>2         </td> <td>Jarrett Allen\\allenja01   </td> <td>01/1/18 BRK vs. ORL </td> <td>19        </td> <td>2         </td> <td>91        </td> <td>1962      </td> <td>326   </td> <td>554     </td> <td>7       </td> <td>30      </td> <td>164     </td> <td>221     </td> <td>200     </td> <td>547     </td> <td>78      </td> <td>39      </td> <td>119      </td> <td>103      </td> <td>197      </td> <td>823      </td> <td>.588       </td> <td>.233       </td> <td>.742       </td> <td>21.6    </td> <td>9.0       </td> <td>6.0       </td> <td>0.9       </td>\n",
       "        </tr>\n",
       "        <tr>\n",
       "            <td>3         </td> <td>Kadeem Allen\\allenka01    </td> <td>01/31/18 BOS vs. NYK</td> <td>25        </td> <td>1         </td> <td>18        </td> <td>107       </td> <td>6     </td> <td>22      </td> <td>0       </td> <td>11      </td> <td>7       </td> <td>9       </td> <td>4       </td> <td>11      </td> <td>12      </td> <td>3       </td> <td>2        </td> <td>9        </td> <td>15       </td> <td>19       </td> <td>.273       </td> <td>.000       </td> <td>.778       </td> <td>5.9     </td> <td>1.1       </td> <td>0.6       </td> <td>0.7       </td>\n",
       "        </tr>\n",
       "        <tr>\n",
       "            <td>4         </td> <td>Ike Anigbogu\\anigbik01    </td> <td>01/14/18 IND @ PHO  </td> <td>19        </td> <td>2         </td> <td>14        </td> <td>36        </td> <td>4     </td> <td>12      </td> <td>0       </td> <td>0       </td> <td>5       </td> <td>6       </td> <td>6       </td> <td>12      </td> <td>1       </td> <td>1       </td> <td>4        </td> <td>3        </td> <td>1        </td> <td>13       </td> <td>.333       </td> <td>nan        </td> <td>.833       </td> <td>2.6     </td> <td>0.9       </td> <td>0.9       </td> <td>0.1       </td>\n",
       "        </tr>\n",
       "        <tr>\n",
       "            <td>5         </td> <td>OG Anunoby\\anunoog01      </td> <td>01/1/18 TOR vs. MIL </td> <td>20        </td> <td>2         </td> <td>90        </td> <td>1830      </td> <td>222   </td> <td>471     </td> <td>93      </td> <td>260     </td> <td>43      </td> <td>75      </td> <td>54      </td> <td>222     </td> <td>64      </td> <td>63      </td> <td>19       </td> <td>55       </td> <td>170      </td> <td>580      </td> <td>.471       </td> <td>.358       </td> <td>.573       </td> <td>20.3    </td> <td>6.4       </td> <td>2.5       </td> <td>0.7       </td>\n",
       "        </tr>\n",
       "        <tr>\n",
       "            <td>6         </td> <td>Ryan Arcidiacono\\arcidry01</td> <td>01/20/18 CHI @ ATL  </td> <td>23        </td> <td>2         </td> <td>44        </td> <td>870       </td> <td>70    </td> <td>154     </td> <td>44      </td> <td>110     </td> <td>15      </td> <td>20      </td> <td>4       </td> <td>77      </td> <td>119     </td> <td>30      </td> <td>1        </td> <td>30       </td> <td>70       </td> <td>199      </td> <td>.455       </td> <td>.400       </td> <td>.750       </td> <td>19.8    </td> <td>4.5       </td> <td>1.8       </td> <td>2.7       </td>\n",
       "        </tr>\n",
       "        <tr>\n",
       "            <td>7         </td> <td>Jamel Artis\\artisja01     </td> <td>03/22/18 ORL vs. PHI</td> <td>25        </td> <td>1         </td> <td>15        </td> <td>279       </td> <td>31    </td> <td>79      </td> <td>8       </td> <td>29      </td> <td>7       </td> <td>12      </td> <td>4       </td> <td>38      </td> <td>18      </td> <td>2       </td> <td>3        </td> <td>8        </td> <td>11       </td> <td>77       </td> <td>.392       </td> <td>.276       </td> <td>.583       </td> <td>18.6    </td> <td>5.1       </td> <td>2.5       </td> <td>1.2       </td>\n",
       "        </tr>\n",
       "        <tr>\n",
       "            <td>8         </td> <td>Dwayne Bacon\\bacondw01    </td> <td>01/17/18 CHO vs. WAS</td> <td>22        </td> <td>2         </td> <td>65        </td> <td>883       </td> <td>104   </td> <td>256     </td> <td>20      </td> <td>61      </td> <td>30      </td> <td>37      </td> <td>6       </td> <td>149     </td> <td>48      </td> <td>19      </td> <td>2        </td> <td>30       </td> <td>66       </td> <td>258      </td> <td>.406       </td> <td>.328       </td> <td>.811       </td> <td>13.6    </td> <td>4.0       </td> <td>2.3       </td> <td>0.7       </td>\n",
       "        </tr>\n",
       "        <tr>\n",
       "            <td>9         </td> <td>Lonzo Ball\\balllo01       </td> <td>01/11/18 LAL vs. SAS</td> <td>20        </td> <td>2         </td> <td>72        </td> <td>2312      </td> <td>267   </td> <td>721     </td> <td>118     </td> <td>375     </td> <td>40      </td> <td>85      </td> <td>87      </td> <td>471     </td> <td>466     </td> <td>108     </td> <td>47       </td> <td>171      </td> <td>159      </td> <td>692      </td> <td>.370       </td> <td>.315       </td> <td>.471       </td> <td>32.1    </td> <td>9.6       </td> <td>6.5       </td> <td>6.5       </td>\n",
       "        </tr>\n",
       "    </tbody>\n",
       "</table>\n",
       "<p>... (111 rows omitted)</p>"
      ],
      "text/plain": [
       "<IPython.core.display.HTML object>"
      ]
     },
     "metadata": {},
     "output_type": "display_data"
    }
   ],
   "source": [
    "rookies_17 = Table.read_table('rookies_2017-18.csv', sep=',')\n",
    "rookies_17.show(10)"
   ]
  },
  {
   "cell_type": "code",
   "execution_count": 163,
   "metadata": {
    "scrolled": true
   },
   "outputs": [],
   "source": [
    "joined_17 = boxscore_clean.join('Player', rookies_17, 'Unnamed: 1')"
   ]
  },
  {
   "cell_type": "code",
   "execution_count": 164,
   "metadata": {},
   "outputs": [],
   "source": [
    "rookies_names_17 = joined_17.column(0)"
   ]
  },
  {
   "cell_type": "code",
   "execution_count": 165,
   "metadata": {},
   "outputs": [
    {
     "data": {
      "text/plain": [
       "'Zhou Qi\\\\qizh01'"
      ]
     },
     "execution_count": 165,
     "metadata": {},
     "output_type": "execute_result"
    }
   ],
   "source": [
    "rookies_names_17.item(len(rookies_names_17)-1)"
   ]
  },
  {
   "cell_type": "code",
   "execution_count": 166,
   "metadata": {
    "scrolled": true
   },
   "outputs": [],
   "source": [
    "for name in np.arange(len(rookies_names_17)-1):\n",
    "    boxscore_clean = boxscore_clean.where('Player', are.not_equal_to(rookies_names_17.item(name)))"
   ]
  },
  {
   "cell_type": "code",
   "execution_count": 167,
   "metadata": {},
   "outputs": [
    {
     "data": {
      "text/html": [
       "<table border=\"1\" class=\"dataframe\">\n",
       "    <thead>\n",
       "        <tr>\n",
       "            <th>Rk</th> <th>Player</th> <th>Pos</th> <th>Age</th> <th>Tm</th> <th>G</th> <th>GS</th> <th>MP</th> <th>FG</th> <th>FGA</th> <th>FG%</th> <th>3P</th> <th>3PA</th> <th>3P%</th> <th>2P</th> <th>2PA</th> <th>2P%</th> <th>eFG%</th> <th>FT</th> <th>FTA</th> <th>FT%</th> <th>ORB</th> <th>DRB</th> <th>TRB</th> <th>AST</th> <th>STL</th> <th>BLK</th> <th>TOV</th> <th>PF</th> <th>PS/G</th>\n",
       "        </tr>\n",
       "    </thead>\n",
       "    <tbody>\n",
       "        <tr>\n",
       "            <td>1   </td> <td>Alex Abrines\\abrinal01     </td> <td>SG  </td> <td>24  </td> <td>OKC </td> <td>75  </td> <td>8   </td> <td>15.1</td> <td>1.5 </td> <td>3.9 </td> <td>0.395</td> <td>1.1 </td> <td>2.9 </td> <td>0.38 </td> <td>0.4 </td> <td>0.9 </td> <td>0.443</td> <td>0.54 </td> <td>0.5 </td> <td>0.6 </td> <td>0.848</td> <td>0.3 </td> <td>1.2 </td> <td>1.5 </td> <td>0.4 </td> <td>0.5 </td> <td>0.1 </td> <td>0.3 </td> <td>1.7 </td> <td>4.7 </td>\n",
       "        </tr>\n",
       "        <tr>\n",
       "            <td>2   </td> <td>Quincy Acy\\acyqu01         </td> <td>PF  </td> <td>27  </td> <td>BRK </td> <td>70  </td> <td>8   </td> <td>19.4</td> <td>1.9 </td> <td>5.2 </td> <td>0.356</td> <td>1.5 </td> <td>4.2 </td> <td>0.349</td> <td>0.4 </td> <td>1   </td> <td>0.384</td> <td>0.496</td> <td>0.7 </td> <td>0.9 </td> <td>0.817</td> <td>0.6 </td> <td>3.1 </td> <td>3.7 </td> <td>0.8 </td> <td>0.5 </td> <td>0.4 </td> <td>0.9 </td> <td>2.1 </td> <td>5.9 </td>\n",
       "        </tr>\n",
       "        <tr>\n",
       "            <td>3   </td> <td>Steven Adams\\adamsst01     </td> <td>C   </td> <td>24  </td> <td>OKC </td> <td>76  </td> <td>76  </td> <td>32.7</td> <td>5.9 </td> <td>9.4 </td> <td>0.629</td> <td>0   </td> <td>0   </td> <td>0    </td> <td>5.9 </td> <td>9.3 </td> <td>0.631</td> <td>0.629</td> <td>2.1 </td> <td>3.8 </td> <td>0.559</td> <td>5.1 </td> <td>4   </td> <td>9   </td> <td>1.2 </td> <td>1.2 </td> <td>1   </td> <td>1.7 </td> <td>2.8 </td> <td>13.9</td>\n",
       "        </tr>\n",
       "        <tr>\n",
       "            <td>5   </td> <td>Arron Afflalo\\afflaar01    </td> <td>SG  </td> <td>32  </td> <td>ORL </td> <td>53  </td> <td>3   </td> <td>12.9</td> <td>1.2 </td> <td>3.1 </td> <td>0.401</td> <td>0.5 </td> <td>1.3 </td> <td>0.386</td> <td>0.7 </td> <td>1.7 </td> <td>0.413</td> <td>0.485</td> <td>0.4 </td> <td>0.5 </td> <td>0.846</td> <td>0.1 </td> <td>1.2 </td> <td>1.2 </td> <td>0.6 </td> <td>0.1 </td> <td>0.2 </td> <td>0.4 </td> <td>1.1 </td> <td>3.4 </td>\n",
       "        </tr>\n",
       "        <tr>\n",
       "            <td>6   </td> <td>Cole Aldrich\\aldrico01     </td> <td>C   </td> <td>29  </td> <td>MIN </td> <td>21  </td> <td>0   </td> <td>2.3 </td> <td>0.2 </td> <td>0.7 </td> <td>0.333</td> <td>0   </td> <td>0   </td> <td>nan  </td> <td>0.2 </td> <td>0.7 </td> <td>0.333</td> <td>0.333</td> <td>0.1 </td> <td>0.3 </td> <td>0.333</td> <td>0.1 </td> <td>0.6 </td> <td>0.7 </td> <td>0.1 </td> <td>0.1 </td> <td>0   </td> <td>0   </td> <td>0.5 </td> <td>0.6 </td>\n",
       "        </tr>\n",
       "        <tr>\n",
       "            <td>7   </td> <td>LaMarcus Aldridge\\aldrila01</td> <td>C   </td> <td>32  </td> <td>SAS </td> <td>75  </td> <td>75  </td> <td>33.5</td> <td>9.2 </td> <td>18  </td> <td>0.51 </td> <td>0.4 </td> <td>1.2 </td> <td>0.293</td> <td>8.8 </td> <td>16.7</td> <td>0.526</td> <td>0.52 </td> <td>4.5 </td> <td>5.3 </td> <td>0.837</td> <td>3.3 </td> <td>5.2 </td> <td>8.5 </td> <td>2   </td> <td>0.6 </td> <td>1.2 </td> <td>1.5 </td> <td>2.1 </td> <td>23.1</td>\n",
       "        </tr>\n",
       "        <tr>\n",
       "            <td>10  </td> <td>Tony Allen\\allento01       </td> <td>SF  </td> <td>36  </td> <td>NOP </td> <td>22  </td> <td>0   </td> <td>12.4</td> <td>2   </td> <td>4.1 </td> <td>0.484</td> <td>0.2 </td> <td>0.5 </td> <td>0.333</td> <td>1.8 </td> <td>3.6 </td> <td>0.506</td> <td>0.505</td> <td>0.5 </td> <td>1   </td> <td>0.524</td> <td>0.9 </td> <td>1.2 </td> <td>2.1 </td> <td>0.4 </td> <td>0.5 </td> <td>0.1 </td> <td>0.9 </td> <td>2.2 </td> <td>4.7 </td>\n",
       "        </tr>\n",
       "        <tr>\n",
       "            <td>11  </td> <td>Al-Farouq Aminu\\aminual01  </td> <td>PF  </td> <td>27  </td> <td>POR </td> <td>69  </td> <td>67  </td> <td>30  </td> <td>3.3 </td> <td>8.4 </td> <td>0.395</td> <td>1.8 </td> <td>4.9 </td> <td>0.369</td> <td>1.5 </td> <td>3.5 </td> <td>0.432</td> <td>0.503</td> <td>0.9 </td> <td>1.2 </td> <td>0.738</td> <td>1.4 </td> <td>6.2 </td> <td>7.6 </td> <td>1.2 </td> <td>1.1 </td> <td>0.6 </td> <td>1.1 </td> <td>2   </td> <td>9.3 </td>\n",
       "        </tr>\n",
       "        <tr>\n",
       "            <td>12  </td> <td>Justin Anderson\\anderju01  </td> <td>SF  </td> <td>24  </td> <td>PHI </td> <td>38  </td> <td>0   </td> <td>13.7</td> <td>2.3 </td> <td>5.3 </td> <td>0.431</td> <td>0.9 </td> <td>2.7 </td> <td>0.33 </td> <td>1.4 </td> <td>2.6 </td> <td>0.535</td> <td>0.515</td> <td>0.7 </td> <td>1   </td> <td>0.737</td> <td>0.7 </td> <td>1.8 </td> <td>2.4 </td> <td>0.7 </td> <td>0.4 </td> <td>0.2 </td> <td>0.4 </td> <td>1.4 </td> <td>6.2 </td>\n",
       "        </tr>\n",
       "        <tr>\n",
       "            <td>13  </td> <td>Kyle Anderson\\anderky01    </td> <td>SF  </td> <td>24  </td> <td>SAS </td> <td>74  </td> <td>67  </td> <td>26.7</td> <td>3.1 </td> <td>5.9 </td> <td>0.527</td> <td>0.3 </td> <td>0.8 </td> <td>0.333</td> <td>2.9 </td> <td>5.1 </td> <td>0.556</td> <td>0.549</td> <td>1.4 </td> <td>2   </td> <td>0.712</td> <td>1.1 </td> <td>4.2 </td> <td>5.4 </td> <td>2.7 </td> <td>1.6 </td> <td>0.8 </td> <td>1.3 </td> <td>1.5 </td> <td>7.9 </td>\n",
       "        </tr>\n",
       "    </tbody>\n",
       "</table>\n",
       "<p>... (538 rows omitted)</p>"
      ],
      "text/plain": [
       "Rk   | Player                      | Pos  | Age  | Tm   | G    | GS   | MP   | FG   | FGA  | FG%   | 3P   | 3PA  | 3P%   | 2P   | 2PA  | 2P%   | eFG%  | FT   | FTA  | FT%   | ORB  | DRB  | TRB  | AST  | STL  | BLK  | TOV  | PF   | PS/G\n",
       "1    | Alex Abrines\\abrinal01      | SG   | 24   | OKC  | 75   | 8    | 15.1 | 1.5  | 3.9  | 0.395 | 1.1  | 2.9  | 0.38  | 0.4  | 0.9  | 0.443 | 0.54  | 0.5  | 0.6  | 0.848 | 0.3  | 1.2  | 1.5  | 0.4  | 0.5  | 0.1  | 0.3  | 1.7  | 4.7\n",
       "2    | Quincy Acy\\acyqu01          | PF   | 27   | BRK  | 70   | 8    | 19.4 | 1.9  | 5.2  | 0.356 | 1.5  | 4.2  | 0.349 | 0.4  | 1    | 0.384 | 0.496 | 0.7  | 0.9  | 0.817 | 0.6  | 3.1  | 3.7  | 0.8  | 0.5  | 0.4  | 0.9  | 2.1  | 5.9\n",
       "3    | Steven Adams\\adamsst01      | C    | 24   | OKC  | 76   | 76   | 32.7 | 5.9  | 9.4  | 0.629 | 0    | 0    | 0     | 5.9  | 9.3  | 0.631 | 0.629 | 2.1  | 3.8  | 0.559 | 5.1  | 4    | 9    | 1.2  | 1.2  | 1    | 1.7  | 2.8  | 13.9\n",
       "5    | Arron Afflalo\\afflaar01     | SG   | 32   | ORL  | 53   | 3    | 12.9 | 1.2  | 3.1  | 0.401 | 0.5  | 1.3  | 0.386 | 0.7  | 1.7  | 0.413 | 0.485 | 0.4  | 0.5  | 0.846 | 0.1  | 1.2  | 1.2  | 0.6  | 0.1  | 0.2  | 0.4  | 1.1  | 3.4\n",
       "6    | Cole Aldrich\\aldrico01      | C    | 29   | MIN  | 21   | 0    | 2.3  | 0.2  | 0.7  | 0.333 | 0    | 0    | nan   | 0.2  | 0.7  | 0.333 | 0.333 | 0.1  | 0.3  | 0.333 | 0.1  | 0.6  | 0.7  | 0.1  | 0.1  | 0    | 0    | 0.5  | 0.6\n",
       "7    | LaMarcus Aldridge\\aldrila01 | C    | 32   | SAS  | 75   | 75   | 33.5 | 9.2  | 18   | 0.51  | 0.4  | 1.2  | 0.293 | 8.8  | 16.7 | 0.526 | 0.52  | 4.5  | 5.3  | 0.837 | 3.3  | 5.2  | 8.5  | 2    | 0.6  | 1.2  | 1.5  | 2.1  | 23.1\n",
       "10   | Tony Allen\\allento01        | SF   | 36   | NOP  | 22   | 0    | 12.4 | 2    | 4.1  | 0.484 | 0.2  | 0.5  | 0.333 | 1.8  | 3.6  | 0.506 | 0.505 | 0.5  | 1    | 0.524 | 0.9  | 1.2  | 2.1  | 0.4  | 0.5  | 0.1  | 0.9  | 2.2  | 4.7\n",
       "11   | Al-Farouq Aminu\\aminual01   | PF   | 27   | POR  | 69   | 67   | 30   | 3.3  | 8.4  | 0.395 | 1.8  | 4.9  | 0.369 | 1.5  | 3.5  | 0.432 | 0.503 | 0.9  | 1.2  | 0.738 | 1.4  | 6.2  | 7.6  | 1.2  | 1.1  | 0.6  | 1.1  | 2    | 9.3\n",
       "12   | Justin Anderson\\anderju01   | SF   | 24   | PHI  | 38   | 0    | 13.7 | 2.3  | 5.3  | 0.431 | 0.9  | 2.7  | 0.33  | 1.4  | 2.6  | 0.535 | 0.515 | 0.7  | 1    | 0.737 | 0.7  | 1.8  | 2.4  | 0.7  | 0.4  | 0.2  | 0.4  | 1.4  | 6.2\n",
       "13   | Kyle Anderson\\anderky01     | SF   | 24   | SAS  | 74   | 67   | 26.7 | 3.1  | 5.9  | 0.527 | 0.3  | 0.8  | 0.333 | 2.9  | 5.1  | 0.556 | 0.549 | 1.4  | 2    | 0.712 | 1.1  | 4.2  | 5.4  | 2.7  | 1.6  | 0.8  | 1.3  | 1.5  | 7.9\n",
       "... (538 rows omitted)"
      ]
     },
     "execution_count": 167,
     "metadata": {},
     "output_type": "execute_result"
    }
   ],
   "source": [
    "boxscore_clean"
   ]
  },
  {
   "cell_type": "code",
   "execution_count": 168,
   "metadata": {
    "scrolled": true
   },
   "outputs": [
    {
     "data": {
      "text/html": [
       "<table border=\"1\" class=\"dataframe\">\n",
       "    <thead>\n",
       "        <tr>\n",
       "            <th>Rk</th> <th>Player</th> <th>Pos</th> <th>Age</th> <th>Tm</th> <th>G</th> <th>GS</th> <th>MP</th> <th>FG</th> <th>FGA</th> <th>FG%</th> <th>3P</th> <th>3PA</th> <th>3P%</th> <th>2P</th> <th>2PA</th> <th>2P%</th> <th>eFG%</th> <th>FT</th> <th>FTA</th> <th>FT%</th> <th>ORB</th> <th>DRB</th> <th>TRB</th> <th>AST</th> <th>STL</th> <th>BLK</th> <th>TOV</th> <th>PF</th> <th>PS/G</th>\n",
       "        </tr>\n",
       "    </thead>\n",
       "    <tbody>\n",
       "        <tr>\n",
       "            <td>2   </td> <td>Quincy Acy\\acyqu01         </td> <td>PF  </td> <td>27  </td> <td>BRK </td> <td>70  </td> <td>8   </td> <td>19.4</td> <td>1.9 </td> <td>5.2 </td> <td>0.356</td> <td>1.5 </td> <td>4.2 </td> <td>0.349</td> <td>0.4 </td> <td>1   </td> <td>0.384</td> <td>0.496</td> <td>0.7 </td> <td>0.9 </td> <td>0.817</td> <td>0.6 </td> <td>3.1 </td> <td>3.7 </td> <td>0.8 </td> <td>0.5 </td> <td>0.4 </td> <td>0.9 </td> <td>2.1 </td> <td>5.9 </td>\n",
       "        </tr>\n",
       "        <tr>\n",
       "            <td>3   </td> <td>Steven Adams\\adamsst01     </td> <td>C   </td> <td>24  </td> <td>OKC </td> <td>76  </td> <td>76  </td> <td>32.7</td> <td>5.9 </td> <td>9.4 </td> <td>0.629</td> <td>0   </td> <td>0   </td> <td>0    </td> <td>5.9 </td> <td>9.3 </td> <td>0.631</td> <td>0.629</td> <td>2.1 </td> <td>3.8 </td> <td>0.559</td> <td>5.1 </td> <td>4   </td> <td>9   </td> <td>1.2 </td> <td>1.2 </td> <td>1   </td> <td>1.7 </td> <td>2.8 </td> <td>13.9</td>\n",
       "        </tr>\n",
       "        <tr>\n",
       "            <td>5   </td> <td>Arron Afflalo\\afflaar01    </td> <td>SG  </td> <td>32  </td> <td>ORL </td> <td>53  </td> <td>3   </td> <td>12.9</td> <td>1.2 </td> <td>3.1 </td> <td>0.401</td> <td>0.5 </td> <td>1.3 </td> <td>0.386</td> <td>0.7 </td> <td>1.7 </td> <td>0.413</td> <td>0.485</td> <td>0.4 </td> <td>0.5 </td> <td>0.846</td> <td>0.1 </td> <td>1.2 </td> <td>1.2 </td> <td>0.6 </td> <td>0.1 </td> <td>0.2 </td> <td>0.4 </td> <td>1.1 </td> <td>3.4 </td>\n",
       "        </tr>\n",
       "        <tr>\n",
       "            <td>6   </td> <td>Cole Aldrich\\aldrico01     </td> <td>C   </td> <td>29  </td> <td>MIN </td> <td>21  </td> <td>0   </td> <td>2.3 </td> <td>0.2 </td> <td>0.7 </td> <td>0.333</td> <td>0   </td> <td>0   </td> <td>nan  </td> <td>0.2 </td> <td>0.7 </td> <td>0.333</td> <td>0.333</td> <td>0.1 </td> <td>0.3 </td> <td>0.333</td> <td>0.1 </td> <td>0.6 </td> <td>0.7 </td> <td>0.1 </td> <td>0.1 </td> <td>0   </td> <td>0   </td> <td>0.5 </td> <td>0.6 </td>\n",
       "        </tr>\n",
       "        <tr>\n",
       "            <td>7   </td> <td>LaMarcus Aldridge\\aldrila01</td> <td>C   </td> <td>32  </td> <td>SAS </td> <td>75  </td> <td>75  </td> <td>33.5</td> <td>9.2 </td> <td>18  </td> <td>0.51 </td> <td>0.4 </td> <td>1.2 </td> <td>0.293</td> <td>8.8 </td> <td>16.7</td> <td>0.526</td> <td>0.52 </td> <td>4.5 </td> <td>5.3 </td> <td>0.837</td> <td>3.3 </td> <td>5.2 </td> <td>8.5 </td> <td>2   </td> <td>0.6 </td> <td>1.2 </td> <td>1.5 </td> <td>2.1 </td> <td>23.1</td>\n",
       "        </tr>\n",
       "        <tr>\n",
       "            <td>10  </td> <td>Tony Allen\\allento01       </td> <td>SF  </td> <td>36  </td> <td>NOP </td> <td>22  </td> <td>0   </td> <td>12.4</td> <td>2   </td> <td>4.1 </td> <td>0.484</td> <td>0.2 </td> <td>0.5 </td> <td>0.333</td> <td>1.8 </td> <td>3.6 </td> <td>0.506</td> <td>0.505</td> <td>0.5 </td> <td>1   </td> <td>0.524</td> <td>0.9 </td> <td>1.2 </td> <td>2.1 </td> <td>0.4 </td> <td>0.5 </td> <td>0.1 </td> <td>0.9 </td> <td>2.2 </td> <td>4.7 </td>\n",
       "        </tr>\n",
       "        <tr>\n",
       "            <td>11  </td> <td>Al-Farouq Aminu\\aminual01  </td> <td>PF  </td> <td>27  </td> <td>POR </td> <td>69  </td> <td>67  </td> <td>30  </td> <td>3.3 </td> <td>8.4 </td> <td>0.395</td> <td>1.8 </td> <td>4.9 </td> <td>0.369</td> <td>1.5 </td> <td>3.5 </td> <td>0.432</td> <td>0.503</td> <td>0.9 </td> <td>1.2 </td> <td>0.738</td> <td>1.4 </td> <td>6.2 </td> <td>7.6 </td> <td>1.2 </td> <td>1.1 </td> <td>0.6 </td> <td>1.1 </td> <td>2   </td> <td>9.3 </td>\n",
       "        </tr>\n",
       "        <tr>\n",
       "            <td>12  </td> <td>Justin Anderson\\anderju01  </td> <td>SF  </td> <td>24  </td> <td>PHI </td> <td>38  </td> <td>0   </td> <td>13.7</td> <td>2.3 </td> <td>5.3 </td> <td>0.431</td> <td>0.9 </td> <td>2.7 </td> <td>0.33 </td> <td>1.4 </td> <td>2.6 </td> <td>0.535</td> <td>0.515</td> <td>0.7 </td> <td>1   </td> <td>0.737</td> <td>0.7 </td> <td>1.8 </td> <td>2.4 </td> <td>0.7 </td> <td>0.4 </td> <td>0.2 </td> <td>0.4 </td> <td>1.4 </td> <td>6.2 </td>\n",
       "        </tr>\n",
       "        <tr>\n",
       "            <td>13  </td> <td>Kyle Anderson\\anderky01    </td> <td>SF  </td> <td>24  </td> <td>SAS </td> <td>74  </td> <td>67  </td> <td>26.7</td> <td>3.1 </td> <td>5.9 </td> <td>0.527</td> <td>0.3 </td> <td>0.8 </td> <td>0.333</td> <td>2.9 </td> <td>5.1 </td> <td>0.556</td> <td>0.549</td> <td>1.4 </td> <td>2   </td> <td>0.712</td> <td>1.1 </td> <td>4.2 </td> <td>5.4 </td> <td>2.7 </td> <td>1.6 </td> <td>0.8 </td> <td>1.3 </td> <td>1.5 </td> <td>7.9 </td>\n",
       "        </tr>\n",
       "        <tr>\n",
       "            <td>14  </td> <td>Ryan Anderson\\anderry01    </td> <td>PF  </td> <td>29  </td> <td>HOU </td> <td>66  </td> <td>50  </td> <td>26.1</td> <td>3.1 </td> <td>7.3 </td> <td>0.431</td> <td>2   </td> <td>5.1 </td> <td>0.386</td> <td>1.2 </td> <td>2.1 </td> <td>0.539</td> <td>0.568</td> <td>1.1 </td> <td>1.4 </td> <td>0.774</td> <td>1.4 </td> <td>3.6 </td> <td>5   </td> <td>0.9 </td> <td>0.4 </td> <td>0.3 </td> <td>0.6 </td> <td>1.9 </td> <td>9.3 </td>\n",
       "        </tr>\n",
       "    </tbody>\n",
       "</table>\n",
       "<p>... (468 rows omitted)</p>"
      ],
      "text/plain": [
       "Rk   | Player                      | Pos  | Age  | Tm   | G    | GS   | MP   | FG   | FGA  | FG%   | 3P   | 3PA  | 3P%   | 2P   | 2PA  | 2P%   | eFG%  | FT   | FTA  | FT%   | ORB  | DRB  | TRB  | AST  | STL  | BLK  | TOV  | PF   | PS/G\n",
       "2    | Quincy Acy\\acyqu01          | PF   | 27   | BRK  | 70   | 8    | 19.4 | 1.9  | 5.2  | 0.356 | 1.5  | 4.2  | 0.349 | 0.4  | 1    | 0.384 | 0.496 | 0.7  | 0.9  | 0.817 | 0.6  | 3.1  | 3.7  | 0.8  | 0.5  | 0.4  | 0.9  | 2.1  | 5.9\n",
       "3    | Steven Adams\\adamsst01      | C    | 24   | OKC  | 76   | 76   | 32.7 | 5.9  | 9.4  | 0.629 | 0    | 0    | 0     | 5.9  | 9.3  | 0.631 | 0.629 | 2.1  | 3.8  | 0.559 | 5.1  | 4    | 9    | 1.2  | 1.2  | 1    | 1.7  | 2.8  | 13.9\n",
       "5    | Arron Afflalo\\afflaar01     | SG   | 32   | ORL  | 53   | 3    | 12.9 | 1.2  | 3.1  | 0.401 | 0.5  | 1.3  | 0.386 | 0.7  | 1.7  | 0.413 | 0.485 | 0.4  | 0.5  | 0.846 | 0.1  | 1.2  | 1.2  | 0.6  | 0.1  | 0.2  | 0.4  | 1.1  | 3.4\n",
       "6    | Cole Aldrich\\aldrico01      | C    | 29   | MIN  | 21   | 0    | 2.3  | 0.2  | 0.7  | 0.333 | 0    | 0    | nan   | 0.2  | 0.7  | 0.333 | 0.333 | 0.1  | 0.3  | 0.333 | 0.1  | 0.6  | 0.7  | 0.1  | 0.1  | 0    | 0    | 0.5  | 0.6\n",
       "7    | LaMarcus Aldridge\\aldrila01 | C    | 32   | SAS  | 75   | 75   | 33.5 | 9.2  | 18   | 0.51  | 0.4  | 1.2  | 0.293 | 8.8  | 16.7 | 0.526 | 0.52  | 4.5  | 5.3  | 0.837 | 3.3  | 5.2  | 8.5  | 2    | 0.6  | 1.2  | 1.5  | 2.1  | 23.1\n",
       "10   | Tony Allen\\allento01        | SF   | 36   | NOP  | 22   | 0    | 12.4 | 2    | 4.1  | 0.484 | 0.2  | 0.5  | 0.333 | 1.8  | 3.6  | 0.506 | 0.505 | 0.5  | 1    | 0.524 | 0.9  | 1.2  | 2.1  | 0.4  | 0.5  | 0.1  | 0.9  | 2.2  | 4.7\n",
       "11   | Al-Farouq Aminu\\aminual01   | PF   | 27   | POR  | 69   | 67   | 30   | 3.3  | 8.4  | 0.395 | 1.8  | 4.9  | 0.369 | 1.5  | 3.5  | 0.432 | 0.503 | 0.9  | 1.2  | 0.738 | 1.4  | 6.2  | 7.6  | 1.2  | 1.1  | 0.6  | 1.1  | 2    | 9.3\n",
       "12   | Justin Anderson\\anderju01   | SF   | 24   | PHI  | 38   | 0    | 13.7 | 2.3  | 5.3  | 0.431 | 0.9  | 2.7  | 0.33  | 1.4  | 2.6  | 0.535 | 0.515 | 0.7  | 1    | 0.737 | 0.7  | 1.8  | 2.4  | 0.7  | 0.4  | 0.2  | 0.4  | 1.4  | 6.2\n",
       "13   | Kyle Anderson\\anderky01     | SF   | 24   | SAS  | 74   | 67   | 26.7 | 3.1  | 5.9  | 0.527 | 0.3  | 0.8  | 0.333 | 2.9  | 5.1  | 0.556 | 0.549 | 1.4  | 2    | 0.712 | 1.1  | 4.2  | 5.4  | 2.7  | 1.6  | 0.8  | 1.3  | 1.5  | 7.9\n",
       "14   | Ryan Anderson\\anderry01     | PF   | 29   | HOU  | 66   | 50   | 26.1 | 3.1  | 7.3  | 0.431 | 2    | 5.1  | 0.386 | 1.2  | 2.1  | 0.539 | 0.568 | 1.1  | 1.4  | 0.774 | 1.4  | 3.6  | 5    | 0.9  | 0.4  | 0.3  | 0.6  | 1.9  | 9.3\n",
       "... (468 rows omitted)"
      ]
     },
     "execution_count": 168,
     "metadata": {},
     "output_type": "execute_result"
    }
   ],
   "source": [
    "rookies_16 = Table.read_table('rookies_2016-17.csv', sep=',')\n",
    "joined_16 = boxscore_clean.join('Player', rookies_16, 'Player')\n",
    "rookies_names_16 = joined_16.column(0)\n",
    "for name in np.arange(len(rookies_names_16)-1):\n",
    "    boxscore_clean = boxscore_clean.where('Player', are.not_equal_to(rookies_names_16.item(name)))\n",
    "boxscore_clean"
   ]
  },
  {
   "cell_type": "code",
   "execution_count": 169,
   "metadata": {
    "scrolled": true
   },
   "outputs": [
    {
     "data": {
      "text/html": [
       "<table border=\"1\" class=\"dataframe\">\n",
       "    <thead>\n",
       "        <tr>\n",
       "            <th>Rk</th> <th>Player</th> <th>Pos</th> <th>Age</th> <th>Tm</th> <th>G</th> <th>GS</th> <th>MP</th> <th>FG</th> <th>FGA</th> <th>FG%</th> <th>3P</th> <th>3PA</th> <th>3P%</th> <th>2P</th> <th>2PA</th> <th>2P%</th> <th>eFG%</th> <th>FT</th> <th>FTA</th> <th>FT%</th> <th>ORB</th> <th>DRB</th> <th>TRB</th> <th>AST</th> <th>STL</th> <th>BLK</th> <th>TOV</th> <th>PF</th> <th>PS/G</th>\n",
       "        </tr>\n",
       "    </thead>\n",
       "    <tbody>\n",
       "        <tr>\n",
       "            <td>2   </td> <td>Quincy Acy\\acyqu01             </td> <td>PF  </td> <td>27  </td> <td>BRK </td> <td>70  </td> <td>8   </td> <td>19.4</td> <td>1.9 </td> <td>5.2 </td> <td>0.356</td> <td>1.5 </td> <td>4.2 </td> <td>0.349</td> <td>0.4 </td> <td>1   </td> <td>0.384</td> <td>0.496</td> <td>0.7 </td> <td>0.9 </td> <td>0.817</td> <td>0.6 </td> <td>3.1 </td> <td>3.7 </td> <td>0.8 </td> <td>0.5 </td> <td>0.4 </td> <td>0.9 </td> <td>2.1 </td> <td>5.9 </td>\n",
       "        </tr>\n",
       "        <tr>\n",
       "            <td>3   </td> <td>Steven Adams\\adamsst01         </td> <td>C   </td> <td>24  </td> <td>OKC </td> <td>76  </td> <td>76  </td> <td>32.7</td> <td>5.9 </td> <td>9.4 </td> <td>0.629</td> <td>0   </td> <td>0   </td> <td>0    </td> <td>5.9 </td> <td>9.3 </td> <td>0.631</td> <td>0.629</td> <td>2.1 </td> <td>3.8 </td> <td>0.559</td> <td>5.1 </td> <td>4   </td> <td>9   </td> <td>1.2 </td> <td>1.2 </td> <td>1   </td> <td>1.7 </td> <td>2.8 </td> <td>13.9</td>\n",
       "        </tr>\n",
       "        <tr>\n",
       "            <td>5   </td> <td>Arron Afflalo\\afflaar01        </td> <td>SG  </td> <td>32  </td> <td>ORL </td> <td>53  </td> <td>3   </td> <td>12.9</td> <td>1.2 </td> <td>3.1 </td> <td>0.401</td> <td>0.5 </td> <td>1.3 </td> <td>0.386</td> <td>0.7 </td> <td>1.7 </td> <td>0.413</td> <td>0.485</td> <td>0.4 </td> <td>0.5 </td> <td>0.846</td> <td>0.1 </td> <td>1.2 </td> <td>1.2 </td> <td>0.6 </td> <td>0.1 </td> <td>0.2 </td> <td>0.4 </td> <td>1.1 </td> <td>3.4 </td>\n",
       "        </tr>\n",
       "        <tr>\n",
       "            <td>6   </td> <td>Cole Aldrich\\aldrico01         </td> <td>C   </td> <td>29  </td> <td>MIN </td> <td>21  </td> <td>0   </td> <td>2.3 </td> <td>0.2 </td> <td>0.7 </td> <td>0.333</td> <td>0   </td> <td>0   </td> <td>nan  </td> <td>0.2 </td> <td>0.7 </td> <td>0.333</td> <td>0.333</td> <td>0.1 </td> <td>0.3 </td> <td>0.333</td> <td>0.1 </td> <td>0.6 </td> <td>0.7 </td> <td>0.1 </td> <td>0.1 </td> <td>0   </td> <td>0   </td> <td>0.5 </td> <td>0.6 </td>\n",
       "        </tr>\n",
       "        <tr>\n",
       "            <td>7   </td> <td>LaMarcus Aldridge\\aldrila01    </td> <td>C   </td> <td>32  </td> <td>SAS </td> <td>75  </td> <td>75  </td> <td>33.5</td> <td>9.2 </td> <td>18  </td> <td>0.51 </td> <td>0.4 </td> <td>1.2 </td> <td>0.293</td> <td>8.8 </td> <td>16.7</td> <td>0.526</td> <td>0.52 </td> <td>4.5 </td> <td>5.3 </td> <td>0.837</td> <td>3.3 </td> <td>5.2 </td> <td>8.5 </td> <td>2   </td> <td>0.6 </td> <td>1.2 </td> <td>1.5 </td> <td>2.1 </td> <td>23.1</td>\n",
       "        </tr>\n",
       "        <tr>\n",
       "            <td>10  </td> <td>Tony Allen\\allento01           </td> <td>SF  </td> <td>36  </td> <td>NOP </td> <td>22  </td> <td>0   </td> <td>12.4</td> <td>2   </td> <td>4.1 </td> <td>0.484</td> <td>0.2 </td> <td>0.5 </td> <td>0.333</td> <td>1.8 </td> <td>3.6 </td> <td>0.506</td> <td>0.505</td> <td>0.5 </td> <td>1   </td> <td>0.524</td> <td>0.9 </td> <td>1.2 </td> <td>2.1 </td> <td>0.4 </td> <td>0.5 </td> <td>0.1 </td> <td>0.9 </td> <td>2.2 </td> <td>4.7 </td>\n",
       "        </tr>\n",
       "        <tr>\n",
       "            <td>11  </td> <td>Al-Farouq Aminu\\aminual01      </td> <td>PF  </td> <td>27  </td> <td>POR </td> <td>69  </td> <td>67  </td> <td>30  </td> <td>3.3 </td> <td>8.4 </td> <td>0.395</td> <td>1.8 </td> <td>4.9 </td> <td>0.369</td> <td>1.5 </td> <td>3.5 </td> <td>0.432</td> <td>0.503</td> <td>0.9 </td> <td>1.2 </td> <td>0.738</td> <td>1.4 </td> <td>6.2 </td> <td>7.6 </td> <td>1.2 </td> <td>1.1 </td> <td>0.6 </td> <td>1.1 </td> <td>2   </td> <td>9.3 </td>\n",
       "        </tr>\n",
       "        <tr>\n",
       "            <td>13  </td> <td>Kyle Anderson\\anderky01        </td> <td>SF  </td> <td>24  </td> <td>SAS </td> <td>74  </td> <td>67  </td> <td>26.7</td> <td>3.1 </td> <td>5.9 </td> <td>0.527</td> <td>0.3 </td> <td>0.8 </td> <td>0.333</td> <td>2.9 </td> <td>5.1 </td> <td>0.556</td> <td>0.549</td> <td>1.4 </td> <td>2   </td> <td>0.712</td> <td>1.1 </td> <td>4.2 </td> <td>5.4 </td> <td>2.7 </td> <td>1.6 </td> <td>0.8 </td> <td>1.3 </td> <td>1.5 </td> <td>7.9 </td>\n",
       "        </tr>\n",
       "        <tr>\n",
       "            <td>14  </td> <td>Ryan Anderson\\anderry01        </td> <td>PF  </td> <td>29  </td> <td>HOU </td> <td>66  </td> <td>50  </td> <td>26.1</td> <td>3.1 </td> <td>7.3 </td> <td>0.431</td> <td>2   </td> <td>5.1 </td> <td>0.386</td> <td>1.2 </td> <td>2.1 </td> <td>0.539</td> <td>0.568</td> <td>1.1 </td> <td>1.4 </td> <td>0.774</td> <td>1.4 </td> <td>3.6 </td> <td>5   </td> <td>0.9 </td> <td>0.4 </td> <td>0.3 </td> <td>0.6 </td> <td>1.9 </td> <td>9.3 </td>\n",
       "        </tr>\n",
       "        <tr>\n",
       "            <td>16  </td> <td>Giannis Antetokounmpo\\antetgi01</td> <td>PF  </td> <td>23  </td> <td>MIL </td> <td>75  </td> <td>75  </td> <td>36.7</td> <td>9.9 </td> <td>18.7</td> <td>0.529</td> <td>0.6 </td> <td>1.9 </td> <td>0.307</td> <td>9.3 </td> <td>16.8</td> <td>0.554</td> <td>0.545</td> <td>6.5 </td> <td>8.5 </td> <td>0.76 </td> <td>2.1 </td> <td>8   </td> <td>10  </td> <td>4.8 </td> <td>1.5 </td> <td>1.4 </td> <td>3   </td> <td>3.1 </td> <td>26.9</td>\n",
       "        </tr>\n",
       "    </tbody>\n",
       "</table>\n",
       "<p>... (415 rows omitted)</p>"
      ],
      "text/plain": [
       "Rk   | Player                          | Pos  | Age  | Tm   | G    | GS   | MP   | FG   | FGA  | FG%   | 3P   | 3PA  | 3P%   | 2P   | 2PA  | 2P%   | eFG%  | FT   | FTA  | FT%   | ORB  | DRB  | TRB  | AST  | STL  | BLK  | TOV  | PF   | PS/G\n",
       "2    | Quincy Acy\\acyqu01              | PF   | 27   | BRK  | 70   | 8    | 19.4 | 1.9  | 5.2  | 0.356 | 1.5  | 4.2  | 0.349 | 0.4  | 1    | 0.384 | 0.496 | 0.7  | 0.9  | 0.817 | 0.6  | 3.1  | 3.7  | 0.8  | 0.5  | 0.4  | 0.9  | 2.1  | 5.9\n",
       "3    | Steven Adams\\adamsst01          | C    | 24   | OKC  | 76   | 76   | 32.7 | 5.9  | 9.4  | 0.629 | 0    | 0    | 0     | 5.9  | 9.3  | 0.631 | 0.629 | 2.1  | 3.8  | 0.559 | 5.1  | 4    | 9    | 1.2  | 1.2  | 1    | 1.7  | 2.8  | 13.9\n",
       "5    | Arron Afflalo\\afflaar01         | SG   | 32   | ORL  | 53   | 3    | 12.9 | 1.2  | 3.1  | 0.401 | 0.5  | 1.3  | 0.386 | 0.7  | 1.7  | 0.413 | 0.485 | 0.4  | 0.5  | 0.846 | 0.1  | 1.2  | 1.2  | 0.6  | 0.1  | 0.2  | 0.4  | 1.1  | 3.4\n",
       "6    | Cole Aldrich\\aldrico01          | C    | 29   | MIN  | 21   | 0    | 2.3  | 0.2  | 0.7  | 0.333 | 0    | 0    | nan   | 0.2  | 0.7  | 0.333 | 0.333 | 0.1  | 0.3  | 0.333 | 0.1  | 0.6  | 0.7  | 0.1  | 0.1  | 0    | 0    | 0.5  | 0.6\n",
       "7    | LaMarcus Aldridge\\aldrila01     | C    | 32   | SAS  | 75   | 75   | 33.5 | 9.2  | 18   | 0.51  | 0.4  | 1.2  | 0.293 | 8.8  | 16.7 | 0.526 | 0.52  | 4.5  | 5.3  | 0.837 | 3.3  | 5.2  | 8.5  | 2    | 0.6  | 1.2  | 1.5  | 2.1  | 23.1\n",
       "10   | Tony Allen\\allento01            | SF   | 36   | NOP  | 22   | 0    | 12.4 | 2    | 4.1  | 0.484 | 0.2  | 0.5  | 0.333 | 1.8  | 3.6  | 0.506 | 0.505 | 0.5  | 1    | 0.524 | 0.9  | 1.2  | 2.1  | 0.4  | 0.5  | 0.1  | 0.9  | 2.2  | 4.7\n",
       "11   | Al-Farouq Aminu\\aminual01       | PF   | 27   | POR  | 69   | 67   | 30   | 3.3  | 8.4  | 0.395 | 1.8  | 4.9  | 0.369 | 1.5  | 3.5  | 0.432 | 0.503 | 0.9  | 1.2  | 0.738 | 1.4  | 6.2  | 7.6  | 1.2  | 1.1  | 0.6  | 1.1  | 2    | 9.3\n",
       "13   | Kyle Anderson\\anderky01         | SF   | 24   | SAS  | 74   | 67   | 26.7 | 3.1  | 5.9  | 0.527 | 0.3  | 0.8  | 0.333 | 2.9  | 5.1  | 0.556 | 0.549 | 1.4  | 2    | 0.712 | 1.1  | 4.2  | 5.4  | 2.7  | 1.6  | 0.8  | 1.3  | 1.5  | 7.9\n",
       "14   | Ryan Anderson\\anderry01         | PF   | 29   | HOU  | 66   | 50   | 26.1 | 3.1  | 7.3  | 0.431 | 2    | 5.1  | 0.386 | 1.2  | 2.1  | 0.539 | 0.568 | 1.1  | 1.4  | 0.774 | 1.4  | 3.6  | 5    | 0.9  | 0.4  | 0.3  | 0.6  | 1.9  | 9.3\n",
       "16   | Giannis Antetokounmpo\\antetgi01 | PF   | 23   | MIL  | 75   | 75   | 36.7 | 9.9  | 18.7 | 0.529 | 0.6  | 1.9  | 0.307 | 9.3  | 16.8 | 0.554 | 0.545 | 6.5  | 8.5  | 0.76  | 2.1  | 8    | 10   | 4.8  | 1.5  | 1.4  | 3    | 3.1  | 26.9\n",
       "... (415 rows omitted)"
      ]
     },
     "execution_count": 169,
     "metadata": {},
     "output_type": "execute_result"
    }
   ],
   "source": [
    "rookies_15 = Table.read_table('rookies_2015-16.csv', sep=',')\n",
    "joined_15 = boxscore_clean.join('Player', rookies_15, 'Player')\n",
    "rookies_names_15 = joined_15.column(0)\n",
    "for name in np.arange(len(rookies_names_15)-1):\n",
    "    boxscore_clean = boxscore_clean.where('Player', are.not_equal_to(rookies_names_15.item(name)))\n",
    "boxscore_clean"
   ]
  },
  {
   "cell_type": "code",
   "execution_count": 170,
   "metadata": {},
   "outputs": [
    {
     "data": {
      "text/html": [
       "<table border=\"1\" class=\"dataframe\">\n",
       "    <thead>\n",
       "        <tr>\n",
       "            <th>Rk</th> <th>Player</th> <th>Pos</th> <th>Age</th> <th>Tm</th> <th>G</th> <th>GS</th> <th>MP</th> <th>FG</th> <th>FGA</th> <th>FG%</th> <th>3P</th> <th>3PA</th> <th>3P%</th> <th>2P</th> <th>2PA</th> <th>2P%</th> <th>eFG%</th> <th>FT</th> <th>FTA</th> <th>FT%</th> <th>ORB</th> <th>DRB</th> <th>TRB</th> <th>AST</th> <th>STL</th> <th>BLK</th> <th>TOV</th> <th>PF</th> <th>PS/G</th>\n",
       "        </tr>\n",
       "    </thead>\n",
       "    <tbody>\n",
       "        <tr>\n",
       "            <td>2   </td> <td>Quincy Acy\\acyqu01             </td> <td>PF  </td> <td>27  </td> <td>BRK </td> <td>70  </td> <td>8   </td> <td>19.4</td> <td>1.9 </td> <td>5.2 </td> <td>0.356</td> <td>1.5 </td> <td>4.2 </td> <td>0.349</td> <td>0.4 </td> <td>1   </td> <td>0.384</td> <td>0.496</td> <td>0.7 </td> <td>0.9 </td> <td>0.817</td> <td>0.6 </td> <td>3.1 </td> <td>3.7 </td> <td>0.8 </td> <td>0.5 </td> <td>0.4 </td> <td>0.9 </td> <td>2.1 </td> <td>5.9 </td>\n",
       "        </tr>\n",
       "        <tr>\n",
       "            <td>3   </td> <td>Steven Adams\\adamsst01         </td> <td>C   </td> <td>24  </td> <td>OKC </td> <td>76  </td> <td>76  </td> <td>32.7</td> <td>5.9 </td> <td>9.4 </td> <td>0.629</td> <td>0   </td> <td>0   </td> <td>0    </td> <td>5.9 </td> <td>9.3 </td> <td>0.631</td> <td>0.629</td> <td>2.1 </td> <td>3.8 </td> <td>0.559</td> <td>5.1 </td> <td>4   </td> <td>9   </td> <td>1.2 </td> <td>1.2 </td> <td>1   </td> <td>1.7 </td> <td>2.8 </td> <td>13.9</td>\n",
       "        </tr>\n",
       "        <tr>\n",
       "            <td>5   </td> <td>Arron Afflalo\\afflaar01        </td> <td>SG  </td> <td>32  </td> <td>ORL </td> <td>53  </td> <td>3   </td> <td>12.9</td> <td>1.2 </td> <td>3.1 </td> <td>0.401</td> <td>0.5 </td> <td>1.3 </td> <td>0.386</td> <td>0.7 </td> <td>1.7 </td> <td>0.413</td> <td>0.485</td> <td>0.4 </td> <td>0.5 </td> <td>0.846</td> <td>0.1 </td> <td>1.2 </td> <td>1.2 </td> <td>0.6 </td> <td>0.1 </td> <td>0.2 </td> <td>0.4 </td> <td>1.1 </td> <td>3.4 </td>\n",
       "        </tr>\n",
       "        <tr>\n",
       "            <td>6   </td> <td>Cole Aldrich\\aldrico01         </td> <td>C   </td> <td>29  </td> <td>MIN </td> <td>21  </td> <td>0   </td> <td>2.3 </td> <td>0.2 </td> <td>0.7 </td> <td>0.333</td> <td>0   </td> <td>0   </td> <td>nan  </td> <td>0.2 </td> <td>0.7 </td> <td>0.333</td> <td>0.333</td> <td>0.1 </td> <td>0.3 </td> <td>0.333</td> <td>0.1 </td> <td>0.6 </td> <td>0.7 </td> <td>0.1 </td> <td>0.1 </td> <td>0   </td> <td>0   </td> <td>0.5 </td> <td>0.6 </td>\n",
       "        </tr>\n",
       "        <tr>\n",
       "            <td>7   </td> <td>LaMarcus Aldridge\\aldrila01    </td> <td>C   </td> <td>32  </td> <td>SAS </td> <td>75  </td> <td>75  </td> <td>33.5</td> <td>9.2 </td> <td>18  </td> <td>0.51 </td> <td>0.4 </td> <td>1.2 </td> <td>0.293</td> <td>8.8 </td> <td>16.7</td> <td>0.526</td> <td>0.52 </td> <td>4.5 </td> <td>5.3 </td> <td>0.837</td> <td>3.3 </td> <td>5.2 </td> <td>8.5 </td> <td>2   </td> <td>0.6 </td> <td>1.2 </td> <td>1.5 </td> <td>2.1 </td> <td>23.1</td>\n",
       "        </tr>\n",
       "        <tr>\n",
       "            <td>10  </td> <td>Tony Allen\\allento01           </td> <td>SF  </td> <td>36  </td> <td>NOP </td> <td>22  </td> <td>0   </td> <td>12.4</td> <td>2   </td> <td>4.1 </td> <td>0.484</td> <td>0.2 </td> <td>0.5 </td> <td>0.333</td> <td>1.8 </td> <td>3.6 </td> <td>0.506</td> <td>0.505</td> <td>0.5 </td> <td>1   </td> <td>0.524</td> <td>0.9 </td> <td>1.2 </td> <td>2.1 </td> <td>0.4 </td> <td>0.5 </td> <td>0.1 </td> <td>0.9 </td> <td>2.2 </td> <td>4.7 </td>\n",
       "        </tr>\n",
       "        <tr>\n",
       "            <td>11  </td> <td>Al-Farouq Aminu\\aminual01      </td> <td>PF  </td> <td>27  </td> <td>POR </td> <td>69  </td> <td>67  </td> <td>30  </td> <td>3.3 </td> <td>8.4 </td> <td>0.395</td> <td>1.8 </td> <td>4.9 </td> <td>0.369</td> <td>1.5 </td> <td>3.5 </td> <td>0.432</td> <td>0.503</td> <td>0.9 </td> <td>1.2 </td> <td>0.738</td> <td>1.4 </td> <td>6.2 </td> <td>7.6 </td> <td>1.2 </td> <td>1.1 </td> <td>0.6 </td> <td>1.1 </td> <td>2   </td> <td>9.3 </td>\n",
       "        </tr>\n",
       "        <tr>\n",
       "            <td>13  </td> <td>Kyle Anderson\\anderky01        </td> <td>SF  </td> <td>24  </td> <td>SAS </td> <td>74  </td> <td>67  </td> <td>26.7</td> <td>3.1 </td> <td>5.9 </td> <td>0.527</td> <td>0.3 </td> <td>0.8 </td> <td>0.333</td> <td>2.9 </td> <td>5.1 </td> <td>0.556</td> <td>0.549</td> <td>1.4 </td> <td>2   </td> <td>0.712</td> <td>1.1 </td> <td>4.2 </td> <td>5.4 </td> <td>2.7 </td> <td>1.6 </td> <td>0.8 </td> <td>1.3 </td> <td>1.5 </td> <td>7.9 </td>\n",
       "        </tr>\n",
       "        <tr>\n",
       "            <td>14  </td> <td>Ryan Anderson\\anderry01        </td> <td>PF  </td> <td>29  </td> <td>HOU </td> <td>66  </td> <td>50  </td> <td>26.1</td> <td>3.1 </td> <td>7.3 </td> <td>0.431</td> <td>2   </td> <td>5.1 </td> <td>0.386</td> <td>1.2 </td> <td>2.1 </td> <td>0.539</td> <td>0.568</td> <td>1.1 </td> <td>1.4 </td> <td>0.774</td> <td>1.4 </td> <td>3.6 </td> <td>5   </td> <td>0.9 </td> <td>0.4 </td> <td>0.3 </td> <td>0.6 </td> <td>1.9 </td> <td>9.3 </td>\n",
       "        </tr>\n",
       "        <tr>\n",
       "            <td>16  </td> <td>Giannis Antetokounmpo\\antetgi01</td> <td>PF  </td> <td>23  </td> <td>MIL </td> <td>75  </td> <td>75  </td> <td>36.7</td> <td>9.9 </td> <td>18.7</td> <td>0.529</td> <td>0.6 </td> <td>1.9 </td> <td>0.307</td> <td>9.3 </td> <td>16.8</td> <td>0.554</td> <td>0.545</td> <td>6.5 </td> <td>8.5 </td> <td>0.76 </td> <td>2.1 </td> <td>8   </td> <td>10  </td> <td>4.8 </td> <td>1.5 </td> <td>1.4 </td> <td>3   </td> <td>3.1 </td> <td>26.9</td>\n",
       "        </tr>\n",
       "    </tbody>\n",
       "</table>\n",
       "<p>... (415 rows omitted)</p>"
      ],
      "text/plain": [
       "Rk   | Player                          | Pos  | Age  | Tm   | G    | GS   | MP   | FG   | FGA  | FG%   | 3P   | 3PA  | 3P%   | 2P   | 2PA  | 2P%   | eFG%  | FT   | FTA  | FT%   | ORB  | DRB  | TRB  | AST  | STL  | BLK  | TOV  | PF   | PS/G\n",
       "2    | Quincy Acy\\acyqu01              | PF   | 27   | BRK  | 70   | 8    | 19.4 | 1.9  | 5.2  | 0.356 | 1.5  | 4.2  | 0.349 | 0.4  | 1    | 0.384 | 0.496 | 0.7  | 0.9  | 0.817 | 0.6  | 3.1  | 3.7  | 0.8  | 0.5  | 0.4  | 0.9  | 2.1  | 5.9\n",
       "3    | Steven Adams\\adamsst01          | C    | 24   | OKC  | 76   | 76   | 32.7 | 5.9  | 9.4  | 0.629 | 0    | 0    | 0     | 5.9  | 9.3  | 0.631 | 0.629 | 2.1  | 3.8  | 0.559 | 5.1  | 4    | 9    | 1.2  | 1.2  | 1    | 1.7  | 2.8  | 13.9\n",
       "5    | Arron Afflalo\\afflaar01         | SG   | 32   | ORL  | 53   | 3    | 12.9 | 1.2  | 3.1  | 0.401 | 0.5  | 1.3  | 0.386 | 0.7  | 1.7  | 0.413 | 0.485 | 0.4  | 0.5  | 0.846 | 0.1  | 1.2  | 1.2  | 0.6  | 0.1  | 0.2  | 0.4  | 1.1  | 3.4\n",
       "6    | Cole Aldrich\\aldrico01          | C    | 29   | MIN  | 21   | 0    | 2.3  | 0.2  | 0.7  | 0.333 | 0    | 0    | nan   | 0.2  | 0.7  | 0.333 | 0.333 | 0.1  | 0.3  | 0.333 | 0.1  | 0.6  | 0.7  | 0.1  | 0.1  | 0    | 0    | 0.5  | 0.6\n",
       "7    | LaMarcus Aldridge\\aldrila01     | C    | 32   | SAS  | 75   | 75   | 33.5 | 9.2  | 18   | 0.51  | 0.4  | 1.2  | 0.293 | 8.8  | 16.7 | 0.526 | 0.52  | 4.5  | 5.3  | 0.837 | 3.3  | 5.2  | 8.5  | 2    | 0.6  | 1.2  | 1.5  | 2.1  | 23.1\n",
       "10   | Tony Allen\\allento01            | SF   | 36   | NOP  | 22   | 0    | 12.4 | 2    | 4.1  | 0.484 | 0.2  | 0.5  | 0.333 | 1.8  | 3.6  | 0.506 | 0.505 | 0.5  | 1    | 0.524 | 0.9  | 1.2  | 2.1  | 0.4  | 0.5  | 0.1  | 0.9  | 2.2  | 4.7\n",
       "11   | Al-Farouq Aminu\\aminual01       | PF   | 27   | POR  | 69   | 67   | 30   | 3.3  | 8.4  | 0.395 | 1.8  | 4.9  | 0.369 | 1.5  | 3.5  | 0.432 | 0.503 | 0.9  | 1.2  | 0.738 | 1.4  | 6.2  | 7.6  | 1.2  | 1.1  | 0.6  | 1.1  | 2    | 9.3\n",
       "13   | Kyle Anderson\\anderky01         | SF   | 24   | SAS  | 74   | 67   | 26.7 | 3.1  | 5.9  | 0.527 | 0.3  | 0.8  | 0.333 | 2.9  | 5.1  | 0.556 | 0.549 | 1.4  | 2    | 0.712 | 1.1  | 4.2  | 5.4  | 2.7  | 1.6  | 0.8  | 1.3  | 1.5  | 7.9\n",
       "14   | Ryan Anderson\\anderry01         | PF   | 29   | HOU  | 66   | 50   | 26.1 | 3.1  | 7.3  | 0.431 | 2    | 5.1  | 0.386 | 1.2  | 2.1  | 0.539 | 0.568 | 1.1  | 1.4  | 0.774 | 1.4  | 3.6  | 5    | 0.9  | 0.4  | 0.3  | 0.6  | 1.9  | 9.3\n",
       "16   | Giannis Antetokounmpo\\antetgi01 | PF   | 23   | MIL  | 75   | 75   | 36.7 | 9.9  | 18.7 | 0.529 | 0.6  | 1.9  | 0.307 | 9.3  | 16.8 | 0.554 | 0.545 | 6.5  | 8.5  | 0.76  | 2.1  | 8    | 10   | 4.8  | 1.5  | 1.4  | 3    | 3.1  | 26.9\n",
       "... (415 rows omitted)"
      ]
     },
     "execution_count": 170,
     "metadata": {},
     "output_type": "execute_result"
    }
   ],
   "source": [
    "boxscore_clean"
   ]
  },
  {
   "cell_type": "code",
   "execution_count": 171,
   "metadata": {},
   "outputs": [
    {
     "data": {
      "text/html": [
       "<table border=\"1\" class=\"dataframe\">\n",
       "    <thead>\n",
       "        <tr>\n",
       "            <th>Rk</th> <th>Player</th> <th>Tm</th> <th>2018-19</th> <th>2019-20</th> <th>2020-21</th> <th>2021-22</th> <th>2022-23</th> <th>2023-24</th> <th>Signed Using</th> <th>Guaranteed</th>\n",
       "        </tr>\n",
       "    </thead>\n",
       "    <tbody>\n",
       "        <tr>\n",
       "            <td>1   </td> <td>Stephen Curry\\curryst01    </td> <td>GSW </td> <td>$37457154</td> <td>$40231758</td> <td>$43006362</td> <td>$45780966</td> <td>nan      </td> <td>nan    </td> <td>Bird Rights   </td> <td>$166476240</td>\n",
       "        </tr>\n",
       "        <tr>\n",
       "            <td>2   </td> <td>Chris Paul\\paulch01        </td> <td>HOU </td> <td>$35654150</td> <td>$38506482</td> <td>$41358814</td> <td>$44211146</td> <td>nan      </td> <td>nan    </td> <td>nan           </td> <td>$159730592</td>\n",
       "        </tr>\n",
       "        <tr>\n",
       "            <td>3   </td> <td>Russell Westbrook\\westbru01</td> <td>OKC </td> <td>$35654150</td> <td>$38178000</td> <td>$41006000</td> <td>$43848000</td> <td>$46662000</td> <td>nan    </td> <td>Bird Rights   </td> <td>$158686150</td>\n",
       "        </tr>\n",
       "        <tr>\n",
       "            <td>4   </td> <td>LeBron James\\jamesle01     </td> <td>LAL </td> <td>$35654150</td> <td>$37436858</td> <td>$39219565</td> <td>$41002273</td> <td>nan      </td> <td>nan    </td> <td>nan           </td> <td>$113310573</td>\n",
       "        </tr>\n",
       "        <tr>\n",
       "            <td>5   </td> <td>Blake Griffin\\griffbl01    </td> <td>DET </td> <td>$32088932</td> <td>$34234964</td> <td>$36595996</td> <td>$38957028</td> <td>nan      </td> <td>nan    </td> <td>Bird Rights   </td> <td>$102919892</td>\n",
       "        </tr>\n",
       "        <tr>\n",
       "            <td>6   </td> <td>Gordon Hayward\\haywago01   </td> <td>BOS </td> <td>$31214295</td> <td>$32700690</td> <td>$34187085</td> <td>nan      </td> <td>nan      </td> <td>nan    </td> <td>Cap space     </td> <td>$63914985 </td>\n",
       "        </tr>\n",
       "        <tr>\n",
       "            <td>7   </td> <td>Kyle Lowry\\lowryky01       </td> <td>TOR </td> <td>$31200000</td> <td>$33296296</td> <td>nan      </td> <td>nan      </td> <td>nan      </td> <td>nan    </td> <td>Bird Rights   </td> <td>$64496296 </td>\n",
       "        </tr>\n",
       "        <tr>\n",
       "            <td>8   </td> <td>Paul George\\georgpa01      </td> <td>OKC </td> <td>$30560700</td> <td>$33005556</td> <td>$35450412</td> <td>$37895268</td> <td>nan      </td> <td>nan    </td> <td>Maximum Salary</td> <td>$99016668 </td>\n",
       "        </tr>\n",
       "        <tr>\n",
       "            <td>9   </td> <td>Mike Conley\\conlemi01      </td> <td>MEM </td> <td>$30521116</td> <td>$32511623</td> <td>$34504132</td> <td>nan      </td> <td>nan      </td> <td>nan    </td> <td>Cap Space     </td> <td>$85459122 </td>\n",
       "        </tr>\n",
       "        <tr>\n",
       "            <td>10  </td> <td>James Harden\\hardeja01     </td> <td>HOU </td> <td>$30431854</td> <td>$37800000</td> <td>$40824000</td> <td>$43848000</td> <td>$46872000</td> <td>nan    </td> <td>Bird Rights   </td> <td>$152903854</td>\n",
       "        </tr>\n",
       "    </tbody>\n",
       "</table>\n",
       "<p>... (478 rows omitted)</p>"
      ],
      "text/plain": [
       "Rk   | Player                      | Tm   | 2018-19   | 2019-20   | 2020-21   | 2021-22   | 2022-23   | 2023-24 | Signed Using   | Guaranteed\n",
       "1    | Stephen Curry\\curryst01     | GSW  | $37457154 | $40231758 | $43006362 | $45780966 | nan       | nan     | Bird Rights    | $166476240\n",
       "2    | Chris Paul\\paulch01         | HOU  | $35654150 | $38506482 | $41358814 | $44211146 | nan       | nan     | nan            | $159730592\n",
       "3    | Russell Westbrook\\westbru01 | OKC  | $35654150 | $38178000 | $41006000 | $43848000 | $46662000 | nan     | Bird Rights    | $158686150\n",
       "4    | LeBron James\\jamesle01      | LAL  | $35654150 | $37436858 | $39219565 | $41002273 | nan       | nan     | nan            | $113310573\n",
       "5    | Blake Griffin\\griffbl01     | DET  | $32088932 | $34234964 | $36595996 | $38957028 | nan       | nan     | Bird Rights    | $102919892\n",
       "6    | Gordon Hayward\\haywago01    | BOS  | $31214295 | $32700690 | $34187085 | nan       | nan       | nan     | Cap space      | $63914985\n",
       "7    | Kyle Lowry\\lowryky01        | TOR  | $31200000 | $33296296 | nan       | nan       | nan       | nan     | Bird Rights    | $64496296\n",
       "8    | Paul George\\georgpa01       | OKC  | $30560700 | $33005556 | $35450412 | $37895268 | nan       | nan     | Maximum Salary | $99016668\n",
       "9    | Mike Conley\\conlemi01       | MEM  | $30521116 | $32511623 | $34504132 | nan       | nan       | nan     | Cap Space      | $85459122\n",
       "10   | James Harden\\hardeja01      | HOU  | $30431854 | $37800000 | $40824000 | $43848000 | $46872000 | nan     | Bird Rights    | $152903854\n",
       "... (478 rows omitted)"
      ]
     },
     "execution_count": 171,
     "metadata": {},
     "output_type": "execute_result"
    }
   ],
   "source": [
    "contracts"
   ]
  },
  {
   "cell_type": "code",
   "execution_count": 172,
   "metadata": {},
   "outputs": [],
   "source": [
    "full_clean_table = boxscore_clean.join('Player', contracts, 'Player')"
   ]
  },
  {
   "cell_type": "code",
   "execution_count": 173,
   "metadata": {},
   "outputs": [
    {
     "data": {
      "text/html": [
       "<table border=\"1\" class=\"dataframe\">\n",
       "    <thead>\n",
       "        <tr>\n",
       "            <th>Player</th> <th>Rk</th> <th>Pos</th> <th>Age</th> <th>Tm</th> <th>G</th> <th>GS</th> <th>MP</th> <th>FG</th> <th>FGA</th> <th>FG%</th> <th>3P</th> <th>3PA</th> <th>3P%</th> <th>2P</th> <th>2PA</th> <th>2P%</th> <th>eFG%</th> <th>FT</th> <th>FTA</th> <th>FT%</th> <th>ORB</th> <th>DRB</th> <th>TRB</th> <th>AST</th> <th>STL</th> <th>BLK</th> <th>TOV</th> <th>PF</th> <th>PS/G</th> <th>Rk_2</th> <th>Tm_2</th> <th>2018-19</th> <th>2019-20</th> <th>2020-21</th> <th>2021-22</th> <th>2022-23</th> <th>2023-24</th> <th>Signed Using</th> <th>Guaranteed</th>\n",
       "        </tr>\n",
       "    </thead>\n",
       "    <tbody>\n",
       "        <tr>\n",
       "            <td>Aaron Gordon\\gordoaa01   </td> <td>179 </td> <td>PF  </td> <td>22  </td> <td>ORL </td> <td>58  </td> <td>57  </td> <td>32.9</td> <td>6.5 </td> <td>14.9</td> <td>0.434</td> <td>2   </td> <td>5.9 </td> <td>0.336</td> <td>4.5 </td> <td>9   </td> <td>0.497</td> <td>0.5  </td> <td>2.7 </td> <td>3.9 </td> <td>0.698</td> <td>1.5 </td> <td>6.4 </td> <td>7.9 </td> <td>2.3 </td> <td>1   </td> <td>0.8 </td> <td>1.8 </td> <td>1.9 </td> <td>17.6</td> <td>40  </td> <td>ORL </td> <td>$21590909</td> <td>$19863636</td> <td>$18136364</td> <td>$16409091</td> <td>nan    </td> <td>nan    </td> <td>nan           </td> <td>$76000000 </td>\n",
       "        </tr>\n",
       "        <tr>\n",
       "            <td>Al Horford\\horfoal01     </td> <td>227 </td> <td>C   </td> <td>31  </td> <td>BOS </td> <td>72  </td> <td>72  </td> <td>31.6</td> <td>5.1 </td> <td>10.5</td> <td>0.489</td> <td>1.3 </td> <td>3.1 </td> <td>0.429</td> <td>3.8 </td> <td>7.3 </td> <td>0.514</td> <td>0.553</td> <td>1.3 </td> <td>1.7 </td> <td>0.783</td> <td>1.4 </td> <td>5.9 </td> <td>7.4 </td> <td>4.7 </td> <td>0.6 </td> <td>1.1 </td> <td>1.8 </td> <td>1.9 </td> <td>12.9</td> <td>13  </td> <td>BOS </td> <td>$28928710</td> <td>$30123015</td> <td>nan      </td> <td>nan      </td> <td>nan    </td> <td>nan    </td> <td>Cap Space     </td> <td>$28928710 </td>\n",
       "        </tr>\n",
       "        <tr>\n",
       "            <td>Al Jefferson\\jeffeal01   </td> <td>250 </td> <td>C   </td> <td>33  </td> <td>IND </td> <td>36  </td> <td>1   </td> <td>13.4</td> <td>3.1 </td> <td>5.8 </td> <td>0.534</td> <td>0   </td> <td>0.1 </td> <td>0    </td> <td>3.1 </td> <td>5.7 </td> <td>0.541</td> <td>0.534</td> <td>0.8 </td> <td>1   </td> <td>0.833</td> <td>0.8 </td> <td>3.1 </td> <td>4   </td> <td>0.8 </td> <td>0.4 </td> <td>0.6 </td> <td>0.6 </td> <td>1.8 </td> <td>7   </td> <td>235 </td> <td>IND </td> <td>$4000000 </td> <td>nan      </td> <td>nan      </td> <td>nan      </td> <td>nan    </td> <td>nan    </td> <td>nan           </td> <td>$4000000  </td>\n",
       "        </tr>\n",
       "        <tr>\n",
       "            <td>Al-Farouq Aminu\\aminual01</td> <td>11  </td> <td>PF  </td> <td>27  </td> <td>POR </td> <td>69  </td> <td>67  </td> <td>30  </td> <td>3.3 </td> <td>8.4 </td> <td>0.395</td> <td>1.8 </td> <td>4.9 </td> <td>0.369</td> <td>1.5 </td> <td>3.5 </td> <td>0.432</td> <td>0.503</td> <td>0.9 </td> <td>1.2 </td> <td>0.738</td> <td>1.4 </td> <td>6.2 </td> <td>7.6 </td> <td>1.2 </td> <td>1.1 </td> <td>0.6 </td> <td>1.1 </td> <td>2   </td> <td>9.3 </td> <td>179 </td> <td>POR </td> <td>$6957105 </td> <td>nan      </td> <td>nan      </td> <td>nan      </td> <td>nan    </td> <td>nan    </td> <td>Cap Space     </td> <td>$6957105  </td>\n",
       "        </tr>\n",
       "        <tr>\n",
       "            <td>Alec Burks\\burksal01     </td> <td>78  </td> <td>SG  </td> <td>26  </td> <td>UTA </td> <td>64  </td> <td>1   </td> <td>16.5</td> <td>2.7 </td> <td>6.5 </td> <td>0.411</td> <td>0.7 </td> <td>2.2 </td> <td>0.331</td> <td>1.9 </td> <td>4.3 </td> <td>0.452</td> <td>0.467</td> <td>1.7 </td> <td>1.9 </td> <td>0.863</td> <td>0.3 </td> <td>2.7 </td> <td>3   </td> <td>1   </td> <td>0.6 </td> <td>0.1 </td> <td>0.9 </td> <td>1.2 </td> <td>7.7 </td> <td>120 </td> <td>UTA </td> <td>$11536515</td> <td>nan      </td> <td>nan      </td> <td>nan      </td> <td>nan    </td> <td>nan    </td> <td>1st Round Pick</td> <td>$11536515 </td>\n",
       "        </tr>\n",
       "        <tr>\n",
       "            <td>Alex Len\\lenal01         </td> <td>292 </td> <td>C   </td> <td>24  </td> <td>PHO </td> <td>69  </td> <td>13  </td> <td>20.2</td> <td>3.1 </td> <td>5.5 </td> <td>0.566</td> <td>0   </td> <td>0   </td> <td>0.333</td> <td>3.1 </td> <td>5.4 </td> <td>0.568</td> <td>0.567</td> <td>2.3 </td> <td>3.3 </td> <td>0.684</td> <td>2.5 </td> <td>5   </td> <td>7.5 </td> <td>1.2 </td> <td>0.4 </td> <td>0.9 </td> <td>1.1 </td> <td>2.3 </td> <td>8.5 </td> <td>227 </td> <td>ATL </td> <td>$4350000 </td> <td>$4160000 </td> <td>nan      </td> <td>nan      </td> <td>nan    </td> <td>nan    </td> <td>Room Exception</td> <td>$8510000  </td>\n",
       "        </tr>\n",
       "        <tr>\n",
       "            <td>Allen Crabbe\\crabbal01   </td> <td>114 </td> <td>SG  </td> <td>25  </td> <td>BRK </td> <td>75  </td> <td>68  </td> <td>29.3</td> <td>4.5 </td> <td>11  </td> <td>0.407</td> <td>2.7 </td> <td>7.1 </td> <td>0.378</td> <td>1.8 </td> <td>3.9 </td> <td>0.461</td> <td>0.529</td> <td>1.5 </td> <td>1.8 </td> <td>0.852</td> <td>0.4 </td> <td>3.9 </td> <td>4.3 </td> <td>1.6 </td> <td>0.6 </td> <td>0.5 </td> <td>1   </td> <td>2.2 </td> <td>13.2</td> <td>57  </td> <td>BRK </td> <td>$18500000</td> <td>$18500000</td> <td>nan      </td> <td>nan      </td> <td>nan    </td> <td>nan    </td> <td>Cap Space     </td> <td>$18500000 </td>\n",
       "        </tr>\n",
       "        <tr>\n",
       "            <td>Amir Johnson\\johnsam01   </td> <td>254 </td> <td>C   </td> <td>30  </td> <td>PHI </td> <td>74  </td> <td>18  </td> <td>15.8</td> <td>1.9 </td> <td>3.5 </td> <td>0.538</td> <td>0.1 </td> <td>0.4 </td> <td>0.313</td> <td>1.8 </td> <td>3.1 </td> <td>0.57 </td> <td>0.558</td> <td>0.7 </td> <td>1.1 </td> <td>0.612</td> <td>1.7 </td> <td>2.8 </td> <td>4.5 </td> <td>1.6 </td> <td>0.6 </td> <td>0.6 </td> <td>0.7 </td> <td>2.6 </td> <td>4.6 </td> <td>301 </td> <td>PHI </td> <td>$2393887 </td> <td>nan      </td> <td>nan      </td> <td>nan      </td> <td>nan    </td> <td>nan    </td> <td>Minimum Salary</td> <td>$2393887  </td>\n",
       "        </tr>\n",
       "        <tr>\n",
       "            <td>Andre Drummond\\drumman01 </td> <td>140 </td> <td>C   </td> <td>24  </td> <td>DET </td> <td>78  </td> <td>78  </td> <td>33.7</td> <td>6   </td> <td>11.3</td> <td>0.529</td> <td>0   </td> <td>0.1 </td> <td>0    </td> <td>6   </td> <td>11.2</td> <td>0.536</td> <td>0.529</td> <td>3.1 </td> <td>5.1 </td> <td>0.605</td> <td>5.1 </td> <td>10.9</td> <td>16  </td> <td>3   </td> <td>1.5 </td> <td>1.6 </td> <td>2.6 </td> <td>3.2 </td> <td>15  </td> <td>25  </td> <td>DET </td> <td>$25434263</td> <td>$27093019</td> <td>$28751775</td> <td>nan      </td> <td>nan    </td> <td>nan    </td> <td>Cap Space     </td> <td>$52527282 </td>\n",
       "        </tr>\n",
       "        <tr>\n",
       "            <td>Andre Iguodala\\iguodan01 </td> <td>234 </td> <td>SF  </td> <td>34  </td> <td>GSW </td> <td>64  </td> <td>7   </td> <td>25.3</td> <td>2.3 </td> <td>5   </td> <td>0.463</td> <td>0.5 </td> <td>1.8 </td> <td>0.282</td> <td>1.8 </td> <td>3.2 </td> <td>0.567</td> <td>0.514</td> <td>0.9 </td> <td>1.4 </td> <td>0.632</td> <td>0.8 </td> <td>3.1 </td> <td>3.8 </td> <td>3.3 </td> <td>0.8 </td> <td>0.6 </td> <td>1   </td> <td>1.5 </td> <td>6   </td> <td>71  </td> <td>GSW </td> <td>$16000000</td> <td>$17185185</td> <td>nan      </td> <td>nan      </td> <td>nan    </td> <td>nan    </td> <td>Bird Rights   </td> <td>$33185185 </td>\n",
       "        </tr>\n",
       "    </tbody>\n",
       "</table>\n",
       "<p>... (361 rows omitted)</p>"
      ],
      "text/plain": [
       "Player                    | Rk   | Pos  | Age  | Tm   | G    | GS   | MP   | FG   | FGA  | FG%   | 3P   | 3PA  | 3P%   | 2P   | 2PA  | 2P%   | eFG%  | FT   | FTA  | FT%   | ORB  | DRB  | TRB  | AST  | STL  | BLK  | TOV  | PF   | PS/G | Rk_2 | Tm_2 | 2018-19   | 2019-20   | 2020-21   | 2021-22   | 2022-23 | 2023-24 | Signed Using   | Guaranteed\n",
       "Aaron Gordon\\gordoaa01    | 179  | PF   | 22   | ORL  | 58   | 57   | 32.9 | 6.5  | 14.9 | 0.434 | 2    | 5.9  | 0.336 | 4.5  | 9    | 0.497 | 0.5   | 2.7  | 3.9  | 0.698 | 1.5  | 6.4  | 7.9  | 2.3  | 1    | 0.8  | 1.8  | 1.9  | 17.6 | 40   | ORL  | $21590909 | $19863636 | $18136364 | $16409091 | nan     | nan     | nan            | $76000000\n",
       "Al Horford\\horfoal01      | 227  | C    | 31   | BOS  | 72   | 72   | 31.6 | 5.1  | 10.5 | 0.489 | 1.3  | 3.1  | 0.429 | 3.8  | 7.3  | 0.514 | 0.553 | 1.3  | 1.7  | 0.783 | 1.4  | 5.9  | 7.4  | 4.7  | 0.6  | 1.1  | 1.8  | 1.9  | 12.9 | 13   | BOS  | $28928710 | $30123015 | nan       | nan       | nan     | nan     | Cap Space      | $28928710\n",
       "Al Jefferson\\jeffeal01    | 250  | C    | 33   | IND  | 36   | 1    | 13.4 | 3.1  | 5.8  | 0.534 | 0    | 0.1  | 0     | 3.1  | 5.7  | 0.541 | 0.534 | 0.8  | 1    | 0.833 | 0.8  | 3.1  | 4    | 0.8  | 0.4  | 0.6  | 0.6  | 1.8  | 7    | 235  | IND  | $4000000  | nan       | nan       | nan       | nan     | nan     | nan            | $4000000\n",
       "Al-Farouq Aminu\\aminual01 | 11   | PF   | 27   | POR  | 69   | 67   | 30   | 3.3  | 8.4  | 0.395 | 1.8  | 4.9  | 0.369 | 1.5  | 3.5  | 0.432 | 0.503 | 0.9  | 1.2  | 0.738 | 1.4  | 6.2  | 7.6  | 1.2  | 1.1  | 0.6  | 1.1  | 2    | 9.3  | 179  | POR  | $6957105  | nan       | nan       | nan       | nan     | nan     | Cap Space      | $6957105\n",
       "Alec Burks\\burksal01      | 78   | SG   | 26   | UTA  | 64   | 1    | 16.5 | 2.7  | 6.5  | 0.411 | 0.7  | 2.2  | 0.331 | 1.9  | 4.3  | 0.452 | 0.467 | 1.7  | 1.9  | 0.863 | 0.3  | 2.7  | 3    | 1    | 0.6  | 0.1  | 0.9  | 1.2  | 7.7  | 120  | UTA  | $11536515 | nan       | nan       | nan       | nan     | nan     | 1st Round Pick | $11536515\n",
       "Alex Len\\lenal01          | 292  | C    | 24   | PHO  | 69   | 13   | 20.2 | 3.1  | 5.5  | 0.566 | 0    | 0    | 0.333 | 3.1  | 5.4  | 0.568 | 0.567 | 2.3  | 3.3  | 0.684 | 2.5  | 5    | 7.5  | 1.2  | 0.4  | 0.9  | 1.1  | 2.3  | 8.5  | 227  | ATL  | $4350000  | $4160000  | nan       | nan       | nan     | nan     | Room Exception | $8510000\n",
       "Allen Crabbe\\crabbal01    | 114  | SG   | 25   | BRK  | 75   | 68   | 29.3 | 4.5  | 11   | 0.407 | 2.7  | 7.1  | 0.378 | 1.8  | 3.9  | 0.461 | 0.529 | 1.5  | 1.8  | 0.852 | 0.4  | 3.9  | 4.3  | 1.6  | 0.6  | 0.5  | 1    | 2.2  | 13.2 | 57   | BRK  | $18500000 | $18500000 | nan       | nan       | nan     | nan     | Cap Space      | $18500000\n",
       "Amir Johnson\\johnsam01    | 254  | C    | 30   | PHI  | 74   | 18   | 15.8 | 1.9  | 3.5  | 0.538 | 0.1  | 0.4  | 0.313 | 1.8  | 3.1  | 0.57  | 0.558 | 0.7  | 1.1  | 0.612 | 1.7  | 2.8  | 4.5  | 1.6  | 0.6  | 0.6  | 0.7  | 2.6  | 4.6  | 301  | PHI  | $2393887  | nan       | nan       | nan       | nan     | nan     | Minimum Salary | $2393887\n",
       "Andre Drummond\\drumman01  | 140  | C    | 24   | DET  | 78   | 78   | 33.7 | 6    | 11.3 | 0.529 | 0    | 0.1  | 0     | 6    | 11.2 | 0.536 | 0.529 | 3.1  | 5.1  | 0.605 | 5.1  | 10.9 | 16   | 3    | 1.5  | 1.6  | 2.6  | 3.2  | 15   | 25   | DET  | $25434263 | $27093019 | $28751775 | nan       | nan     | nan     | Cap Space      | $52527282\n",
       "Andre Iguodala\\iguodan01  | 234  | SF   | 34   | GSW  | 64   | 7    | 25.3 | 2.3  | 5    | 0.463 | 0.5  | 1.8  | 0.282 | 1.8  | 3.2  | 0.567 | 0.514 | 0.9  | 1.4  | 0.632 | 0.8  | 3.1  | 3.8  | 3.3  | 0.8  | 0.6  | 1    | 1.5  | 6    | 71   | GSW  | $16000000 | $17185185 | nan       | nan       | nan     | nan     | Bird Rights    | $33185185\n",
       "... (361 rows omitted)"
      ]
     },
     "execution_count": 173,
     "metadata": {},
     "output_type": "execute_result"
    }
   ],
   "source": [
    "full_clean_table"
   ]
  },
  {
   "cell_type": "code",
   "execution_count": 174,
   "metadata": {},
   "outputs": [],
   "source": [
    "clean_data = full_clean_table.drop('2019-20').drop('2020-21').drop('2021-22').drop('2022-23').drop('2023-24').drop('Signed Using').drop('Guaranteed')"
   ]
  },
  {
   "cell_type": "code",
   "execution_count": 175,
   "metadata": {},
   "outputs": [],
   "source": [
    "import pandas as pd"
   ]
  },
  {
   "cell_type": "code",
   "execution_count": 176,
   "metadata": {},
   "outputs": [
    {
     "data": {
      "text/html": [
       "<table border=\"1\" class=\"dataframe\">\n",
       "    <thead>\n",
       "        <tr>\n",
       "            <th>Player</th> <th>Rk</th> <th>Pos</th> <th>Age</th> <th>Tm</th> <th>G</th> <th>GS</th> <th>MP</th> <th>FG</th> <th>FGA</th> <th>FG%</th> <th>3P</th> <th>3PA</th> <th>3P%</th> <th>2P</th> <th>2PA</th> <th>2P%</th> <th>eFG%</th> <th>FT</th> <th>FTA</th> <th>FT%</th> <th>ORB</th> <th>DRB</th> <th>TRB</th> <th>AST</th> <th>STL</th> <th>BLK</th> <th>TOV</th> <th>PF</th> <th>PS/G</th> <th>Rk_2</th> <th>Tm_2</th> <th>2018-19</th>\n",
       "        </tr>\n",
       "    </thead>\n",
       "    <tbody>\n",
       "        <tr>\n",
       "            <td>Aaron Gordon\\gordoaa01   </td> <td>179 </td> <td>PF  </td> <td>22  </td> <td>ORL </td> <td>58  </td> <td>57  </td> <td>32.9</td> <td>6.5 </td> <td>14.9</td> <td>0.434</td> <td>2   </td> <td>5.9 </td> <td>0.336</td> <td>4.5 </td> <td>9   </td> <td>0.497</td> <td>0.5  </td> <td>2.7 </td> <td>3.9 </td> <td>0.698</td> <td>1.5 </td> <td>6.4 </td> <td>7.9 </td> <td>2.3 </td> <td>1   </td> <td>0.8 </td> <td>1.8 </td> <td>1.9 </td> <td>17.6</td> <td>40  </td> <td>ORL </td> <td>$21590909</td>\n",
       "        </tr>\n",
       "        <tr>\n",
       "            <td>Al Horford\\horfoal01     </td> <td>227 </td> <td>C   </td> <td>31  </td> <td>BOS </td> <td>72  </td> <td>72  </td> <td>31.6</td> <td>5.1 </td> <td>10.5</td> <td>0.489</td> <td>1.3 </td> <td>3.1 </td> <td>0.429</td> <td>3.8 </td> <td>7.3 </td> <td>0.514</td> <td>0.553</td> <td>1.3 </td> <td>1.7 </td> <td>0.783</td> <td>1.4 </td> <td>5.9 </td> <td>7.4 </td> <td>4.7 </td> <td>0.6 </td> <td>1.1 </td> <td>1.8 </td> <td>1.9 </td> <td>12.9</td> <td>13  </td> <td>BOS </td> <td>$28928710</td>\n",
       "        </tr>\n",
       "        <tr>\n",
       "            <td>Al Jefferson\\jeffeal01   </td> <td>250 </td> <td>C   </td> <td>33  </td> <td>IND </td> <td>36  </td> <td>1   </td> <td>13.4</td> <td>3.1 </td> <td>5.8 </td> <td>0.534</td> <td>0   </td> <td>0.1 </td> <td>0    </td> <td>3.1 </td> <td>5.7 </td> <td>0.541</td> <td>0.534</td> <td>0.8 </td> <td>1   </td> <td>0.833</td> <td>0.8 </td> <td>3.1 </td> <td>4   </td> <td>0.8 </td> <td>0.4 </td> <td>0.6 </td> <td>0.6 </td> <td>1.8 </td> <td>7   </td> <td>235 </td> <td>IND </td> <td>$4000000 </td>\n",
       "        </tr>\n",
       "        <tr>\n",
       "            <td>Al-Farouq Aminu\\aminual01</td> <td>11  </td> <td>PF  </td> <td>27  </td> <td>POR </td> <td>69  </td> <td>67  </td> <td>30  </td> <td>3.3 </td> <td>8.4 </td> <td>0.395</td> <td>1.8 </td> <td>4.9 </td> <td>0.369</td> <td>1.5 </td> <td>3.5 </td> <td>0.432</td> <td>0.503</td> <td>0.9 </td> <td>1.2 </td> <td>0.738</td> <td>1.4 </td> <td>6.2 </td> <td>7.6 </td> <td>1.2 </td> <td>1.1 </td> <td>0.6 </td> <td>1.1 </td> <td>2   </td> <td>9.3 </td> <td>179 </td> <td>POR </td> <td>$6957105 </td>\n",
       "        </tr>\n",
       "        <tr>\n",
       "            <td>Alec Burks\\burksal01     </td> <td>78  </td> <td>SG  </td> <td>26  </td> <td>UTA </td> <td>64  </td> <td>1   </td> <td>16.5</td> <td>2.7 </td> <td>6.5 </td> <td>0.411</td> <td>0.7 </td> <td>2.2 </td> <td>0.331</td> <td>1.9 </td> <td>4.3 </td> <td>0.452</td> <td>0.467</td> <td>1.7 </td> <td>1.9 </td> <td>0.863</td> <td>0.3 </td> <td>2.7 </td> <td>3   </td> <td>1   </td> <td>0.6 </td> <td>0.1 </td> <td>0.9 </td> <td>1.2 </td> <td>7.7 </td> <td>120 </td> <td>UTA </td> <td>$11536515</td>\n",
       "        </tr>\n",
       "        <tr>\n",
       "            <td>Alex Len\\lenal01         </td> <td>292 </td> <td>C   </td> <td>24  </td> <td>PHO </td> <td>69  </td> <td>13  </td> <td>20.2</td> <td>3.1 </td> <td>5.5 </td> <td>0.566</td> <td>0   </td> <td>0   </td> <td>0.333</td> <td>3.1 </td> <td>5.4 </td> <td>0.568</td> <td>0.567</td> <td>2.3 </td> <td>3.3 </td> <td>0.684</td> <td>2.5 </td> <td>5   </td> <td>7.5 </td> <td>1.2 </td> <td>0.4 </td> <td>0.9 </td> <td>1.1 </td> <td>2.3 </td> <td>8.5 </td> <td>227 </td> <td>ATL </td> <td>$4350000 </td>\n",
       "        </tr>\n",
       "        <tr>\n",
       "            <td>Allen Crabbe\\crabbal01   </td> <td>114 </td> <td>SG  </td> <td>25  </td> <td>BRK </td> <td>75  </td> <td>68  </td> <td>29.3</td> <td>4.5 </td> <td>11  </td> <td>0.407</td> <td>2.7 </td> <td>7.1 </td> <td>0.378</td> <td>1.8 </td> <td>3.9 </td> <td>0.461</td> <td>0.529</td> <td>1.5 </td> <td>1.8 </td> <td>0.852</td> <td>0.4 </td> <td>3.9 </td> <td>4.3 </td> <td>1.6 </td> <td>0.6 </td> <td>0.5 </td> <td>1   </td> <td>2.2 </td> <td>13.2</td> <td>57  </td> <td>BRK </td> <td>$18500000</td>\n",
       "        </tr>\n",
       "        <tr>\n",
       "            <td>Amir Johnson\\johnsam01   </td> <td>254 </td> <td>C   </td> <td>30  </td> <td>PHI </td> <td>74  </td> <td>18  </td> <td>15.8</td> <td>1.9 </td> <td>3.5 </td> <td>0.538</td> <td>0.1 </td> <td>0.4 </td> <td>0.313</td> <td>1.8 </td> <td>3.1 </td> <td>0.57 </td> <td>0.558</td> <td>0.7 </td> <td>1.1 </td> <td>0.612</td> <td>1.7 </td> <td>2.8 </td> <td>4.5 </td> <td>1.6 </td> <td>0.6 </td> <td>0.6 </td> <td>0.7 </td> <td>2.6 </td> <td>4.6 </td> <td>301 </td> <td>PHI </td> <td>$2393887 </td>\n",
       "        </tr>\n",
       "        <tr>\n",
       "            <td>Andre Drummond\\drumman01 </td> <td>140 </td> <td>C   </td> <td>24  </td> <td>DET </td> <td>78  </td> <td>78  </td> <td>33.7</td> <td>6   </td> <td>11.3</td> <td>0.529</td> <td>0   </td> <td>0.1 </td> <td>0    </td> <td>6   </td> <td>11.2</td> <td>0.536</td> <td>0.529</td> <td>3.1 </td> <td>5.1 </td> <td>0.605</td> <td>5.1 </td> <td>10.9</td> <td>16  </td> <td>3   </td> <td>1.5 </td> <td>1.6 </td> <td>2.6 </td> <td>3.2 </td> <td>15  </td> <td>25  </td> <td>DET </td> <td>$25434263</td>\n",
       "        </tr>\n",
       "        <tr>\n",
       "            <td>Andre Iguodala\\iguodan01 </td> <td>234 </td> <td>SF  </td> <td>34  </td> <td>GSW </td> <td>64  </td> <td>7   </td> <td>25.3</td> <td>2.3 </td> <td>5   </td> <td>0.463</td> <td>0.5 </td> <td>1.8 </td> <td>0.282</td> <td>1.8 </td> <td>3.2 </td> <td>0.567</td> <td>0.514</td> <td>0.9 </td> <td>1.4 </td> <td>0.632</td> <td>0.8 </td> <td>3.1 </td> <td>3.8 </td> <td>3.3 </td> <td>0.8 </td> <td>0.6 </td> <td>1   </td> <td>1.5 </td> <td>6   </td> <td>71  </td> <td>GSW </td> <td>$16000000</td>\n",
       "        </tr>\n",
       "    </tbody>\n",
       "</table>\n",
       "<p>... (361 rows omitted)</p>"
      ],
      "text/plain": [
       "Player                    | Rk   | Pos  | Age  | Tm   | G    | GS   | MP   | FG   | FGA  | FG%   | 3P   | 3PA  | 3P%   | 2P   | 2PA  | 2P%   | eFG%  | FT   | FTA  | FT%   | ORB  | DRB  | TRB  | AST  | STL  | BLK  | TOV  | PF   | PS/G | Rk_2 | Tm_2 | 2018-19\n",
       "Aaron Gordon\\gordoaa01    | 179  | PF   | 22   | ORL  | 58   | 57   | 32.9 | 6.5  | 14.9 | 0.434 | 2    | 5.9  | 0.336 | 4.5  | 9    | 0.497 | 0.5   | 2.7  | 3.9  | 0.698 | 1.5  | 6.4  | 7.9  | 2.3  | 1    | 0.8  | 1.8  | 1.9  | 17.6 | 40   | ORL  | $21590909\n",
       "Al Horford\\horfoal01      | 227  | C    | 31   | BOS  | 72   | 72   | 31.6 | 5.1  | 10.5 | 0.489 | 1.3  | 3.1  | 0.429 | 3.8  | 7.3  | 0.514 | 0.553 | 1.3  | 1.7  | 0.783 | 1.4  | 5.9  | 7.4  | 4.7  | 0.6  | 1.1  | 1.8  | 1.9  | 12.9 | 13   | BOS  | $28928710\n",
       "Al Jefferson\\jeffeal01    | 250  | C    | 33   | IND  | 36   | 1    | 13.4 | 3.1  | 5.8  | 0.534 | 0    | 0.1  | 0     | 3.1  | 5.7  | 0.541 | 0.534 | 0.8  | 1    | 0.833 | 0.8  | 3.1  | 4    | 0.8  | 0.4  | 0.6  | 0.6  | 1.8  | 7    | 235  | IND  | $4000000\n",
       "Al-Farouq Aminu\\aminual01 | 11   | PF   | 27   | POR  | 69   | 67   | 30   | 3.3  | 8.4  | 0.395 | 1.8  | 4.9  | 0.369 | 1.5  | 3.5  | 0.432 | 0.503 | 0.9  | 1.2  | 0.738 | 1.4  | 6.2  | 7.6  | 1.2  | 1.1  | 0.6  | 1.1  | 2    | 9.3  | 179  | POR  | $6957105\n",
       "Alec Burks\\burksal01      | 78   | SG   | 26   | UTA  | 64   | 1    | 16.5 | 2.7  | 6.5  | 0.411 | 0.7  | 2.2  | 0.331 | 1.9  | 4.3  | 0.452 | 0.467 | 1.7  | 1.9  | 0.863 | 0.3  | 2.7  | 3    | 1    | 0.6  | 0.1  | 0.9  | 1.2  | 7.7  | 120  | UTA  | $11536515\n",
       "Alex Len\\lenal01          | 292  | C    | 24   | PHO  | 69   | 13   | 20.2 | 3.1  | 5.5  | 0.566 | 0    | 0    | 0.333 | 3.1  | 5.4  | 0.568 | 0.567 | 2.3  | 3.3  | 0.684 | 2.5  | 5    | 7.5  | 1.2  | 0.4  | 0.9  | 1.1  | 2.3  | 8.5  | 227  | ATL  | $4350000\n",
       "Allen Crabbe\\crabbal01    | 114  | SG   | 25   | BRK  | 75   | 68   | 29.3 | 4.5  | 11   | 0.407 | 2.7  | 7.1  | 0.378 | 1.8  | 3.9  | 0.461 | 0.529 | 1.5  | 1.8  | 0.852 | 0.4  | 3.9  | 4.3  | 1.6  | 0.6  | 0.5  | 1    | 2.2  | 13.2 | 57   | BRK  | $18500000\n",
       "Amir Johnson\\johnsam01    | 254  | C    | 30   | PHI  | 74   | 18   | 15.8 | 1.9  | 3.5  | 0.538 | 0.1  | 0.4  | 0.313 | 1.8  | 3.1  | 0.57  | 0.558 | 0.7  | 1.1  | 0.612 | 1.7  | 2.8  | 4.5  | 1.6  | 0.6  | 0.6  | 0.7  | 2.6  | 4.6  | 301  | PHI  | $2393887\n",
       "Andre Drummond\\drumman01  | 140  | C    | 24   | DET  | 78   | 78   | 33.7 | 6    | 11.3 | 0.529 | 0    | 0.1  | 0     | 6    | 11.2 | 0.536 | 0.529 | 3.1  | 5.1  | 0.605 | 5.1  | 10.9 | 16   | 3    | 1.5  | 1.6  | 2.6  | 3.2  | 15   | 25   | DET  | $25434263\n",
       "Andre Iguodala\\iguodan01  | 234  | SF   | 34   | GSW  | 64   | 7    | 25.3 | 2.3  | 5    | 0.463 | 0.5  | 1.8  | 0.282 | 1.8  | 3.2  | 0.567 | 0.514 | 0.9  | 1.4  | 0.632 | 0.8  | 3.1  | 3.8  | 3.3  | 0.8  | 0.6  | 1    | 1.5  | 6    | 71   | GSW  | $16000000\n",
       "... (361 rows omitted)"
      ]
     },
     "execution_count": 176,
     "metadata": {},
     "output_type": "execute_result"
    }
   ],
   "source": [
    "clean_data"
   ]
  },
  {
   "cell_type": "code",
   "execution_count": 177,
   "metadata": {},
   "outputs": [],
   "source": [
    "def convert_string_to_number(string):\n",
    "    return float(string.strip('$'))*1"
   ]
  },
  {
   "cell_type": "code",
   "execution_count": 178,
   "metadata": {},
   "outputs": [
    {
     "data": {
      "text/plain": [
       "21590909.0"
      ]
     },
     "execution_count": 178,
     "metadata": {},
     "output_type": "execute_result"
    }
   ],
   "source": [
    "convert_string_to_number('$21590909')"
   ]
  },
  {
   "cell_type": "code",
   "execution_count": 179,
   "metadata": {},
   "outputs": [
    {
     "data": {
      "text/html": [
       "<table border=\"1\" class=\"dataframe\">\n",
       "    <thead>\n",
       "        <tr>\n",
       "            <th>Player</th> <th>Rk</th> <th>Pos</th> <th>Age</th> <th>Tm</th> <th>G</th> <th>GS</th> <th>MP</th> <th>FG</th> <th>FGA</th> <th>FG%</th> <th>3P</th> <th>3PA</th> <th>3P%</th> <th>2P</th> <th>2PA</th> <th>2P%</th> <th>eFG%</th> <th>FT</th> <th>FTA</th> <th>FT%</th> <th>ORB</th> <th>DRB</th> <th>TRB</th> <th>AST</th> <th>STL</th> <th>BLK</th> <th>TOV</th> <th>PF</th> <th>PS/G</th> <th>Rk_2</th> <th>Tm_2</th> <th>2018-19</th>\n",
       "        </tr>\n",
       "    </thead>\n",
       "    <tbody>\n",
       "        <tr>\n",
       "            <td>Aaron Gordon\\gordoaa01   </td> <td>179 </td> <td>PF  </td> <td>22  </td> <td>ORL </td> <td>58  </td> <td>57  </td> <td>32.9</td> <td>6.5 </td> <td>14.9</td> <td>0.434</td> <td>2   </td> <td>5.9 </td> <td>0.336</td> <td>4.5 </td> <td>9   </td> <td>0.497</td> <td>0.5  </td> <td>2.7 </td> <td>3.9 </td> <td>0.698</td> <td>1.5 </td> <td>6.4 </td> <td>7.9 </td> <td>2.3 </td> <td>1   </td> <td>0.8 </td> <td>1.8 </td> <td>1.9 </td> <td>17.6</td> <td>40  </td> <td>ORL </td> <td>$21590909</td>\n",
       "        </tr>\n",
       "        <tr>\n",
       "            <td>Al Horford\\horfoal01     </td> <td>227 </td> <td>C   </td> <td>31  </td> <td>BOS </td> <td>72  </td> <td>72  </td> <td>31.6</td> <td>5.1 </td> <td>10.5</td> <td>0.489</td> <td>1.3 </td> <td>3.1 </td> <td>0.429</td> <td>3.8 </td> <td>7.3 </td> <td>0.514</td> <td>0.553</td> <td>1.3 </td> <td>1.7 </td> <td>0.783</td> <td>1.4 </td> <td>5.9 </td> <td>7.4 </td> <td>4.7 </td> <td>0.6 </td> <td>1.1 </td> <td>1.8 </td> <td>1.9 </td> <td>12.9</td> <td>13  </td> <td>BOS </td> <td>$28928710</td>\n",
       "        </tr>\n",
       "        <tr>\n",
       "            <td>Al Jefferson\\jeffeal01   </td> <td>250 </td> <td>C   </td> <td>33  </td> <td>IND </td> <td>36  </td> <td>1   </td> <td>13.4</td> <td>3.1 </td> <td>5.8 </td> <td>0.534</td> <td>0   </td> <td>0.1 </td> <td>0    </td> <td>3.1 </td> <td>5.7 </td> <td>0.541</td> <td>0.534</td> <td>0.8 </td> <td>1   </td> <td>0.833</td> <td>0.8 </td> <td>3.1 </td> <td>4   </td> <td>0.8 </td> <td>0.4 </td> <td>0.6 </td> <td>0.6 </td> <td>1.8 </td> <td>7   </td> <td>235 </td> <td>IND </td> <td>$4000000 </td>\n",
       "        </tr>\n",
       "        <tr>\n",
       "            <td>Al-Farouq Aminu\\aminual01</td> <td>11  </td> <td>PF  </td> <td>27  </td> <td>POR </td> <td>69  </td> <td>67  </td> <td>30  </td> <td>3.3 </td> <td>8.4 </td> <td>0.395</td> <td>1.8 </td> <td>4.9 </td> <td>0.369</td> <td>1.5 </td> <td>3.5 </td> <td>0.432</td> <td>0.503</td> <td>0.9 </td> <td>1.2 </td> <td>0.738</td> <td>1.4 </td> <td>6.2 </td> <td>7.6 </td> <td>1.2 </td> <td>1.1 </td> <td>0.6 </td> <td>1.1 </td> <td>2   </td> <td>9.3 </td> <td>179 </td> <td>POR </td> <td>$6957105 </td>\n",
       "        </tr>\n",
       "        <tr>\n",
       "            <td>Alec Burks\\burksal01     </td> <td>78  </td> <td>SG  </td> <td>26  </td> <td>UTA </td> <td>64  </td> <td>1   </td> <td>16.5</td> <td>2.7 </td> <td>6.5 </td> <td>0.411</td> <td>0.7 </td> <td>2.2 </td> <td>0.331</td> <td>1.9 </td> <td>4.3 </td> <td>0.452</td> <td>0.467</td> <td>1.7 </td> <td>1.9 </td> <td>0.863</td> <td>0.3 </td> <td>2.7 </td> <td>3   </td> <td>1   </td> <td>0.6 </td> <td>0.1 </td> <td>0.9 </td> <td>1.2 </td> <td>7.7 </td> <td>120 </td> <td>UTA </td> <td>$11536515</td>\n",
       "        </tr>\n",
       "        <tr>\n",
       "            <td>Alex Len\\lenal01         </td> <td>292 </td> <td>C   </td> <td>24  </td> <td>PHO </td> <td>69  </td> <td>13  </td> <td>20.2</td> <td>3.1 </td> <td>5.5 </td> <td>0.566</td> <td>0   </td> <td>0   </td> <td>0.333</td> <td>3.1 </td> <td>5.4 </td> <td>0.568</td> <td>0.567</td> <td>2.3 </td> <td>3.3 </td> <td>0.684</td> <td>2.5 </td> <td>5   </td> <td>7.5 </td> <td>1.2 </td> <td>0.4 </td> <td>0.9 </td> <td>1.1 </td> <td>2.3 </td> <td>8.5 </td> <td>227 </td> <td>ATL </td> <td>$4350000 </td>\n",
       "        </tr>\n",
       "        <tr>\n",
       "            <td>Allen Crabbe\\crabbal01   </td> <td>114 </td> <td>SG  </td> <td>25  </td> <td>BRK </td> <td>75  </td> <td>68  </td> <td>29.3</td> <td>4.5 </td> <td>11  </td> <td>0.407</td> <td>2.7 </td> <td>7.1 </td> <td>0.378</td> <td>1.8 </td> <td>3.9 </td> <td>0.461</td> <td>0.529</td> <td>1.5 </td> <td>1.8 </td> <td>0.852</td> <td>0.4 </td> <td>3.9 </td> <td>4.3 </td> <td>1.6 </td> <td>0.6 </td> <td>0.5 </td> <td>1   </td> <td>2.2 </td> <td>13.2</td> <td>57  </td> <td>BRK </td> <td>$18500000</td>\n",
       "        </tr>\n",
       "        <tr>\n",
       "            <td>Amir Johnson\\johnsam01   </td> <td>254 </td> <td>C   </td> <td>30  </td> <td>PHI </td> <td>74  </td> <td>18  </td> <td>15.8</td> <td>1.9 </td> <td>3.5 </td> <td>0.538</td> <td>0.1 </td> <td>0.4 </td> <td>0.313</td> <td>1.8 </td> <td>3.1 </td> <td>0.57 </td> <td>0.558</td> <td>0.7 </td> <td>1.1 </td> <td>0.612</td> <td>1.7 </td> <td>2.8 </td> <td>4.5 </td> <td>1.6 </td> <td>0.6 </td> <td>0.6 </td> <td>0.7 </td> <td>2.6 </td> <td>4.6 </td> <td>301 </td> <td>PHI </td> <td>$2393887 </td>\n",
       "        </tr>\n",
       "        <tr>\n",
       "            <td>Andre Drummond\\drumman01 </td> <td>140 </td> <td>C   </td> <td>24  </td> <td>DET </td> <td>78  </td> <td>78  </td> <td>33.7</td> <td>6   </td> <td>11.3</td> <td>0.529</td> <td>0   </td> <td>0.1 </td> <td>0    </td> <td>6   </td> <td>11.2</td> <td>0.536</td> <td>0.529</td> <td>3.1 </td> <td>5.1 </td> <td>0.605</td> <td>5.1 </td> <td>10.9</td> <td>16  </td> <td>3   </td> <td>1.5 </td> <td>1.6 </td> <td>2.6 </td> <td>3.2 </td> <td>15  </td> <td>25  </td> <td>DET </td> <td>$25434263</td>\n",
       "        </tr>\n",
       "        <tr>\n",
       "            <td>Andre Iguodala\\iguodan01 </td> <td>234 </td> <td>SF  </td> <td>34  </td> <td>GSW </td> <td>64  </td> <td>7   </td> <td>25.3</td> <td>2.3 </td> <td>5   </td> <td>0.463</td> <td>0.5 </td> <td>1.8 </td> <td>0.282</td> <td>1.8 </td> <td>3.2 </td> <td>0.567</td> <td>0.514</td> <td>0.9 </td> <td>1.4 </td> <td>0.632</td> <td>0.8 </td> <td>3.1 </td> <td>3.8 </td> <td>3.3 </td> <td>0.8 </td> <td>0.6 </td> <td>1   </td> <td>1.5 </td> <td>6   </td> <td>71  </td> <td>GSW </td> <td>$16000000</td>\n",
       "        </tr>\n",
       "    </tbody>\n",
       "</table>\n",
       "<p>... (361 rows omitted)</p>"
      ],
      "text/plain": [
       "Player                    | Rk   | Pos  | Age  | Tm   | G    | GS   | MP   | FG   | FGA  | FG%   | 3P   | 3PA  | 3P%   | 2P   | 2PA  | 2P%   | eFG%  | FT   | FTA  | FT%   | ORB  | DRB  | TRB  | AST  | STL  | BLK  | TOV  | PF   | PS/G | Rk_2 | Tm_2 | 2018-19\n",
       "Aaron Gordon\\gordoaa01    | 179  | PF   | 22   | ORL  | 58   | 57   | 32.9 | 6.5  | 14.9 | 0.434 | 2    | 5.9  | 0.336 | 4.5  | 9    | 0.497 | 0.5   | 2.7  | 3.9  | 0.698 | 1.5  | 6.4  | 7.9  | 2.3  | 1    | 0.8  | 1.8  | 1.9  | 17.6 | 40   | ORL  | $21590909\n",
       "Al Horford\\horfoal01      | 227  | C    | 31   | BOS  | 72   | 72   | 31.6 | 5.1  | 10.5 | 0.489 | 1.3  | 3.1  | 0.429 | 3.8  | 7.3  | 0.514 | 0.553 | 1.3  | 1.7  | 0.783 | 1.4  | 5.9  | 7.4  | 4.7  | 0.6  | 1.1  | 1.8  | 1.9  | 12.9 | 13   | BOS  | $28928710\n",
       "Al Jefferson\\jeffeal01    | 250  | C    | 33   | IND  | 36   | 1    | 13.4 | 3.1  | 5.8  | 0.534 | 0    | 0.1  | 0     | 3.1  | 5.7  | 0.541 | 0.534 | 0.8  | 1    | 0.833 | 0.8  | 3.1  | 4    | 0.8  | 0.4  | 0.6  | 0.6  | 1.8  | 7    | 235  | IND  | $4000000\n",
       "Al-Farouq Aminu\\aminual01 | 11   | PF   | 27   | POR  | 69   | 67   | 30   | 3.3  | 8.4  | 0.395 | 1.8  | 4.9  | 0.369 | 1.5  | 3.5  | 0.432 | 0.503 | 0.9  | 1.2  | 0.738 | 1.4  | 6.2  | 7.6  | 1.2  | 1.1  | 0.6  | 1.1  | 2    | 9.3  | 179  | POR  | $6957105\n",
       "Alec Burks\\burksal01      | 78   | SG   | 26   | UTA  | 64   | 1    | 16.5 | 2.7  | 6.5  | 0.411 | 0.7  | 2.2  | 0.331 | 1.9  | 4.3  | 0.452 | 0.467 | 1.7  | 1.9  | 0.863 | 0.3  | 2.7  | 3    | 1    | 0.6  | 0.1  | 0.9  | 1.2  | 7.7  | 120  | UTA  | $11536515\n",
       "Alex Len\\lenal01          | 292  | C    | 24   | PHO  | 69   | 13   | 20.2 | 3.1  | 5.5  | 0.566 | 0    | 0    | 0.333 | 3.1  | 5.4  | 0.568 | 0.567 | 2.3  | 3.3  | 0.684 | 2.5  | 5    | 7.5  | 1.2  | 0.4  | 0.9  | 1.1  | 2.3  | 8.5  | 227  | ATL  | $4350000\n",
       "Allen Crabbe\\crabbal01    | 114  | SG   | 25   | BRK  | 75   | 68   | 29.3 | 4.5  | 11   | 0.407 | 2.7  | 7.1  | 0.378 | 1.8  | 3.9  | 0.461 | 0.529 | 1.5  | 1.8  | 0.852 | 0.4  | 3.9  | 4.3  | 1.6  | 0.6  | 0.5  | 1    | 2.2  | 13.2 | 57   | BRK  | $18500000\n",
       "Amir Johnson\\johnsam01    | 254  | C    | 30   | PHI  | 74   | 18   | 15.8 | 1.9  | 3.5  | 0.538 | 0.1  | 0.4  | 0.313 | 1.8  | 3.1  | 0.57  | 0.558 | 0.7  | 1.1  | 0.612 | 1.7  | 2.8  | 4.5  | 1.6  | 0.6  | 0.6  | 0.7  | 2.6  | 4.6  | 301  | PHI  | $2393887\n",
       "Andre Drummond\\drumman01  | 140  | C    | 24   | DET  | 78   | 78   | 33.7 | 6    | 11.3 | 0.529 | 0    | 0.1  | 0     | 6    | 11.2 | 0.536 | 0.529 | 3.1  | 5.1  | 0.605 | 5.1  | 10.9 | 16   | 3    | 1.5  | 1.6  | 2.6  | 3.2  | 15   | 25   | DET  | $25434263\n",
       "Andre Iguodala\\iguodan01  | 234  | SF   | 34   | GSW  | 64   | 7    | 25.3 | 2.3  | 5    | 0.463 | 0.5  | 1.8  | 0.282 | 1.8  | 3.2  | 0.567 | 0.514 | 0.9  | 1.4  | 0.632 | 0.8  | 3.1  | 3.8  | 3.3  | 0.8  | 0.6  | 1    | 1.5  | 6    | 71   | GSW  | $16000000\n",
       "... (361 rows omitted)"
      ]
     },
     "execution_count": 179,
     "metadata": {},
     "output_type": "execute_result"
    }
   ],
   "source": [
    "clean_data"
   ]
  },
  {
   "cell_type": "code",
   "execution_count": 180,
   "metadata": {},
   "outputs": [],
   "source": [
    "clean_data['2018-19'] = clean_data.apply(convert_string_to_number, '2018-19')"
   ]
  },
  {
   "cell_type": "code",
   "execution_count": 181,
   "metadata": {},
   "outputs": [
    {
     "data": {
      "text/html": [
       "<table border=\"1\" class=\"dataframe\">\n",
       "    <thead>\n",
       "        <tr>\n",
       "            <th>Player</th> <th>Rk</th> <th>Pos</th> <th>Age</th> <th>Tm</th> <th>G</th> <th>GS</th> <th>MP</th> <th>FG</th> <th>FGA</th> <th>FG%</th> <th>3P</th> <th>3PA</th> <th>3P%</th> <th>2P</th> <th>2PA</th> <th>2P%</th> <th>eFG%</th> <th>FT</th> <th>FTA</th> <th>FT%</th> <th>ORB</th> <th>DRB</th> <th>TRB</th> <th>AST</th> <th>STL</th> <th>BLK</th> <th>TOV</th> <th>PF</th> <th>PS/G</th> <th>Rk_2</th> <th>Tm_2</th> <th>2018-19</th>\n",
       "        </tr>\n",
       "    </thead>\n",
       "    <tbody>\n",
       "        <tr>\n",
       "            <td>Aaron Gordon\\gordoaa01   </td> <td>179 </td> <td>PF  </td> <td>22  </td> <td>ORL </td> <td>58  </td> <td>57  </td> <td>32.9</td> <td>6.5 </td> <td>14.9</td> <td>0.434</td> <td>2   </td> <td>5.9 </td> <td>0.336</td> <td>4.5 </td> <td>9   </td> <td>0.497</td> <td>0.5  </td> <td>2.7 </td> <td>3.9 </td> <td>0.698</td> <td>1.5 </td> <td>6.4 </td> <td>7.9 </td> <td>2.3 </td> <td>1   </td> <td>0.8 </td> <td>1.8 </td> <td>1.9 </td> <td>17.6</td> <td>40  </td> <td>ORL </td> <td>2.15909e+07</td>\n",
       "        </tr>\n",
       "        <tr>\n",
       "            <td>Al Horford\\horfoal01     </td> <td>227 </td> <td>C   </td> <td>31  </td> <td>BOS </td> <td>72  </td> <td>72  </td> <td>31.6</td> <td>5.1 </td> <td>10.5</td> <td>0.489</td> <td>1.3 </td> <td>3.1 </td> <td>0.429</td> <td>3.8 </td> <td>7.3 </td> <td>0.514</td> <td>0.553</td> <td>1.3 </td> <td>1.7 </td> <td>0.783</td> <td>1.4 </td> <td>5.9 </td> <td>7.4 </td> <td>4.7 </td> <td>0.6 </td> <td>1.1 </td> <td>1.8 </td> <td>1.9 </td> <td>12.9</td> <td>13  </td> <td>BOS </td> <td>2.89287e+07</td>\n",
       "        </tr>\n",
       "        <tr>\n",
       "            <td>Al Jefferson\\jeffeal01   </td> <td>250 </td> <td>C   </td> <td>33  </td> <td>IND </td> <td>36  </td> <td>1   </td> <td>13.4</td> <td>3.1 </td> <td>5.8 </td> <td>0.534</td> <td>0   </td> <td>0.1 </td> <td>0    </td> <td>3.1 </td> <td>5.7 </td> <td>0.541</td> <td>0.534</td> <td>0.8 </td> <td>1   </td> <td>0.833</td> <td>0.8 </td> <td>3.1 </td> <td>4   </td> <td>0.8 </td> <td>0.4 </td> <td>0.6 </td> <td>0.6 </td> <td>1.8 </td> <td>7   </td> <td>235 </td> <td>IND </td> <td>4e+06      </td>\n",
       "        </tr>\n",
       "        <tr>\n",
       "            <td>Al-Farouq Aminu\\aminual01</td> <td>11  </td> <td>PF  </td> <td>27  </td> <td>POR </td> <td>69  </td> <td>67  </td> <td>30  </td> <td>3.3 </td> <td>8.4 </td> <td>0.395</td> <td>1.8 </td> <td>4.9 </td> <td>0.369</td> <td>1.5 </td> <td>3.5 </td> <td>0.432</td> <td>0.503</td> <td>0.9 </td> <td>1.2 </td> <td>0.738</td> <td>1.4 </td> <td>6.2 </td> <td>7.6 </td> <td>1.2 </td> <td>1.1 </td> <td>0.6 </td> <td>1.1 </td> <td>2   </td> <td>9.3 </td> <td>179 </td> <td>POR </td> <td>6.95710e+06</td>\n",
       "        </tr>\n",
       "        <tr>\n",
       "            <td>Alec Burks\\burksal01     </td> <td>78  </td> <td>SG  </td> <td>26  </td> <td>UTA </td> <td>64  </td> <td>1   </td> <td>16.5</td> <td>2.7 </td> <td>6.5 </td> <td>0.411</td> <td>0.7 </td> <td>2.2 </td> <td>0.331</td> <td>1.9 </td> <td>4.3 </td> <td>0.452</td> <td>0.467</td> <td>1.7 </td> <td>1.9 </td> <td>0.863</td> <td>0.3 </td> <td>2.7 </td> <td>3   </td> <td>1   </td> <td>0.6 </td> <td>0.1 </td> <td>0.9 </td> <td>1.2 </td> <td>7.7 </td> <td>120 </td> <td>UTA </td> <td>1.15365e+07</td>\n",
       "        </tr>\n",
       "        <tr>\n",
       "            <td>Alex Len\\lenal01         </td> <td>292 </td> <td>C   </td> <td>24  </td> <td>PHO </td> <td>69  </td> <td>13  </td> <td>20.2</td> <td>3.1 </td> <td>5.5 </td> <td>0.566</td> <td>0   </td> <td>0   </td> <td>0.333</td> <td>3.1 </td> <td>5.4 </td> <td>0.568</td> <td>0.567</td> <td>2.3 </td> <td>3.3 </td> <td>0.684</td> <td>2.5 </td> <td>5   </td> <td>7.5 </td> <td>1.2 </td> <td>0.4 </td> <td>0.9 </td> <td>1.1 </td> <td>2.3 </td> <td>8.5 </td> <td>227 </td> <td>ATL </td> <td>4.35e+06   </td>\n",
       "        </tr>\n",
       "        <tr>\n",
       "            <td>Allen Crabbe\\crabbal01   </td> <td>114 </td> <td>SG  </td> <td>25  </td> <td>BRK </td> <td>75  </td> <td>68  </td> <td>29.3</td> <td>4.5 </td> <td>11  </td> <td>0.407</td> <td>2.7 </td> <td>7.1 </td> <td>0.378</td> <td>1.8 </td> <td>3.9 </td> <td>0.461</td> <td>0.529</td> <td>1.5 </td> <td>1.8 </td> <td>0.852</td> <td>0.4 </td> <td>3.9 </td> <td>4.3 </td> <td>1.6 </td> <td>0.6 </td> <td>0.5 </td> <td>1   </td> <td>2.2 </td> <td>13.2</td> <td>57  </td> <td>BRK </td> <td>1.85e+07   </td>\n",
       "        </tr>\n",
       "        <tr>\n",
       "            <td>Amir Johnson\\johnsam01   </td> <td>254 </td> <td>C   </td> <td>30  </td> <td>PHI </td> <td>74  </td> <td>18  </td> <td>15.8</td> <td>1.9 </td> <td>3.5 </td> <td>0.538</td> <td>0.1 </td> <td>0.4 </td> <td>0.313</td> <td>1.8 </td> <td>3.1 </td> <td>0.57 </td> <td>0.558</td> <td>0.7 </td> <td>1.1 </td> <td>0.612</td> <td>1.7 </td> <td>2.8 </td> <td>4.5 </td> <td>1.6 </td> <td>0.6 </td> <td>0.6 </td> <td>0.7 </td> <td>2.6 </td> <td>4.6 </td> <td>301 </td> <td>PHI </td> <td>2.39389e+06</td>\n",
       "        </tr>\n",
       "        <tr>\n",
       "            <td>Andre Drummond\\drumman01 </td> <td>140 </td> <td>C   </td> <td>24  </td> <td>DET </td> <td>78  </td> <td>78  </td> <td>33.7</td> <td>6   </td> <td>11.3</td> <td>0.529</td> <td>0   </td> <td>0.1 </td> <td>0    </td> <td>6   </td> <td>11.2</td> <td>0.536</td> <td>0.529</td> <td>3.1 </td> <td>5.1 </td> <td>0.605</td> <td>5.1 </td> <td>10.9</td> <td>16  </td> <td>3   </td> <td>1.5 </td> <td>1.6 </td> <td>2.6 </td> <td>3.2 </td> <td>15  </td> <td>25  </td> <td>DET </td> <td>2.54343e+07</td>\n",
       "        </tr>\n",
       "        <tr>\n",
       "            <td>Andre Iguodala\\iguodan01 </td> <td>234 </td> <td>SF  </td> <td>34  </td> <td>GSW </td> <td>64  </td> <td>7   </td> <td>25.3</td> <td>2.3 </td> <td>5   </td> <td>0.463</td> <td>0.5 </td> <td>1.8 </td> <td>0.282</td> <td>1.8 </td> <td>3.2 </td> <td>0.567</td> <td>0.514</td> <td>0.9 </td> <td>1.4 </td> <td>0.632</td> <td>0.8 </td> <td>3.1 </td> <td>3.8 </td> <td>3.3 </td> <td>0.8 </td> <td>0.6 </td> <td>1   </td> <td>1.5 </td> <td>6   </td> <td>71  </td> <td>GSW </td> <td>1.6e+07    </td>\n",
       "        </tr>\n",
       "    </tbody>\n",
       "</table>\n",
       "<p>... (361 rows omitted)</p>"
      ],
      "text/plain": [
       "Player                    | Rk   | Pos  | Age  | Tm   | G    | GS   | MP   | FG   | FGA  | FG%   | 3P   | 3PA  | 3P%   | 2P   | 2PA  | 2P%   | eFG%  | FT   | FTA  | FT%   | ORB  | DRB  | TRB  | AST  | STL  | BLK  | TOV  | PF   | PS/G | Rk_2 | Tm_2 | 2018-19\n",
       "Aaron Gordon\\gordoaa01    | 179  | PF   | 22   | ORL  | 58   | 57   | 32.9 | 6.5  | 14.9 | 0.434 | 2    | 5.9  | 0.336 | 4.5  | 9    | 0.497 | 0.5   | 2.7  | 3.9  | 0.698 | 1.5  | 6.4  | 7.9  | 2.3  | 1    | 0.8  | 1.8  | 1.9  | 17.6 | 40   | ORL  | 2.15909e+07\n",
       "Al Horford\\horfoal01      | 227  | C    | 31   | BOS  | 72   | 72   | 31.6 | 5.1  | 10.5 | 0.489 | 1.3  | 3.1  | 0.429 | 3.8  | 7.3  | 0.514 | 0.553 | 1.3  | 1.7  | 0.783 | 1.4  | 5.9  | 7.4  | 4.7  | 0.6  | 1.1  | 1.8  | 1.9  | 12.9 | 13   | BOS  | 2.89287e+07\n",
       "Al Jefferson\\jeffeal01    | 250  | C    | 33   | IND  | 36   | 1    | 13.4 | 3.1  | 5.8  | 0.534 | 0    | 0.1  | 0     | 3.1  | 5.7  | 0.541 | 0.534 | 0.8  | 1    | 0.833 | 0.8  | 3.1  | 4    | 0.8  | 0.4  | 0.6  | 0.6  | 1.8  | 7    | 235  | IND  | 4e+06\n",
       "Al-Farouq Aminu\\aminual01 | 11   | PF   | 27   | POR  | 69   | 67   | 30   | 3.3  | 8.4  | 0.395 | 1.8  | 4.9  | 0.369 | 1.5  | 3.5  | 0.432 | 0.503 | 0.9  | 1.2  | 0.738 | 1.4  | 6.2  | 7.6  | 1.2  | 1.1  | 0.6  | 1.1  | 2    | 9.3  | 179  | POR  | 6.95710e+06\n",
       "Alec Burks\\burksal01      | 78   | SG   | 26   | UTA  | 64   | 1    | 16.5 | 2.7  | 6.5  | 0.411 | 0.7  | 2.2  | 0.331 | 1.9  | 4.3  | 0.452 | 0.467 | 1.7  | 1.9  | 0.863 | 0.3  | 2.7  | 3    | 1    | 0.6  | 0.1  | 0.9  | 1.2  | 7.7  | 120  | UTA  | 1.15365e+07\n",
       "Alex Len\\lenal01          | 292  | C    | 24   | PHO  | 69   | 13   | 20.2 | 3.1  | 5.5  | 0.566 | 0    | 0    | 0.333 | 3.1  | 5.4  | 0.568 | 0.567 | 2.3  | 3.3  | 0.684 | 2.5  | 5    | 7.5  | 1.2  | 0.4  | 0.9  | 1.1  | 2.3  | 8.5  | 227  | ATL  | 4.35e+06\n",
       "Allen Crabbe\\crabbal01    | 114  | SG   | 25   | BRK  | 75   | 68   | 29.3 | 4.5  | 11   | 0.407 | 2.7  | 7.1  | 0.378 | 1.8  | 3.9  | 0.461 | 0.529 | 1.5  | 1.8  | 0.852 | 0.4  | 3.9  | 4.3  | 1.6  | 0.6  | 0.5  | 1    | 2.2  | 13.2 | 57   | BRK  | 1.85e+07\n",
       "Amir Johnson\\johnsam01    | 254  | C    | 30   | PHI  | 74   | 18   | 15.8 | 1.9  | 3.5  | 0.538 | 0.1  | 0.4  | 0.313 | 1.8  | 3.1  | 0.57  | 0.558 | 0.7  | 1.1  | 0.612 | 1.7  | 2.8  | 4.5  | 1.6  | 0.6  | 0.6  | 0.7  | 2.6  | 4.6  | 301  | PHI  | 2.39389e+06\n",
       "Andre Drummond\\drumman01  | 140  | C    | 24   | DET  | 78   | 78   | 33.7 | 6    | 11.3 | 0.529 | 0    | 0.1  | 0     | 6    | 11.2 | 0.536 | 0.529 | 3.1  | 5.1  | 0.605 | 5.1  | 10.9 | 16   | 3    | 1.5  | 1.6  | 2.6  | 3.2  | 15   | 25   | DET  | 2.54343e+07\n",
       "Andre Iguodala\\iguodan01  | 234  | SF   | 34   | GSW  | 64   | 7    | 25.3 | 2.3  | 5    | 0.463 | 0.5  | 1.8  | 0.282 | 1.8  | 3.2  | 0.567 | 0.514 | 0.9  | 1.4  | 0.632 | 0.8  | 3.1  | 3.8  | 3.3  | 0.8  | 0.6  | 1    | 1.5  | 6    | 71   | GSW  | 1.6e+07\n",
       "... (361 rows omitted)"
      ]
     },
     "execution_count": 181,
     "metadata": {},
     "output_type": "execute_result"
    }
   ],
   "source": [
    "clean_data"
   ]
  },
  {
   "cell_type": "code",
   "execution_count": 182,
   "metadata": {
    "scrolled": true
   },
   "outputs": [
    {
     "data": {
      "text/html": [
       "<table border=\"1\" class=\"dataframe\">\n",
       "    <thead>\n",
       "        <tr>\n",
       "            <th>Player</th> <th>Rk</th> <th>Pos</th> <th>Age</th> <th>Tm</th> <th>G</th> <th>GS</th> <th>MP</th> <th>FG</th> <th>FGA</th> <th>FG%</th> <th>3P</th> <th>3PA</th> <th>3P%</th> <th>2P</th> <th>2PA</th> <th>2P%</th> <th>eFG%</th> <th>FT</th> <th>FTA</th> <th>FT%</th> <th>ORB</th> <th>DRB</th> <th>TRB</th> <th>AST</th> <th>STL</th> <th>BLK</th> <th>TOV</th> <th>PF</th> <th>PS/G</th> <th>Rk_2</th> <th>Tm_2</th> <th>2018-19</th>\n",
       "        </tr>\n",
       "    </thead>\n",
       "    <tbody>\n",
       "        <tr>\n",
       "            <td>Aaron Gordon\\gordoaa01   </td> <td>179 </td> <td>PF  </td> <td>22  </td> <td>ORL </td> <td>58  </td> <td>57  </td> <td>32.9</td> <td>6.5 </td> <td>14.9</td> <td>0.434</td> <td>2   </td> <td>5.9 </td> <td>0.336</td> <td>4.5 </td> <td>9   </td> <td>0.497</td> <td>0.5  </td> <td>2.7 </td> <td>3.9 </td> <td>0.698</td> <td>1.5 </td> <td>6.4 </td> <td>7.9 </td> <td>2.3 </td> <td>1   </td> <td>0.8 </td> <td>1.8 </td> <td>1.9 </td> <td>17.6</td> <td>40  </td> <td>ORL </td> <td>2.15909e+07</td>\n",
       "        </tr>\n",
       "        <tr>\n",
       "            <td>Al Horford\\horfoal01     </td> <td>227 </td> <td>C   </td> <td>31  </td> <td>BOS </td> <td>72  </td> <td>72  </td> <td>31.6</td> <td>5.1 </td> <td>10.5</td> <td>0.489</td> <td>1.3 </td> <td>3.1 </td> <td>0.429</td> <td>3.8 </td> <td>7.3 </td> <td>0.514</td> <td>0.553</td> <td>1.3 </td> <td>1.7 </td> <td>0.783</td> <td>1.4 </td> <td>5.9 </td> <td>7.4 </td> <td>4.7 </td> <td>0.6 </td> <td>1.1 </td> <td>1.8 </td> <td>1.9 </td> <td>12.9</td> <td>13  </td> <td>BOS </td> <td>2.89287e+07</td>\n",
       "        </tr>\n",
       "        <tr>\n",
       "            <td>Al Jefferson\\jeffeal01   </td> <td>250 </td> <td>C   </td> <td>33  </td> <td>IND </td> <td>36  </td> <td>1   </td> <td>13.4</td> <td>3.1 </td> <td>5.8 </td> <td>0.534</td> <td>0   </td> <td>0.1 </td> <td>0    </td> <td>3.1 </td> <td>5.7 </td> <td>0.541</td> <td>0.534</td> <td>0.8 </td> <td>1   </td> <td>0.833</td> <td>0.8 </td> <td>3.1 </td> <td>4   </td> <td>0.8 </td> <td>0.4 </td> <td>0.6 </td> <td>0.6 </td> <td>1.8 </td> <td>7   </td> <td>235 </td> <td>IND </td> <td>4e+06      </td>\n",
       "        </tr>\n",
       "        <tr>\n",
       "            <td>Al-Farouq Aminu\\aminual01</td> <td>11  </td> <td>PF  </td> <td>27  </td> <td>POR </td> <td>69  </td> <td>67  </td> <td>30  </td> <td>3.3 </td> <td>8.4 </td> <td>0.395</td> <td>1.8 </td> <td>4.9 </td> <td>0.369</td> <td>1.5 </td> <td>3.5 </td> <td>0.432</td> <td>0.503</td> <td>0.9 </td> <td>1.2 </td> <td>0.738</td> <td>1.4 </td> <td>6.2 </td> <td>7.6 </td> <td>1.2 </td> <td>1.1 </td> <td>0.6 </td> <td>1.1 </td> <td>2   </td> <td>9.3 </td> <td>179 </td> <td>POR </td> <td>6.95710e+06</td>\n",
       "        </tr>\n",
       "        <tr>\n",
       "            <td>Alec Burks\\burksal01     </td> <td>78  </td> <td>SG  </td> <td>26  </td> <td>UTA </td> <td>64  </td> <td>1   </td> <td>16.5</td> <td>2.7 </td> <td>6.5 </td> <td>0.411</td> <td>0.7 </td> <td>2.2 </td> <td>0.331</td> <td>1.9 </td> <td>4.3 </td> <td>0.452</td> <td>0.467</td> <td>1.7 </td> <td>1.9 </td> <td>0.863</td> <td>0.3 </td> <td>2.7 </td> <td>3   </td> <td>1   </td> <td>0.6 </td> <td>0.1 </td> <td>0.9 </td> <td>1.2 </td> <td>7.7 </td> <td>120 </td> <td>UTA </td> <td>1.15365e+07</td>\n",
       "        </tr>\n",
       "        <tr>\n",
       "            <td>Alex Len\\lenal01         </td> <td>292 </td> <td>C   </td> <td>24  </td> <td>PHO </td> <td>69  </td> <td>13  </td> <td>20.2</td> <td>3.1 </td> <td>5.5 </td> <td>0.566</td> <td>0   </td> <td>0   </td> <td>0.333</td> <td>3.1 </td> <td>5.4 </td> <td>0.568</td> <td>0.567</td> <td>2.3 </td> <td>3.3 </td> <td>0.684</td> <td>2.5 </td> <td>5   </td> <td>7.5 </td> <td>1.2 </td> <td>0.4 </td> <td>0.9 </td> <td>1.1 </td> <td>2.3 </td> <td>8.5 </td> <td>227 </td> <td>ATL </td> <td>4.35e+06   </td>\n",
       "        </tr>\n",
       "        <tr>\n",
       "            <td>Allen Crabbe\\crabbal01   </td> <td>114 </td> <td>SG  </td> <td>25  </td> <td>BRK </td> <td>75  </td> <td>68  </td> <td>29.3</td> <td>4.5 </td> <td>11  </td> <td>0.407</td> <td>2.7 </td> <td>7.1 </td> <td>0.378</td> <td>1.8 </td> <td>3.9 </td> <td>0.461</td> <td>0.529</td> <td>1.5 </td> <td>1.8 </td> <td>0.852</td> <td>0.4 </td> <td>3.9 </td> <td>4.3 </td> <td>1.6 </td> <td>0.6 </td> <td>0.5 </td> <td>1   </td> <td>2.2 </td> <td>13.2</td> <td>57  </td> <td>BRK </td> <td>1.85e+07   </td>\n",
       "        </tr>\n",
       "        <tr>\n",
       "            <td>Amir Johnson\\johnsam01   </td> <td>254 </td> <td>C   </td> <td>30  </td> <td>PHI </td> <td>74  </td> <td>18  </td> <td>15.8</td> <td>1.9 </td> <td>3.5 </td> <td>0.538</td> <td>0.1 </td> <td>0.4 </td> <td>0.313</td> <td>1.8 </td> <td>3.1 </td> <td>0.57 </td> <td>0.558</td> <td>0.7 </td> <td>1.1 </td> <td>0.612</td> <td>1.7 </td> <td>2.8 </td> <td>4.5 </td> <td>1.6 </td> <td>0.6 </td> <td>0.6 </td> <td>0.7 </td> <td>2.6 </td> <td>4.6 </td> <td>301 </td> <td>PHI </td> <td>2.39389e+06</td>\n",
       "        </tr>\n",
       "        <tr>\n",
       "            <td>Andre Drummond\\drumman01 </td> <td>140 </td> <td>C   </td> <td>24  </td> <td>DET </td> <td>78  </td> <td>78  </td> <td>33.7</td> <td>6   </td> <td>11.3</td> <td>0.529</td> <td>0   </td> <td>0.1 </td> <td>0    </td> <td>6   </td> <td>11.2</td> <td>0.536</td> <td>0.529</td> <td>3.1 </td> <td>5.1 </td> <td>0.605</td> <td>5.1 </td> <td>10.9</td> <td>16  </td> <td>3   </td> <td>1.5 </td> <td>1.6 </td> <td>2.6 </td> <td>3.2 </td> <td>15  </td> <td>25  </td> <td>DET </td> <td>2.54343e+07</td>\n",
       "        </tr>\n",
       "        <tr>\n",
       "            <td>Andre Iguodala\\iguodan01 </td> <td>234 </td> <td>SF  </td> <td>34  </td> <td>GSW </td> <td>64  </td> <td>7   </td> <td>25.3</td> <td>2.3 </td> <td>5   </td> <td>0.463</td> <td>0.5 </td> <td>1.8 </td> <td>0.282</td> <td>1.8 </td> <td>3.2 </td> <td>0.567</td> <td>0.514</td> <td>0.9 </td> <td>1.4 </td> <td>0.632</td> <td>0.8 </td> <td>3.1 </td> <td>3.8 </td> <td>3.3 </td> <td>0.8 </td> <td>0.6 </td> <td>1   </td> <td>1.5 </td> <td>6   </td> <td>71  </td> <td>GSW </td> <td>1.6e+07    </td>\n",
       "        </tr>\n",
       "    </tbody>\n",
       "</table>\n",
       "<p>... (361 rows omitted)</p>"
      ],
      "text/plain": [
       "Player                    | Rk   | Pos  | Age  | Tm   | G    | GS   | MP   | FG   | FGA  | FG%   | 3P   | 3PA  | 3P%   | 2P   | 2PA  | 2P%   | eFG%  | FT   | FTA  | FT%   | ORB  | DRB  | TRB  | AST  | STL  | BLK  | TOV  | PF   | PS/G | Rk_2 | Tm_2 | 2018-19\n",
       "Aaron Gordon\\gordoaa01    | 179  | PF   | 22   | ORL  | 58   | 57   | 32.9 | 6.5  | 14.9 | 0.434 | 2    | 5.9  | 0.336 | 4.5  | 9    | 0.497 | 0.5   | 2.7  | 3.9  | 0.698 | 1.5  | 6.4  | 7.9  | 2.3  | 1    | 0.8  | 1.8  | 1.9  | 17.6 | 40   | ORL  | 2.15909e+07\n",
       "Al Horford\\horfoal01      | 227  | C    | 31   | BOS  | 72   | 72   | 31.6 | 5.1  | 10.5 | 0.489 | 1.3  | 3.1  | 0.429 | 3.8  | 7.3  | 0.514 | 0.553 | 1.3  | 1.7  | 0.783 | 1.4  | 5.9  | 7.4  | 4.7  | 0.6  | 1.1  | 1.8  | 1.9  | 12.9 | 13   | BOS  | 2.89287e+07\n",
       "Al Jefferson\\jeffeal01    | 250  | C    | 33   | IND  | 36   | 1    | 13.4 | 3.1  | 5.8  | 0.534 | 0    | 0.1  | 0     | 3.1  | 5.7  | 0.541 | 0.534 | 0.8  | 1    | 0.833 | 0.8  | 3.1  | 4    | 0.8  | 0.4  | 0.6  | 0.6  | 1.8  | 7    | 235  | IND  | 4e+06\n",
       "Al-Farouq Aminu\\aminual01 | 11   | PF   | 27   | POR  | 69   | 67   | 30   | 3.3  | 8.4  | 0.395 | 1.8  | 4.9  | 0.369 | 1.5  | 3.5  | 0.432 | 0.503 | 0.9  | 1.2  | 0.738 | 1.4  | 6.2  | 7.6  | 1.2  | 1.1  | 0.6  | 1.1  | 2    | 9.3  | 179  | POR  | 6.95710e+06\n",
       "Alec Burks\\burksal01      | 78   | SG   | 26   | UTA  | 64   | 1    | 16.5 | 2.7  | 6.5  | 0.411 | 0.7  | 2.2  | 0.331 | 1.9  | 4.3  | 0.452 | 0.467 | 1.7  | 1.9  | 0.863 | 0.3  | 2.7  | 3    | 1    | 0.6  | 0.1  | 0.9  | 1.2  | 7.7  | 120  | UTA  | 1.15365e+07\n",
       "Alex Len\\lenal01          | 292  | C    | 24   | PHO  | 69   | 13   | 20.2 | 3.1  | 5.5  | 0.566 | 0    | 0    | 0.333 | 3.1  | 5.4  | 0.568 | 0.567 | 2.3  | 3.3  | 0.684 | 2.5  | 5    | 7.5  | 1.2  | 0.4  | 0.9  | 1.1  | 2.3  | 8.5  | 227  | ATL  | 4.35e+06\n",
       "Allen Crabbe\\crabbal01    | 114  | SG   | 25   | BRK  | 75   | 68   | 29.3 | 4.5  | 11   | 0.407 | 2.7  | 7.1  | 0.378 | 1.8  | 3.9  | 0.461 | 0.529 | 1.5  | 1.8  | 0.852 | 0.4  | 3.9  | 4.3  | 1.6  | 0.6  | 0.5  | 1    | 2.2  | 13.2 | 57   | BRK  | 1.85e+07\n",
       "Amir Johnson\\johnsam01    | 254  | C    | 30   | PHI  | 74   | 18   | 15.8 | 1.9  | 3.5  | 0.538 | 0.1  | 0.4  | 0.313 | 1.8  | 3.1  | 0.57  | 0.558 | 0.7  | 1.1  | 0.612 | 1.7  | 2.8  | 4.5  | 1.6  | 0.6  | 0.6  | 0.7  | 2.6  | 4.6  | 301  | PHI  | 2.39389e+06\n",
       "Andre Drummond\\drumman01  | 140  | C    | 24   | DET  | 78   | 78   | 33.7 | 6    | 11.3 | 0.529 | 0    | 0.1  | 0     | 6    | 11.2 | 0.536 | 0.529 | 3.1  | 5.1  | 0.605 | 5.1  | 10.9 | 16   | 3    | 1.5  | 1.6  | 2.6  | 3.2  | 15   | 25   | DET  | 2.54343e+07\n",
       "Andre Iguodala\\iguodan01  | 234  | SF   | 34   | GSW  | 64   | 7    | 25.3 | 2.3  | 5    | 0.463 | 0.5  | 1.8  | 0.282 | 1.8  | 3.2  | 0.567 | 0.514 | 0.9  | 1.4  | 0.632 | 0.8  | 3.1  | 3.8  | 3.3  | 0.8  | 0.6  | 1    | 1.5  | 6    | 71   | GSW  | 1.6e+07\n",
       "... (361 rows omitted)"
      ]
     },
     "execution_count": 182,
     "metadata": {},
     "output_type": "execute_result"
    }
   ],
   "source": [
    "clean_data"
   ]
  },
  {
   "cell_type": "code",
   "execution_count": 183,
   "metadata": {},
   "outputs": [],
   "source": [
    "players = clean_data.where('Player', are.not_equal_to('nan'))"
   ]
  },
  {
   "cell_type": "code",
   "execution_count": 184,
   "metadata": {},
   "outputs": [
    {
     "data": {
      "text/html": [
       "<table border=\"1\" class=\"dataframe\">\n",
       "    <thead>\n",
       "        <tr>\n",
       "            <th>Player</th> <th>Rk</th> <th>Pos</th> <th>Age</th> <th>Tm</th> <th>G</th> <th>GS</th> <th>MP</th> <th>FG</th> <th>FGA</th> <th>FG%</th> <th>3P</th> <th>3PA</th> <th>3P%</th> <th>2P</th> <th>2PA</th> <th>2P%</th> <th>eFG%</th> <th>FT</th> <th>FTA</th> <th>FT%</th> <th>ORB</th> <th>DRB</th> <th>TRB</th> <th>AST</th> <th>STL</th> <th>BLK</th> <th>TOV</th> <th>PF</th> <th>PS/G</th> <th>Rk_2</th> <th>Tm_2</th> <th>2018-19</th>\n",
       "        </tr>\n",
       "    </thead>\n",
       "    <tbody>\n",
       "        <tr>\n",
       "            <td>Aaron Gordon\\gordoaa01   </td> <td>179 </td> <td>PF  </td> <td>22  </td> <td>ORL </td> <td>58  </td> <td>57  </td> <td>32.9</td> <td>6.5 </td> <td>14.9</td> <td>0.434</td> <td>2   </td> <td>5.9 </td> <td>0.336</td> <td>4.5 </td> <td>9   </td> <td>0.497</td> <td>0.5  </td> <td>2.7 </td> <td>3.9 </td> <td>0.698</td> <td>1.5 </td> <td>6.4 </td> <td>7.9 </td> <td>2.3 </td> <td>1   </td> <td>0.8 </td> <td>1.8 </td> <td>1.9 </td> <td>17.6</td> <td>40  </td> <td>ORL </td> <td>2.15909e+07</td>\n",
       "        </tr>\n",
       "        <tr>\n",
       "            <td>Al Horford\\horfoal01     </td> <td>227 </td> <td>C   </td> <td>31  </td> <td>BOS </td> <td>72  </td> <td>72  </td> <td>31.6</td> <td>5.1 </td> <td>10.5</td> <td>0.489</td> <td>1.3 </td> <td>3.1 </td> <td>0.429</td> <td>3.8 </td> <td>7.3 </td> <td>0.514</td> <td>0.553</td> <td>1.3 </td> <td>1.7 </td> <td>0.783</td> <td>1.4 </td> <td>5.9 </td> <td>7.4 </td> <td>4.7 </td> <td>0.6 </td> <td>1.1 </td> <td>1.8 </td> <td>1.9 </td> <td>12.9</td> <td>13  </td> <td>BOS </td> <td>2.89287e+07</td>\n",
       "        </tr>\n",
       "        <tr>\n",
       "            <td>Al Jefferson\\jeffeal01   </td> <td>250 </td> <td>C   </td> <td>33  </td> <td>IND </td> <td>36  </td> <td>1   </td> <td>13.4</td> <td>3.1 </td> <td>5.8 </td> <td>0.534</td> <td>0   </td> <td>0.1 </td> <td>0    </td> <td>3.1 </td> <td>5.7 </td> <td>0.541</td> <td>0.534</td> <td>0.8 </td> <td>1   </td> <td>0.833</td> <td>0.8 </td> <td>3.1 </td> <td>4   </td> <td>0.8 </td> <td>0.4 </td> <td>0.6 </td> <td>0.6 </td> <td>1.8 </td> <td>7   </td> <td>235 </td> <td>IND </td> <td>4e+06      </td>\n",
       "        </tr>\n",
       "        <tr>\n",
       "            <td>Al-Farouq Aminu\\aminual01</td> <td>11  </td> <td>PF  </td> <td>27  </td> <td>POR </td> <td>69  </td> <td>67  </td> <td>30  </td> <td>3.3 </td> <td>8.4 </td> <td>0.395</td> <td>1.8 </td> <td>4.9 </td> <td>0.369</td> <td>1.5 </td> <td>3.5 </td> <td>0.432</td> <td>0.503</td> <td>0.9 </td> <td>1.2 </td> <td>0.738</td> <td>1.4 </td> <td>6.2 </td> <td>7.6 </td> <td>1.2 </td> <td>1.1 </td> <td>0.6 </td> <td>1.1 </td> <td>2   </td> <td>9.3 </td> <td>179 </td> <td>POR </td> <td>6.95710e+06</td>\n",
       "        </tr>\n",
       "        <tr>\n",
       "            <td>Alec Burks\\burksal01     </td> <td>78  </td> <td>SG  </td> <td>26  </td> <td>UTA </td> <td>64  </td> <td>1   </td> <td>16.5</td> <td>2.7 </td> <td>6.5 </td> <td>0.411</td> <td>0.7 </td> <td>2.2 </td> <td>0.331</td> <td>1.9 </td> <td>4.3 </td> <td>0.452</td> <td>0.467</td> <td>1.7 </td> <td>1.9 </td> <td>0.863</td> <td>0.3 </td> <td>2.7 </td> <td>3   </td> <td>1   </td> <td>0.6 </td> <td>0.1 </td> <td>0.9 </td> <td>1.2 </td> <td>7.7 </td> <td>120 </td> <td>UTA </td> <td>1.15365e+07</td>\n",
       "        </tr>\n",
       "        <tr>\n",
       "            <td>Alex Len\\lenal01         </td> <td>292 </td> <td>C   </td> <td>24  </td> <td>PHO </td> <td>69  </td> <td>13  </td> <td>20.2</td> <td>3.1 </td> <td>5.5 </td> <td>0.566</td> <td>0   </td> <td>0   </td> <td>0.333</td> <td>3.1 </td> <td>5.4 </td> <td>0.568</td> <td>0.567</td> <td>2.3 </td> <td>3.3 </td> <td>0.684</td> <td>2.5 </td> <td>5   </td> <td>7.5 </td> <td>1.2 </td> <td>0.4 </td> <td>0.9 </td> <td>1.1 </td> <td>2.3 </td> <td>8.5 </td> <td>227 </td> <td>ATL </td> <td>4.35e+06   </td>\n",
       "        </tr>\n",
       "        <tr>\n",
       "            <td>Allen Crabbe\\crabbal01   </td> <td>114 </td> <td>SG  </td> <td>25  </td> <td>BRK </td> <td>75  </td> <td>68  </td> <td>29.3</td> <td>4.5 </td> <td>11  </td> <td>0.407</td> <td>2.7 </td> <td>7.1 </td> <td>0.378</td> <td>1.8 </td> <td>3.9 </td> <td>0.461</td> <td>0.529</td> <td>1.5 </td> <td>1.8 </td> <td>0.852</td> <td>0.4 </td> <td>3.9 </td> <td>4.3 </td> <td>1.6 </td> <td>0.6 </td> <td>0.5 </td> <td>1   </td> <td>2.2 </td> <td>13.2</td> <td>57  </td> <td>BRK </td> <td>1.85e+07   </td>\n",
       "        </tr>\n",
       "        <tr>\n",
       "            <td>Amir Johnson\\johnsam01   </td> <td>254 </td> <td>C   </td> <td>30  </td> <td>PHI </td> <td>74  </td> <td>18  </td> <td>15.8</td> <td>1.9 </td> <td>3.5 </td> <td>0.538</td> <td>0.1 </td> <td>0.4 </td> <td>0.313</td> <td>1.8 </td> <td>3.1 </td> <td>0.57 </td> <td>0.558</td> <td>0.7 </td> <td>1.1 </td> <td>0.612</td> <td>1.7 </td> <td>2.8 </td> <td>4.5 </td> <td>1.6 </td> <td>0.6 </td> <td>0.6 </td> <td>0.7 </td> <td>2.6 </td> <td>4.6 </td> <td>301 </td> <td>PHI </td> <td>2.39389e+06</td>\n",
       "        </tr>\n",
       "        <tr>\n",
       "            <td>Andre Drummond\\drumman01 </td> <td>140 </td> <td>C   </td> <td>24  </td> <td>DET </td> <td>78  </td> <td>78  </td> <td>33.7</td> <td>6   </td> <td>11.3</td> <td>0.529</td> <td>0   </td> <td>0.1 </td> <td>0    </td> <td>6   </td> <td>11.2</td> <td>0.536</td> <td>0.529</td> <td>3.1 </td> <td>5.1 </td> <td>0.605</td> <td>5.1 </td> <td>10.9</td> <td>16  </td> <td>3   </td> <td>1.5 </td> <td>1.6 </td> <td>2.6 </td> <td>3.2 </td> <td>15  </td> <td>25  </td> <td>DET </td> <td>2.54343e+07</td>\n",
       "        </tr>\n",
       "        <tr>\n",
       "            <td>Andre Iguodala\\iguodan01 </td> <td>234 </td> <td>SF  </td> <td>34  </td> <td>GSW </td> <td>64  </td> <td>7   </td> <td>25.3</td> <td>2.3 </td> <td>5   </td> <td>0.463</td> <td>0.5 </td> <td>1.8 </td> <td>0.282</td> <td>1.8 </td> <td>3.2 </td> <td>0.567</td> <td>0.514</td> <td>0.9 </td> <td>1.4 </td> <td>0.632</td> <td>0.8 </td> <td>3.1 </td> <td>3.8 </td> <td>3.3 </td> <td>0.8 </td> <td>0.6 </td> <td>1   </td> <td>1.5 </td> <td>6   </td> <td>71  </td> <td>GSW </td> <td>1.6e+07    </td>\n",
       "        </tr>\n",
       "    </tbody>\n",
       "</table>\n",
       "<p>... (234 rows omitted)</p>"
      ],
      "text/plain": [
       "Player                    | Rk   | Pos  | Age  | Tm   | G    | GS   | MP   | FG   | FGA  | FG%   | 3P   | 3PA  | 3P%   | 2P   | 2PA  | 2P%   | eFG%  | FT   | FTA  | FT%   | ORB  | DRB  | TRB  | AST  | STL  | BLK  | TOV  | PF   | PS/G | Rk_2 | Tm_2 | 2018-19\n",
       "Aaron Gordon\\gordoaa01    | 179  | PF   | 22   | ORL  | 58   | 57   | 32.9 | 6.5  | 14.9 | 0.434 | 2    | 5.9  | 0.336 | 4.5  | 9    | 0.497 | 0.5   | 2.7  | 3.9  | 0.698 | 1.5  | 6.4  | 7.9  | 2.3  | 1    | 0.8  | 1.8  | 1.9  | 17.6 | 40   | ORL  | 2.15909e+07\n",
       "Al Horford\\horfoal01      | 227  | C    | 31   | BOS  | 72   | 72   | 31.6 | 5.1  | 10.5 | 0.489 | 1.3  | 3.1  | 0.429 | 3.8  | 7.3  | 0.514 | 0.553 | 1.3  | 1.7  | 0.783 | 1.4  | 5.9  | 7.4  | 4.7  | 0.6  | 1.1  | 1.8  | 1.9  | 12.9 | 13   | BOS  | 2.89287e+07\n",
       "Al Jefferson\\jeffeal01    | 250  | C    | 33   | IND  | 36   | 1    | 13.4 | 3.1  | 5.8  | 0.534 | 0    | 0.1  | 0     | 3.1  | 5.7  | 0.541 | 0.534 | 0.8  | 1    | 0.833 | 0.8  | 3.1  | 4    | 0.8  | 0.4  | 0.6  | 0.6  | 1.8  | 7    | 235  | IND  | 4e+06\n",
       "Al-Farouq Aminu\\aminual01 | 11   | PF   | 27   | POR  | 69   | 67   | 30   | 3.3  | 8.4  | 0.395 | 1.8  | 4.9  | 0.369 | 1.5  | 3.5  | 0.432 | 0.503 | 0.9  | 1.2  | 0.738 | 1.4  | 6.2  | 7.6  | 1.2  | 1.1  | 0.6  | 1.1  | 2    | 9.3  | 179  | POR  | 6.95710e+06\n",
       "Alec Burks\\burksal01      | 78   | SG   | 26   | UTA  | 64   | 1    | 16.5 | 2.7  | 6.5  | 0.411 | 0.7  | 2.2  | 0.331 | 1.9  | 4.3  | 0.452 | 0.467 | 1.7  | 1.9  | 0.863 | 0.3  | 2.7  | 3    | 1    | 0.6  | 0.1  | 0.9  | 1.2  | 7.7  | 120  | UTA  | 1.15365e+07\n",
       "Alex Len\\lenal01          | 292  | C    | 24   | PHO  | 69   | 13   | 20.2 | 3.1  | 5.5  | 0.566 | 0    | 0    | 0.333 | 3.1  | 5.4  | 0.568 | 0.567 | 2.3  | 3.3  | 0.684 | 2.5  | 5    | 7.5  | 1.2  | 0.4  | 0.9  | 1.1  | 2.3  | 8.5  | 227  | ATL  | 4.35e+06\n",
       "Allen Crabbe\\crabbal01    | 114  | SG   | 25   | BRK  | 75   | 68   | 29.3 | 4.5  | 11   | 0.407 | 2.7  | 7.1  | 0.378 | 1.8  | 3.9  | 0.461 | 0.529 | 1.5  | 1.8  | 0.852 | 0.4  | 3.9  | 4.3  | 1.6  | 0.6  | 0.5  | 1    | 2.2  | 13.2 | 57   | BRK  | 1.85e+07\n",
       "Amir Johnson\\johnsam01    | 254  | C    | 30   | PHI  | 74   | 18   | 15.8 | 1.9  | 3.5  | 0.538 | 0.1  | 0.4  | 0.313 | 1.8  | 3.1  | 0.57  | 0.558 | 0.7  | 1.1  | 0.612 | 1.7  | 2.8  | 4.5  | 1.6  | 0.6  | 0.6  | 0.7  | 2.6  | 4.6  | 301  | PHI  | 2.39389e+06\n",
       "Andre Drummond\\drumman01  | 140  | C    | 24   | DET  | 78   | 78   | 33.7 | 6    | 11.3 | 0.529 | 0    | 0.1  | 0     | 6    | 11.2 | 0.536 | 0.529 | 3.1  | 5.1  | 0.605 | 5.1  | 10.9 | 16   | 3    | 1.5  | 1.6  | 2.6  | 3.2  | 15   | 25   | DET  | 2.54343e+07\n",
       "Andre Iguodala\\iguodan01  | 234  | SF   | 34   | GSW  | 64   | 7    | 25.3 | 2.3  | 5    | 0.463 | 0.5  | 1.8  | 0.282 | 1.8  | 3.2  | 0.567 | 0.514 | 0.9  | 1.4  | 0.632 | 0.8  | 3.1  | 3.8  | 3.3  | 0.8  | 0.6  | 1    | 1.5  | 6    | 71   | GSW  | 1.6e+07\n",
       "... (234 rows omitted)"
      ]
     },
     "execution_count": 184,
     "metadata": {},
     "output_type": "execute_result"
    }
   ],
   "source": [
    "players"
   ]
  },
  {
   "cell_type": "markdown",
   "metadata": {},
   "source": []
  },
  {
   "cell_type": "markdown",
   "metadata": {},
   "source": []
  },
  {
   "cell_type": "markdown",
   "metadata": {},
   "source": []
  },
  {
   "cell_type": "markdown",
   "metadata": {},
   "source": []
  },
  {
   "cell_type": "markdown",
   "metadata": {},
   "source": [
    "***SETUP TO FIND LINEAR WEIGHTS:***"
   ]
  },
  {
   "cell_type": "code",
   "execution_count": 185,
   "metadata": {},
   "outputs": [],
   "source": [
    "import matplotlib as mpl\n",
    "import matplotlib.pyplot as plt\n",
    "import seaborn as sns\n",
    "from datascience import Table, are\n",
    "import numpy as np\n",
    "from datascience import *"
   ]
  },
  {
   "cell_type": "markdown",
   "metadata": {},
   "source": [
    "### Loading the Cleaned Data Set ###"
   ]
  },
  {
   "cell_type": "code",
   "execution_count": 186,
   "metadata": {},
   "outputs": [
    {
     "data": {
      "text/html": [
       "<table border=\"1\" class=\"dataframe\">\n",
       "    <thead>\n",
       "        <tr>\n",
       "            <th>Player</th> <th>Rk</th> <th>Pos</th> <th>Age</th> <th>Tm</th> <th>G</th> <th>GS</th> <th>MP</th> <th>FG</th> <th>FGA</th> <th>FG%</th> <th>3P</th> <th>3PA</th> <th>3P%</th> <th>2P</th> <th>2PA</th> <th>2P%</th> <th>eFG%</th> <th>FT</th> <th>FTA</th> <th>FT%</th> <th>ORB</th> <th>DRB</th> <th>TRB</th> <th>AST</th> <th>STL</th> <th>BLK</th> <th>TOV</th> <th>PF</th> <th>PS/G</th> <th>Rk_2</th> <th>Tm_2</th> <th>2018-19</th>\n",
       "        </tr>\n",
       "    </thead>\n",
       "    <tbody>\n",
       "        <tr>\n",
       "            <td>Aaron Gordon\\gordoaa01   </td> <td>179 </td> <td>PF  </td> <td>22  </td> <td>ORL </td> <td>58  </td> <td>57  </td> <td>32.9</td> <td>6.5 </td> <td>14.9</td> <td>0.434</td> <td>2   </td> <td>5.9 </td> <td>0.336</td> <td>4.5 </td> <td>9   </td> <td>0.497</td> <td>0.5  </td> <td>2.7 </td> <td>3.9 </td> <td>0.698</td> <td>1.5 </td> <td>6.4 </td> <td>7.9 </td> <td>2.3 </td> <td>1   </td> <td>0.8 </td> <td>1.8 </td> <td>1.9 </td> <td>17.6</td> <td>40  </td> <td>ORL </td> <td>2.15909e+07</td>\n",
       "        </tr>\n",
       "        <tr>\n",
       "            <td>Al Horford\\horfoal01     </td> <td>227 </td> <td>C   </td> <td>31  </td> <td>BOS </td> <td>72  </td> <td>72  </td> <td>31.6</td> <td>5.1 </td> <td>10.5</td> <td>0.489</td> <td>1.3 </td> <td>3.1 </td> <td>0.429</td> <td>3.8 </td> <td>7.3 </td> <td>0.514</td> <td>0.553</td> <td>1.3 </td> <td>1.7 </td> <td>0.783</td> <td>1.4 </td> <td>5.9 </td> <td>7.4 </td> <td>4.7 </td> <td>0.6 </td> <td>1.1 </td> <td>1.8 </td> <td>1.9 </td> <td>12.9</td> <td>13  </td> <td>BOS </td> <td>2.89287e+07</td>\n",
       "        </tr>\n",
       "        <tr>\n",
       "            <td>Al Jefferson\\jeffeal01   </td> <td>250 </td> <td>C   </td> <td>33  </td> <td>IND </td> <td>36  </td> <td>1   </td> <td>13.4</td> <td>3.1 </td> <td>5.8 </td> <td>0.534</td> <td>0   </td> <td>0.1 </td> <td>0    </td> <td>3.1 </td> <td>5.7 </td> <td>0.541</td> <td>0.534</td> <td>0.8 </td> <td>1   </td> <td>0.833</td> <td>0.8 </td> <td>3.1 </td> <td>4   </td> <td>0.8 </td> <td>0.4 </td> <td>0.6 </td> <td>0.6 </td> <td>1.8 </td> <td>7   </td> <td>235 </td> <td>IND </td> <td>4e+06      </td>\n",
       "        </tr>\n",
       "        <tr>\n",
       "            <td>Al-Farouq Aminu\\aminual01</td> <td>11  </td> <td>PF  </td> <td>27  </td> <td>POR </td> <td>69  </td> <td>67  </td> <td>30  </td> <td>3.3 </td> <td>8.4 </td> <td>0.395</td> <td>1.8 </td> <td>4.9 </td> <td>0.369</td> <td>1.5 </td> <td>3.5 </td> <td>0.432</td> <td>0.503</td> <td>0.9 </td> <td>1.2 </td> <td>0.738</td> <td>1.4 </td> <td>6.2 </td> <td>7.6 </td> <td>1.2 </td> <td>1.1 </td> <td>0.6 </td> <td>1.1 </td> <td>2   </td> <td>9.3 </td> <td>179 </td> <td>POR </td> <td>6.95710e+06</td>\n",
       "        </tr>\n",
       "        <tr>\n",
       "            <td>Alec Burks\\burksal01     </td> <td>78  </td> <td>SG  </td> <td>26  </td> <td>UTA </td> <td>64  </td> <td>1   </td> <td>16.5</td> <td>2.7 </td> <td>6.5 </td> <td>0.411</td> <td>0.7 </td> <td>2.2 </td> <td>0.331</td> <td>1.9 </td> <td>4.3 </td> <td>0.452</td> <td>0.467</td> <td>1.7 </td> <td>1.9 </td> <td>0.863</td> <td>0.3 </td> <td>2.7 </td> <td>3   </td> <td>1   </td> <td>0.6 </td> <td>0.1 </td> <td>0.9 </td> <td>1.2 </td> <td>7.7 </td> <td>120 </td> <td>UTA </td> <td>1.15365e+07</td>\n",
       "        </tr>\n",
       "        <tr>\n",
       "            <td>Alex Len\\lenal01         </td> <td>292 </td> <td>C   </td> <td>24  </td> <td>PHO </td> <td>69  </td> <td>13  </td> <td>20.2</td> <td>3.1 </td> <td>5.5 </td> <td>0.566</td> <td>0   </td> <td>0   </td> <td>0.333</td> <td>3.1 </td> <td>5.4 </td> <td>0.568</td> <td>0.567</td> <td>2.3 </td> <td>3.3 </td> <td>0.684</td> <td>2.5 </td> <td>5   </td> <td>7.5 </td> <td>1.2 </td> <td>0.4 </td> <td>0.9 </td> <td>1.1 </td> <td>2.3 </td> <td>8.5 </td> <td>227 </td> <td>ATL </td> <td>4.35e+06   </td>\n",
       "        </tr>\n",
       "        <tr>\n",
       "            <td>Allen Crabbe\\crabbal01   </td> <td>114 </td> <td>SG  </td> <td>25  </td> <td>BRK </td> <td>75  </td> <td>68  </td> <td>29.3</td> <td>4.5 </td> <td>11  </td> <td>0.407</td> <td>2.7 </td> <td>7.1 </td> <td>0.378</td> <td>1.8 </td> <td>3.9 </td> <td>0.461</td> <td>0.529</td> <td>1.5 </td> <td>1.8 </td> <td>0.852</td> <td>0.4 </td> <td>3.9 </td> <td>4.3 </td> <td>1.6 </td> <td>0.6 </td> <td>0.5 </td> <td>1   </td> <td>2.2 </td> <td>13.2</td> <td>57  </td> <td>BRK </td> <td>1.85e+07   </td>\n",
       "        </tr>\n",
       "        <tr>\n",
       "            <td>Amir Johnson\\johnsam01   </td> <td>254 </td> <td>C   </td> <td>30  </td> <td>PHI </td> <td>74  </td> <td>18  </td> <td>15.8</td> <td>1.9 </td> <td>3.5 </td> <td>0.538</td> <td>0.1 </td> <td>0.4 </td> <td>0.313</td> <td>1.8 </td> <td>3.1 </td> <td>0.57 </td> <td>0.558</td> <td>0.7 </td> <td>1.1 </td> <td>0.612</td> <td>1.7 </td> <td>2.8 </td> <td>4.5 </td> <td>1.6 </td> <td>0.6 </td> <td>0.6 </td> <td>0.7 </td> <td>2.6 </td> <td>4.6 </td> <td>301 </td> <td>PHI </td> <td>2.39389e+06</td>\n",
       "        </tr>\n",
       "        <tr>\n",
       "            <td>Andre Drummond\\drumman01 </td> <td>140 </td> <td>C   </td> <td>24  </td> <td>DET </td> <td>78  </td> <td>78  </td> <td>33.7</td> <td>6   </td> <td>11.3</td> <td>0.529</td> <td>0   </td> <td>0.1 </td> <td>0    </td> <td>6   </td> <td>11.2</td> <td>0.536</td> <td>0.529</td> <td>3.1 </td> <td>5.1 </td> <td>0.605</td> <td>5.1 </td> <td>10.9</td> <td>16  </td> <td>3   </td> <td>1.5 </td> <td>1.6 </td> <td>2.6 </td> <td>3.2 </td> <td>15  </td> <td>25  </td> <td>DET </td> <td>2.54343e+07</td>\n",
       "        </tr>\n",
       "        <tr>\n",
       "            <td>Andre Iguodala\\iguodan01 </td> <td>234 </td> <td>SF  </td> <td>34  </td> <td>GSW </td> <td>64  </td> <td>7   </td> <td>25.3</td> <td>2.3 </td> <td>5   </td> <td>0.463</td> <td>0.5 </td> <td>1.8 </td> <td>0.282</td> <td>1.8 </td> <td>3.2 </td> <td>0.567</td> <td>0.514</td> <td>0.9 </td> <td>1.4 </td> <td>0.632</td> <td>0.8 </td> <td>3.1 </td> <td>3.8 </td> <td>3.3 </td> <td>0.8 </td> <td>0.6 </td> <td>1   </td> <td>1.5 </td> <td>6   </td> <td>71  </td> <td>GSW </td> <td>1.6e+07    </td>\n",
       "        </tr>\n",
       "    </tbody>\n",
       "</table>\n",
       "<p>... (234 rows omitted)</p>"
      ],
      "text/plain": [
       "Player                    | Rk   | Pos  | Age  | Tm   | G    | GS   | MP   | FG   | FGA  | FG%   | 3P   | 3PA  | 3P%   | 2P   | 2PA  | 2P%   | eFG%  | FT   | FTA  | FT%   | ORB  | DRB  | TRB  | AST  | STL  | BLK  | TOV  | PF   | PS/G | Rk_2 | Tm_2 | 2018-19\n",
       "Aaron Gordon\\gordoaa01    | 179  | PF   | 22   | ORL  | 58   | 57   | 32.9 | 6.5  | 14.9 | 0.434 | 2    | 5.9  | 0.336 | 4.5  | 9    | 0.497 | 0.5   | 2.7  | 3.9  | 0.698 | 1.5  | 6.4  | 7.9  | 2.3  | 1    | 0.8  | 1.8  | 1.9  | 17.6 | 40   | ORL  | 2.15909e+07\n",
       "Al Horford\\horfoal01      | 227  | C    | 31   | BOS  | 72   | 72   | 31.6 | 5.1  | 10.5 | 0.489 | 1.3  | 3.1  | 0.429 | 3.8  | 7.3  | 0.514 | 0.553 | 1.3  | 1.7  | 0.783 | 1.4  | 5.9  | 7.4  | 4.7  | 0.6  | 1.1  | 1.8  | 1.9  | 12.9 | 13   | BOS  | 2.89287e+07\n",
       "Al Jefferson\\jeffeal01    | 250  | C    | 33   | IND  | 36   | 1    | 13.4 | 3.1  | 5.8  | 0.534 | 0    | 0.1  | 0     | 3.1  | 5.7  | 0.541 | 0.534 | 0.8  | 1    | 0.833 | 0.8  | 3.1  | 4    | 0.8  | 0.4  | 0.6  | 0.6  | 1.8  | 7    | 235  | IND  | 4e+06\n",
       "Al-Farouq Aminu\\aminual01 | 11   | PF   | 27   | POR  | 69   | 67   | 30   | 3.3  | 8.4  | 0.395 | 1.8  | 4.9  | 0.369 | 1.5  | 3.5  | 0.432 | 0.503 | 0.9  | 1.2  | 0.738 | 1.4  | 6.2  | 7.6  | 1.2  | 1.1  | 0.6  | 1.1  | 2    | 9.3  | 179  | POR  | 6.95710e+06\n",
       "Alec Burks\\burksal01      | 78   | SG   | 26   | UTA  | 64   | 1    | 16.5 | 2.7  | 6.5  | 0.411 | 0.7  | 2.2  | 0.331 | 1.9  | 4.3  | 0.452 | 0.467 | 1.7  | 1.9  | 0.863 | 0.3  | 2.7  | 3    | 1    | 0.6  | 0.1  | 0.9  | 1.2  | 7.7  | 120  | UTA  | 1.15365e+07\n",
       "Alex Len\\lenal01          | 292  | C    | 24   | PHO  | 69   | 13   | 20.2 | 3.1  | 5.5  | 0.566 | 0    | 0    | 0.333 | 3.1  | 5.4  | 0.568 | 0.567 | 2.3  | 3.3  | 0.684 | 2.5  | 5    | 7.5  | 1.2  | 0.4  | 0.9  | 1.1  | 2.3  | 8.5  | 227  | ATL  | 4.35e+06\n",
       "Allen Crabbe\\crabbal01    | 114  | SG   | 25   | BRK  | 75   | 68   | 29.3 | 4.5  | 11   | 0.407 | 2.7  | 7.1  | 0.378 | 1.8  | 3.9  | 0.461 | 0.529 | 1.5  | 1.8  | 0.852 | 0.4  | 3.9  | 4.3  | 1.6  | 0.6  | 0.5  | 1    | 2.2  | 13.2 | 57   | BRK  | 1.85e+07\n",
       "Amir Johnson\\johnsam01    | 254  | C    | 30   | PHI  | 74   | 18   | 15.8 | 1.9  | 3.5  | 0.538 | 0.1  | 0.4  | 0.313 | 1.8  | 3.1  | 0.57  | 0.558 | 0.7  | 1.1  | 0.612 | 1.7  | 2.8  | 4.5  | 1.6  | 0.6  | 0.6  | 0.7  | 2.6  | 4.6  | 301  | PHI  | 2.39389e+06\n",
       "Andre Drummond\\drumman01  | 140  | C    | 24   | DET  | 78   | 78   | 33.7 | 6    | 11.3 | 0.529 | 0    | 0.1  | 0     | 6    | 11.2 | 0.536 | 0.529 | 3.1  | 5.1  | 0.605 | 5.1  | 10.9 | 16   | 3    | 1.5  | 1.6  | 2.6  | 3.2  | 15   | 25   | DET  | 2.54343e+07\n",
       "Andre Iguodala\\iguodan01  | 234  | SF   | 34   | GSW  | 64   | 7    | 25.3 | 2.3  | 5    | 0.463 | 0.5  | 1.8  | 0.282 | 1.8  | 3.2  | 0.567 | 0.514 | 0.9  | 1.4  | 0.632 | 0.8  | 3.1  | 3.8  | 3.3  | 0.8  | 0.6  | 1    | 1.5  | 6    | 71   | GSW  | 1.6e+07\n",
       "... (234 rows omitted)"
      ]
     },
     "execution_count": 186,
     "metadata": {},
     "output_type": "execute_result"
    }
   ],
   "source": [
    "players"
   ]
  },
  {
   "cell_type": "markdown",
   "metadata": {},
   "source": [
    "**Separate table by Position:**"
   ]
  },
  {
   "cell_type": "code",
   "execution_count": 297,
   "metadata": {},
   "outputs": [
    {
     "data": {
      "text/html": [
       "<table border=\"1\" class=\"dataframe\">\n",
       "    <thead>\n",
       "        <tr>\n",
       "            <th>Player</th> <th>Rk</th> <th>Pos</th> <th>Age</th> <th>Tm</th> <th>G</th> <th>GS</th> <th>MP</th> <th>FG</th> <th>FGA</th> <th>FG%</th> <th>3P</th> <th>3PA</th> <th>3P%</th> <th>2P</th> <th>2PA</th> <th>2P%</th> <th>eFG%</th> <th>FT</th> <th>FTA</th> <th>FT%</th> <th>ORB</th> <th>DRB</th> <th>TRB</th> <th>AST</th> <th>STL</th> <th>BLK</th> <th>TOV</th> <th>PF</th> <th>PS/G</th> <th>Rk_2</th> <th>Tm_2</th> <th>2018-19</th>\n",
       "        </tr>\n",
       "    </thead>\n",
       "    <tbody>\n",
       "        <tr>\n",
       "            <td>Chris Paul\\paulch01      </td> <td>396 </td> <td>PG  </td> <td>32  </td> <td>HOU </td> <td>58  </td> <td>58  </td> <td>31.8</td> <td>6.3 </td> <td>13.8</td> <td>0.46 </td> <td>2.5 </td> <td>6.5 </td> <td>0.38 </td> <td>3.8 </td> <td>7.2 </td> <td>0.532</td> <td>0.55 </td> <td>3.5 </td> <td>3.8 </td> <td>0.919</td> <td>0.6 </td> <td>4.8 </td> <td>5.4 </td> <td>7.9 </td> <td>1.7 </td> <td>0.2 </td> <td>2.2 </td> <td>2.4 </td> <td>18.6</td> <td>2   </td> <td>HOU </td> <td>3.56542e+07</td>\n",
       "        </tr>\n",
       "        <tr>\n",
       "            <td>Cory Joseph\\josepco01    </td> <td>269 </td> <td>PG  </td> <td>26  </td> <td>IND </td> <td>82  </td> <td>17  </td> <td>27  </td> <td>3.1 </td> <td>7.4 </td> <td>0.424</td> <td>0.8 </td> <td>2.3 </td> <td>0.353</td> <td>2.3 </td> <td>5   </td> <td>0.457</td> <td>0.479</td> <td>0.9 </td> <td>1.1 </td> <td>0.745</td> <td>0.5 </td> <td>2.7 </td> <td>3.2 </td> <td>3.2 </td> <td>1   </td> <td>0.2 </td> <td>1.1 </td> <td>1.7 </td> <td>7.9 </td> <td>161 </td> <td>IND </td> <td>7.945e+06  </td>\n",
       "        </tr>\n",
       "        <tr>\n",
       "            <td>D.J. Augustin\\augusdj01  </td> <td>24  </td> <td>PG  </td> <td>30  </td> <td>ORL </td> <td>75  </td> <td>36  </td> <td>23.5</td> <td>3.3 </td> <td>7.2 </td> <td>0.452</td> <td>1.5 </td> <td>3.6 </td> <td>0.419</td> <td>1.7 </td> <td>3.6 </td> <td>0.485</td> <td>0.557</td> <td>2.2 </td> <td>2.5 </td> <td>0.868</td> <td>0.4 </td> <td>1.7 </td> <td>2.1 </td> <td>3.8 </td> <td>0.7 </td> <td>0   </td> <td>1.6 </td> <td>1.3 </td> <td>10.2</td> <td>171 </td> <td>ORL </td> <td>7.25e+06   </td>\n",
       "        </tr>\n",
       "        <tr>\n",
       "            <td>Damian Lillard\\lillada01 </td> <td>298 </td> <td>PG  </td> <td>27  </td> <td>POR </td> <td>73  </td> <td>73  </td> <td>36.6</td> <td>8.5 </td> <td>19.4</td> <td>0.439</td> <td>3.1 </td> <td>8.6 </td> <td>0.361</td> <td>5.4 </td> <td>10.8</td> <td>0.501</td> <td>0.519</td> <td>6.8 </td> <td>7.4 </td> <td>0.916</td> <td>0.8 </td> <td>3.6 </td> <td>4.5 </td> <td>6.6 </td> <td>1.1 </td> <td>0.4 </td> <td>2.8 </td> <td>1.6 </td> <td>26.9</td> <td>14  </td> <td>POR </td> <td>2.79777e+07</td>\n",
       "        </tr>\n",
       "        <tr>\n",
       "            <td>Dante Exum\\exumda01      </td> <td>153 </td> <td>PG  </td> <td>22  </td> <td>UTA </td> <td>14  </td> <td>0   </td> <td>16.8</td> <td>3   </td> <td>6.2 </td> <td>0.483</td> <td>0.4 </td> <td>1.3 </td> <td>0.278</td> <td>2.6 </td> <td>4.9 </td> <td>0.536</td> <td>0.511</td> <td>1.8 </td> <td>2.2 </td> <td>0.806</td> <td>0.3 </td> <td>1.6 </td> <td>1.9 </td> <td>3.1 </td> <td>0.6 </td> <td>0.2 </td> <td>1.4 </td> <td>1.4 </td> <td>8.1 </td> <td>138 </td> <td>UTA </td> <td>9.6e+06    </td>\n",
       "        </tr>\n",
       "        <tr>\n",
       "            <td>Darren Collison\\collida01</td> <td>104 </td> <td>PG  </td> <td>30  </td> <td>IND </td> <td>69  </td> <td>64  </td> <td>29.2</td> <td>4.6 </td> <td>9.2 </td> <td>0.495</td> <td>1.4 </td> <td>3   </td> <td>0.468</td> <td>3.2 </td> <td>6.3 </td> <td>0.508</td> <td>0.571</td> <td>1.8 </td> <td>2.1 </td> <td>0.882</td> <td>0.5 </td> <td>2   </td> <td>2.6 </td> <td>5.3 </td> <td>1.3 </td> <td>0.2 </td> <td>1.2 </td> <td>1.8 </td> <td>12.4</td> <td>135 </td> <td>IND </td> <td>1e+07      </td>\n",
       "        </tr>\n",
       "        <tr>\n",
       "            <td>Dennis Schroder\\schrode01</td> <td>442 </td> <td>PG  </td> <td>24  </td> <td>ATL </td> <td>67  </td> <td>67  </td> <td>31  </td> <td>7.5 </td> <td>17.1</td> <td>0.436</td> <td>1.1 </td> <td>3.9 </td> <td>0.29 </td> <td>6.3 </td> <td>13.2</td> <td>0.48 </td> <td>0.469</td> <td>3.4 </td> <td>4   </td> <td>0.849</td> <td>0.7 </td> <td>2.4 </td> <td>3.1 </td> <td>6.2 </td> <td>1.1 </td> <td>0.1 </td> <td>2.7 </td> <td>2.2 </td> <td>19.4</td> <td>74  </td> <td>OKC </td> <td>1.55e+07   </td>\n",
       "        </tr>\n",
       "        <tr>\n",
       "            <td>Derrick Rose\\rosede01    </td> <td>433 </td> <td>PG  </td> <td>29  </td> <td>TOT </td> <td>25  </td> <td>7   </td> <td>16.8</td> <td>3.2 </td> <td>7.4 </td> <td>0.435</td> <td>0.3 </td> <td>1.2 </td> <td>0.233</td> <td>3   </td> <td>6.2 </td> <td>0.474</td> <td>0.454</td> <td>1.6 </td> <td>1.8 </td> <td>0.87 </td> <td>0.5 </td> <td>0.9 </td> <td>1.4 </td> <td>1.5 </td> <td>0.3 </td> <td>0.2 </td> <td>1.4 </td> <td>0.6 </td> <td>8.4 </td> <td>324 </td> <td>MIN </td> <td>2.17626e+06</td>\n",
       "        </tr>\n",
       "        <tr>\n",
       "            <td>Devin Harris\\harride01   </td> <td>197 </td> <td>PG  </td> <td>34  </td> <td>TOT </td> <td>71  </td> <td>1   </td> <td>18.9</td> <td>2.6 </td> <td>6.4 </td> <td>0.412</td> <td>1.1 </td> <td>3.2 </td> <td>0.348</td> <td>1.5 </td> <td>3.2 </td> <td>0.476</td> <td>0.499</td> <td>2   </td> <td>2.4 </td> <td>0.835</td> <td>0.2 </td> <td>1.6 </td> <td>1.8 </td> <td>2.1 </td> <td>0.7 </td> <td>0.2 </td> <td>1.1 </td> <td>2.2 </td> <td>8.4 </td> <td>311 </td> <td>DAL </td> <td>2.39389e+06</td>\n",
       "        </tr>\n",
       "        <tr>\n",
       "            <td>Elfrid Payton\\paytoel01  </td> <td>399 </td> <td>PG  </td> <td>23  </td> <td>TOT </td> <td>63  </td> <td>63  </td> <td>28.7</td> <td>5.2 </td> <td>10.6</td> <td>0.493</td> <td>0.5 </td> <td>1.5 </td> <td>0.326</td> <td>4.7 </td> <td>9.1 </td> <td>0.52 </td> <td>0.516</td> <td>1.7 </td> <td>2.7 </td> <td>0.649</td> <td>1   </td> <td>3.3 </td> <td>4.3 </td> <td>6.2 </td> <td>1.3 </td> <td>0.3 </td> <td>2.7 </td> <td>2.3 </td> <td>12.7</td> <td>270 </td> <td>NOP </td> <td>3e+06      </td>\n",
       "        </tr>\n",
       "    </tbody>\n",
       "</table>\n",
       "<p>... (34 rows omitted)</p>"
      ],
      "text/plain": [
       "Player                    | Rk   | Pos  | Age  | Tm   | G    | GS   | MP   | FG   | FGA  | FG%   | 3P   | 3PA  | 3P%   | 2P   | 2PA  | 2P%   | eFG%  | FT   | FTA  | FT%   | ORB  | DRB  | TRB  | AST  | STL  | BLK  | TOV  | PF   | PS/G | Rk_2 | Tm_2 | 2018-19\n",
       "Chris Paul\\paulch01       | 396  | PG   | 32   | HOU  | 58   | 58   | 31.8 | 6.3  | 13.8 | 0.46  | 2.5  | 6.5  | 0.38  | 3.8  | 7.2  | 0.532 | 0.55  | 3.5  | 3.8  | 0.919 | 0.6  | 4.8  | 5.4  | 7.9  | 1.7  | 0.2  | 2.2  | 2.4  | 18.6 | 2    | HOU  | 3.56542e+07\n",
       "Cory Joseph\\josepco01     | 269  | PG   | 26   | IND  | 82   | 17   | 27   | 3.1  | 7.4  | 0.424 | 0.8  | 2.3  | 0.353 | 2.3  | 5    | 0.457 | 0.479 | 0.9  | 1.1  | 0.745 | 0.5  | 2.7  | 3.2  | 3.2  | 1    | 0.2  | 1.1  | 1.7  | 7.9  | 161  | IND  | 7.945e+06\n",
       "D.J. Augustin\\augusdj01   | 24   | PG   | 30   | ORL  | 75   | 36   | 23.5 | 3.3  | 7.2  | 0.452 | 1.5  | 3.6  | 0.419 | 1.7  | 3.6  | 0.485 | 0.557 | 2.2  | 2.5  | 0.868 | 0.4  | 1.7  | 2.1  | 3.8  | 0.7  | 0    | 1.6  | 1.3  | 10.2 | 171  | ORL  | 7.25e+06\n",
       "Damian Lillard\\lillada01  | 298  | PG   | 27   | POR  | 73   | 73   | 36.6 | 8.5  | 19.4 | 0.439 | 3.1  | 8.6  | 0.361 | 5.4  | 10.8 | 0.501 | 0.519 | 6.8  | 7.4  | 0.916 | 0.8  | 3.6  | 4.5  | 6.6  | 1.1  | 0.4  | 2.8  | 1.6  | 26.9 | 14   | POR  | 2.79777e+07\n",
       "Dante Exum\\exumda01       | 153  | PG   | 22   | UTA  | 14   | 0    | 16.8 | 3    | 6.2  | 0.483 | 0.4  | 1.3  | 0.278 | 2.6  | 4.9  | 0.536 | 0.511 | 1.8  | 2.2  | 0.806 | 0.3  | 1.6  | 1.9  | 3.1  | 0.6  | 0.2  | 1.4  | 1.4  | 8.1  | 138  | UTA  | 9.6e+06\n",
       "Darren Collison\\collida01 | 104  | PG   | 30   | IND  | 69   | 64   | 29.2 | 4.6  | 9.2  | 0.495 | 1.4  | 3    | 0.468 | 3.2  | 6.3  | 0.508 | 0.571 | 1.8  | 2.1  | 0.882 | 0.5  | 2    | 2.6  | 5.3  | 1.3  | 0.2  | 1.2  | 1.8  | 12.4 | 135  | IND  | 1e+07\n",
       "Dennis Schroder\\schrode01 | 442  | PG   | 24   | ATL  | 67   | 67   | 31   | 7.5  | 17.1 | 0.436 | 1.1  | 3.9  | 0.29  | 6.3  | 13.2 | 0.48  | 0.469 | 3.4  | 4    | 0.849 | 0.7  | 2.4  | 3.1  | 6.2  | 1.1  | 0.1  | 2.7  | 2.2  | 19.4 | 74   | OKC  | 1.55e+07\n",
       "Derrick Rose\\rosede01     | 433  | PG   | 29   | TOT  | 25   | 7    | 16.8 | 3.2  | 7.4  | 0.435 | 0.3  | 1.2  | 0.233 | 3    | 6.2  | 0.474 | 0.454 | 1.6  | 1.8  | 0.87  | 0.5  | 0.9  | 1.4  | 1.5  | 0.3  | 0.2  | 1.4  | 0.6  | 8.4  | 324  | MIN  | 2.17626e+06\n",
       "Devin Harris\\harride01    | 197  | PG   | 34   | TOT  | 71   | 1    | 18.9 | 2.6  | 6.4  | 0.412 | 1.1  | 3.2  | 0.348 | 1.5  | 3.2  | 0.476 | 0.499 | 2    | 2.4  | 0.835 | 0.2  | 1.6  | 1.8  | 2.1  | 0.7  | 0.2  | 1.1  | 2.2  | 8.4  | 311  | DAL  | 2.39389e+06\n",
       "Elfrid Payton\\paytoel01   | 399  | PG   | 23   | TOT  | 63   | 63   | 28.7 | 5.2  | 10.6 | 0.493 | 0.5  | 1.5  | 0.326 | 4.7  | 9.1  | 0.52  | 0.516 | 1.7  | 2.7  | 0.649 | 1    | 3.3  | 4.3  | 6.2  | 1.3  | 0.3  | 2.7  | 2.3  | 12.7 | 270  | NOP  | 3e+06\n",
       "... (34 rows omitted)"
      ]
     },
     "execution_count": 297,
     "metadata": {},
     "output_type": "execute_result"
    }
   ],
   "source": [
    "#PG\n",
    "point_guard = players.where('Pos', are.equal_to('PG'))\n",
    "point_guard"
   ]
  },
  {
   "cell_type": "code",
   "execution_count": 298,
   "metadata": {},
   "outputs": [
    {
     "data": {
      "text/html": [
       "<table border=\"1\" class=\"dataframe\">\n",
       "    <thead>\n",
       "        <tr>\n",
       "            <th>Player</th> <th>Rk</th> <th>Pos</th> <th>Age</th> <th>Tm</th> <th>G</th> <th>GS</th> <th>MP</th> <th>FG</th> <th>FGA</th> <th>FG%</th> <th>3P</th> <th>3PA</th> <th>3P%</th> <th>2P</th> <th>2PA</th> <th>2P%</th> <th>eFG%</th> <th>FT</th> <th>FTA</th> <th>FT%</th> <th>ORB</th> <th>DRB</th> <th>TRB</th> <th>AST</th> <th>STL</th> <th>BLK</th> <th>TOV</th> <th>PF</th> <th>PS/G</th> <th>Rk_2</th> <th>Tm_2</th> <th>2018-19</th>\n",
       "        </tr>\n",
       "    </thead>\n",
       "    <tbody>\n",
       "        <tr>\n",
       "            <td>Alec Burks\\burksal01    </td> <td>78  </td> <td>SG  </td> <td>26  </td> <td>UTA </td> <td>64  </td> <td>1   </td> <td>16.5</td> <td>2.7 </td> <td>6.5 </td> <td>0.411</td> <td>0.7 </td> <td>2.2 </td> <td>0.331</td> <td>1.9 </td> <td>4.3 </td> <td>0.452</td> <td>0.467</td> <td>1.7 </td> <td>1.9 </td> <td>0.863</td> <td>0.3 </td> <td>2.7 </td> <td>3   </td> <td>1   </td> <td>0.6 </td> <td>0.1 </td> <td>0.9 </td> <td>1.2 </td> <td>7.7 </td> <td>120 </td> <td>UTA </td> <td>1.15365e+07</td>\n",
       "        </tr>\n",
       "        <tr>\n",
       "            <td>Allen Crabbe\\crabbal01  </td> <td>114 </td> <td>SG  </td> <td>25  </td> <td>BRK </td> <td>75  </td> <td>68  </td> <td>29.3</td> <td>4.5 </td> <td>11  </td> <td>0.407</td> <td>2.7 </td> <td>7.1 </td> <td>0.378</td> <td>1.8 </td> <td>3.9 </td> <td>0.461</td> <td>0.529</td> <td>1.5 </td> <td>1.8 </td> <td>0.852</td> <td>0.4 </td> <td>3.9 </td> <td>4.3 </td> <td>1.6 </td> <td>0.6 </td> <td>0.5 </td> <td>1   </td> <td>2.2 </td> <td>13.2</td> <td>57  </td> <td>BRK </td> <td>1.85e+07   </td>\n",
       "        </tr>\n",
       "        <tr>\n",
       "            <td>Andre Roberson\\roberan03</td> <td>429 </td> <td>SG  </td> <td>26  </td> <td>OKC </td> <td>39  </td> <td>39  </td> <td>26.6</td> <td>2.2 </td> <td>4.2 </td> <td>0.537</td> <td>0.2 </td> <td>0.9 </td> <td>0.222</td> <td>2   </td> <td>3.2 </td> <td>0.627</td> <td>0.562</td> <td>0.3 </td> <td>1   </td> <td>0.316</td> <td>1.9 </td> <td>2.8 </td> <td>4.7 </td> <td>1.2 </td> <td>1.2 </td> <td>0.9 </td> <td>0.8 </td> <td>2.3 </td> <td>5   </td> <td>133 </td> <td>OKC </td> <td>1e+07      </td>\n",
       "        </tr>\n",
       "        <tr>\n",
       "            <td>Austin Rivers\\riverau01 </td> <td>428 </td> <td>SG  </td> <td>25  </td> <td>LAC </td> <td>61  </td> <td>59  </td> <td>33.7</td> <td>5.6 </td> <td>13.2</td> <td>0.424</td> <td>2.2 </td> <td>5.9 </td> <td>0.378</td> <td>3.4 </td> <td>7.3 </td> <td>0.461</td> <td>0.508</td> <td>1.7 </td> <td>2.6 </td> <td>0.642</td> <td>0.4 </td> <td>1.9 </td> <td>2.4 </td> <td>4   </td> <td>1.2 </td> <td>0.3 </td> <td>1.8 </td> <td>2.5 </td> <td>15.1</td> <td>102 </td> <td>WAS </td> <td>1.265e+07  </td>\n",
       "        </tr>\n",
       "        <tr>\n",
       "            <td>Avery Bradley\\bradlav01 </td> <td>61  </td> <td>SG  </td> <td>27  </td> <td>TOT </td> <td>46  </td> <td>46  </td> <td>31.2</td> <td>5.6 </td> <td>13.6</td> <td>0.414</td> <td>1.6 </td> <td>4.4 </td> <td>0.369</td> <td>4   </td> <td>9.2 </td> <td>0.436</td> <td>0.474</td> <td>1.4 </td> <td>1.8 </td> <td>0.768</td> <td>0.5 </td> <td>2   </td> <td>2.5 </td> <td>2   </td> <td>1.1 </td> <td>0.2 </td> <td>2.2 </td> <td>2   </td> <td>14.3</td> <td>112 </td> <td>LAC </td> <td>1.2e+07    </td>\n",
       "        </tr>\n",
       "        <tr>\n",
       "            <td>Ben McLemore\\mclembe01  </td> <td>331 </td> <td>SG  </td> <td>24  </td> <td>MEM </td> <td>56  </td> <td>17  </td> <td>19.5</td> <td>2.8 </td> <td>6.7 </td> <td>0.421</td> <td>1   </td> <td>2.8 </td> <td>0.346</td> <td>1.8 </td> <td>3.8 </td> <td>0.477</td> <td>0.495</td> <td>0.9 </td> <td>1.1 </td> <td>0.828</td> <td>0.6 </td> <td>1.9 </td> <td>2.5 </td> <td>0.9 </td> <td>0.7 </td> <td>0.3 </td> <td>1.1 </td> <td>2.5 </td> <td>7.5 </td> <td>199 </td> <td>SAC </td> <td>5.46e+06   </td>\n",
       "        </tr>\n",
       "        <tr>\n",
       "            <td>Bradley Beal\\bealbr01   </td> <td>37  </td> <td>SG  </td> <td>24  </td> <td>WAS </td> <td>82  </td> <td>82  </td> <td>36.3</td> <td>8.3 </td> <td>18.1</td> <td>0.46 </td> <td>2.4 </td> <td>6.5 </td> <td>0.375</td> <td>5.9 </td> <td>11.6</td> <td>0.507</td> <td>0.527</td> <td>3.6 </td> <td>4.5 </td> <td>0.791</td> <td>0.7 </td> <td>3.7 </td> <td>4.4 </td> <td>4.5 </td> <td>1.2 </td> <td>0.4 </td> <td>2.6 </td> <td>2   </td> <td>22.6</td> <td>23  </td> <td>WAS </td> <td>2.54343e+07</td>\n",
       "        </tr>\n",
       "        <tr>\n",
       "            <td>CJ McCollum\\mccolcj01   </td> <td>322 </td> <td>SG  </td> <td>26  </td> <td>POR </td> <td>81  </td> <td>81  </td> <td>36.1</td> <td>8.2 </td> <td>18.6</td> <td>0.443</td> <td>2.3 </td> <td>5.9 </td> <td>0.397</td> <td>5.9 </td> <td>12.7</td> <td>0.465</td> <td>0.506</td> <td>2.6 </td> <td>3.1 </td> <td>0.836</td> <td>0.7 </td> <td>3.3 </td> <td>4   </td> <td>3.4 </td> <td>1   </td> <td>0.4 </td> <td>1.9 </td> <td>2.1 </td> <td>21.4</td> <td>19  </td> <td>POR </td> <td>2.57598e+07</td>\n",
       "        </tr>\n",
       "        <tr>\n",
       "            <td>Courtney Lee\\leeco01    </td> <td>289 </td> <td>SG  </td> <td>32  </td> <td>NYK </td> <td>76  </td> <td>69  </td> <td>30.4</td> <td>4.5 </td> <td>9.9 </td> <td>0.454</td> <td>1.5 </td> <td>3.7 </td> <td>0.406</td> <td>3   </td> <td>6.3 </td> <td>0.482</td> <td>0.529</td> <td>1.5 </td> <td>1.6 </td> <td>0.919</td> <td>0.4 </td> <td>2.6 </td> <td>2.9 </td> <td>2.4 </td> <td>1.1 </td> <td>0.2 </td> <td>1.1 </td> <td>1.4 </td> <td>12  </td> <td>107 </td> <td>NYK </td> <td>1.22538e+07</td>\n",
       "        </tr>\n",
       "        <tr>\n",
       "            <td>Danny Green\\greenda02   </td> <td>186 </td> <td>SG  </td> <td>30  </td> <td>SAS </td> <td>70  </td> <td>60  </td> <td>25.6</td> <td>3.1 </td> <td>8   </td> <td>0.387</td> <td>1.7 </td> <td>4.6 </td> <td>0.363</td> <td>1.4 </td> <td>3.4 </td> <td>0.419</td> <td>0.49 </td> <td>0.7 </td> <td>0.9 </td> <td>0.769</td> <td>0.6 </td> <td>3   </td> <td>3.6 </td> <td>1.6 </td> <td>0.9 </td> <td>1.1 </td> <td>1.1 </td> <td>1.7 </td> <td>8.6 </td> <td>134 </td> <td>TOR </td> <td>1e+07      </td>\n",
       "        </tr>\n",
       "    </tbody>\n",
       "</table>\n",
       "<p>... (47 rows omitted)</p>"
      ],
      "text/plain": [
       "Player                   | Rk   | Pos  | Age  | Tm   | G    | GS   | MP   | FG   | FGA  | FG%   | 3P   | 3PA  | 3P%   | 2P   | 2PA  | 2P%   | eFG%  | FT   | FTA  | FT%   | ORB  | DRB  | TRB  | AST  | STL  | BLK  | TOV  | PF   | PS/G | Rk_2 | Tm_2 | 2018-19\n",
       "Alec Burks\\burksal01     | 78   | SG   | 26   | UTA  | 64   | 1    | 16.5 | 2.7  | 6.5  | 0.411 | 0.7  | 2.2  | 0.331 | 1.9  | 4.3  | 0.452 | 0.467 | 1.7  | 1.9  | 0.863 | 0.3  | 2.7  | 3    | 1    | 0.6  | 0.1  | 0.9  | 1.2  | 7.7  | 120  | UTA  | 1.15365e+07\n",
       "Allen Crabbe\\crabbal01   | 114  | SG   | 25   | BRK  | 75   | 68   | 29.3 | 4.5  | 11   | 0.407 | 2.7  | 7.1  | 0.378 | 1.8  | 3.9  | 0.461 | 0.529 | 1.5  | 1.8  | 0.852 | 0.4  | 3.9  | 4.3  | 1.6  | 0.6  | 0.5  | 1    | 2.2  | 13.2 | 57   | BRK  | 1.85e+07\n",
       "Andre Roberson\\roberan03 | 429  | SG   | 26   | OKC  | 39   | 39   | 26.6 | 2.2  | 4.2  | 0.537 | 0.2  | 0.9  | 0.222 | 2    | 3.2  | 0.627 | 0.562 | 0.3  | 1    | 0.316 | 1.9  | 2.8  | 4.7  | 1.2  | 1.2  | 0.9  | 0.8  | 2.3  | 5    | 133  | OKC  | 1e+07\n",
       "Austin Rivers\\riverau01  | 428  | SG   | 25   | LAC  | 61   | 59   | 33.7 | 5.6  | 13.2 | 0.424 | 2.2  | 5.9  | 0.378 | 3.4  | 7.3  | 0.461 | 0.508 | 1.7  | 2.6  | 0.642 | 0.4  | 1.9  | 2.4  | 4    | 1.2  | 0.3  | 1.8  | 2.5  | 15.1 | 102  | WAS  | 1.265e+07\n",
       "Avery Bradley\\bradlav01  | 61   | SG   | 27   | TOT  | 46   | 46   | 31.2 | 5.6  | 13.6 | 0.414 | 1.6  | 4.4  | 0.369 | 4    | 9.2  | 0.436 | 0.474 | 1.4  | 1.8  | 0.768 | 0.5  | 2    | 2.5  | 2    | 1.1  | 0.2  | 2.2  | 2    | 14.3 | 112  | LAC  | 1.2e+07\n",
       "Ben McLemore\\mclembe01   | 331  | SG   | 24   | MEM  | 56   | 17   | 19.5 | 2.8  | 6.7  | 0.421 | 1    | 2.8  | 0.346 | 1.8  | 3.8  | 0.477 | 0.495 | 0.9  | 1.1  | 0.828 | 0.6  | 1.9  | 2.5  | 0.9  | 0.7  | 0.3  | 1.1  | 2.5  | 7.5  | 199  | SAC  | 5.46e+06\n",
       "Bradley Beal\\bealbr01    | 37   | SG   | 24   | WAS  | 82   | 82   | 36.3 | 8.3  | 18.1 | 0.46  | 2.4  | 6.5  | 0.375 | 5.9  | 11.6 | 0.507 | 0.527 | 3.6  | 4.5  | 0.791 | 0.7  | 3.7  | 4.4  | 4.5  | 1.2  | 0.4  | 2.6  | 2    | 22.6 | 23   | WAS  | 2.54343e+07\n",
       "CJ McCollum\\mccolcj01    | 322  | SG   | 26   | POR  | 81   | 81   | 36.1 | 8.2  | 18.6 | 0.443 | 2.3  | 5.9  | 0.397 | 5.9  | 12.7 | 0.465 | 0.506 | 2.6  | 3.1  | 0.836 | 0.7  | 3.3  | 4    | 3.4  | 1    | 0.4  | 1.9  | 2.1  | 21.4 | 19   | POR  | 2.57598e+07\n",
       "Courtney Lee\\leeco01     | 289  | SG   | 32   | NYK  | 76   | 69   | 30.4 | 4.5  | 9.9  | 0.454 | 1.5  | 3.7  | 0.406 | 3    | 6.3  | 0.482 | 0.529 | 1.5  | 1.6  | 0.919 | 0.4  | 2.6  | 2.9  | 2.4  | 1.1  | 0.2  | 1.1  | 1.4  | 12   | 107  | NYK  | 1.22538e+07\n",
       "Danny Green\\greenda02    | 186  | SG   | 30   | SAS  | 70   | 60   | 25.6 | 3.1  | 8    | 0.387 | 1.7  | 4.6  | 0.363 | 1.4  | 3.4  | 0.419 | 0.49  | 0.7  | 0.9  | 0.769 | 0.6  | 3    | 3.6  | 1.6  | 0.9  | 1.1  | 1.1  | 1.7  | 8.6  | 134  | TOR  | 1e+07\n",
       "... (47 rows omitted)"
      ]
     },
     "execution_count": 298,
     "metadata": {},
     "output_type": "execute_result"
    }
   ],
   "source": [
    "#SG\n",
    "shooting_guard = players.where('Pos', are.equal_to('SG'))\n",
    "shooting_guard"
   ]
  },
  {
   "cell_type": "code",
   "execution_count": 299,
   "metadata": {},
   "outputs": [
    {
     "data": {
      "text/html": [
       "<table border=\"1\" class=\"dataframe\">\n",
       "    <thead>\n",
       "        <tr>\n",
       "            <th>Player</th> <th>Rk</th> <th>Pos</th> <th>Age</th> <th>Tm</th> <th>G</th> <th>GS</th> <th>MP</th> <th>FG</th> <th>FGA</th> <th>FG%</th> <th>3P</th> <th>3PA</th> <th>3P%</th> <th>2P</th> <th>2PA</th> <th>2P%</th> <th>eFG%</th> <th>FT</th> <th>FTA</th> <th>FT%</th> <th>ORB</th> <th>DRB</th> <th>TRB</th> <th>AST</th> <th>STL</th> <th>BLK</th> <th>TOV</th> <th>PF</th> <th>PS/G</th> <th>Rk_2</th> <th>Tm_2</th> <th>2018-19</th>\n",
       "        </tr>\n",
       "    </thead>\n",
       "    <tbody>\n",
       "        <tr>\n",
       "            <td>Andre Iguodala\\iguodan01  </td> <td>234 </td> <td>SF  </td> <td>34  </td> <td>GSW </td> <td>64  </td> <td>7   </td> <td>25.3</td> <td>2.3 </td> <td>5   </td> <td>0.463</td> <td>0.5 </td> <td>1.8 </td> <td>0.282</td> <td>1.8 </td> <td>3.2 </td> <td>0.567</td> <td>0.514</td> <td>0.9 </td> <td>1.4 </td> <td>0.632</td> <td>0.8 </td> <td>3.1 </td> <td>3.8 </td> <td>3.3 </td> <td>0.8 </td> <td>0.6 </td> <td>1   </td> <td>1.5 </td> <td>6   </td> <td>71  </td> <td>GSW </td> <td>1.6e+07    </td>\n",
       "        </tr>\n",
       "        <tr>\n",
       "            <td>Andrew Wiggins\\wiggian01  </td> <td>514 </td> <td>SF  </td> <td>22  </td> <td>MIN </td> <td>82  </td> <td>82  </td> <td>36.3</td> <td>6.9 </td> <td>15.9</td> <td>0.438</td> <td>1.4 </td> <td>4.1 </td> <td>0.331</td> <td>5.6 </td> <td>11.7</td> <td>0.475</td> <td>0.481</td> <td>2.5 </td> <td>3.8 </td> <td>0.643</td> <td>1   </td> <td>3.4 </td> <td>4.4 </td> <td>2   </td> <td>1.1 </td> <td>0.6 </td> <td>1.7 </td> <td>2   </td> <td>17.7</td> <td>21  </td> <td>MIN </td> <td>2.54672e+07</td>\n",
       "        </tr>\n",
       "        <tr>\n",
       "            <td>Bojan Bogdanovic\\bogdabo02</td> <td>55  </td> <td>SF  </td> <td>28  </td> <td>IND </td> <td>80  </td> <td>80  </td> <td>30.8</td> <td>5.1 </td> <td>10.7</td> <td>0.474</td> <td>1.9 </td> <td>4.8 </td> <td>0.402</td> <td>3.1 </td> <td>5.8 </td> <td>0.534</td> <td>0.565</td> <td>2.2 </td> <td>2.6 </td> <td>0.868</td> <td>0.4 </td> <td>3   </td> <td>3.4 </td> <td>1.5 </td> <td>0.7 </td> <td>0.1 </td> <td>1.3 </td> <td>1.6 </td> <td>14.3</td> <td>129 </td> <td>IND </td> <td>1.05e+07   </td>\n",
       "        </tr>\n",
       "        <tr>\n",
       "            <td>C.J. Miles\\milescj01      </td> <td>337 </td> <td>SF  </td> <td>30  </td> <td>TOR </td> <td>70  </td> <td>3   </td> <td>19.1</td> <td>3.2 </td> <td>8.6 </td> <td>0.379</td> <td>2.3 </td> <td>6.5 </td> <td>0.361</td> <td>0.9 </td> <td>2.1 </td> <td>0.434</td> <td>0.516</td> <td>1.2 </td> <td>1.4 </td> <td>0.835</td> <td>0.3 </td> <td>1.9 </td> <td>2.2 </td> <td>0.8 </td> <td>0.5 </td> <td>0.3 </td> <td>0.6 </td> <td>1.9 </td> <td>10  </td> <td>155 </td> <td>TOR </td> <td>8.33333e+06</td>\n",
       "        </tr>\n",
       "        <tr>\n",
       "            <td>Chandler Parsons\\parsoch01</td> <td>392 </td> <td>SF  </td> <td>29  </td> <td>MEM </td> <td>36  </td> <td>8   </td> <td>19.2</td> <td>3   </td> <td>6.5 </td> <td>0.462</td> <td>1.4 </td> <td>3.4 </td> <td>0.421</td> <td>1.6 </td> <td>3.1 </td> <td>0.504</td> <td>0.571</td> <td>0.5 </td> <td>0.8 </td> <td>0.63 </td> <td>0.4 </td> <td>2.1 </td> <td>2.5 </td> <td>1.9 </td> <td>0.5 </td> <td>0.3 </td> <td>1   </td> <td>1.5 </td> <td>7.9 </td> <td>32  </td> <td>MEM </td> <td>2.41073e+07</td>\n",
       "        </tr>\n",
       "        <tr>\n",
       "            <td>Danilo Gallinari\\gallida01</td> <td>168 </td> <td>SF  </td> <td>29  </td> <td>LAC </td> <td>21  </td> <td>21  </td> <td>32  </td> <td>4.9 </td> <td>12.2</td> <td>0.398</td> <td>1.7 </td> <td>5.3 </td> <td>0.324</td> <td>3.1 </td> <td>6.9 </td> <td>0.455</td> <td>0.469</td> <td>3.9 </td> <td>4.1 </td> <td>0.931</td> <td>0.4 </td> <td>4.4 </td> <td>4.8 </td> <td>2   </td> <td>0.6 </td> <td>0.5 </td> <td>1.2 </td> <td>1.4 </td> <td>15.3</td> <td>41  </td> <td>LAC </td> <td>2.15876e+07</td>\n",
       "        </tr>\n",
       "        <tr>\n",
       "            <td>Dante Cunningham\\cunnida01</td> <td>119 </td> <td>SF  </td> <td>30  </td> <td>TOT </td> <td>73  </td> <td>25  </td> <td>21.4</td> <td>2.2 </td> <td>5   </td> <td>0.451</td> <td>0.8 </td> <td>2.3 </td> <td>0.345</td> <td>1.5 </td> <td>2.7 </td> <td>0.541</td> <td>0.53 </td> <td>0.4 </td> <td>0.7 </td> <td>0.596</td> <td>1.1 </td> <td>3   </td> <td>4.1 </td> <td>0.7 </td> <td>0.5 </td> <td>0.4 </td> <td>0.5 </td> <td>1.5 </td> <td>5.7 </td> <td>292 </td> <td>SAS </td> <td>2.5e+06    </td>\n",
       "        </tr>\n",
       "        <tr>\n",
       "            <td>Darius Miller\\milleda01   </td> <td>338 </td> <td>SF  </td> <td>27  </td> <td>NOP </td> <td>82  </td> <td>3   </td> <td>23.7</td> <td>2.6 </td> <td>5.9 </td> <td>0.444</td> <td>1.8 </td> <td>4.4 </td> <td>0.411</td> <td>0.8 </td> <td>1.6 </td> <td>0.535</td> <td>0.594</td> <td>0.7 </td> <td>0.8 </td> <td>0.866</td> <td>0.2 </td> <td>1.8 </td> <td>2   </td> <td>1.4 </td> <td>0.3 </td> <td>0.2 </td> <td>0.7 </td> <td>2   </td> <td>7.8 </td> <td>323 </td> <td>NOP </td> <td>2.205e+06  </td>\n",
       "        </tr>\n",
       "        <tr>\n",
       "            <td>DeMarre Carroll\\carrode01 </td> <td>86  </td> <td>SF  </td> <td>31  </td> <td>BRK </td> <td>73  </td> <td>73  </td> <td>29.9</td> <td>4.5 </td> <td>10.8</td> <td>0.414</td> <td>2   </td> <td>5.4 </td> <td>0.371</td> <td>2.5 </td> <td>5.4 </td> <td>0.457</td> <td>0.506</td> <td>2.6 </td> <td>3.4 </td> <td>0.764</td> <td>1.4 </td> <td>5.1 </td> <td>6.6 </td> <td>2   </td> <td>0.8 </td> <td>0.4 </td> <td>1.4 </td> <td>2.3 </td> <td>13.5</td> <td>75  </td> <td>BRK </td> <td>1.54e+07   </td>\n",
       "        </tr>\n",
       "        <tr>\n",
       "            <td>Doug McDermott\\mcderdo01  </td> <td>326 </td> <td>SF  </td> <td>26  </td> <td>TOT </td> <td>81  </td> <td>4   </td> <td>21.8</td> <td>2.9 </td> <td>6.3 </td> <td>0.467</td> <td>1.1 </td> <td>2.7 </td> <td>0.426</td> <td>1.8 </td> <td>3.6 </td> <td>0.497</td> <td>0.557</td> <td>0.8 </td> <td>1   </td> <td>0.79 </td> <td>0.5 </td> <td>2   </td> <td>2.5 </td> <td>1   </td> <td>0.2 </td> <td>0.2 </td> <td>0.7 </td> <td>1.5 </td> <td>7.8 </td> <td>168 </td> <td>IND </td> <td>7.33333e+06</td>\n",
       "        </tr>\n",
       "    </tbody>\n",
       "</table>\n",
       "<p>... (29 rows omitted)</p>"
      ],
      "text/plain": [
       "Player                     | Rk   | Pos  | Age  | Tm   | G    | GS   | MP   | FG   | FGA  | FG%   | 3P   | 3PA  | 3P%   | 2P   | 2PA  | 2P%   | eFG%  | FT   | FTA  | FT%   | ORB  | DRB  | TRB  | AST  | STL  | BLK  | TOV  | PF   | PS/G | Rk_2 | Tm_2 | 2018-19\n",
       "Andre Iguodala\\iguodan01   | 234  | SF   | 34   | GSW  | 64   | 7    | 25.3 | 2.3  | 5    | 0.463 | 0.5  | 1.8  | 0.282 | 1.8  | 3.2  | 0.567 | 0.514 | 0.9  | 1.4  | 0.632 | 0.8  | 3.1  | 3.8  | 3.3  | 0.8  | 0.6  | 1    | 1.5  | 6    | 71   | GSW  | 1.6e+07\n",
       "Andrew Wiggins\\wiggian01   | 514  | SF   | 22   | MIN  | 82   | 82   | 36.3 | 6.9  | 15.9 | 0.438 | 1.4  | 4.1  | 0.331 | 5.6  | 11.7 | 0.475 | 0.481 | 2.5  | 3.8  | 0.643 | 1    | 3.4  | 4.4  | 2    | 1.1  | 0.6  | 1.7  | 2    | 17.7 | 21   | MIN  | 2.54672e+07\n",
       "Bojan Bogdanovic\\bogdabo02 | 55   | SF   | 28   | IND  | 80   | 80   | 30.8 | 5.1  | 10.7 | 0.474 | 1.9  | 4.8  | 0.402 | 3.1  | 5.8  | 0.534 | 0.565 | 2.2  | 2.6  | 0.868 | 0.4  | 3    | 3.4  | 1.5  | 0.7  | 0.1  | 1.3  | 1.6  | 14.3 | 129  | IND  | 1.05e+07\n",
       "C.J. Miles\\milescj01       | 337  | SF   | 30   | TOR  | 70   | 3    | 19.1 | 3.2  | 8.6  | 0.379 | 2.3  | 6.5  | 0.361 | 0.9  | 2.1  | 0.434 | 0.516 | 1.2  | 1.4  | 0.835 | 0.3  | 1.9  | 2.2  | 0.8  | 0.5  | 0.3  | 0.6  | 1.9  | 10   | 155  | TOR  | 8.33333e+06\n",
       "Chandler Parsons\\parsoch01 | 392  | SF   | 29   | MEM  | 36   | 8    | 19.2 | 3    | 6.5  | 0.462 | 1.4  | 3.4  | 0.421 | 1.6  | 3.1  | 0.504 | 0.571 | 0.5  | 0.8  | 0.63  | 0.4  | 2.1  | 2.5  | 1.9  | 0.5  | 0.3  | 1    | 1.5  | 7.9  | 32   | MEM  | 2.41073e+07\n",
       "Danilo Gallinari\\gallida01 | 168  | SF   | 29   | LAC  | 21   | 21   | 32   | 4.9  | 12.2 | 0.398 | 1.7  | 5.3  | 0.324 | 3.1  | 6.9  | 0.455 | 0.469 | 3.9  | 4.1  | 0.931 | 0.4  | 4.4  | 4.8  | 2    | 0.6  | 0.5  | 1.2  | 1.4  | 15.3 | 41   | LAC  | 2.15876e+07\n",
       "Dante Cunningham\\cunnida01 | 119  | SF   | 30   | TOT  | 73   | 25   | 21.4 | 2.2  | 5    | 0.451 | 0.8  | 2.3  | 0.345 | 1.5  | 2.7  | 0.541 | 0.53  | 0.4  | 0.7  | 0.596 | 1.1  | 3    | 4.1  | 0.7  | 0.5  | 0.4  | 0.5  | 1.5  | 5.7  | 292  | SAS  | 2.5e+06\n",
       "Darius Miller\\milleda01    | 338  | SF   | 27   | NOP  | 82   | 3    | 23.7 | 2.6  | 5.9  | 0.444 | 1.8  | 4.4  | 0.411 | 0.8  | 1.6  | 0.535 | 0.594 | 0.7  | 0.8  | 0.866 | 0.2  | 1.8  | 2    | 1.4  | 0.3  | 0.2  | 0.7  | 2    | 7.8  | 323  | NOP  | 2.205e+06\n",
       "DeMarre Carroll\\carrode01  | 86   | SF   | 31   | BRK  | 73   | 73   | 29.9 | 4.5  | 10.8 | 0.414 | 2    | 5.4  | 0.371 | 2.5  | 5.4  | 0.457 | 0.506 | 2.6  | 3.4  | 0.764 | 1.4  | 5.1  | 6.6  | 2    | 0.8  | 0.4  | 1.4  | 2.3  | 13.5 | 75   | BRK  | 1.54e+07\n",
       "Doug McDermott\\mcderdo01   | 326  | SF   | 26   | TOT  | 81   | 4    | 21.8 | 2.9  | 6.3  | 0.467 | 1.1  | 2.7  | 0.426 | 1.8  | 3.6  | 0.497 | 0.557 | 0.8  | 1    | 0.79  | 0.5  | 2    | 2.5  | 1    | 0.2  | 0.2  | 0.7  | 1.5  | 7.8  | 168  | IND  | 7.33333e+06\n",
       "... (29 rows omitted)"
      ]
     },
     "execution_count": 299,
     "metadata": {},
     "output_type": "execute_result"
    }
   ],
   "source": [
    "#SF\n",
    "small_forward = players.where('Pos', are.equal_to('SF'))\n",
    "small_forward"
   ]
  },
  {
   "cell_type": "code",
   "execution_count": 300,
   "metadata": {},
   "outputs": [
    {
     "data": {
      "text/html": [
       "<table border=\"1\" class=\"dataframe\">\n",
       "    <thead>\n",
       "        <tr>\n",
       "            <th>Player</th> <th>Rk</th> <th>Pos</th> <th>Age</th> <th>Tm</th> <th>G</th> <th>GS</th> <th>MP</th> <th>FG</th> <th>FGA</th> <th>FG%</th> <th>3P</th> <th>3PA</th> <th>3P%</th> <th>2P</th> <th>2PA</th> <th>2P%</th> <th>eFG%</th> <th>FT</th> <th>FTA</th> <th>FT%</th> <th>ORB</th> <th>DRB</th> <th>TRB</th> <th>AST</th> <th>STL</th> <th>BLK</th> <th>TOV</th> <th>PF</th> <th>PS/G</th> <th>Rk_2</th> <th>Tm_2</th> <th>2018-19</th>\n",
       "        </tr>\n",
       "    </thead>\n",
       "    <tbody>\n",
       "        <tr>\n",
       "            <td>Aaron Gordon\\gordoaa01    </td> <td>179 </td> <td>PF  </td> <td>22  </td> <td>ORL </td> <td>58  </td> <td>57  </td> <td>32.9</td> <td>6.5 </td> <td>14.9</td> <td>0.434</td> <td>2   </td> <td>5.9 </td> <td>0.336</td> <td>4.5 </td> <td>9   </td> <td>0.497</td> <td>0.5  </td> <td>2.7 </td> <td>3.9 </td> <td>0.698</td> <td>1.5 </td> <td>6.4 </td> <td>7.9 </td> <td>2.3 </td> <td>1   </td> <td>0.8 </td> <td>1.8 </td> <td>1.9 </td> <td>17.6</td> <td>40  </td> <td>ORL </td> <td>2.15909e+07</td>\n",
       "        </tr>\n",
       "        <tr>\n",
       "            <td>Al-Farouq Aminu\\aminual01 </td> <td>11  </td> <td>PF  </td> <td>27  </td> <td>POR </td> <td>69  </td> <td>67  </td> <td>30  </td> <td>3.3 </td> <td>8.4 </td> <td>0.395</td> <td>1.8 </td> <td>4.9 </td> <td>0.369</td> <td>1.5 </td> <td>3.5 </td> <td>0.432</td> <td>0.503</td> <td>0.9 </td> <td>1.2 </td> <td>0.738</td> <td>1.4 </td> <td>6.2 </td> <td>7.6 </td> <td>1.2 </td> <td>1.1 </td> <td>0.6 </td> <td>1.1 </td> <td>2   </td> <td>9.3 </td> <td>179 </td> <td>POR </td> <td>6.95710e+06</td>\n",
       "        </tr>\n",
       "        <tr>\n",
       "            <td>Anthony Davis\\davisan02   </td> <td>122 </td> <td>PF  </td> <td>24  </td> <td>NOP </td> <td>75  </td> <td>75  </td> <td>36.4</td> <td>10.4</td> <td>19.5</td> <td>0.534</td> <td>0.7 </td> <td>2.2 </td> <td>0.34 </td> <td>9.7 </td> <td>17.3</td> <td>0.558</td> <td>0.552</td> <td>6.6 </td> <td>8   </td> <td>0.828</td> <td>2.5 </td> <td>8.6 </td> <td>11.1</td> <td>2.3 </td> <td>1.5 </td> <td>2.6 </td> <td>2.2 </td> <td>2.1 </td> <td>28.1</td> <td>24  </td> <td>NOP </td> <td>2.54343e+07</td>\n",
       "        </tr>\n",
       "        <tr>\n",
       "            <td>Anthony Tolliver\\tollian01</td> <td>482 </td> <td>PF  </td> <td>32  </td> <td>DET </td> <td>79  </td> <td>14  </td> <td>22.2</td> <td>2.8 </td> <td>6   </td> <td>0.464</td> <td>2   </td> <td>4.6 </td> <td>0.436</td> <td>0.8 </td> <td>1.4 </td> <td>0.561</td> <td>0.632</td> <td>1.3 </td> <td>1.7 </td> <td>0.797</td> <td>0.6 </td> <td>2.4 </td> <td>3.1 </td> <td>1.1 </td> <td>0.4 </td> <td>0.3 </td> <td>0.7 </td> <td>1.8 </td> <td>8.9 </td> <td>195 </td> <td>MIN </td> <td>5.75e+06   </td>\n",
       "        </tr>\n",
       "        <tr>\n",
       "            <td>Blake Griffin\\griffbl01   </td> <td>191 </td> <td>PF  </td> <td>28  </td> <td>TOT </td> <td>58  </td> <td>58  </td> <td>34  </td> <td>7.5 </td> <td>17.2</td> <td>0.438</td> <td>1.9 </td> <td>5.6 </td> <td>0.345</td> <td>5.6 </td> <td>11.6</td> <td>0.482</td> <td>0.493</td> <td>4.5 </td> <td>5.7 </td> <td>0.785</td> <td>1.3 </td> <td>6.1 </td> <td>7.4 </td> <td>5.8 </td> <td>0.7 </td> <td>0.3 </td> <td>2.8 </td> <td>2.4 </td> <td>21.4</td> <td>5   </td> <td>DET </td> <td>3.20889e+07</td>\n",
       "        </tr>\n",
       "        <tr>\n",
       "            <td>Carmelo Anthony\\anthoca01 </td> <td>17  </td> <td>PF  </td> <td>33  </td> <td>OKC </td> <td>78  </td> <td>78  </td> <td>32.1</td> <td>6.1 </td> <td>15  </td> <td>0.404</td> <td>2.2 </td> <td>6.1 </td> <td>0.357</td> <td>3.9 </td> <td>8.9 </td> <td>0.437</td> <td>0.476</td> <td>1.9 </td> <td>2.5 </td> <td>0.767</td> <td>0.9 </td> <td>4.9 </td> <td>5.8 </td> <td>1.3 </td> <td>0.6 </td> <td>0.6 </td> <td>1.3 </td> <td>2.5 </td> <td>16.2</td> <td>20  </td> <td>ATL </td> <td>2.55343e+07</td>\n",
       "        </tr>\n",
       "        <tr>\n",
       "            <td>Carmelo Anthony\\anthoca01 </td> <td>17  </td> <td>PF  </td> <td>33  </td> <td>OKC </td> <td>78  </td> <td>78  </td> <td>32.1</td> <td>6.1 </td> <td>15  </td> <td>0.404</td> <td>2.2 </td> <td>6.1 </td> <td>0.357</td> <td>3.9 </td> <td>8.9 </td> <td>0.437</td> <td>0.476</td> <td>1.9 </td> <td>2.5 </td> <td>0.767</td> <td>0.9 </td> <td>4.9 </td> <td>5.8 </td> <td>1.3 </td> <td>0.6 </td> <td>0.6 </td> <td>1.3 </td> <td>2.5 </td> <td>16.2</td> <td>308 </td> <td>HOU </td> <td>2.39389e+06</td>\n",
       "        </tr>\n",
       "        <tr>\n",
       "            <td>Darrell Arthur\\arthuda01  </td> <td>21  </td> <td>PF  </td> <td>29  </td> <td>DEN </td> <td>19  </td> <td>1   </td> <td>7.4 </td> <td>1.2 </td> <td>2.5 </td> <td>0.468</td> <td>0.4 </td> <td>1.2 </td> <td>0.348</td> <td>0.7 </td> <td>1.3 </td> <td>0.583</td> <td>0.553</td> <td>0.1 </td> <td>0.2 </td> <td>0.667</td> <td>0.2 </td> <td>0.6 </td> <td>0.8 </td> <td>0.5 </td> <td>0.4 </td> <td>0.2 </td> <td>0.8 </td> <td>1.2 </td> <td>2.8 </td> <td>166 </td> <td>PHO </td> <td>7.46491e+06</td>\n",
       "        </tr>\n",
       "        <tr>\n",
       "            <td>Draymond Green\\greendr01  </td> <td>187 </td> <td>PF  </td> <td>27  </td> <td>GSW </td> <td>70  </td> <td>70  </td> <td>32.7</td> <td>4   </td> <td>8.8 </td> <td>0.454</td> <td>1.1 </td> <td>3.7 </td> <td>0.301</td> <td>2.9 </td> <td>5.2 </td> <td>0.562</td> <td>0.516</td> <td>1.9 </td> <td>2.5 </td> <td>0.775</td> <td>1.1 </td> <td>6.6 </td> <td>7.6 </td> <td>7.3 </td> <td>1.4 </td> <td>1.3 </td> <td>2.9 </td> <td>2.6 </td> <td>11  </td> <td>61  </td> <td>GSW </td> <td>1.74696e+07</td>\n",
       "        </tr>\n",
       "        <tr>\n",
       "            <td>Ersan Ilyasova\\ilyaser01  </td> <td>235 </td> <td>PF  </td> <td>30  </td> <td>TOT </td> <td>69  </td> <td>43  </td> <td>25.1</td> <td>4   </td> <td>8.9 </td> <td>0.452</td> <td>1.3 </td> <td>3.7 </td> <td>0.36 </td> <td>2.7 </td> <td>5.2 </td> <td>0.517</td> <td>0.526</td> <td>1.5 </td> <td>2   </td> <td>0.778</td> <td>1.7 </td> <td>4.2 </td> <td>5.9 </td> <td>1.3 </td> <td>0.9 </td> <td>0.4 </td> <td>1   </td> <td>2.3 </td> <td>10.9</td> <td>177 </td> <td>MIL </td> <td>7e+06      </td>\n",
       "        </tr>\n",
       "    </tbody>\n",
       "</table>\n",
       "<p>... (35 rows omitted)</p>"
      ],
      "text/plain": [
       "Player                     | Rk   | Pos  | Age  | Tm   | G    | GS   | MP   | FG   | FGA  | FG%   | 3P   | 3PA  | 3P%   | 2P   | 2PA  | 2P%   | eFG%  | FT   | FTA  | FT%   | ORB  | DRB  | TRB  | AST  | STL  | BLK  | TOV  | PF   | PS/G | Rk_2 | Tm_2 | 2018-19\n",
       "Aaron Gordon\\gordoaa01     | 179  | PF   | 22   | ORL  | 58   | 57   | 32.9 | 6.5  | 14.9 | 0.434 | 2    | 5.9  | 0.336 | 4.5  | 9    | 0.497 | 0.5   | 2.7  | 3.9  | 0.698 | 1.5  | 6.4  | 7.9  | 2.3  | 1    | 0.8  | 1.8  | 1.9  | 17.6 | 40   | ORL  | 2.15909e+07\n",
       "Al-Farouq Aminu\\aminual01  | 11   | PF   | 27   | POR  | 69   | 67   | 30   | 3.3  | 8.4  | 0.395 | 1.8  | 4.9  | 0.369 | 1.5  | 3.5  | 0.432 | 0.503 | 0.9  | 1.2  | 0.738 | 1.4  | 6.2  | 7.6  | 1.2  | 1.1  | 0.6  | 1.1  | 2    | 9.3  | 179  | POR  | 6.95710e+06\n",
       "Anthony Davis\\davisan02    | 122  | PF   | 24   | NOP  | 75   | 75   | 36.4 | 10.4 | 19.5 | 0.534 | 0.7  | 2.2  | 0.34  | 9.7  | 17.3 | 0.558 | 0.552 | 6.6  | 8    | 0.828 | 2.5  | 8.6  | 11.1 | 2.3  | 1.5  | 2.6  | 2.2  | 2.1  | 28.1 | 24   | NOP  | 2.54343e+07\n",
       "Anthony Tolliver\\tollian01 | 482  | PF   | 32   | DET  | 79   | 14   | 22.2 | 2.8  | 6    | 0.464 | 2    | 4.6  | 0.436 | 0.8  | 1.4  | 0.561 | 0.632 | 1.3  | 1.7  | 0.797 | 0.6  | 2.4  | 3.1  | 1.1  | 0.4  | 0.3  | 0.7  | 1.8  | 8.9  | 195  | MIN  | 5.75e+06\n",
       "Blake Griffin\\griffbl01    | 191  | PF   | 28   | TOT  | 58   | 58   | 34   | 7.5  | 17.2 | 0.438 | 1.9  | 5.6  | 0.345 | 5.6  | 11.6 | 0.482 | 0.493 | 4.5  | 5.7  | 0.785 | 1.3  | 6.1  | 7.4  | 5.8  | 0.7  | 0.3  | 2.8  | 2.4  | 21.4 | 5    | DET  | 3.20889e+07\n",
       "Carmelo Anthony\\anthoca01  | 17   | PF   | 33   | OKC  | 78   | 78   | 32.1 | 6.1  | 15   | 0.404 | 2.2  | 6.1  | 0.357 | 3.9  | 8.9  | 0.437 | 0.476 | 1.9  | 2.5  | 0.767 | 0.9  | 4.9  | 5.8  | 1.3  | 0.6  | 0.6  | 1.3  | 2.5  | 16.2 | 20   | ATL  | 2.55343e+07\n",
       "Carmelo Anthony\\anthoca01  | 17   | PF   | 33   | OKC  | 78   | 78   | 32.1 | 6.1  | 15   | 0.404 | 2.2  | 6.1  | 0.357 | 3.9  | 8.9  | 0.437 | 0.476 | 1.9  | 2.5  | 0.767 | 0.9  | 4.9  | 5.8  | 1.3  | 0.6  | 0.6  | 1.3  | 2.5  | 16.2 | 308  | HOU  | 2.39389e+06\n",
       "Darrell Arthur\\arthuda01   | 21   | PF   | 29   | DEN  | 19   | 1    | 7.4  | 1.2  | 2.5  | 0.468 | 0.4  | 1.2  | 0.348 | 0.7  | 1.3  | 0.583 | 0.553 | 0.1  | 0.2  | 0.667 | 0.2  | 0.6  | 0.8  | 0.5  | 0.4  | 0.2  | 0.8  | 1.2  | 2.8  | 166  | PHO  | 7.46491e+06\n",
       "Draymond Green\\greendr01   | 187  | PF   | 27   | GSW  | 70   | 70   | 32.7 | 4    | 8.8  | 0.454 | 1.1  | 3.7  | 0.301 | 2.9  | 5.2  | 0.562 | 0.516 | 1.9  | 2.5  | 0.775 | 1.1  | 6.6  | 7.6  | 7.3  | 1.4  | 1.3  | 2.9  | 2.6  | 11   | 61   | GSW  | 1.74696e+07\n",
       "Ersan Ilyasova\\ilyaser01   | 235  | PF   | 30   | TOT  | 69   | 43   | 25.1 | 4    | 8.9  | 0.452 | 1.3  | 3.7  | 0.36  | 2.7  | 5.2  | 0.517 | 0.526 | 1.5  | 2    | 0.778 | 1.7  | 4.2  | 5.9  | 1.3  | 0.9  | 0.4  | 1    | 2.3  | 10.9 | 177  | MIL  | 7e+06\n",
       "... (35 rows omitted)"
      ]
     },
     "execution_count": 300,
     "metadata": {},
     "output_type": "execute_result"
    }
   ],
   "source": [
    "#PF\n",
    "power_forward = players.where('Pos', are.equal_to('PF'))\n",
    "power_forward"
   ]
  },
  {
   "cell_type": "code",
   "execution_count": 301,
   "metadata": {},
   "outputs": [
    {
     "data": {
      "text/html": [
       "<table border=\"1\" class=\"dataframe\">\n",
       "    <thead>\n",
       "        <tr>\n",
       "            <th>Player</th> <th>Rk</th> <th>Pos</th> <th>Age</th> <th>Tm</th> <th>G</th> <th>GS</th> <th>MP</th> <th>FG</th> <th>FGA</th> <th>FG%</th> <th>3P</th> <th>3PA</th> <th>3P%</th> <th>2P</th> <th>2PA</th> <th>2P%</th> <th>eFG%</th> <th>FT</th> <th>FTA</th> <th>FT%</th> <th>ORB</th> <th>DRB</th> <th>TRB</th> <th>AST</th> <th>STL</th> <th>BLK</th> <th>TOV</th> <th>PF</th> <th>PS/G</th> <th>Rk_2</th> <th>Tm_2</th> <th>2018-19</th>\n",
       "        </tr>\n",
       "    </thead>\n",
       "    <tbody>\n",
       "        <tr>\n",
       "            <td>Al Horford\\horfoal01     </td> <td>227 </td> <td>C   </td> <td>31  </td> <td>BOS </td> <td>72  </td> <td>72  </td> <td>31.6</td> <td>5.1 </td> <td>10.5</td> <td>0.489</td> <td>1.3 </td> <td>3.1 </td> <td>0.429</td> <td>3.8 </td> <td>7.3 </td> <td>0.514</td> <td>0.553</td> <td>1.3 </td> <td>1.7 </td> <td>0.783</td> <td>1.4 </td> <td>5.9 </td> <td>7.4 </td> <td>4.7 </td> <td>0.6 </td> <td>1.1 </td> <td>1.8 </td> <td>1.9 </td> <td>12.9</td> <td>13  </td> <td>BOS </td> <td>2.89287e+07</td>\n",
       "        </tr>\n",
       "        <tr>\n",
       "            <td>Al Jefferson\\jeffeal01   </td> <td>250 </td> <td>C   </td> <td>33  </td> <td>IND </td> <td>36  </td> <td>1   </td> <td>13.4</td> <td>3.1 </td> <td>5.8 </td> <td>0.534</td> <td>0   </td> <td>0.1 </td> <td>0    </td> <td>3.1 </td> <td>5.7 </td> <td>0.541</td> <td>0.534</td> <td>0.8 </td> <td>1   </td> <td>0.833</td> <td>0.8 </td> <td>3.1 </td> <td>4   </td> <td>0.8 </td> <td>0.4 </td> <td>0.6 </td> <td>0.6 </td> <td>1.8 </td> <td>7   </td> <td>235 </td> <td>IND </td> <td>4e+06      </td>\n",
       "        </tr>\n",
       "        <tr>\n",
       "            <td>Alex Len\\lenal01         </td> <td>292 </td> <td>C   </td> <td>24  </td> <td>PHO </td> <td>69  </td> <td>13  </td> <td>20.2</td> <td>3.1 </td> <td>5.5 </td> <td>0.566</td> <td>0   </td> <td>0   </td> <td>0.333</td> <td>3.1 </td> <td>5.4 </td> <td>0.568</td> <td>0.567</td> <td>2.3 </td> <td>3.3 </td> <td>0.684</td> <td>2.5 </td> <td>5   </td> <td>7.5 </td> <td>1.2 </td> <td>0.4 </td> <td>0.9 </td> <td>1.1 </td> <td>2.3 </td> <td>8.5 </td> <td>227 </td> <td>ATL </td> <td>4.35e+06   </td>\n",
       "        </tr>\n",
       "        <tr>\n",
       "            <td>Amir Johnson\\johnsam01   </td> <td>254 </td> <td>C   </td> <td>30  </td> <td>PHI </td> <td>74  </td> <td>18  </td> <td>15.8</td> <td>1.9 </td> <td>3.5 </td> <td>0.538</td> <td>0.1 </td> <td>0.4 </td> <td>0.313</td> <td>1.8 </td> <td>3.1 </td> <td>0.57 </td> <td>0.558</td> <td>0.7 </td> <td>1.1 </td> <td>0.612</td> <td>1.7 </td> <td>2.8 </td> <td>4.5 </td> <td>1.6 </td> <td>0.6 </td> <td>0.6 </td> <td>0.7 </td> <td>2.6 </td> <td>4.6 </td> <td>301 </td> <td>PHI </td> <td>2.39389e+06</td>\n",
       "        </tr>\n",
       "        <tr>\n",
       "            <td>Andre Drummond\\drumman01 </td> <td>140 </td> <td>C   </td> <td>24  </td> <td>DET </td> <td>78  </td> <td>78  </td> <td>33.7</td> <td>6   </td> <td>11.3</td> <td>0.529</td> <td>0   </td> <td>0.1 </td> <td>0    </td> <td>6   </td> <td>11.2</td> <td>0.536</td> <td>0.529</td> <td>3.1 </td> <td>5.1 </td> <td>0.605</td> <td>5.1 </td> <td>10.9</td> <td>16  </td> <td>3   </td> <td>1.5 </td> <td>1.6 </td> <td>2.6 </td> <td>3.2 </td> <td>15  </td> <td>25  </td> <td>DET </td> <td>2.54343e+07</td>\n",
       "        </tr>\n",
       "        <tr>\n",
       "            <td>Aron Baynes\\baynear01    </td> <td>35  </td> <td>C   </td> <td>31  </td> <td>BOS </td> <td>81  </td> <td>67  </td> <td>18.3</td> <td>2.6 </td> <td>5.5 </td> <td>0.471</td> <td>0   </td> <td>0.3 </td> <td>0.143</td> <td>2.6 </td> <td>5.2 </td> <td>0.487</td> <td>0.474</td> <td>0.7 </td> <td>1   </td> <td>0.756</td> <td>1.6 </td> <td>3.8 </td> <td>5.4 </td> <td>1.1 </td> <td>0.3 </td> <td>0.6 </td> <td>1   </td> <td>2.5 </td> <td>6   </td> <td>210 </td> <td>BOS </td> <td>5.1936e+06 </td>\n",
       "        </tr>\n",
       "        <tr>\n",
       "            <td>Bismack Biyombo\\biyombi01</td> <td>48  </td> <td>C   </td> <td>25  </td> <td>ORL </td> <td>82  </td> <td>25  </td> <td>18.2</td> <td>2.2 </td> <td>4.3 </td> <td>0.52 </td> <td>0   </td> <td>0   </td> <td>0    </td> <td>2.2 </td> <td>4.3 </td> <td>0.521</td> <td>0.52 </td> <td>1.2 </td> <td>1.9 </td> <td>0.65 </td> <td>1.8 </td> <td>4   </td> <td>5.7 </td> <td>0.8 </td> <td>0.3 </td> <td>1.2 </td> <td>1   </td> <td>1.9 </td> <td>5.7 </td> <td>66  </td> <td>CHO </td> <td>1.7e+07    </td>\n",
       "        </tr>\n",
       "        <tr>\n",
       "            <td>Brook Lopez\\lopezbr01    </td> <td>302 </td> <td>C   </td> <td>29  </td> <td>LAL </td> <td>74  </td> <td>72  </td> <td>23.4</td> <td>5   </td> <td>10.7</td> <td>0.465</td> <td>1.5 </td> <td>4.4 </td> <td>0.345</td> <td>3.5 </td> <td>6.3 </td> <td>0.549</td> <td>0.536</td> <td>1.5 </td> <td>2.1 </td> <td>0.703</td> <td>1   </td> <td>3   </td> <td>4   </td> <td>1.7 </td> <td>0.4 </td> <td>1.3 </td> <td>1.3 </td> <td>2.6 </td> <td>13  </td> <td>253 </td> <td>MIL </td> <td>3.382e+06  </td>\n",
       "        </tr>\n",
       "        <tr>\n",
       "            <td>Channing Frye\\fryech01   </td> <td>166 </td> <td>C   </td> <td>34  </td> <td>TOT </td> <td>53  </td> <td>1   </td> <td>13.1</td> <td>2   </td> <td>4   </td> <td>0.491</td> <td>0.7 </td> <td>2.2 </td> <td>0.339</td> <td>1.2 </td> <td>1.8 </td> <td>0.67 </td> <td>0.583</td> <td>0.3 </td> <td>0.4 </td> <td>0.895</td> <td>0.2 </td> <td>2.3 </td> <td>2.5 </td> <td>0.7 </td> <td>0.3 </td> <td>0.2 </td> <td>0.4 </td> <td>1.3 </td> <td>5   </td> <td>312 </td> <td>CLE </td> <td>2.39389e+06</td>\n",
       "        </tr>\n",
       "        <tr>\n",
       "            <td>Clint Capela\\capelca01   </td> <td>85  </td> <td>C   </td> <td>23  </td> <td>HOU </td> <td>74  </td> <td>74  </td> <td>27.5</td> <td>6   </td> <td>9.1 </td> <td>0.652</td> <td>0   </td> <td>0   </td> <td>0    </td> <td>6   </td> <td>9.1 </td> <td>0.653</td> <td>0.652</td> <td>1.9 </td> <td>3.5 </td> <td>0.56 </td> <td>3.3 </td> <td>7.6 </td> <td>10.8</td> <td>0.9 </td> <td>0.8 </td> <td>1.9 </td> <td>1.4 </td> <td>2.5 </td> <td>13.9</td> <td>76  </td> <td>HOU </td> <td>1.52931e+07</td>\n",
       "        </tr>\n",
       "    </tbody>\n",
       "</table>\n",
       "<p>... (48 rows omitted)</p>"
      ],
      "text/plain": [
       "Player                    | Rk   | Pos  | Age  | Tm   | G    | GS   | MP   | FG   | FGA  | FG%   | 3P   | 3PA  | 3P%   | 2P   | 2PA  | 2P%   | eFG%  | FT   | FTA  | FT%   | ORB  | DRB  | TRB  | AST  | STL  | BLK  | TOV  | PF   | PS/G | Rk_2 | Tm_2 | 2018-19\n",
       "Al Horford\\horfoal01      | 227  | C    | 31   | BOS  | 72   | 72   | 31.6 | 5.1  | 10.5 | 0.489 | 1.3  | 3.1  | 0.429 | 3.8  | 7.3  | 0.514 | 0.553 | 1.3  | 1.7  | 0.783 | 1.4  | 5.9  | 7.4  | 4.7  | 0.6  | 1.1  | 1.8  | 1.9  | 12.9 | 13   | BOS  | 2.89287e+07\n",
       "Al Jefferson\\jeffeal01    | 250  | C    | 33   | IND  | 36   | 1    | 13.4 | 3.1  | 5.8  | 0.534 | 0    | 0.1  | 0     | 3.1  | 5.7  | 0.541 | 0.534 | 0.8  | 1    | 0.833 | 0.8  | 3.1  | 4    | 0.8  | 0.4  | 0.6  | 0.6  | 1.8  | 7    | 235  | IND  | 4e+06\n",
       "Alex Len\\lenal01          | 292  | C    | 24   | PHO  | 69   | 13   | 20.2 | 3.1  | 5.5  | 0.566 | 0    | 0    | 0.333 | 3.1  | 5.4  | 0.568 | 0.567 | 2.3  | 3.3  | 0.684 | 2.5  | 5    | 7.5  | 1.2  | 0.4  | 0.9  | 1.1  | 2.3  | 8.5  | 227  | ATL  | 4.35e+06\n",
       "Amir Johnson\\johnsam01    | 254  | C    | 30   | PHI  | 74   | 18   | 15.8 | 1.9  | 3.5  | 0.538 | 0.1  | 0.4  | 0.313 | 1.8  | 3.1  | 0.57  | 0.558 | 0.7  | 1.1  | 0.612 | 1.7  | 2.8  | 4.5  | 1.6  | 0.6  | 0.6  | 0.7  | 2.6  | 4.6  | 301  | PHI  | 2.39389e+06\n",
       "Andre Drummond\\drumman01  | 140  | C    | 24   | DET  | 78   | 78   | 33.7 | 6    | 11.3 | 0.529 | 0    | 0.1  | 0     | 6    | 11.2 | 0.536 | 0.529 | 3.1  | 5.1  | 0.605 | 5.1  | 10.9 | 16   | 3    | 1.5  | 1.6  | 2.6  | 3.2  | 15   | 25   | DET  | 2.54343e+07\n",
       "Aron Baynes\\baynear01     | 35   | C    | 31   | BOS  | 81   | 67   | 18.3 | 2.6  | 5.5  | 0.471 | 0    | 0.3  | 0.143 | 2.6  | 5.2  | 0.487 | 0.474 | 0.7  | 1    | 0.756 | 1.6  | 3.8  | 5.4  | 1.1  | 0.3  | 0.6  | 1    | 2.5  | 6    | 210  | BOS  | 5.1936e+06\n",
       "Bismack Biyombo\\biyombi01 | 48   | C    | 25   | ORL  | 82   | 25   | 18.2 | 2.2  | 4.3  | 0.52  | 0    | 0    | 0     | 2.2  | 4.3  | 0.521 | 0.52  | 1.2  | 1.9  | 0.65  | 1.8  | 4    | 5.7  | 0.8  | 0.3  | 1.2  | 1    | 1.9  | 5.7  | 66   | CHO  | 1.7e+07\n",
       "Brook Lopez\\lopezbr01     | 302  | C    | 29   | LAL  | 74   | 72   | 23.4 | 5    | 10.7 | 0.465 | 1.5  | 4.4  | 0.345 | 3.5  | 6.3  | 0.549 | 0.536 | 1.5  | 2.1  | 0.703 | 1    | 3    | 4    | 1.7  | 0.4  | 1.3  | 1.3  | 2.6  | 13   | 253  | MIL  | 3.382e+06\n",
       "Channing Frye\\fryech01    | 166  | C    | 34   | TOT  | 53   | 1    | 13.1 | 2    | 4    | 0.491 | 0.7  | 2.2  | 0.339 | 1.2  | 1.8  | 0.67  | 0.583 | 0.3  | 0.4  | 0.895 | 0.2  | 2.3  | 2.5  | 0.7  | 0.3  | 0.2  | 0.4  | 1.3  | 5    | 312  | CLE  | 2.39389e+06\n",
       "Clint Capela\\capelca01    | 85   | C    | 23   | HOU  | 74   | 74   | 27.5 | 6    | 9.1  | 0.652 | 0    | 0    | 0     | 6    | 9.1  | 0.653 | 0.652 | 1.9  | 3.5  | 0.56  | 3.3  | 7.6  | 10.8 | 0.9  | 0.8  | 1.9  | 1.4  | 2.5  | 13.9 | 76   | HOU  | 1.52931e+07\n",
       "... (48 rows omitted)"
      ]
     },
     "execution_count": 301,
     "metadata": {},
     "output_type": "execute_result"
    }
   ],
   "source": [
    "#C\n",
    "center = players.where('Pos', are.equal_to('C'))\n",
    "center"
   ]
  },
  {
   "cell_type": "markdown",
   "metadata": {},
   "source": [
    "**Tables of statistic sum per position, including salary average for that position:**"
   ]
  },
  {
   "cell_type": "code",
   "execution_count": 302,
   "metadata": {},
   "outputs": [],
   "source": [
    "# input table of players for each position, outputs table with sums of each category of statistic:\n",
    "def stat_sums_table(table):\n",
    "    fg_sum = np.sum(table.column('FG'))\n",
    "    fga_sum = np.sum(table.column('FGA'))\n",
    "    fgpct_sum = np.sum(table.column('FG%'))\n",
    "    three_p_sum = np.sum(table.column('3P'))\n",
    "    three_pa_sum = np.sum(table.column('3PA'))\n",
    "    three_ppct_sum = np.sum(table.column('3P%'))\n",
    "    two_p_sum = np.sum(table.column('2P'))\n",
    "    two_pa_sum = np.sum(table.column('2PA'))\n",
    "    two_ppct_sum = np.sum(table.column('2P%'))\n",
    "    efgpct_sum = np.sum(table.column('eFG%'))\n",
    "    orb_sum = np.sum(table.column('ORB'))\n",
    "    drb_sum = np.sum(table.column('DRB'))\n",
    "    trb_sum = np.sum(table.column('TRB'))\n",
    "    ast_sum = np.sum(table.column('AST'))\n",
    "    stl_sum = np.sum(table.column('STL'))\n",
    "    blk_sum = np.sum(table.column('BLK'))\n",
    "    tov_sum = np.sum(table.column('TOV'))\n",
    "    pf_sum = np.sum(table.column('PF'))\n",
    "    pts_sum = np.sum(table.column('PS/G'))\n",
    "    salary_sum = np.sum(table.column('2018-19'))\n",
    "\n",
    "    stat_cats = ('FG', 'FGA', 'FG%', '3P', '3PA', '3P%', '2P', '2PA', '2P%', 'eFG%', 'ORB', 'DRB', \n",
    "                    'TRB', 'AST', 'STL', 'BLK', 'TOV', 'PF', 'PPG', '2018-19 Salary')\n",
    "\n",
    "    stat_sums = (fg_sum, fga_sum, fgpct_sum, three_p_sum, three_pa_sum, three_ppct_sum,\n",
    "                  two_p_sum, two_pa_sum, two_ppct_sum, efgpct_sum, orb_sum, drb_sum,\n",
    "                  trb_sum, ast_sum, stl_sum, blk_sum, tov_sum, pf_sum, pts_sum, salary_sum)\n",
    "    return Table().with_columns('Category', stat_cats, 'Sums', stat_sums)"
   ]
  },
  {
   "cell_type": "code",
   "execution_count": 386,
   "metadata": {},
   "outputs": [
    {
     "data": {
      "text/html": [
       "<table border=\"1\" class=\"dataframe\">\n",
       "    <thead>\n",
       "        <tr>\n",
       "            <th>Category</th> <th>Sums</th>\n",
       "        </tr>\n",
       "    </thead>\n",
       "    <tbody>\n",
       "        <tr>\n",
       "            <td>FG            </td> <td>200.2      </td>\n",
       "        </tr>\n",
       "        <tr>\n",
       "            <td>FGA           </td> <td>452.7      </td>\n",
       "        </tr>\n",
       "        <tr>\n",
       "            <td>FG%           </td> <td>19.317     </td>\n",
       "        </tr>\n",
       "        <tr>\n",
       "            <td>3P            </td> <td>58.8       </td>\n",
       "        </tr>\n",
       "        <tr>\n",
       "            <td>3PA           </td> <td>160.4      </td>\n",
       "        </tr>\n",
       "        <tr>\n",
       "            <td>3P%           </td> <td>15.109     </td>\n",
       "        </tr>\n",
       "        <tr>\n",
       "            <td>2P            </td> <td>141.5      </td>\n",
       "        </tr>\n",
       "        <tr>\n",
       "            <td>2PA           </td> <td>292.4      </td>\n",
       "        </tr>\n",
       "        <tr>\n",
       "            <td>2P%           </td> <td>21.222     </td>\n",
       "        </tr>\n",
       "        <tr>\n",
       "            <td>eFG%          </td> <td>22.086     </td>\n",
       "        </tr>\n",
       "        <tr>\n",
       "            <td>ORB           </td> <td>21.5       </td>\n",
       "        </tr>\n",
       "        <tr>\n",
       "            <td>DRB           </td> <td>111.7      </td>\n",
       "        </tr>\n",
       "        <tr>\n",
       "            <td>TRB           </td> <td>133.7      </td>\n",
       "        </tr>\n",
       "        <tr>\n",
       "            <td>AST           </td> <td>203.2      </td>\n",
       "        </tr>\n",
       "        <tr>\n",
       "            <td>STL           </td> <td>40.6       </td>\n",
       "        </tr>\n",
       "        <tr>\n",
       "            <td>BLK           </td> <td>9.6        </td>\n",
       "        </tr>\n",
       "        <tr>\n",
       "            <td>TOV           </td> <td>82.1       </td>\n",
       "        </tr>\n",
       "        <tr>\n",
       "            <td>PF            </td> <td>78.7       </td>\n",
       "        </tr>\n",
       "        <tr>\n",
       "            <td>PPG           </td> <td>562.7      </td>\n",
       "        </tr>\n",
       "        <tr>\n",
       "            <td>2018-19 Salary</td> <td>5.29523e+08</td>\n",
       "        </tr>\n",
       "    </tbody>\n",
       "</table>"
      ],
      "text/plain": [
       "<IPython.core.display.HTML object>"
      ]
     },
     "metadata": {},
     "output_type": "display_data"
    }
   ],
   "source": [
    "point_guard_sums = stat_sums_table(point_guard)\n",
    "point_guard_sums.show()"
   ]
  },
  {
   "cell_type": "code",
   "execution_count": 308,
   "metadata": {},
   "outputs": [],
   "source": [
    "shooting_guard_sums = stat_sums_table(shooting_guard)\n",
    "power_forward_sums = stat_sums_table(power_forward)\n",
    "small_forward_sums = stat_sums_table(small_forward)\n",
    "center_sums = stat_sums_table(center)"
   ]
  },
  {
   "cell_type": "code",
   "execution_count": 309,
   "metadata": {},
   "outputs": [],
   "source": [
    "shooting_guard_sums = shooting_guard_sums.sort('Sums', descending=True)\n",
    "power_forward_sums = power_forward_sums.sort('Sums', descending=True)\n",
    "small_forward_sums = small_forward_sums.sort('Sums', descending=True)\n",
    "center_sums = center_sums.sort('Sums', descending=True)"
   ]
  },
  {
   "cell_type": "markdown",
   "metadata": {},
   "source": [
    "**Tables of statistic averages per position, including salary average for that position:**"
   ]
  },
  {
   "cell_type": "code",
   "execution_count": 305,
   "metadata": {},
   "outputs": [],
   "source": [
    "# input table of players for each position, outputs table with sums of each category of statistic:\n",
    "def stat_means_table(table):\n",
    "    fg = np.mean(table.column('FG'))\n",
    "    fga = np.mean(table.column('FGA'))\n",
    "    fgpct = np.mean(table.column('FG%'))\n",
    "    three_p = np.mean(table.column('3P'))\n",
    "    three_pa = np.mean(table.column('3PA'))\n",
    "    three_ppct = np.mean(table.column('3P%'))\n",
    "    two_p = np.mean(table.column('2P'))\n",
    "    two_pa = np.mean(table.column('2PA'))\n",
    "    two_ppct = np.mean(table.column('2P%'))\n",
    "    efgpct = np.mean(table.column('eFG%'))\n",
    "    orb = np.mean(table.column('ORB'))\n",
    "    drb = np.mean(table.column('DRB'))\n",
    "    trb = np.mean(table.column('TRB'))\n",
    "    ast = np.mean(table.column('AST'))\n",
    "    stl = np.mean(table.column('STL'))\n",
    "    blk = np.mean(table.column('BLK'))\n",
    "    tov = np.mean(table.column('TOV'))\n",
    "    pf = np.mean(table.column('PF'))\n",
    "    pts = np.mean(table.column('PS/G'))\n",
    "    salary = np.mean(table.column('2018-19'))\n",
    "\n",
    "    stat_cats = ('FG', 'FGA', 'FG%', '3P', '3PA', '3P%', '2P', '2PA', '2P%', 'eFG%', 'ORB', 'DRB', \n",
    "                    'TRB', 'AST', 'STL', 'BLK', 'TOV', 'PF', 'PPG', '2018-19 Salary')\n",
    "\n",
    "    stat_averages = (fg, fga, fgpct, three_p, three_pa, three_ppct,\n",
    "                  two_p, two_pa, two_ppct, efgpct, orb, drb,\n",
    "                  trb, ast, stl, blk, tov, pf, pts, salary)\n",
    "    return Table().with_columns('Category', stat_cats, 'Means', stat_averages)"
   ]
  },
  {
   "cell_type": "code",
   "execution_count": 387,
   "metadata": {},
   "outputs": [
    {
     "data": {
      "text/html": [
       "<table border=\"1\" class=\"dataframe\">\n",
       "    <thead>\n",
       "        <tr>\n",
       "            <th>Category</th> <th>Means</th>\n",
       "        </tr>\n",
       "    </thead>\n",
       "    <tbody>\n",
       "        <tr>\n",
       "            <td>FG            </td> <td>4.55       </td>\n",
       "        </tr>\n",
       "        <tr>\n",
       "            <td>FGA           </td> <td>10.2886    </td>\n",
       "        </tr>\n",
       "        <tr>\n",
       "            <td>FG%           </td> <td>0.439023   </td>\n",
       "        </tr>\n",
       "        <tr>\n",
       "            <td>3P            </td> <td>1.33636    </td>\n",
       "        </tr>\n",
       "        <tr>\n",
       "            <td>3PA           </td> <td>3.64545    </td>\n",
       "        </tr>\n",
       "        <tr>\n",
       "            <td>3P%           </td> <td>0.343386   </td>\n",
       "        </tr>\n",
       "        <tr>\n",
       "            <td>2P            </td> <td>3.21591    </td>\n",
       "        </tr>\n",
       "        <tr>\n",
       "            <td>2PA           </td> <td>6.64545    </td>\n",
       "        </tr>\n",
       "        <tr>\n",
       "            <td>2P%           </td> <td>0.482318   </td>\n",
       "        </tr>\n",
       "        <tr>\n",
       "            <td>eFG%          </td> <td>0.501955   </td>\n",
       "        </tr>\n",
       "        <tr>\n",
       "            <td>ORB           </td> <td>0.488636   </td>\n",
       "        </tr>\n",
       "        <tr>\n",
       "            <td>DRB           </td> <td>2.53864    </td>\n",
       "        </tr>\n",
       "        <tr>\n",
       "            <td>TRB           </td> <td>3.03864    </td>\n",
       "        </tr>\n",
       "        <tr>\n",
       "            <td>AST           </td> <td>4.61818    </td>\n",
       "        </tr>\n",
       "        <tr>\n",
       "            <td>STL           </td> <td>0.922727   </td>\n",
       "        </tr>\n",
       "        <tr>\n",
       "            <td>BLK           </td> <td>0.218182   </td>\n",
       "        </tr>\n",
       "        <tr>\n",
       "            <td>TOV           </td> <td>1.86591    </td>\n",
       "        </tr>\n",
       "        <tr>\n",
       "            <td>PF            </td> <td>1.78864    </td>\n",
       "        </tr>\n",
       "        <tr>\n",
       "            <td>PPG           </td> <td>12.7886    </td>\n",
       "        </tr>\n",
       "        <tr>\n",
       "            <td>2018-19 Salary</td> <td>1.20346e+07</td>\n",
       "        </tr>\n",
       "    </tbody>\n",
       "</table>"
      ],
      "text/plain": [
       "<IPython.core.display.HTML object>"
      ]
     },
     "metadata": {},
     "output_type": "display_data"
    }
   ],
   "source": [
    "point_guard_means = stat_means_table(point_guard)\n",
    "point_guard_means.show()"
   ]
  },
  {
   "cell_type": "code",
   "execution_count": 307,
   "metadata": {},
   "outputs": [],
   "source": [
    "shooting_guard_means = stat_means_table(shooting_guard)\n",
    "power_forward_means = stat_means_table(power_forward)\n",
    "small_forward_means = stat_means_table(small_forward)\n",
    "center_means = stat_means_table(center)"
   ]
  },
  {
   "cell_type": "code",
   "execution_count": 310,
   "metadata": {},
   "outputs": [],
   "source": [
    "shooting_guard_means = shooting_guard_means.sort('Means', descending=True)\n",
    "power_forward_means = power_forward_means.sort('Means', descending=True)\n",
    "small_forward_means = small_forward_means.sort('Means', descending=True)\n",
    "center_means = center_means.sort('Means', descending=True)"
   ]
  },
  {
   "cell_type": "markdown",
   "metadata": {},
   "source": [
    "### Analyze the rank of the positions' means per category. "
   ]
  },
  {
   "cell_type": "code",
   "execution_count": 315,
   "metadata": {},
   "outputs": [],
   "source": [
    "# change the 'means' column title to 'position means'\n",
    "def change_title(table, position):\n",
    "    table = table.relabel('Means', position + ' Means')"
   ]
  },
  {
   "cell_type": "code",
   "execution_count": 338,
   "metadata": {
    "scrolled": true
   },
   "outputs": [
    {
     "data": {
      "text/html": [
       "<table border=\"1\" class=\"dataframe\">\n",
       "    <thead>\n",
       "        <tr>\n",
       "            <th>Category</th> <th>PG Means</th> <th>SG Means</th> <th>PF Means</th> <th>SF Means</th> <th>C Means</th>\n",
       "        </tr>\n",
       "    </thead>\n",
       "    <tbody>\n",
       "        <tr>\n",
       "            <td>2018-19 Salary</td> <td>1.20346e+07</td> <td>1.11578e+07</td> <td>1.30362e+07</td> <td>1.2044e+07</td> <td>1.15952e+07</td>\n",
       "        </tr>\n",
       "        <tr>\n",
       "            <td>2P            </td> <td>3.21591    </td> <td>2.94386    </td> <td>3.32444    </td> <td>2.35641   </td> <td>3.33793    </td>\n",
       "        </tr>\n",
       "        <tr>\n",
       "            <td>2P%           </td> <td>0.482318   </td> <td>0.482667   </td> <td>0.507067   </td> <td>0.508821  </td> <td>0.5475     </td>\n",
       "        </tr>\n",
       "        <tr>\n",
       "            <td>2PA           </td> <td>6.64545    </td> <td>6.04211    </td> <td>6.35778    </td> <td>4.63333   </td> <td>6.00862    </td>\n",
       "        </tr>\n",
       "        <tr>\n",
       "            <td>3P            </td> <td>1.33636    </td> <td>1.74737    </td> <td>1.15778    </td> <td>1.18205   </td> <td>0.306897   </td>\n",
       "        </tr>\n",
       "        <tr>\n",
       "            <td>3P%           </td> <td>0.343386   </td> <td>0.364526   </td> <td>nan        </td> <td>nan       </td> <td>nan        </td>\n",
       "        </tr>\n",
       "        <tr>\n",
       "            <td>3PA           </td> <td>3.64545    </td> <td>4.71404    </td> <td>3.15333    </td> <td>3.25128   </td> <td>0.901724   </td>\n",
       "        </tr>\n",
       "        <tr>\n",
       "            <td>AST           </td> <td>4.61818    </td> <td>2.65263    </td> <td>1.95111    </td> <td>1.66923   </td> <td>1.43103    </td>\n",
       "        </tr>\n",
       "        <tr>\n",
       "            <td>BLK           </td> <td>0.218182   </td> <td>0.335088   </td> <td>0.577778   </td> <td>0.361538  </td> <td>0.827586   </td>\n",
       "        </tr>\n",
       "        <tr>\n",
       "            <td>DRB           </td> <td>2.53864    </td> <td>2.67193    </td> <td>4.24889    </td> <td>2.80769   </td> <td>4.67414    </td>\n",
       "        </tr>\n",
       "    </tbody>\n",
       "</table>\n",
       "<p>... (10 rows omitted)</p>"
      ],
      "text/plain": [
       "Category       | PG Means    | SG Means    | PF Means    | SF Means   | C Means\n",
       "2018-19 Salary | 1.20346e+07 | 1.11578e+07 | 1.30362e+07 | 1.2044e+07 | 1.15952e+07\n",
       "2P             | 3.21591     | 2.94386     | 3.32444     | 2.35641    | 3.33793\n",
       "2P%            | 0.482318    | 0.482667    | 0.507067    | 0.508821   | 0.5475\n",
       "2PA            | 6.64545     | 6.04211     | 6.35778     | 4.63333    | 6.00862\n",
       "3P             | 1.33636     | 1.74737     | 1.15778     | 1.18205    | 0.306897\n",
       "3P%            | 0.343386    | 0.364526    | nan         | nan        | nan\n",
       "3PA            | 3.64545     | 4.71404     | 3.15333     | 3.25128    | 0.901724\n",
       "AST            | 4.61818     | 2.65263     | 1.95111     | 1.66923    | 1.43103\n",
       "BLK            | 0.218182    | 0.335088    | 0.577778    | 0.361538   | 0.827586\n",
       "DRB            | 2.53864     | 2.67193     | 4.24889     | 2.80769    | 4.67414\n",
       "... (10 rows omitted)"
      ]
     },
     "execution_count": 338,
     "metadata": {},
     "output_type": "execute_result"
    }
   ],
   "source": [
    "# join means columns from all tables into one to compare:\n",
    "all_position_means = point_guard_means.join('Category', shooting_guard_means).join('Category', power_forward_means).join('Category', small_forward_means).join('Category', center_means)\n",
    "all_position_means"
   ]
  },
  {
   "cell_type": "code",
   "execution_count": 341,
   "metadata": {},
   "outputs": [
    {
     "data": {
      "text/html": [
       "<table border=\"1\" class=\"dataframe\">\n",
       "    <thead>\n",
       "        <tr>\n",
       "            <th>Category</th> <th>PG Means</th> <th>SG Means</th> <th>PF Means</th> <th>SF Means</th> <th>C Means</th>\n",
       "        </tr>\n",
       "    </thead>\n",
       "    <tbody>\n",
       "        <tr>\n",
       "            <td>2018-19 Salary</td> <td>1.20346e+07</td> <td>1.11578e+07</td> <td>1.30362e+07</td> <td>1.2044e+07</td> <td>1.15952e+07</td>\n",
       "        </tr>\n",
       "        <tr>\n",
       "            <td>2P            </td> <td>3.21591    </td> <td>2.94386    </td> <td>3.32444    </td> <td>2.35641   </td> <td>3.33793    </td>\n",
       "        </tr>\n",
       "        <tr>\n",
       "            <td>2P%           </td> <td>0.482318   </td> <td>0.482667   </td> <td>0.507067   </td> <td>0.508821  </td> <td>0.5475     </td>\n",
       "        </tr>\n",
       "        <tr>\n",
       "            <td>2PA           </td> <td>6.64545    </td> <td>6.04211    </td> <td>6.35778    </td> <td>4.63333   </td> <td>6.00862    </td>\n",
       "        </tr>\n",
       "        <tr>\n",
       "            <td>3P            </td> <td>1.33636    </td> <td>1.74737    </td> <td>1.15778    </td> <td>1.18205   </td> <td>0.306897   </td>\n",
       "        </tr>\n",
       "        <tr>\n",
       "            <td>3P%           </td> <td>0.343386   </td> <td>0.364526   </td> <td>nan        </td> <td>nan       </td> <td>nan        </td>\n",
       "        </tr>\n",
       "        <tr>\n",
       "            <td>3PA           </td> <td>3.64545    </td> <td>4.71404    </td> <td>3.15333    </td> <td>3.25128   </td> <td>0.901724   </td>\n",
       "        </tr>\n",
       "        <tr>\n",
       "            <td>AST           </td> <td>4.61818    </td> <td>2.65263    </td> <td>1.95111    </td> <td>1.66923   </td> <td>1.43103    </td>\n",
       "        </tr>\n",
       "        <tr>\n",
       "            <td>BLK           </td> <td>0.218182   </td> <td>0.335088   </td> <td>0.577778   </td> <td>0.361538  </td> <td>0.827586   </td>\n",
       "        </tr>\n",
       "        <tr>\n",
       "            <td>DRB           </td> <td>2.53864    </td> <td>2.67193    </td> <td>4.24889    </td> <td>2.80769   </td> <td>4.67414    </td>\n",
       "        </tr>\n",
       "        <tr>\n",
       "            <td>FG            </td> <td>4.55       </td> <td>4.69474    </td> <td>4.47556    </td> <td>3.53846   </td> <td>3.64655    </td>\n",
       "        </tr>\n",
       "        <tr>\n",
       "            <td>FG%           </td> <td>0.439023   </td> <td>0.432018   </td> <td>0.459956   </td> <td>0.445923  </td> <td>0.521569   </td>\n",
       "        </tr>\n",
       "        <tr>\n",
       "            <td>FGA           </td> <td>10.2886    </td> <td>10.7526    </td> <td>9.50444    </td> <td>7.88974   </td> <td>6.90517    </td>\n",
       "        </tr>\n",
       "        <tr>\n",
       "            <td>ORB           </td> <td>0.488636   </td> <td>0.533333   </td> <td>1.15778    </td> <td>0.635897  </td> <td>1.87586    </td>\n",
       "        </tr>\n",
       "        <tr>\n",
       "            <td>PF            </td> <td>1.78864    </td> <td>1.80351    </td> <td>2.02444    </td> <td>1.70256   </td> <td>2.12069    </td>\n",
       "        </tr>\n",
       "        <tr>\n",
       "            <td>PPG           </td> <td>12.7886    </td> <td>13.0632    </td> <td>11.9644    </td> <td>9.6359    </td> <td>9.23103    </td>\n",
       "        </tr>\n",
       "        <tr>\n",
       "            <td>STL           </td> <td>0.922727   </td> <td>0.938596   </td> <td>0.724444   </td> <td>0.869231  </td> <td>0.543103   </td>\n",
       "        </tr>\n",
       "        <tr>\n",
       "            <td>TOV           </td> <td>1.86591    </td> <td>1.53684    </td> <td>1.36222    </td> <td>1.04615   </td> <td>1.27759    </td>\n",
       "        </tr>\n",
       "        <tr>\n",
       "            <td>TRB           </td> <td>3.03864    </td> <td>3.19474    </td> <td>5.39556    </td> <td>3.44872   </td> <td>6.55862    </td>\n",
       "        </tr>\n",
       "        <tr>\n",
       "            <td>eFG%          </td> <td>0.501955   </td> <td>0.51686    </td> <td>0.526578   </td> <td>0.516051  </td> <td>0.540069   </td>\n",
       "        </tr>\n",
       "    </tbody>\n",
       "</table>"
      ],
      "text/plain": [
       "<IPython.core.display.HTML object>"
      ]
     },
     "metadata": {},
     "output_type": "display_data"
    }
   ],
   "source": [
    "all_position_means.show()"
   ]
  },
  {
   "cell_type": "markdown",
   "metadata": {},
   "source": [
    "### After analying which statistic categories are most influential per position, we find the linear weights###"
   ]
  },
  {
   "cell_type": "markdown",
   "metadata": {},
   "source": [
    "**Statistics chosen per position. Small Forward position contains more categories as they are versatile and aren't defined by any one statistic**\n",
    "\n",
    "Point Guard: AST, PPG, TOV, 3P%, STL \n",
    "Shooting Guard: AST, PPG, TOV, 3P%, STL \n",
    "Small Forward: 2P%, 3P%, BLK, DRB, FG%, ORD, TRB\n",
    "Power Forward: DRB, BLK, FG%, ORD, TRB\n",
    "Center: 2P%, BLK, FG%, ORB, TRB"
   ]
  },
  {
   "cell_type": "markdown",
   "metadata": {},
   "source": [
    "### Use the sum tables per position to calculate the weight as such: ###\n",
    "For some ***x*** position and some ***n*** statistic category:\n",
    "\n",
    "Weight of ***n*** for position ***x*** = sum(total salary for all ***x***) / sum(total ***n*** for all ***x***)\n",
    "\n",
    "\n",
    "\n",
    "For example, to find the weight of points for centers: \n",
    "\n",
    "Weight of points for centers = total salary of all centers / total points scored by all centers"
   ]
  },
  {
   "cell_type": "code",
   "execution_count": 388,
   "metadata": {},
   "outputs": [
    {
     "data": {
      "text/html": [
       "<table border=\"1\" class=\"dataframe\">\n",
       "    <thead>\n",
       "        <tr>\n",
       "            <th>Category</th> <th>Means</th>\n",
       "        </tr>\n",
       "    </thead>\n",
       "    <tbody>\n",
       "        <tr>\n",
       "            <td>FG            </td> <td>4.55       </td>\n",
       "        </tr>\n",
       "        <tr>\n",
       "            <td>FGA           </td> <td>10.2886    </td>\n",
       "        </tr>\n",
       "        <tr>\n",
       "            <td>FG%           </td> <td>0.439023   </td>\n",
       "        </tr>\n",
       "        <tr>\n",
       "            <td>3P            </td> <td>1.33636    </td>\n",
       "        </tr>\n",
       "        <tr>\n",
       "            <td>3PA           </td> <td>3.64545    </td>\n",
       "        </tr>\n",
       "        <tr>\n",
       "            <td>3P%           </td> <td>0.343386   </td>\n",
       "        </tr>\n",
       "        <tr>\n",
       "            <td>2P            </td> <td>3.21591    </td>\n",
       "        </tr>\n",
       "        <tr>\n",
       "            <td>2PA           </td> <td>6.64545    </td>\n",
       "        </tr>\n",
       "        <tr>\n",
       "            <td>2P%           </td> <td>0.482318   </td>\n",
       "        </tr>\n",
       "        <tr>\n",
       "            <td>eFG%          </td> <td>0.501955   </td>\n",
       "        </tr>\n",
       "        <tr>\n",
       "            <td>ORB           </td> <td>0.488636   </td>\n",
       "        </tr>\n",
       "        <tr>\n",
       "            <td>DRB           </td> <td>2.53864    </td>\n",
       "        </tr>\n",
       "        <tr>\n",
       "            <td>TRB           </td> <td>3.03864    </td>\n",
       "        </tr>\n",
       "        <tr>\n",
       "            <td>AST           </td> <td>4.61818    </td>\n",
       "        </tr>\n",
       "        <tr>\n",
       "            <td>STL           </td> <td>0.922727   </td>\n",
       "        </tr>\n",
       "        <tr>\n",
       "            <td>BLK           </td> <td>0.218182   </td>\n",
       "        </tr>\n",
       "        <tr>\n",
       "            <td>TOV           </td> <td>1.86591    </td>\n",
       "        </tr>\n",
       "        <tr>\n",
       "            <td>PF            </td> <td>1.78864    </td>\n",
       "        </tr>\n",
       "        <tr>\n",
       "            <td>PPG           </td> <td>12.7886    </td>\n",
       "        </tr>\n",
       "        <tr>\n",
       "            <td>2018-19 Salary</td> <td>1.20346e+07</td>\n",
       "        </tr>\n",
       "    </tbody>\n",
       "</table>"
      ],
      "text/plain": [
       "<IPython.core.display.HTML object>"
      ]
     },
     "metadata": {},
     "output_type": "display_data"
    }
   ],
   "source": [
    "point_guard_means.show()"
   ]
  },
  {
   "cell_type": "code",
   "execution_count": 397,
   "metadata": {},
   "outputs": [
    {
     "data": {
      "text/html": [
       "<table border=\"1\" class=\"dataframe\">\n",
       "    <thead>\n",
       "        <tr>\n",
       "            <th>Category</th> <th>Sums</th>\n",
       "        </tr>\n",
       "    </thead>\n",
       "    <tbody>\n",
       "        <tr>\n",
       "            <td>AST           </td> <td>203.2      </td>\n",
       "        </tr>\n",
       "        <tr>\n",
       "            <td>PPG           </td> <td>562.7      </td>\n",
       "        </tr>\n",
       "        <tr>\n",
       "            <td>TOV           </td> <td>82.1       </td>\n",
       "        </tr>\n",
       "        <tr>\n",
       "            <td>3P%           </td> <td>15.109     </td>\n",
       "        </tr>\n",
       "        <tr>\n",
       "            <td>STL           </td> <td>40.6       </td>\n",
       "        </tr>\n",
       "        <tr>\n",
       "            <td>2018-19 Salary</td> <td>5.29523e+08</td>\n",
       "        </tr>\n",
       "    </tbody>\n",
       "</table>"
      ],
      "text/plain": [
       "Category       | Sums\n",
       "AST            | 203.2\n",
       "PPG            | 562.7\n",
       "TOV            | 82.1\n",
       "3P%            | 15.109\n",
       "STL            | 40.6\n",
       "2018-19 Salary | 5.29523e+08"
      ]
     },
     "execution_count": 397,
     "metadata": {},
     "output_type": "execute_result"
    }
   ],
   "source": [
    "# create a table with the sums of only the chosen statistics\n",
    "pg_chosen = point_guard_sums.take((13, 18, 16, 5, 14, 19))\n",
    "sg_chosen = shooting_guard_sums.take((1, 9, 12, 18, 13, 0))\n",
    "sf_chosen = small_forward_sums.take((17, 19, 8, 11, 18, 15, 6, 1))\n",
    "pf_chosen = power_forward_sums.take((7, 16, 19, 14, 5, 1))\n",
    "c_chosen = center_sums.take((15, 14, 18, 10, 4, 1))\n",
    "#Point Guard: AST, PPG, TOV, 3P%, STL \n",
    "pg_chosen"
   ]
  },
  {
   "cell_type": "code",
   "execution_count": 398,
   "metadata": {},
   "outputs": [],
   "source": [
    "def calculate_weight(sums_table, stat_cat_title):\n",
    "    salary = sums_table.where('Category', are.equal_to('2018-19 Salary')).column('Sums').item(0)\n",
    "    category_value = sums_table.where('Category', are.equal_to(stat_cat_title)).column('Sums').item(0)\n",
    "    return salary/category_value"
   ]
  },
  {
   "cell_type": "code",
   "execution_count": 399,
   "metadata": {},
   "outputs": [],
   "source": [
    "def table_with_weights(sums_table):\n",
    "    salary = sums_table.where('Category', are.equal_to('2018-19 Salary')).column('Sums').item(0)\n",
    "    weight_array = []\n",
    "    for i in np.arange(sums_table.num_rows):\n",
    "        category_value = sums_table.column('Sums').item(i)\n",
    "        weight_array.append(salary/category_value)\n",
    "    return sums_table.with_column('Weights', weight_array)"
   ]
  },
  {
   "cell_type": "code",
   "execution_count": 400,
   "metadata": {},
   "outputs": [
    {
     "data": {
      "text/html": [
       "<table border=\"1\" class=\"dataframe\">\n",
       "    <thead>\n",
       "        <tr>\n",
       "            <th>Category</th> <th>Sums</th> <th>Weights</th>\n",
       "        </tr>\n",
       "    </thead>\n",
       "    <tbody>\n",
       "        <tr>\n",
       "            <td>AST           </td> <td>203.2      </td> <td>2.60592e+06</td>\n",
       "        </tr>\n",
       "        <tr>\n",
       "            <td>PPG           </td> <td>562.7      </td> <td>941040     </td>\n",
       "        </tr>\n",
       "        <tr>\n",
       "            <td>TOV           </td> <td>82.1       </td> <td>6.44974e+06</td>\n",
       "        </tr>\n",
       "        <tr>\n",
       "            <td>3P%           </td> <td>15.109     </td> <td>3.50469e+07</td>\n",
       "        </tr>\n",
       "        <tr>\n",
       "            <td>STL           </td> <td>40.6       </td> <td>1.30424e+07</td>\n",
       "        </tr>\n",
       "        <tr>\n",
       "            <td>2018-19 Salary</td> <td>5.29523e+08</td> <td>1          </td>\n",
       "        </tr>\n",
       "    </tbody>\n",
       "</table>"
      ],
      "text/plain": [
       "Category       | Sums        | Weights\n",
       "AST            | 203.2       | 2.60592e+06\n",
       "PPG            | 562.7       | 941040\n",
       "TOV            | 82.1        | 6.44974e+06\n",
       "3P%            | 15.109      | 3.50469e+07\n",
       "STL            | 40.6        | 1.30424e+07\n",
       "2018-19 Salary | 5.29523e+08 | 1"
      ]
     },
     "execution_count": 400,
     "metadata": {},
     "output_type": "execute_result"
    }
   ],
   "source": [
    "pg_weights = table_with_weights(pg_chosen)\n",
    "pg_weights"
   ]
  },
  {
   "cell_type": "code",
   "execution_count": 401,
   "metadata": {},
   "outputs": [],
   "source": [
    "sg_weights = table_with_weights(sg_chosen)\n",
    "pf_weights = table_with_weights(pf_chosen)\n",
    "sf_weights = table_with_weights(sf_chosen)\n",
    "c_weights = table_with_weights(c_chosen)"
   ]
  },
  {
   "cell_type": "markdown",
   "metadata": {},
   "source": [
    "### Analyze and Reflect on weights and decide which are important:###"
   ]
  },
  {
   "cell_type": "code",
   "execution_count": 402,
   "metadata": {},
   "outputs": [
    {
     "data": {
      "text/html": [
       "<table border=\"1\" class=\"dataframe\">\n",
       "    <thead>\n",
       "        <tr>\n",
       "            <th>Category</th> <th>Sums</th> <th>Weights</th>\n",
       "        </tr>\n",
       "    </thead>\n",
       "    <tbody>\n",
       "        <tr>\n",
       "            <td>AST           </td> <td>203.2      </td> <td>2.60592e+06</td>\n",
       "        </tr>\n",
       "        <tr>\n",
       "            <td>PPG           </td> <td>562.7      </td> <td>941040     </td>\n",
       "        </tr>\n",
       "        <tr>\n",
       "            <td>TOV           </td> <td>82.1       </td> <td>6.44974e+06</td>\n",
       "        </tr>\n",
       "        <tr>\n",
       "            <td>3P%           </td> <td>15.109     </td> <td>3.50469e+07</td>\n",
       "        </tr>\n",
       "        <tr>\n",
       "            <td>STL           </td> <td>40.6       </td> <td>1.30424e+07</td>\n",
       "        </tr>\n",
       "        <tr>\n",
       "            <td>2018-19 Salary</td> <td>5.29523e+08</td> <td>1          </td>\n",
       "        </tr>\n",
       "    </tbody>\n",
       "</table>"
      ],
      "text/plain": [
       "<IPython.core.display.HTML object>"
      ]
     },
     "metadata": {},
     "output_type": "display_data"
    }
   ],
   "source": [
    "pg_weights.show()"
   ]
  },
  {
   "cell_type": "markdown",
   "metadata": {},
   "source": [
    "The formula for point guard salary is given by,\n",
    "\n",
    "Salary = 2.6 * AST + 0.94 * PPG - 6.4 * TOV + 35 * 3P% + 13 * STL"
   ]
  },
  {
   "cell_type": "code",
   "execution_count": 380,
   "metadata": {},
   "outputs": [
    {
     "data": {
      "text/html": [
       "<table border=\"1\" class=\"dataframe\">\n",
       "    <thead>\n",
       "        <tr>\n",
       "            <th>Category</th> <th>Sums</th> <th>Weights</th>\n",
       "        </tr>\n",
       "    </thead>\n",
       "    <tbody>\n",
       "        <tr>\n",
       "            <td>PPG           </td> <td>744.6      </td> <td>854146     </td>\n",
       "        </tr>\n",
       "        <tr>\n",
       "            <td>AST           </td> <td>151.2      </td> <td>4.20633e+06</td>\n",
       "        </tr>\n",
       "        <tr>\n",
       "            <td>TOV           </td> <td>87.6       </td> <td>7.26024e+06</td>\n",
       "        </tr>\n",
       "        <tr>\n",
       "            <td>3P%           </td> <td>20.778     </td> <td>3.06091e+07</td>\n",
       "        </tr>\n",
       "        <tr>\n",
       "            <td>STL           </td> <td>53.5       </td> <td>1.18878e+07</td>\n",
       "        </tr>\n",
       "        <tr>\n",
       "            <td>2018-19 Salary</td> <td>6.35997e+08</td> <td>1          </td>\n",
       "        </tr>\n",
       "    </tbody>\n",
       "</table>"
      ],
      "text/plain": [
       "<IPython.core.display.HTML object>"
      ]
     },
     "metadata": {},
     "output_type": "display_data"
    }
   ],
   "source": [
    "sg_weights.show()"
   ]
  },
  {
   "cell_type": "markdown",
   "metadata": {},
   "source": [
    "The formula for shooting guard salary is given by,\n",
    "\n",
    "Salary = 4.2 * AST + 0.85 * PPG - 7.2 * TOV + 30 * 3P% + 11 * STL"
   ]
  },
  {
   "cell_type": "code",
   "execution_count": 381,
   "metadata": {},
   "outputs": [
    {
     "data": {
      "text/html": [
       "<table border=\"1\" class=\"dataframe\">\n",
       "    <thead>\n",
       "        <tr>\n",
       "            <th>Category</th> <th>Sums</th> <th>Weights</th>\n",
       "        </tr>\n",
       "    </thead>\n",
       "    <tbody>\n",
       "        <tr>\n",
       "            <td>2P%           </td> <td>19.844     </td> <td>2.36704e+07</td>\n",
       "        </tr>\n",
       "        <tr>\n",
       "            <td>BLK           </td> <td>14.1       </td> <td>3.33131e+07</td>\n",
       "        </tr>\n",
       "        <tr>\n",
       "            <td>DRB           </td> <td>109.5      </td> <td>4.28963e+06</td>\n",
       "        </tr>\n",
       "        <tr>\n",
       "            <td>AST           </td> <td>65.1       </td> <td>7.21528e+06</td>\n",
       "        </tr>\n",
       "        <tr>\n",
       "            <td>FG%           </td> <td>17.391     </td> <td>2.70091e+07</td>\n",
       "        </tr>\n",
       "        <tr>\n",
       "            <td>ORB           </td> <td>24.8       </td> <td>1.89401e+07</td>\n",
       "        </tr>\n",
       "        <tr>\n",
       "            <td>TRB           </td> <td>134.5      </td> <td>3.4923e+06 </td>\n",
       "        </tr>\n",
       "        <tr>\n",
       "            <td>2018-19 Salary</td> <td>4.69715e+08</td> <td>1          </td>\n",
       "        </tr>\n",
       "    </tbody>\n",
       "</table>"
      ],
      "text/plain": [
       "<IPython.core.display.HTML object>"
      ]
     },
     "metadata": {},
     "output_type": "display_data"
    }
   ],
   "source": [
    "sf_weights.show()"
   ]
  },
  {
   "cell_type": "markdown",
   "metadata": {},
   "source": [
    "The formula for small forward salary is given by,\n",
    "\n",
    "Salary = 7.2 * AST + 2.3 * 2P% + 33 * BLK + 4.2 * DRB + 27 * FG% + 18.9 * ORB - 3.5 * TRB"
   ]
  },
  {
   "cell_type": "code",
   "execution_count": 382,
   "metadata": {},
   "outputs": [
    {
     "data": {
      "text/html": [
       "<table border=\"1\" class=\"dataframe\">\n",
       "    <thead>\n",
       "        <tr>\n",
       "            <th>Category</th> <th>Sums</th> <th>Weights</th>\n",
       "        </tr>\n",
       "    </thead>\n",
       "    <tbody>\n",
       "        <tr>\n",
       "            <td>DRB           </td> <td>191.2      </td> <td>3.06814e+06</td>\n",
       "        </tr>\n",
       "        <tr>\n",
       "            <td>BLK           </td> <td>26         </td> <td>2.25626e+07</td>\n",
       "        </tr>\n",
       "        <tr>\n",
       "            <td>FG%           </td> <td>20.698     </td> <td>2.83423e+07</td>\n",
       "        </tr>\n",
       "        <tr>\n",
       "            <td>ORB           </td> <td>52.1       </td> <td>1.12597e+07</td>\n",
       "        </tr>\n",
       "        <tr>\n",
       "            <td>TRB           </td> <td>242.8      </td> <td>2.4161e+06 </td>\n",
       "        </tr>\n",
       "        <tr>\n",
       "            <td>2018-19 Salary</td> <td>5.86628e+08</td> <td>1          </td>\n",
       "        </tr>\n",
       "    </tbody>\n",
       "</table>"
      ],
      "text/plain": [
       "<IPython.core.display.HTML object>"
      ]
     },
     "metadata": {},
     "output_type": "display_data"
    }
   ],
   "source": [
    "pf_weights.show()"
   ]
  },
  {
   "cell_type": "markdown",
   "metadata": {},
   "source": [
    "The formula for power forward salary is given by,\n",
    "\n",
    "Salary = 3 * DRB + 22.5 * BLK + 28.3 * FG% + 11.2 * ORB - 2.4 * TRB"
   ]
  },
  {
   "cell_type": "code",
   "execution_count": 383,
   "metadata": {
    "scrolled": true
   },
   "outputs": [
    {
     "data": {
      "text/html": [
       "<table border=\"1\" class=\"dataframe\">\n",
       "    <thead>\n",
       "        <tr>\n",
       "            <th>Category</th> <th>Sums</th> <th>Weights</th>\n",
       "        </tr>\n",
       "    </thead>\n",
       "    <tbody>\n",
       "        <tr>\n",
       "            <td>2P%           </td> <td>31.755     </td> <td>2.11784e+07</td>\n",
       "        </tr>\n",
       "        <tr>\n",
       "            <td>BLK           </td> <td>48         </td> <td>1.40109e+07</td>\n",
       "        </tr>\n",
       "        <tr>\n",
       "            <td>FG%           </td> <td>30.251     </td> <td>2.22314e+07</td>\n",
       "        </tr>\n",
       "        <tr>\n",
       "            <td>ORB           </td> <td>108.8      </td> <td>6.18126e+06</td>\n",
       "        </tr>\n",
       "        <tr>\n",
       "            <td>TRB           </td> <td>380.4      </td> <td>1.76793e+06</td>\n",
       "        </tr>\n",
       "        <tr>\n",
       "            <td>2018-19 Salary</td> <td>6.72522e+08</td> <td>1          </td>\n",
       "        </tr>\n",
       "    </tbody>\n",
       "</table>"
      ],
      "text/plain": [
       "<IPython.core.display.HTML object>"
      ]
     },
     "metadata": {},
     "output_type": "display_data"
    }
   ],
   "source": [
    "c_weights.show()"
   ]
  },
  {
   "cell_type": "markdown",
   "metadata": {},
   "source": [
    "The formula for center salary is given by,\n",
    "\n",
    "Salary = 21.1 * 2P% + 14 * BLK - 22.2 * FG% + 6.1 * ORB - 1.7 * TRB"
   ]
  },
  {
   "cell_type": "markdown",
   "metadata": {},
   "source": [
    "### WEIGHTED SALARY FORMULAS FOR EACH POSITION:###"
   ]
  },
  {
   "cell_type": "markdown",
   "metadata": {},
   "source": [
    "***Point Gaurd Salary:***\n",
    "<br>\n",
    "***Salary*** = 1.3 * ***AST*** + 0.77 * ***PPG*** - 3.7 * ***TOV*** + 2.9 * ***3P%*** + 6.8 * ***STL*** - 6.42\n",
    "\n",
    "***Shooting Guard Salary:***\n",
    "<br>\n",
    "***Salary*** = 0.03 * ***3P*** + 1.86 * ***STL*** - 3.2 * ***AST*** + -0.99 * ***TOV*** + 7 * ***eFG%*** - 1.2\n",
    "\n",
    "***Small Forward Salary:***\n",
    "<br>\n",
    "***Salary*** = 32.6 * ***2P%*** + 2.7 * ***BLK*** + 1.5 * ***TRB*** + 2.4 * ***3P*** - 1.3 * ***PF*** - 10.8\n",
    "\n",
    "***Power Forward Salary:***\n",
    "<br>\n",
    "***Salary*** = -3.9 * ***TOV*** + 2.4 * ***BLK*** + 3 * ***AST*** + 1.8 * ***2P*** - 0.2 * ***TRB*** + 4.3\n",
    "\n",
    "***Center Salary:***\n",
    "<br>\n",
    "***Salary*** = 0.4 * ***PPG*** + 0.4 * ***BLK*** + 0.7 * ***DRB*** + 6.9* ***FG&*** + 0.72"
   ]
  },
  {
   "cell_type": "markdown",
   "metadata": {},
   "source": [
    "## Regression Analysis:###\n",
    "    \n",
    "### Intution and Execution of Analysis: ###\n",
    "    1. The goal of the contract value equation was to single out factors that were important features of a certain \n",
    "       position's play, so that those factors can determine how much a player would earn. \n",
    "    2. To locate such factors, the sums of the statistics from the player tables were compared to each of the \n",
    "       other positions. Some statistical means were simply greater among certain position, and that indicated the \n",
    "       important of a factor to a position.  \n",
    "    3. After find 5 of the most influential statistics, the linear regression was executed. The statistical means \n",
    "       were weighed against the average salary of all players in a certain position. \n",
    "    4. Some baseline was to be determined for all positions, which would function as an intercept in our \n",
    "       linear regression. \n",
    "    5. Negative statistic categories (such as turnovers for point guards) would be subtracted from positive \n",
    "       statistics (for example, points for shooting guards) and would be nullified with the intercept to result in        a fair salary. \n",
    "       \n",
    "### Conclusions: ###\n",
    "    1. During our calculations, we reasoned that the Small Forward was the most versatile player. In other words,        he wasn't strongly categorized and determined by any statistic. The Small Forward would be able to do a lot        of thing on the court, and this made sense- Lebron James is a small forward. \n",
    "    2. The value of the Point Guard and Shooting Guard are determined by the same statistics. \n",
    "    3. It is better to evalue a player's value by the 3-pointers or 2-pointers (essentially, the field-goals) he          makes because percents can negatively influence a player's value when it actually should add value. \n",
    "    4. Our model is not perfect; its accuracy compares to how fairly players are paid in the NBA.  \n",
    "    "
   ]
  },
  {
   "cell_type": "code",
   "execution_count": null,
   "metadata": {},
   "outputs": [],
   "source": []
  }
 ],
 "metadata": {
  "kernelspec": {
   "display_name": "Python 3",
   "language": "python",
   "name": "python3"
  },
  "language_info": {
   "codemirror_mode": {
    "name": "ipython",
    "version": 3
   },
   "file_extension": ".py",
   "mimetype": "text/x-python",
   "name": "python",
   "nbconvert_exporter": "python",
   "pygments_lexer": "ipython3",
   "version": "3.6.8"
  }
 },
 "nbformat": 4,
 "nbformat_minor": 2
}
