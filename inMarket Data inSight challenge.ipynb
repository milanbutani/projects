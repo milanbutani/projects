{
 "cells": [
  {
   "cell_type": "markdown",
   "metadata": {},
   "source": [
    "# Importing Libraries and Loading Datasets"
   ]
  },
  {
   "cell_type": "code",
   "execution_count": 195,
   "metadata": {},
   "outputs": [],
   "source": [
    "import numpy as np\n",
    "import pandas as pd\n",
    "from datascience import *\n",
    "%matplotlib inline\n",
    "import matplotlib.pyplot as plots\n",
    "plots.style.use('fivethirtyeight')"
   ]
  },
  {
   "cell_type": "code",
   "execution_count": 90,
   "metadata": {},
   "outputs": [],
   "source": [
    "customer_data = Table.read_table('dataset.csv')"
   ]
  },
  {
   "cell_type": "code",
   "execution_count": 91,
   "metadata": {},
   "outputs": [],
   "source": [
    "age_data = Table.read_table('ages.csv')"
   ]
  },
  {
   "cell_type": "code",
   "execution_count": 92,
   "metadata": {},
   "outputs": [],
   "source": [
    "age_data = age_data.relabeled('Unnamed: 1', 'Non-Customers').relabeled('Unnamed: 2', 'Customers')"
   ]
  },
  {
   "cell_type": "markdown",
   "metadata": {},
   "source": [
    "# Cleaned Data #"
   ]
  },
  {
   "cell_type": "code",
   "execution_count": 93,
   "metadata": {},
   "outputs": [
    {
     "data": {
      "text/html": [
       "<table border=\"1\" class=\"dataframe\">\n",
       "    <thead>\n",
       "        <tr>\n",
       "            <th>Age Range</th> <th>Non-Customers</th> <th>Customers</th>\n",
       "        </tr>\n",
       "    </thead>\n",
       "    <tbody>\n",
       "        <tr>\n",
       "            <td>Age range</td> <td>Non-Customers</td> <td>Customers</td>\n",
       "        </tr>\n",
       "        <tr>\n",
       "            <td>Age 0-18 </td> <td>1340         </td> <td>391      </td>\n",
       "        </tr>\n",
       "        <tr>\n",
       "            <td>Age 19-25</td> <td>502          </td> <td>1452     </td>\n",
       "        </tr>\n",
       "        <tr>\n",
       "            <td>Age 26-34</td> <td>670          </td> <td>1675     </td>\n",
       "        </tr>\n",
       "        <tr>\n",
       "            <td>Age 35-54</td> <td>1452         </td> <td>1228     </td>\n",
       "        </tr>\n",
       "        <tr>\n",
       "            <td>Age 55-64</td> <td>726          </td> <td>447      </td>\n",
       "        </tr>\n",
       "        <tr>\n",
       "            <td>Age 65+  </td> <td>837          </td> <td>391      </td>\n",
       "        </tr>\n",
       "    </tbody>\n",
       "</table>"
      ],
      "text/plain": [
       "Age Range | Non-Customers | Customers\n",
       "Age range | Non-Customers | Customers\n",
       "Age 0-18  | 1340          | 391\n",
       "Age 19-25 | 502           | 1452\n",
       "Age 26-34 | 670           | 1675\n",
       "Age 35-54 | 1452          | 1228\n",
       "Age 55-64 | 726           | 447\n",
       "Age 65+   | 837           | 391"
      ]
     },
     "execution_count": 93,
     "metadata": {},
     "output_type": "execute_result"
    }
   ],
   "source": [
    "age_data"
   ]
  },
  {
   "cell_type": "code",
   "execution_count": 94,
   "metadata": {},
   "outputs": [
    {
     "data": {
      "text/html": [
       "<table border=\"1\" class=\"dataframe\">\n",
       "    <thead>\n",
       "        <tr>\n",
       "            <th>Age Range</th> <th>Non-Customers</th> <th>Customers</th>\n",
       "        </tr>\n",
       "    </thead>\n",
       "    <tbody>\n",
       "        <tr>\n",
       "            <td>Age 0-18 </td> <td>1340         </td> <td>391      </td>\n",
       "        </tr>\n",
       "        <tr>\n",
       "            <td>Age 19-25</td> <td>502          </td> <td>1452     </td>\n",
       "        </tr>\n",
       "        <tr>\n",
       "            <td>Age 26-34</td> <td>670          </td> <td>1675     </td>\n",
       "        </tr>\n",
       "        <tr>\n",
       "            <td>Age 35-54</td> <td>1452         </td> <td>1228     </td>\n",
       "        </tr>\n",
       "        <tr>\n",
       "            <td>Age 55-64</td> <td>726          </td> <td>447      </td>\n",
       "        </tr>\n",
       "        <tr>\n",
       "            <td>Age 65+  </td> <td>837          </td> <td>391      </td>\n",
       "        </tr>\n",
       "    </tbody>\n",
       "</table>"
      ],
      "text/plain": [
       "Age Range | Non-Customers | Customers\n",
       "Age 0-18  | 1340          | 391\n",
       "Age 19-25 | 502           | 1452\n",
       "Age 26-34 | 670           | 1675\n",
       "Age 35-54 | 1452          | 1228\n",
       "Age 55-64 | 726           | 447\n",
       "Age 65+   | 837           | 391"
      ]
     },
     "execution_count": 94,
     "metadata": {},
     "output_type": "execute_result"
    }
   ],
   "source": [
    "age_data = age_data.take(range(1, 7))\n",
    "age_data"
   ]
  },
  {
   "cell_type": "code",
   "execution_count": 95,
   "metadata": {},
   "outputs": [],
   "source": [
    "customer_data = customer_data.relabeled('Unnamed: 1', 'Chain Category').relabeled('Unnamed: 2', 'Non-Customers').relabeled('Unnamed: 3', 'Customers')"
   ]
  },
  {
   "cell_type": "code",
   "execution_count": 96,
   "metadata": {},
   "outputs": [],
   "source": [
    "customer_data = customer_data.take(range(1, 269))"
   ]
  },
  {
   "cell_type": "code",
   "execution_count": 97,
   "metadata": {},
   "outputs": [
    {
     "data": {
      "text/html": [
       "<table border=\"1\" class=\"dataframe\">\n",
       "    <thead>\n",
       "        <tr>\n",
       "            <th>Stores Visited</th> <th>Chain Category</th> <th>Non-Customers</th> <th>Customers</th>\n",
       "        </tr>\n",
       "    </thead>\n",
       "    <tbody>\n",
       "        <tr>\n",
       "            <td>SUBWAY        </td> <td>Eating Places                     </td> <td>5131         </td> <td>5000     </td>\n",
       "        </tr>\n",
       "        <tr>\n",
       "            <td>CVS           </td> <td>Drug Stores and Proprietary Stores</td> <td>4817         </td> <td>4302     </td>\n",
       "        </tr>\n",
       "        <tr>\n",
       "            <td>Starbucks US  </td> <td>Eating Places                     </td> <td>4817         </td> <td>4128     </td>\n",
       "        </tr>\n",
       "        <tr>\n",
       "            <td>McDonald's    </td> <td>Eating Places                     </td> <td>3875         </td> <td>3895     </td>\n",
       "        </tr>\n",
       "        <tr>\n",
       "            <td>Walgreens     </td> <td>Drug Stores and Proprietary Stores</td> <td>3456         </td> <td>3140     </td>\n",
       "        </tr>\n",
       "        <tr>\n",
       "            <td>Taco Bell     </td> <td>Eating Places                     </td> <td>2723         </td> <td>3023     </td>\n",
       "        </tr>\n",
       "        <tr>\n",
       "            <td>Wendy's       </td> <td>Eating Places                     </td> <td>3037         </td> <td>2733     </td>\n",
       "        </tr>\n",
       "        <tr>\n",
       "            <td>Burger King US</td> <td>Eating Places                     </td> <td>2827         </td> <td>2733     </td>\n",
       "        </tr>\n",
       "        <tr>\n",
       "            <td>Chick-fil-A   </td> <td>Eating Places                     </td> <td>2618         </td> <td>2384     </td>\n",
       "        </tr>\n",
       "        <tr>\n",
       "            <td>Pizza Hut     </td> <td>Eating Places                     </td> <td>1257         </td> <td>2151     </td>\n",
       "        </tr>\n",
       "    </tbody>\n",
       "</table>\n",
       "<p>... (258 rows omitted)</p>"
      ],
      "text/plain": [
       "Stores Visited | Chain Category                     | Non-Customers | Customers\n",
       "SUBWAY         | Eating Places                      | 5131          | 5000\n",
       "CVS            | Drug Stores and Proprietary Stores | 4817          | 4302\n",
       "Starbucks US   | Eating Places                      | 4817          | 4128\n",
       "McDonald's     | Eating Places                      | 3875          | 3895\n",
       "Walgreens      | Drug Stores and Proprietary Stores | 3456          | 3140\n",
       "Taco Bell      | Eating Places                      | 2723          | 3023\n",
       "Wendy's        | Eating Places                      | 3037          | 2733\n",
       "Burger King US | Eating Places                      | 2827          | 2733\n",
       "Chick-fil-A    | Eating Places                      | 2618          | 2384\n",
       "Pizza Hut      | Eating Places                      | 1257          | 2151\n",
       "... (258 rows omitted)"
      ]
     },
     "execution_count": 97,
     "metadata": {},
     "output_type": "execute_result"
    }
   ],
   "source": [
    "customer_data"
   ]
  },
  {
   "cell_type": "markdown",
   "metadata": {},
   "source": [
    "# Curious Analysis/Data Descriptions "
   ]
  },
  {
   "cell_type": "code",
   "execution_count": 98,
   "metadata": {},
   "outputs": [
    {
     "data": {
      "text/html": [
       "<table border=\"1\" class=\"dataframe\">\n",
       "    <thead>\n",
       "        <tr>\n",
       "            <th>Age Range</th> <th>Non-Customers</th> <th>Customers</th>\n",
       "        </tr>\n",
       "    </thead>\n",
       "    <tbody>\n",
       "        <tr>\n",
       "            <td>Age 0-18 </td> <td>1340         </td> <td>391      </td>\n",
       "        </tr>\n",
       "        <tr>\n",
       "            <td>Age 19-25</td> <td>502          </td> <td>1452     </td>\n",
       "        </tr>\n",
       "        <tr>\n",
       "            <td>Age 26-34</td> <td>670          </td> <td>1675     </td>\n",
       "        </tr>\n",
       "        <tr>\n",
       "            <td>Age 35-54</td> <td>1452         </td> <td>1228     </td>\n",
       "        </tr>\n",
       "        <tr>\n",
       "            <td>Age 55-64</td> <td>726          </td> <td>447      </td>\n",
       "        </tr>\n",
       "        <tr>\n",
       "            <td>Age 65+  </td> <td>837          </td> <td>391      </td>\n",
       "        </tr>\n",
       "    </tbody>\n",
       "</table>"
      ],
      "text/plain": [
       "Age Range | Non-Customers | Customers\n",
       "Age 0-18  | 1340          | 391\n",
       "Age 19-25 | 502           | 1452\n",
       "Age 26-34 | 670           | 1675\n",
       "Age 35-54 | 1452          | 1228\n",
       "Age 55-64 | 726           | 447\n",
       "Age 65+   | 837           | 391"
      ]
     },
     "execution_count": 98,
     "metadata": {},
     "output_type": "execute_result"
    }
   ],
   "source": [
    "age_data"
   ]
  },
  {
   "cell_type": "code",
   "execution_count": 99,
   "metadata": {},
   "outputs": [],
   "source": [
    "non_c = age_data.column('Non-Customers')"
   ]
  },
  {
   "cell_type": "code",
   "execution_count": 100,
   "metadata": {},
   "outputs": [],
   "source": [
    "# converting string value to int types\n",
    "def convert_string_to_int(arr):\n",
    "    return list(map(int, arr))"
   ]
  },
  {
   "cell_type": "code",
   "execution_count": 101,
   "metadata": {},
   "outputs": [],
   "source": [
    "non_c = convert_string_to_int(non_c)"
   ]
  },
  {
   "cell_type": "code",
   "execution_count": 102,
   "metadata": {},
   "outputs": [
    {
     "data": {
      "text/plain": [
       "5527"
      ]
     },
     "execution_count": 102,
     "metadata": {},
     "output_type": "execute_result"
    }
   ],
   "source": [
    "total_non_cust = sum(non_c)\n",
    "total_non_cust"
   ]
  },
  {
   "cell_type": "code",
   "execution_count": 103,
   "metadata": {},
   "outputs": [
    {
     "data": {
      "text/plain": [
       "5584"
      ]
     },
     "execution_count": 103,
     "metadata": {},
     "output_type": "execute_result"
    }
   ],
   "source": [
    "total_cust = sum(convert_string_to_int(age_data.column('Customers')))\n",
    "total_cust"
   ]
  },
  {
   "cell_type": "code",
   "execution_count": 104,
   "metadata": {},
   "outputs": [
    {
     "data": {
      "text/plain": [
       "11111"
      ]
     },
     "execution_count": 104,
     "metadata": {},
     "output_type": "execute_result"
    }
   ],
   "source": [
    "total = total_non_cust + total_cust\n",
    "total"
   ]
  },
  {
   "cell_type": "markdown",
   "metadata": {},
   "source": [
    "# It's better to convert all string type numbers to int... "
   ]
  },
  {
   "cell_type": "code",
   "execution_count": 105,
   "metadata": {},
   "outputs": [
    {
     "data": {
      "text/html": [
       "<table border=\"1\" class=\"dataframe\">\n",
       "    <thead>\n",
       "        <tr>\n",
       "            <th>Age Range</th> <th>Non-Customers</th> <th>Customers</th>\n",
       "        </tr>\n",
       "    </thead>\n",
       "    <tbody>\n",
       "        <tr>\n",
       "            <td>Age 0-18 </td> <td>1340         </td> <td>391      </td>\n",
       "        </tr>\n",
       "        <tr>\n",
       "            <td>Age 19-25</td> <td>502          </td> <td>1452     </td>\n",
       "        </tr>\n",
       "        <tr>\n",
       "            <td>Age 26-34</td> <td>670          </td> <td>1675     </td>\n",
       "        </tr>\n",
       "        <tr>\n",
       "            <td>Age 35-54</td> <td>1452         </td> <td>1228     </td>\n",
       "        </tr>\n",
       "        <tr>\n",
       "            <td>Age 55-64</td> <td>726          </td> <td>447      </td>\n",
       "        </tr>\n",
       "        <tr>\n",
       "            <td>Age 65+  </td> <td>837          </td> <td>391      </td>\n",
       "        </tr>\n",
       "    </tbody>\n",
       "</table>"
      ],
      "text/plain": [
       "Age Range | Non-Customers | Customers\n",
       "Age 0-18  | 1340          | 391\n",
       "Age 19-25 | 502           | 1452\n",
       "Age 26-34 | 670           | 1675\n",
       "Age 35-54 | 1452          | 1228\n",
       "Age 55-64 | 726           | 447\n",
       "Age 65+   | 837           | 391"
      ]
     },
     "execution_count": 105,
     "metadata": {},
     "output_type": "execute_result"
    }
   ],
   "source": [
    "age_data"
   ]
  },
  {
   "cell_type": "code",
   "execution_count": 106,
   "metadata": {},
   "outputs": [
    {
     "data": {
      "text/plain": [
       "numpy.str_"
      ]
     },
     "execution_count": 106,
     "metadata": {},
     "output_type": "execute_result"
    }
   ],
   "source": [
    "type(age_data.column('Non-Customers')[1])"
   ]
  },
  {
   "cell_type": "code",
   "execution_count": 107,
   "metadata": {},
   "outputs": [],
   "source": [
    "non_cust_age_data = convert_string_to_int(age_data.column('Non-Customers'))\n",
    "cust_age_data = convert_string_to_int(age_data.column('Customers'))"
   ]
  },
  {
   "cell_type": "code",
   "execution_count": 108,
   "metadata": {},
   "outputs": [],
   "source": [
    "age_data = age_data.drop(1)"
   ]
  },
  {
   "cell_type": "code",
   "execution_count": 109,
   "metadata": {},
   "outputs": [],
   "source": [
    "age_data = age_data.drop(1)"
   ]
  },
  {
   "cell_type": "code",
   "execution_count": 110,
   "metadata": {},
   "outputs": [],
   "source": [
    "age_data = age_data.with_column('Non-Customers', non_cust_age_data).with_column('Customers', cust_age_data)"
   ]
  },
  {
   "cell_type": "code",
   "execution_count": 111,
   "metadata": {},
   "outputs": [
    {
     "data": {
      "text/html": [
       "<table border=\"1\" class=\"dataframe\">\n",
       "    <thead>\n",
       "        <tr>\n",
       "            <th>Age Range</th> <th>Non-Customers</th> <th>Customers</th>\n",
       "        </tr>\n",
       "    </thead>\n",
       "    <tbody>\n",
       "        <tr>\n",
       "            <td>Age 0-18 </td> <td>1340         </td> <td>391      </td>\n",
       "        </tr>\n",
       "        <tr>\n",
       "            <td>Age 19-25</td> <td>502          </td> <td>1452     </td>\n",
       "        </tr>\n",
       "        <tr>\n",
       "            <td>Age 26-34</td> <td>670          </td> <td>1675     </td>\n",
       "        </tr>\n",
       "        <tr>\n",
       "            <td>Age 35-54</td> <td>1452         </td> <td>1228     </td>\n",
       "        </tr>\n",
       "        <tr>\n",
       "            <td>Age 55-64</td> <td>726          </td> <td>447      </td>\n",
       "        </tr>\n",
       "        <tr>\n",
       "            <td>Age 65+  </td> <td>837          </td> <td>391      </td>\n",
       "        </tr>\n",
       "    </tbody>\n",
       "</table>"
      ],
      "text/plain": [
       "Age Range | Non-Customers | Customers\n",
       "Age 0-18  | 1340          | 391\n",
       "Age 19-25 | 502           | 1452\n",
       "Age 26-34 | 670           | 1675\n",
       "Age 35-54 | 1452          | 1228\n",
       "Age 55-64 | 726           | 447\n",
       "Age 65+   | 837           | 391"
      ]
     },
     "execution_count": 111,
     "metadata": {},
     "output_type": "execute_result"
    }
   ],
   "source": [
    "age_data"
   ]
  },
  {
   "cell_type": "code",
   "execution_count": 112,
   "metadata": {},
   "outputs": [
    {
     "data": {
      "text/plain": [
       "numpy.str_"
      ]
     },
     "execution_count": 112,
     "metadata": {},
     "output_type": "execute_result"
    }
   ],
   "source": [
    "type(customer_data.column(2)[1])"
   ]
  },
  {
   "cell_type": "code",
   "execution_count": 113,
   "metadata": {},
   "outputs": [
    {
     "data": {
      "text/html": [
       "<table border=\"1\" class=\"dataframe\">\n",
       "    <thead>\n",
       "        <tr>\n",
       "            <th>Stores Visited</th> <th>Chain Category</th> <th>Non-Customers</th> <th>Customers</th>\n",
       "        </tr>\n",
       "    </thead>\n",
       "    <tbody>\n",
       "        <tr>\n",
       "            <td>SUBWAY        </td> <td>Eating Places                     </td> <td>5131         </td> <td>5000     </td>\n",
       "        </tr>\n",
       "        <tr>\n",
       "            <td>CVS           </td> <td>Drug Stores and Proprietary Stores</td> <td>4817         </td> <td>4302     </td>\n",
       "        </tr>\n",
       "        <tr>\n",
       "            <td>Starbucks US  </td> <td>Eating Places                     </td> <td>4817         </td> <td>4128     </td>\n",
       "        </tr>\n",
       "        <tr>\n",
       "            <td>McDonald's    </td> <td>Eating Places                     </td> <td>3875         </td> <td>3895     </td>\n",
       "        </tr>\n",
       "        <tr>\n",
       "            <td>Walgreens     </td> <td>Drug Stores and Proprietary Stores</td> <td>3456         </td> <td>3140     </td>\n",
       "        </tr>\n",
       "        <tr>\n",
       "            <td>Taco Bell     </td> <td>Eating Places                     </td> <td>2723         </td> <td>3023     </td>\n",
       "        </tr>\n",
       "        <tr>\n",
       "            <td>Wendy's       </td> <td>Eating Places                     </td> <td>3037         </td> <td>2733     </td>\n",
       "        </tr>\n",
       "        <tr>\n",
       "            <td>Burger King US</td> <td>Eating Places                     </td> <td>2827         </td> <td>2733     </td>\n",
       "        </tr>\n",
       "        <tr>\n",
       "            <td>Chick-fil-A   </td> <td>Eating Places                     </td> <td>2618         </td> <td>2384     </td>\n",
       "        </tr>\n",
       "        <tr>\n",
       "            <td>Pizza Hut     </td> <td>Eating Places                     </td> <td>1257         </td> <td>2151     </td>\n",
       "        </tr>\n",
       "    </tbody>\n",
       "</table>\n",
       "<p>... (258 rows omitted)</p>"
      ],
      "text/plain": [
       "Stores Visited | Chain Category                     | Non-Customers | Customers\n",
       "SUBWAY         | Eating Places                      | 5131          | 5000\n",
       "CVS            | Drug Stores and Proprietary Stores | 4817          | 4302\n",
       "Starbucks US   | Eating Places                      | 4817          | 4128\n",
       "McDonald's     | Eating Places                      | 3875          | 3895\n",
       "Walgreens      | Drug Stores and Proprietary Stores | 3456          | 3140\n",
       "Taco Bell      | Eating Places                      | 2723          | 3023\n",
       "Wendy's        | Eating Places                      | 3037          | 2733\n",
       "Burger King US | Eating Places                      | 2827          | 2733\n",
       "Chick-fil-A    | Eating Places                      | 2618          | 2384\n",
       "Pizza Hut      | Eating Places                      | 1257          | 2151\n",
       "... (258 rows omitted)"
      ]
     },
     "execution_count": 113,
     "metadata": {},
     "output_type": "execute_result"
    }
   ],
   "source": [
    "customer_data"
   ]
  },
  {
   "cell_type": "code",
   "execution_count": 114,
   "metadata": {},
   "outputs": [],
   "source": [
    "non_cust_cust = convert_string_to_int(customer_data.column('Non-Customers'))\n",
    "cust_cust = convert_string_to_int(customer_data.column('Customers'))"
   ]
  },
  {
   "cell_type": "code",
   "execution_count": 115,
   "metadata": {},
   "outputs": [],
   "source": [
    "customer_data = customer_data.drop(2).drop(2)"
   ]
  },
  {
   "cell_type": "code",
   "execution_count": 116,
   "metadata": {},
   "outputs": [],
   "source": [
    "customer_data = customer_data.with_column('Non-Customers', non_cust_cust).with_column('Customers', cust_cust)"
   ]
  },
  {
   "cell_type": "code",
   "execution_count": 117,
   "metadata": {},
   "outputs": [],
   "source": [
    "customer = customer_data"
   ]
  },
  {
   "cell_type": "code",
   "execution_count": 118,
   "metadata": {},
   "outputs": [
    {
     "data": {
      "text/plain": [
       "numpy.int64"
      ]
     },
     "execution_count": 118,
     "metadata": {},
     "output_type": "execute_result"
    }
   ],
   "source": [
    "type(customer[2][1])"
   ]
  },
  {
   "cell_type": "code",
   "execution_count": 119,
   "metadata": {},
   "outputs": [
    {
     "data": {
      "text/html": [
       "<table border=\"1\" class=\"dataframe\">\n",
       "    <thead>\n",
       "        <tr>\n",
       "            <th>Age Range</th> <th>Non-Customers</th> <th>Customers</th>\n",
       "        </tr>\n",
       "    </thead>\n",
       "    <tbody>\n",
       "        <tr>\n",
       "            <td>Age 0-18 </td> <td>1340         </td> <td>391      </td>\n",
       "        </tr>\n",
       "        <tr>\n",
       "            <td>Age 19-25</td> <td>502          </td> <td>1452     </td>\n",
       "        </tr>\n",
       "        <tr>\n",
       "            <td>Age 26-34</td> <td>670          </td> <td>1675     </td>\n",
       "        </tr>\n",
       "        <tr>\n",
       "            <td>Age 35-54</td> <td>1452         </td> <td>1228     </td>\n",
       "        </tr>\n",
       "        <tr>\n",
       "            <td>Age 55-64</td> <td>726          </td> <td>447      </td>\n",
       "        </tr>\n",
       "        <tr>\n",
       "            <td>Age 65+  </td> <td>837          </td> <td>391      </td>\n",
       "        </tr>\n",
       "    </tbody>\n",
       "</table>"
      ],
      "text/plain": [
       "Age Range | Non-Customers | Customers\n",
       "Age 0-18  | 1340          | 391\n",
       "Age 19-25 | 502           | 1452\n",
       "Age 26-34 | 670           | 1675\n",
       "Age 35-54 | 1452          | 1228\n",
       "Age 55-64 | 726           | 447\n",
       "Age 65+   | 837           | 391"
      ]
     },
     "execution_count": 119,
     "metadata": {},
     "output_type": "execute_result"
    }
   ],
   "source": [
    "age = age_data\n",
    "age"
   ]
  },
  {
   "cell_type": "code",
   "execution_count": 120,
   "metadata": {},
   "outputs": [
    {
     "data": {
      "text/html": [
       "<table border=\"1\" class=\"dataframe\">\n",
       "    <thead>\n",
       "        <tr>\n",
       "            <th>Stores Visited</th> <th>Chain Category</th> <th>Non-Customers</th> <th>Customers</th>\n",
       "        </tr>\n",
       "    </thead>\n",
       "    <tbody>\n",
       "        <tr>\n",
       "            <td>SUBWAY        </td> <td>Eating Places                     </td> <td>5131         </td> <td>5000     </td>\n",
       "        </tr>\n",
       "        <tr>\n",
       "            <td>CVS           </td> <td>Drug Stores and Proprietary Stores</td> <td>4817         </td> <td>4302     </td>\n",
       "        </tr>\n",
       "        <tr>\n",
       "            <td>Starbucks US  </td> <td>Eating Places                     </td> <td>4817         </td> <td>4128     </td>\n",
       "        </tr>\n",
       "        <tr>\n",
       "            <td>McDonald's    </td> <td>Eating Places                     </td> <td>3875         </td> <td>3895     </td>\n",
       "        </tr>\n",
       "        <tr>\n",
       "            <td>Walgreens     </td> <td>Drug Stores and Proprietary Stores</td> <td>3456         </td> <td>3140     </td>\n",
       "        </tr>\n",
       "        <tr>\n",
       "            <td>Taco Bell     </td> <td>Eating Places                     </td> <td>2723         </td> <td>3023     </td>\n",
       "        </tr>\n",
       "        <tr>\n",
       "            <td>Wendy's       </td> <td>Eating Places                     </td> <td>3037         </td> <td>2733     </td>\n",
       "        </tr>\n",
       "        <tr>\n",
       "            <td>Burger King US</td> <td>Eating Places                     </td> <td>2827         </td> <td>2733     </td>\n",
       "        </tr>\n",
       "        <tr>\n",
       "            <td>Chick-fil-A   </td> <td>Eating Places                     </td> <td>2618         </td> <td>2384     </td>\n",
       "        </tr>\n",
       "        <tr>\n",
       "            <td>Pizza Hut     </td> <td>Eating Places                     </td> <td>1257         </td> <td>2151     </td>\n",
       "        </tr>\n",
       "    </tbody>\n",
       "</table>\n",
       "<p>... (258 rows omitted)</p>"
      ],
      "text/plain": [
       "Stores Visited | Chain Category                     | Non-Customers | Customers\n",
       "SUBWAY         | Eating Places                      | 5131          | 5000\n",
       "CVS            | Drug Stores and Proprietary Stores | 4817          | 4302\n",
       "Starbucks US   | Eating Places                      | 4817          | 4128\n",
       "McDonald's     | Eating Places                      | 3875          | 3895\n",
       "Walgreens      | Drug Stores and Proprietary Stores | 3456          | 3140\n",
       "Taco Bell      | Eating Places                      | 2723          | 3023\n",
       "Wendy's        | Eating Places                      | 3037          | 2733\n",
       "Burger King US | Eating Places                      | 2827          | 2733\n",
       "Chick-fil-A    | Eating Places                      | 2618          | 2384\n",
       "Pizza Hut      | Eating Places                      | 1257          | 2151\n",
       "... (258 rows omitted)"
      ]
     },
     "execution_count": 120,
     "metadata": {},
     "output_type": "execute_result"
    }
   ],
   "source": [
    "customer"
   ]
  },
  {
   "cell_type": "markdown",
   "metadata": {},
   "source": [
    "# Fully Cleaned Datasets:"
   ]
  },
  {
   "cell_type": "code",
   "execution_count": 121,
   "metadata": {},
   "outputs": [
    {
     "data": {
      "text/html": [
       "<table border=\"1\" class=\"dataframe\">\n",
       "    <thead>\n",
       "        <tr>\n",
       "            <th>Age Range</th> <th>Non-Customers</th> <th>Customers</th>\n",
       "        </tr>\n",
       "    </thead>\n",
       "    <tbody>\n",
       "        <tr>\n",
       "            <td>Age 0-18 </td> <td>1340         </td> <td>391      </td>\n",
       "        </tr>\n",
       "        <tr>\n",
       "            <td>Age 19-25</td> <td>502          </td> <td>1452     </td>\n",
       "        </tr>\n",
       "        <tr>\n",
       "            <td>Age 26-34</td> <td>670          </td> <td>1675     </td>\n",
       "        </tr>\n",
       "        <tr>\n",
       "            <td>Age 35-54</td> <td>1452         </td> <td>1228     </td>\n",
       "        </tr>\n",
       "        <tr>\n",
       "            <td>Age 55-64</td> <td>726          </td> <td>447      </td>\n",
       "        </tr>\n",
       "        <tr>\n",
       "            <td>Age 65+  </td> <td>837          </td> <td>391      </td>\n",
       "        </tr>\n",
       "    </tbody>\n",
       "</table>"
      ],
      "text/plain": [
       "Age Range | Non-Customers | Customers\n",
       "Age 0-18  | 1340          | 391\n",
       "Age 19-25 | 502           | 1452\n",
       "Age 26-34 | 670           | 1675\n",
       "Age 35-54 | 1452          | 1228\n",
       "Age 55-64 | 726           | 447\n",
       "Age 65+   | 837           | 391"
      ]
     },
     "execution_count": 121,
     "metadata": {},
     "output_type": "execute_result"
    }
   ],
   "source": [
    "age"
   ]
  },
  {
   "cell_type": "code",
   "execution_count": 122,
   "metadata": {},
   "outputs": [
    {
     "data": {
      "text/html": [
       "<table border=\"1\" class=\"dataframe\">\n",
       "    <thead>\n",
       "        <tr>\n",
       "            <th>Stores Visited</th> <th>Chain Category</th> <th>Non-Customers</th> <th>Customers</th>\n",
       "        </tr>\n",
       "    </thead>\n",
       "    <tbody>\n",
       "        <tr>\n",
       "            <td>SUBWAY        </td> <td>Eating Places                     </td> <td>5131         </td> <td>5000     </td>\n",
       "        </tr>\n",
       "        <tr>\n",
       "            <td>CVS           </td> <td>Drug Stores and Proprietary Stores</td> <td>4817         </td> <td>4302     </td>\n",
       "        </tr>\n",
       "        <tr>\n",
       "            <td>Starbucks US  </td> <td>Eating Places                     </td> <td>4817         </td> <td>4128     </td>\n",
       "        </tr>\n",
       "        <tr>\n",
       "            <td>McDonald's    </td> <td>Eating Places                     </td> <td>3875         </td> <td>3895     </td>\n",
       "        </tr>\n",
       "        <tr>\n",
       "            <td>Walgreens     </td> <td>Drug Stores and Proprietary Stores</td> <td>3456         </td> <td>3140     </td>\n",
       "        </tr>\n",
       "        <tr>\n",
       "            <td>Taco Bell     </td> <td>Eating Places                     </td> <td>2723         </td> <td>3023     </td>\n",
       "        </tr>\n",
       "        <tr>\n",
       "            <td>Wendy's       </td> <td>Eating Places                     </td> <td>3037         </td> <td>2733     </td>\n",
       "        </tr>\n",
       "        <tr>\n",
       "            <td>Burger King US</td> <td>Eating Places                     </td> <td>2827         </td> <td>2733     </td>\n",
       "        </tr>\n",
       "        <tr>\n",
       "            <td>Chick-fil-A   </td> <td>Eating Places                     </td> <td>2618         </td> <td>2384     </td>\n",
       "        </tr>\n",
       "        <tr>\n",
       "            <td>Pizza Hut     </td> <td>Eating Places                     </td> <td>1257         </td> <td>2151     </td>\n",
       "        </tr>\n",
       "    </tbody>\n",
       "</table>\n",
       "<p>... (258 rows omitted)</p>"
      ],
      "text/plain": [
       "Stores Visited | Chain Category                     | Non-Customers | Customers\n",
       "SUBWAY         | Eating Places                      | 5131          | 5000\n",
       "CVS            | Drug Stores and Proprietary Stores | 4817          | 4302\n",
       "Starbucks US   | Eating Places                      | 4817          | 4128\n",
       "McDonald's     | Eating Places                      | 3875          | 3895\n",
       "Walgreens      | Drug Stores and Proprietary Stores | 3456          | 3140\n",
       "Taco Bell      | Eating Places                      | 2723          | 3023\n",
       "Wendy's        | Eating Places                      | 3037          | 2733\n",
       "Burger King US | Eating Places                      | 2827          | 2733\n",
       "Chick-fil-A    | Eating Places                      | 2618          | 2384\n",
       "Pizza Hut      | Eating Places                      | 1257          | 2151\n",
       "... (258 rows omitted)"
      ]
     },
     "execution_count": 122,
     "metadata": {},
     "output_type": "execute_result"
    }
   ],
   "source": [
    "customer"
   ]
  },
  {
   "cell_type": "markdown",
   "metadata": {},
   "source": [
    "# Adding descriptions to the table as applicable "
   ]
  },
  {
   "cell_type": "code",
   "execution_count": 123,
   "metadata": {},
   "outputs": [],
   "source": [
    "age = age.with_column('Sum', age.column('Non-Customers') + age.column('Customers'))"
   ]
  },
  {
   "cell_type": "code",
   "execution_count": 124,
   "metadata": {},
   "outputs": [
    {
     "data": {
      "text/html": [
       "<table border=\"1\" class=\"dataframe\">\n",
       "    <thead>\n",
       "        <tr>\n",
       "            <th>Age Range</th> <th>Non-Customers</th> <th>Customers</th> <th>Sum</th>\n",
       "        </tr>\n",
       "    </thead>\n",
       "    <tbody>\n",
       "        <tr>\n",
       "            <td>Age 0-18 </td> <td>1340         </td> <td>391      </td> <td>1731</td>\n",
       "        </tr>\n",
       "        <tr>\n",
       "            <td>Age 19-25</td> <td>502          </td> <td>1452     </td> <td>1954</td>\n",
       "        </tr>\n",
       "        <tr>\n",
       "            <td>Age 26-34</td> <td>670          </td> <td>1675     </td> <td>2345</td>\n",
       "        </tr>\n",
       "        <tr>\n",
       "            <td>Age 35-54</td> <td>1452         </td> <td>1228     </td> <td>2680</td>\n",
       "        </tr>\n",
       "        <tr>\n",
       "            <td>Age 55-64</td> <td>726          </td> <td>447      </td> <td>1173</td>\n",
       "        </tr>\n",
       "        <tr>\n",
       "            <td>Age 65+  </td> <td>837          </td> <td>391      </td> <td>1228</td>\n",
       "        </tr>\n",
       "    </tbody>\n",
       "</table>"
      ],
      "text/plain": [
       "Age Range | Non-Customers | Customers | Sum\n",
       "Age 0-18  | 1340          | 391       | 1731\n",
       "Age 19-25 | 502           | 1452      | 1954\n",
       "Age 26-34 | 670           | 1675      | 2345\n",
       "Age 35-54 | 1452          | 1228      | 2680\n",
       "Age 55-64 | 726           | 447       | 1173\n",
       "Age 65+   | 837           | 391       | 1228"
      ]
     },
     "execution_count": 124,
     "metadata": {},
     "output_type": "execute_result"
    }
   ],
   "source": [
    "age"
   ]
  },
  {
   "cell_type": "code",
   "execution_count": 125,
   "metadata": {},
   "outputs": [],
   "source": [
    "customer = customer.with_column('Sum', customer.column('Non-Customers') + customer.column('Customers'))"
   ]
  },
  {
   "cell_type": "code",
   "execution_count": 126,
   "metadata": {},
   "outputs": [
    {
     "data": {
      "text/html": [
       "<table border=\"1\" class=\"dataframe\">\n",
       "    <thead>\n",
       "        <tr>\n",
       "            <th>Stores Visited</th> <th>Chain Category</th> <th>Non-Customers</th> <th>Customers</th> <th>Sum</th>\n",
       "        </tr>\n",
       "    </thead>\n",
       "    <tbody>\n",
       "        <tr>\n",
       "            <td>SUBWAY        </td> <td>Eating Places                     </td> <td>5131         </td> <td>5000     </td> <td>10131</td>\n",
       "        </tr>\n",
       "        <tr>\n",
       "            <td>CVS           </td> <td>Drug Stores and Proprietary Stores</td> <td>4817         </td> <td>4302     </td> <td>9119 </td>\n",
       "        </tr>\n",
       "        <tr>\n",
       "            <td>Starbucks US  </td> <td>Eating Places                     </td> <td>4817         </td> <td>4128     </td> <td>8945 </td>\n",
       "        </tr>\n",
       "        <tr>\n",
       "            <td>McDonald's    </td> <td>Eating Places                     </td> <td>3875         </td> <td>3895     </td> <td>7770 </td>\n",
       "        </tr>\n",
       "        <tr>\n",
       "            <td>Walgreens     </td> <td>Drug Stores and Proprietary Stores</td> <td>3456         </td> <td>3140     </td> <td>6596 </td>\n",
       "        </tr>\n",
       "        <tr>\n",
       "            <td>Taco Bell     </td> <td>Eating Places                     </td> <td>2723         </td> <td>3023     </td> <td>5746 </td>\n",
       "        </tr>\n",
       "        <tr>\n",
       "            <td>Wendy's       </td> <td>Eating Places                     </td> <td>3037         </td> <td>2733     </td> <td>5770 </td>\n",
       "        </tr>\n",
       "        <tr>\n",
       "            <td>Burger King US</td> <td>Eating Places                     </td> <td>2827         </td> <td>2733     </td> <td>5560 </td>\n",
       "        </tr>\n",
       "        <tr>\n",
       "            <td>Chick-fil-A   </td> <td>Eating Places                     </td> <td>2618         </td> <td>2384     </td> <td>5002 </td>\n",
       "        </tr>\n",
       "        <tr>\n",
       "            <td>Pizza Hut     </td> <td>Eating Places                     </td> <td>1257         </td> <td>2151     </td> <td>3408 </td>\n",
       "        </tr>\n",
       "    </tbody>\n",
       "</table>\n",
       "<p>... (258 rows omitted)</p>"
      ],
      "text/plain": [
       "Stores Visited | Chain Category                     | Non-Customers | Customers | Sum\n",
       "SUBWAY         | Eating Places                      | 5131          | 5000      | 10131\n",
       "CVS            | Drug Stores and Proprietary Stores | 4817          | 4302      | 9119\n",
       "Starbucks US   | Eating Places                      | 4817          | 4128      | 8945\n",
       "McDonald's     | Eating Places                      | 3875          | 3895      | 7770\n",
       "Walgreens      | Drug Stores and Proprietary Stores | 3456          | 3140      | 6596\n",
       "Taco Bell      | Eating Places                      | 2723          | 3023      | 5746\n",
       "Wendy's        | Eating Places                      | 3037          | 2733      | 5770\n",
       "Burger King US | Eating Places                      | 2827          | 2733      | 5560\n",
       "Chick-fil-A    | Eating Places                      | 2618          | 2384      | 5002\n",
       "Pizza Hut      | Eating Places                      | 1257          | 2151      | 3408\n",
       "... (258 rows omitted)"
      ]
     },
     "execution_count": 126,
     "metadata": {},
     "output_type": "execute_result"
    }
   ],
   "source": [
    "customer"
   ]
  },
  {
   "cell_type": "markdown",
   "metadata": {},
   "source": [
    "# Analysis"
   ]
  },
  {
   "cell_type": "code",
   "execution_count": 127,
   "metadata": {},
   "outputs": [
    {
     "data": {
      "text/html": [
       "<table border=\"1\" class=\"dataframe\">\n",
       "    <thead>\n",
       "        <tr>\n",
       "            <th>Stores Visited</th> <th>Chain Category</th> <th>Non-Customers</th> <th>Customers</th> <th>Sum</th>\n",
       "        </tr>\n",
       "    </thead>\n",
       "    <tbody>\n",
       "        <tr>\n",
       "            <td>SUBWAY        </td> <td>Eating Places                     </td> <td>5131         </td> <td>5000     </td> <td>10131</td>\n",
       "        </tr>\n",
       "        <tr>\n",
       "            <td>CVS           </td> <td>Drug Stores and Proprietary Stores</td> <td>4817         </td> <td>4302     </td> <td>9119 </td>\n",
       "        </tr>\n",
       "        <tr>\n",
       "            <td>Starbucks US  </td> <td>Eating Places                     </td> <td>4817         </td> <td>4128     </td> <td>8945 </td>\n",
       "        </tr>\n",
       "        <tr>\n",
       "            <td>McDonald's    </td> <td>Eating Places                     </td> <td>3875         </td> <td>3895     </td> <td>7770 </td>\n",
       "        </tr>\n",
       "        <tr>\n",
       "            <td>Walgreens     </td> <td>Drug Stores and Proprietary Stores</td> <td>3456         </td> <td>3140     </td> <td>6596 </td>\n",
       "        </tr>\n",
       "        <tr>\n",
       "            <td>Wendy's       </td> <td>Eating Places                     </td> <td>3037         </td> <td>2733     </td> <td>5770 </td>\n",
       "        </tr>\n",
       "        <tr>\n",
       "            <td>Taco Bell     </td> <td>Eating Places                     </td> <td>2723         </td> <td>3023     </td> <td>5746 </td>\n",
       "        </tr>\n",
       "        <tr>\n",
       "            <td>Burger King US</td> <td>Eating Places                     </td> <td>2827         </td> <td>2733     </td> <td>5560 </td>\n",
       "        </tr>\n",
       "        <tr>\n",
       "            <td>Chick-fil-A   </td> <td>Eating Places                     </td> <td>2618         </td> <td>2384     </td> <td>5002 </td>\n",
       "        </tr>\n",
       "        <tr>\n",
       "            <td>Panera Bread  </td> <td>Eating Places                     </td> <td>1885         </td> <td>2035     </td> <td>3920 </td>\n",
       "        </tr>\n",
       "    </tbody>\n",
       "</table>\n",
       "<p>... (258 rows omitted)</p>"
      ],
      "text/plain": [
       "Stores Visited | Chain Category                     | Non-Customers | Customers | Sum\n",
       "SUBWAY         | Eating Places                      | 5131          | 5000      | 10131\n",
       "CVS            | Drug Stores and Proprietary Stores | 4817          | 4302      | 9119\n",
       "Starbucks US   | Eating Places                      | 4817          | 4128      | 8945\n",
       "McDonald's     | Eating Places                      | 3875          | 3895      | 7770\n",
       "Walgreens      | Drug Stores and Proprietary Stores | 3456          | 3140      | 6596\n",
       "Wendy's        | Eating Places                      | 3037          | 2733      | 5770\n",
       "Taco Bell      | Eating Places                      | 2723          | 3023      | 5746\n",
       "Burger King US | Eating Places                      | 2827          | 2733      | 5560\n",
       "Chick-fil-A    | Eating Places                      | 2618          | 2384      | 5002\n",
       "Panera Bread   | Eating Places                      | 1885          | 2035      | 3920\n",
       "... (258 rows omitted)"
      ]
     },
     "execution_count": 127,
     "metadata": {},
     "output_type": "execute_result"
    }
   ],
   "source": [
    "customer.sort('Sum', descending=True)"
   ]
  },
  {
   "cell_type": "markdown",
   "metadata": {},
   "source": [
    "Some notes on the data tables and what they represent based on the information document describing the data:\n",
    "\n",
    "Customer Data Set:\n",
    "- customers refer to the people who are regular customers of the Brawndo drink company\n",
    "- customer data table shows how many people who buy the drink are seen at; for example, 5000 of Brawndo customers don't buy Subway, they are simply seen there. \n",
    "- note that each person can visit multiple stores, meaning some of the numbers on the customers data table can represent the same person \n",
    "- consumers can include customer or anyone who uses the drink actually; the division of cusotmers and non-customers can simply be a distraction\n",
    "\n",
    "Age Data Set:\n",
    "- normal data set with age ranges and non-cusomters and cusotmers who fall under it\n",
    "- seems the most important column here is the customers column for the challenge, but the non-customers can provide more insight\n",
    "\n",
    "Prompt:\n",
    "- give 3 insights into consumer behavior from the data\n",
    "- the main clues to insight here are the age groups (which should give information into what type the consumers are--mid-aged, young, or senior-aged) and the stores visited (do they eat out a lot, do they require medicine, do they work at hardware stores)\n",
    "- objecitve is to merge the two tables to find some information of the consumers"
   ]
  },
  {
   "cell_type": "code",
   "execution_count": 128,
   "metadata": {},
   "outputs": [
    {
     "data": {
      "text/html": [
       "<table border=\"1\" class=\"dataframe\">\n",
       "    <thead>\n",
       "        <tr>\n",
       "            <th>Age Range</th> <th>Non-Customers</th> <th>Customers</th> <th>Sum</th>\n",
       "        </tr>\n",
       "    </thead>\n",
       "    <tbody>\n",
       "        <tr>\n",
       "            <td>Age 0-18 </td> <td>1340         </td> <td>391      </td> <td>1731</td>\n",
       "        </tr>\n",
       "        <tr>\n",
       "            <td>Age 19-25</td> <td>502          </td> <td>1452     </td> <td>1954</td>\n",
       "        </tr>\n",
       "        <tr>\n",
       "            <td>Age 26-34</td> <td>670          </td> <td>1675     </td> <td>2345</td>\n",
       "        </tr>\n",
       "        <tr>\n",
       "            <td>Age 35-54</td> <td>1452         </td> <td>1228     </td> <td>2680</td>\n",
       "        </tr>\n",
       "        <tr>\n",
       "            <td>Age 55-64</td> <td>726          </td> <td>447      </td> <td>1173</td>\n",
       "        </tr>\n",
       "        <tr>\n",
       "            <td>Age 65+  </td> <td>837          </td> <td>391      </td> <td>1228</td>\n",
       "        </tr>\n",
       "    </tbody>\n",
       "</table>"
      ],
      "text/plain": [
       "Age Range | Non-Customers | Customers | Sum\n",
       "Age 0-18  | 1340          | 391       | 1731\n",
       "Age 19-25 | 502           | 1452      | 1954\n",
       "Age 26-34 | 670           | 1675      | 2345\n",
       "Age 35-54 | 1452          | 1228      | 2680\n",
       "Age 55-64 | 726           | 447       | 1173\n",
       "Age 65+   | 837           | 391       | 1228"
      ]
     },
     "execution_count": 128,
     "metadata": {},
     "output_type": "execute_result"
    }
   ],
   "source": [
    "age"
   ]
  },
  {
   "cell_type": "code",
   "execution_count": 129,
   "metadata": {},
   "outputs": [
    {
     "data": {
      "text/html": [
       "<table border=\"1\" class=\"dataframe\">\n",
       "    <thead>\n",
       "        <tr>\n",
       "            <th>Stores Visited</th> <th>Chain Category</th> <th>Non-Customers</th> <th>Customers</th> <th>Sum</th>\n",
       "        </tr>\n",
       "    </thead>\n",
       "    <tbody>\n",
       "        <tr>\n",
       "            <td>SUBWAY        </td> <td>Eating Places                     </td> <td>5131         </td> <td>5000     </td> <td>10131</td>\n",
       "        </tr>\n",
       "        <tr>\n",
       "            <td>CVS           </td> <td>Drug Stores and Proprietary Stores</td> <td>4817         </td> <td>4302     </td> <td>9119 </td>\n",
       "        </tr>\n",
       "        <tr>\n",
       "            <td>Starbucks US  </td> <td>Eating Places                     </td> <td>4817         </td> <td>4128     </td> <td>8945 </td>\n",
       "        </tr>\n",
       "        <tr>\n",
       "            <td>McDonald's    </td> <td>Eating Places                     </td> <td>3875         </td> <td>3895     </td> <td>7770 </td>\n",
       "        </tr>\n",
       "        <tr>\n",
       "            <td>Walgreens     </td> <td>Drug Stores and Proprietary Stores</td> <td>3456         </td> <td>3140     </td> <td>6596 </td>\n",
       "        </tr>\n",
       "        <tr>\n",
       "            <td>Taco Bell     </td> <td>Eating Places                     </td> <td>2723         </td> <td>3023     </td> <td>5746 </td>\n",
       "        </tr>\n",
       "        <tr>\n",
       "            <td>Wendy's       </td> <td>Eating Places                     </td> <td>3037         </td> <td>2733     </td> <td>5770 </td>\n",
       "        </tr>\n",
       "        <tr>\n",
       "            <td>Burger King US</td> <td>Eating Places                     </td> <td>2827         </td> <td>2733     </td> <td>5560 </td>\n",
       "        </tr>\n",
       "        <tr>\n",
       "            <td>Chick-fil-A   </td> <td>Eating Places                     </td> <td>2618         </td> <td>2384     </td> <td>5002 </td>\n",
       "        </tr>\n",
       "        <tr>\n",
       "            <td>Pizza Hut     </td> <td>Eating Places                     </td> <td>1257         </td> <td>2151     </td> <td>3408 </td>\n",
       "        </tr>\n",
       "    </tbody>\n",
       "</table>\n",
       "<p>... (258 rows omitted)</p>"
      ],
      "text/plain": [
       "Stores Visited | Chain Category                     | Non-Customers | Customers | Sum\n",
       "SUBWAY         | Eating Places                      | 5131          | 5000      | 10131\n",
       "CVS            | Drug Stores and Proprietary Stores | 4817          | 4302      | 9119\n",
       "Starbucks US   | Eating Places                      | 4817          | 4128      | 8945\n",
       "McDonald's     | Eating Places                      | 3875          | 3895      | 7770\n",
       "Walgreens      | Drug Stores and Proprietary Stores | 3456          | 3140      | 6596\n",
       "Taco Bell      | Eating Places                      | 2723          | 3023      | 5746\n",
       "Wendy's        | Eating Places                      | 3037          | 2733      | 5770\n",
       "Burger King US | Eating Places                      | 2827          | 2733      | 5560\n",
       "Chick-fil-A    | Eating Places                      | 2618          | 2384      | 5002\n",
       "Pizza Hut      | Eating Places                      | 1257          | 2151      | 3408\n",
       "... (258 rows omitted)"
      ]
     },
     "execution_count": 129,
     "metadata": {},
     "output_type": "execute_result"
    }
   ],
   "source": [
    "customer"
   ]
  },
  {
   "cell_type": "markdown",
   "metadata": {},
   "source": [
    "# Tables by Chain Category"
   ]
  },
  {
   "cell_type": "code",
   "execution_count": 130,
   "metadata": {},
   "outputs": [
    {
     "data": {
      "text/plain": [
       "{'Department Stores',\n",
       " 'Drinking Places (alcoholic Beverages)',\n",
       " 'Drug Stores and Proprietary Stores',\n",
       " 'Eating Places',\n",
       " 'Grocery Stores',\n",
       " 'Hardware Stores'}"
      ]
     },
     "execution_count": 130,
     "metadata": {},
     "output_type": "execute_result"
    }
   ],
   "source": [
    "unique_categories = set(customer_data.column(1))\n",
    "unique_categories"
   ]
  },
  {
   "cell_type": "markdown",
   "metadata": {},
   "source": [
    "### Function to do the process for me: ###"
   ]
  },
  {
   "cell_type": "code",
   "execution_count": 131,
   "metadata": {},
   "outputs": [],
   "source": [
    "def category_table(table, category):\n",
    "    return table.where('Chain Category', are.equal_to(category))\n",
    "eating_places = category_table(customer, 'Eating Places')\n",
    "department_stores = category_table(customer, 'Department Stores')\n",
    "drinking_places_alc = category_table(customer, 'Drinking Places (alcoholic Beverages)')\n",
    "drugs_and_prop = category_table(customer, 'Drug Stores and Proprietary Stores')\n",
    "grocery = category_table(customer, 'Grocery Stores')\n",
    "hardware = category_table(customer, 'Hardware Stores')"
   ]
  },
  {
   "cell_type": "code",
   "execution_count": 132,
   "metadata": {},
   "outputs": [
    {
     "data": {
      "text/plain": [
       "['department_stores',\n",
       " 'drinking_places_alc',\n",
       " 'drugs_and_prop',\n",
       " 'grocery',\n",
       " 'hardware',\n",
       " 'eating_places']"
      ]
     },
     "execution_count": 132,
     "metadata": {},
     "output_type": "execute_result"
    }
   ],
   "source": [
    "tables_list = ['department_stores', 'drinking_places_alc', 'drugs_and_prop', 'grocery', 'hardware', 'eating_places']\n",
    "tables_list"
   ]
  },
  {
   "cell_type": "code",
   "execution_count": 133,
   "metadata": {},
   "outputs": [
    {
     "data": {
      "text/html": [
       "<table border=\"1\" class=\"dataframe\">\n",
       "    <thead>\n",
       "        <tr>\n",
       "            <th>Stores Visited</th> <th>Chain Category</th> <th>Non-Customers</th> <th>Customers</th> <th>Sum</th>\n",
       "        </tr>\n",
       "    </thead>\n",
       "    <tbody>\n",
       "        <tr>\n",
       "            <td>Smokey Bones  </td> <td>Drinking Places (alcoholic Beverages)</td> <td>105          </td> <td>58       </td> <td>163 </td>\n",
       "        </tr>\n",
       "    </tbody>\n",
       "</table>"
      ],
      "text/plain": [
       "Stores Visited | Chain Category                        | Non-Customers | Customers | Sum\n",
       "Smokey Bones   | Drinking Places (alcoholic Beverages) | 105           | 58        | 163"
      ]
     },
     "execution_count": 133,
     "metadata": {},
     "output_type": "execute_result"
    }
   ],
   "source": [
    "drinking_places_alc"
   ]
  },
  {
   "cell_type": "code",
   "execution_count": 134,
   "metadata": {},
   "outputs": [
    {
     "data": {
      "text/html": [
       "<table border=\"1\" class=\"dataframe\">\n",
       "    <thead>\n",
       "        <tr>\n",
       "            <th>Stores Visited</th> <th>Chain Category</th> <th>Non-Customers</th> <th>Customers</th> <th>Sum</th>\n",
       "        </tr>\n",
       "    </thead>\n",
       "    <tbody>\n",
       "        <tr>\n",
       "            <td>The Home Depot      </td> <td>Hardware Stores</td> <td>1676         </td> <td>1570     </td> <td>3246</td>\n",
       "        </tr>\n",
       "        <tr>\n",
       "            <td>Lowe's              </td> <td>Hardware Stores</td> <td>838          </td> <td>930      </td> <td>1768</td>\n",
       "        </tr>\n",
       "        <tr>\n",
       "            <td>Ace Hardware        </td> <td>Hardware Stores</td> <td>209          </td> <td>465      </td> <td>674 </td>\n",
       "        </tr>\n",
       "        <tr>\n",
       "            <td>Harbor Freight Tools</td> <td>Hardware Stores</td> <td>209          </td> <td>233      </td> <td>442 </td>\n",
       "        </tr>\n",
       "        <tr>\n",
       "            <td>True Value Hardware </td> <td>Hardware Stores</td> <td>314          </td> <td>174      </td> <td>488 </td>\n",
       "        </tr>\n",
       "        <tr>\n",
       "            <td>Do It Best          </td> <td>Hardware Stores</td> <td>419          </td> <td>116      </td> <td>535 </td>\n",
       "        </tr>\n",
       "        <tr>\n",
       "            <td>Menard's            </td> <td>Hardware Stores</td> <td>105          </td> <td>58       </td> <td>163 </td>\n",
       "        </tr>\n",
       "    </tbody>\n",
       "</table>"
      ],
      "text/plain": [
       "Stores Visited       | Chain Category  | Non-Customers | Customers | Sum\n",
       "The Home Depot       | Hardware Stores | 1676          | 1570      | 3246\n",
       "Lowe's               | Hardware Stores | 838           | 930       | 1768\n",
       "Ace Hardware         | Hardware Stores | 209           | 465       | 674\n",
       "Harbor Freight Tools | Hardware Stores | 209           | 233       | 442\n",
       "True Value Hardware  | Hardware Stores | 314           | 174       | 488\n",
       "Do It Best           | Hardware Stores | 419           | 116       | 535\n",
       "Menard's             | Hardware Stores | 105           | 58        | 163"
      ]
     },
     "execution_count": 134,
     "metadata": {},
     "output_type": "execute_result"
    }
   ],
   "source": [
    "hardware"
   ]
  },
  {
   "cell_type": "code",
   "execution_count": 135,
   "metadata": {},
   "outputs": [
    {
     "data": {
      "text/html": [
       "<table border=\"1\" class=\"dataframe\">\n",
       "    <thead>\n",
       "        <tr>\n",
       "            <th>Stores Visited</th> <th>Chain Category</th> <th>Non-Customers</th> <th>Customers</th> <th>Sum</th>\n",
       "        </tr>\n",
       "    </thead>\n",
       "    <tbody>\n",
       "        <tr>\n",
       "            <td>Macy's           </td> <td>Department Stores</td> <td>942          </td> <td>1047     </td> <td>1989</td>\n",
       "        </tr>\n",
       "        <tr>\n",
       "            <td>JCPenney         </td> <td>Department Stores</td> <td>1361         </td> <td>930      </td> <td>2291</td>\n",
       "        </tr>\n",
       "        <tr>\n",
       "            <td>Sears            </td> <td>Department Stores</td> <td>1047         </td> <td>872      </td> <td>1919</td>\n",
       "        </tr>\n",
       "        <tr>\n",
       "            <td>Kohl's           </td> <td>Department Stores</td> <td>1152         </td> <td>814      </td> <td>1966</td>\n",
       "        </tr>\n",
       "        <tr>\n",
       "            <td>Saks Fifth Avenue</td> <td>Department Stores</td> <td>419          </td> <td>465      </td> <td>884 </td>\n",
       "        </tr>\n",
       "        <tr>\n",
       "            <td>Dillard's        </td> <td>Department Stores</td> <td>524          </td> <td>465      </td> <td>989 </td>\n",
       "        </tr>\n",
       "        <tr>\n",
       "            <td>Nordstrom        </td> <td>Department Stores</td> <td>419          </td> <td>291      </td> <td>710 </td>\n",
       "        </tr>\n",
       "        <tr>\n",
       "            <td>Boscov's         </td> <td>Department Stores</td> <td>105          </td> <td>116      </td> <td>221 </td>\n",
       "        </tr>\n",
       "        <tr>\n",
       "            <td>Bloomingdale's   </td> <td>Department Stores</td> <td>209          </td> <td>116      </td> <td>325 </td>\n",
       "        </tr>\n",
       "        <tr>\n",
       "            <td>Bealls Tx        </td> <td>Department Stores</td> <td>105          </td> <td>58       </td> <td>163 </td>\n",
       "        </tr>\n",
       "    </tbody>\n",
       "</table>\n",
       "<p>... (1 rows omitted)</p>"
      ],
      "text/plain": [
       "Stores Visited    | Chain Category    | Non-Customers | Customers | Sum\n",
       "Macy's            | Department Stores | 942           | 1047      | 1989\n",
       "JCPenney          | Department Stores | 1361          | 930       | 2291\n",
       "Sears             | Department Stores | 1047          | 872       | 1919\n",
       "Kohl's            | Department Stores | 1152          | 814       | 1966\n",
       "Saks Fifth Avenue | Department Stores | 419           | 465       | 884\n",
       "Dillard's         | Department Stores | 524           | 465       | 989\n",
       "Nordstrom         | Department Stores | 419           | 291       | 710\n",
       "Boscov's          | Department Stores | 105           | 116       | 221\n",
       "Bloomingdale's    | Department Stores | 209           | 116       | 325\n",
       "Bealls Tx         | Department Stores | 105           | 58        | 163\n",
       "... (1 rows omitted)"
      ]
     },
     "execution_count": 135,
     "metadata": {},
     "output_type": "execute_result"
    }
   ],
   "source": [
    "department_stores"
   ]
  },
  {
   "cell_type": "code",
   "execution_count": 136,
   "metadata": {},
   "outputs": [
    {
     "data": {
      "text/html": [
       "<table border=\"1\" class=\"dataframe\">\n",
       "    <thead>\n",
       "        <tr>\n",
       "            <th>Stores Visited</th> <th>Chain Category</th> <th>Non-Customers</th> <th>Customers</th> <th>Sum</th>\n",
       "        </tr>\n",
       "    </thead>\n",
       "    <tbody>\n",
       "        <tr>\n",
       "            <td>SUBWAY                             </td> <td>Eating Places </td> <td>5131         </td> <td>5000     </td> <td>10131</td>\n",
       "        </tr>\n",
       "        <tr>\n",
       "            <td>Starbucks US                       </td> <td>Eating Places </td> <td>4817         </td> <td>4128     </td> <td>8945 </td>\n",
       "        </tr>\n",
       "        <tr>\n",
       "            <td>McDonald's                         </td> <td>Eating Places </td> <td>3875         </td> <td>3895     </td> <td>7770 </td>\n",
       "        </tr>\n",
       "        <tr>\n",
       "            <td>Taco Bell                          </td> <td>Eating Places </td> <td>2723         </td> <td>3023     </td> <td>5746 </td>\n",
       "        </tr>\n",
       "        <tr>\n",
       "            <td>Wendy's                            </td> <td>Eating Places </td> <td>3037         </td> <td>2733     </td> <td>5770 </td>\n",
       "        </tr>\n",
       "        <tr>\n",
       "            <td>Burger King US                     </td> <td>Eating Places </td> <td>2827         </td> <td>2733     </td> <td>5560 </td>\n",
       "        </tr>\n",
       "        <tr>\n",
       "            <td>Chick-fil-A                        </td> <td>Eating Places </td> <td>2618         </td> <td>2384     </td> <td>5002 </td>\n",
       "        </tr>\n",
       "        <tr>\n",
       "            <td>Pizza Hut                          </td> <td>Eating Places </td> <td>1257         </td> <td>2151     </td> <td>3408 </td>\n",
       "        </tr>\n",
       "        <tr>\n",
       "            <td>Chipotle Mexican Grill             </td> <td>Eating Places </td> <td>1571         </td> <td>2093     </td> <td>3664 </td>\n",
       "        </tr>\n",
       "        <tr>\n",
       "            <td>Panera Bread                       </td> <td>Eating Places </td> <td>1885         </td> <td>2035     </td> <td>3920 </td>\n",
       "        </tr>\n",
       "        <tr>\n",
       "            <td>Arby's                             </td> <td>Eating Places </td> <td>1152         </td> <td>1976     </td> <td>3128 </td>\n",
       "        </tr>\n",
       "        <tr>\n",
       "            <td>Dippin' Dots                       </td> <td>Eating Places </td> <td>1571         </td> <td>1919     </td> <td>3490 </td>\n",
       "        </tr>\n",
       "        <tr>\n",
       "            <td>Sonic                              </td> <td>Eating Places </td> <td>2094         </td> <td>1802     </td> <td>3896 </td>\n",
       "        </tr>\n",
       "        <tr>\n",
       "            <td>KFC US                             </td> <td>Eating Places </td> <td>1257         </td> <td>1802     </td> <td>3059 </td>\n",
       "        </tr>\n",
       "        <tr>\n",
       "            <td>IHOP                               </td> <td>Eating Places </td> <td>942          </td> <td>1628     </td> <td>2570 </td>\n",
       "        </tr>\n",
       "        <tr>\n",
       "            <td>Chili's Grill & Bar                </td> <td>Eating Places </td> <td>1257         </td> <td>1570     </td> <td>2827 </td>\n",
       "        </tr>\n",
       "        <tr>\n",
       "            <td>Dairy Queen                        </td> <td>Eating Places </td> <td>1047         </td> <td>1512     </td> <td>2559 </td>\n",
       "        </tr>\n",
       "        <tr>\n",
       "            <td>Panda Express                      </td> <td>Eating Places </td> <td>1676         </td> <td>1453     </td> <td>3129 </td>\n",
       "        </tr>\n",
       "        <tr>\n",
       "            <td>Little Caesars                     </td> <td>Eating Places </td> <td>838          </td> <td>1453     </td> <td>2291 </td>\n",
       "        </tr>\n",
       "        <tr>\n",
       "            <td>Baskin Robbins                     </td> <td>Eating Places </td> <td>942          </td> <td>1453     </td> <td>2395 </td>\n",
       "        </tr>\n",
       "        <tr>\n",
       "            <td>Olive Garden                       </td> <td>Eating Places </td> <td>838          </td> <td>1453     </td> <td>2291 </td>\n",
       "        </tr>\n",
       "        <tr>\n",
       "            <td>Applebee's                         </td> <td>Eating Places </td> <td>1780         </td> <td>1395     </td> <td>3175 </td>\n",
       "        </tr>\n",
       "        <tr>\n",
       "            <td>Five Guys                          </td> <td>Eating Places </td> <td>1152         </td> <td>1279     </td> <td>2431 </td>\n",
       "        </tr>\n",
       "        <tr>\n",
       "            <td>Jack in the Box                    </td> <td>Eating Places </td> <td>524          </td> <td>1221     </td> <td>1745 </td>\n",
       "        </tr>\n",
       "        <tr>\n",
       "            <td>Charley's                          </td> <td>Eating Places </td> <td>1257         </td> <td>1105     </td> <td>2362 </td>\n",
       "        </tr>\n",
       "        <tr>\n",
       "            <td>Denny's                            </td> <td>Eating Places </td> <td>524          </td> <td>1105     </td> <td>1629 </td>\n",
       "        </tr>\n",
       "        <tr>\n",
       "            <td>Cold Stone Creamery                </td> <td>Eating Places </td> <td>628          </td> <td>1047     </td> <td>1675 </td>\n",
       "        </tr>\n",
       "        <tr>\n",
       "            <td>Jimmy John's                       </td> <td>Eating Places </td> <td>733          </td> <td>988      </td> <td>1721 </td>\n",
       "        </tr>\n",
       "        <tr>\n",
       "            <td>Red Robin Gourmet Burgers          </td> <td>Eating Places </td> <td>524          </td> <td>930      </td> <td>1454 </td>\n",
       "        </tr>\n",
       "        <tr>\n",
       "            <td>Buffalo Wild Wings                 </td> <td>Eating Places </td> <td>1361         </td> <td>930      </td> <td>2291 </td>\n",
       "        </tr>\n",
       "        <tr>\n",
       "            <td>Outback Steakhouse                 </td> <td>Eating Places </td> <td>419          </td> <td>814      </td> <td>1233 </td>\n",
       "        </tr>\n",
       "        <tr>\n",
       "            <td>Ruby Tuesday                       </td> <td>Eating Places </td> <td>105          </td> <td>814      </td> <td>919  </td>\n",
       "        </tr>\n",
       "        <tr>\n",
       "            <td>Jersey Mike's                      </td> <td>Eating Places </td> <td>209          </td> <td>756      </td> <td>965  </td>\n",
       "        </tr>\n",
       "        <tr>\n",
       "            <td>Moe's Southwest Grill              </td> <td>Eating Places </td> <td>733          </td> <td>756      </td> <td>1489 </td>\n",
       "        </tr>\n",
       "        <tr>\n",
       "            <td>Hardee's                           </td> <td>Eating Places </td> <td>524          </td> <td>698      </td> <td>1222 </td>\n",
       "        </tr>\n",
       "        <tr>\n",
       "            <td>Smoothie King                      </td> <td>Eating Places </td> <td>733          </td> <td>698      </td> <td>1431 </td>\n",
       "        </tr>\n",
       "        <tr>\n",
       "            <td>Papa John's                        </td> <td>Eating Places </td> <td>419          </td> <td>698      </td> <td>1117 </td>\n",
       "        </tr>\n",
       "        <tr>\n",
       "            <td>Golden Corral                      </td> <td>Eating Places </td> <td>419          </td> <td>640      </td> <td>1059 </td>\n",
       "        </tr>\n",
       "        <tr>\n",
       "            <td>Menchie's                          </td> <td>Eating Places </td> <td>314          </td> <td>640      </td> <td>954  </td>\n",
       "        </tr>\n",
       "        <tr>\n",
       "            <td>LongHorn Steakhouse                </td> <td>Eating Places </td> <td>628          </td> <td>640      </td> <td>1268 </td>\n",
       "        </tr>\n",
       "        <tr>\n",
       "            <td>Papa Murphy's                      </td> <td>Eating Places </td> <td>524          </td> <td>640      </td> <td>1164 </td>\n",
       "        </tr>\n",
       "        <tr>\n",
       "            <td>Noah's New York Bagels             </td> <td>Eating Places </td> <td>524          </td> <td>640      </td> <td>1164 </td>\n",
       "        </tr>\n",
       "        <tr>\n",
       "            <td>Firehouse Subs                     </td> <td>Eating Places </td> <td>524          </td> <td>581      </td> <td>1105 </td>\n",
       "        </tr>\n",
       "        <tr>\n",
       "            <td>Texas Roadhouse                    </td> <td>Eating Places </td> <td>524          </td> <td>581      </td> <td>1105 </td>\n",
       "        </tr>\n",
       "        <tr>\n",
       "            <td>Wingstop                           </td> <td>Eating Places </td> <td>419          </td> <td>581      </td> <td>1000 </td>\n",
       "        </tr>\n",
       "        <tr>\n",
       "            <td>Waffle House                       </td> <td>Eating Places </td> <td>314          </td> <td>581      </td> <td>895  </td>\n",
       "        </tr>\n",
       "        <tr>\n",
       "            <td>Long John Silver's                 </td> <td>Eating Places </td> <td>209          </td> <td>581      </td> <td>790  </td>\n",
       "        </tr>\n",
       "        <tr>\n",
       "            <td>Cracker Barrel                     </td> <td>Eating Places </td> <td>314          </td> <td>581      </td> <td>895  </td>\n",
       "        </tr>\n",
       "        <tr>\n",
       "            <td>BJ's Restaurants                   </td> <td>Eating Places </td> <td>314          </td> <td>581      </td> <td>895  </td>\n",
       "        </tr>\n",
       "        <tr>\n",
       "            <td>Carl's Jr.                         </td> <td>Eating Places </td> <td>314          </td> <td>581      </td> <td>895  </td>\n",
       "        </tr>\n",
       "        <tr>\n",
       "            <td>Red Lobster                        </td> <td>Eating Places </td> <td>419          </td> <td>581      </td> <td>1000 </td>\n",
       "        </tr>\n",
       "        <tr>\n",
       "            <td>Qdoba Mexican Grill                </td> <td>Eating Places </td> <td>628          </td> <td>523      </td> <td>1151 </td>\n",
       "        </tr>\n",
       "        <tr>\n",
       "            <td>The Cheesecake Factory             </td> <td>Eating Places </td> <td>733          </td> <td>523      </td> <td>1256 </td>\n",
       "        </tr>\n",
       "        <tr>\n",
       "            <td>Einstein Brothers                  </td> <td>Eating Places </td> <td>524          </td> <td>523      </td> <td>1047 </td>\n",
       "        </tr>\n",
       "        <tr>\n",
       "            <td>TGI Fridays                        </td> <td>Eating Places </td> <td>209          </td> <td>523      </td> <td>732  </td>\n",
       "        </tr>\n",
       "        <tr>\n",
       "            <td>Bob Evans                          </td> <td>Eating Places </td> <td>209          </td> <td>523      </td> <td>732  </td>\n",
       "        </tr>\n",
       "        <tr>\n",
       "            <td>McAlister's Deli                   </td> <td>Eating Places </td> <td>314          </td> <td>523      </td> <td>837  </td>\n",
       "        </tr>\n",
       "        <tr>\n",
       "            <td>Sbarro                             </td> <td>Eating Places </td> <td>942          </td> <td>523      </td> <td>1465 </td>\n",
       "        </tr>\n",
       "        <tr>\n",
       "            <td>In-N-Out Burger                    </td> <td>Eating Places </td> <td>314          </td> <td>523      </td> <td>837  </td>\n",
       "        </tr>\n",
       "        <tr>\n",
       "            <td>Whataburger                        </td> <td>Eating Places </td> <td>524          </td> <td>523      </td> <td>1047 </td>\n",
       "        </tr>\n",
       "        <tr>\n",
       "            <td>Steak 'n Shake                     </td> <td>Eating Places </td> <td>209          </td> <td>465      </td> <td>674  </td>\n",
       "        </tr>\n",
       "        <tr>\n",
       "            <td>Zaxby's                            </td> <td>Eating Places </td> <td>419          </td> <td>465      </td> <td>884  </td>\n",
       "        </tr>\n",
       "        <tr>\n",
       "            <td>Villa Italian Kitchen              </td> <td>Eating Places </td> <td>628          </td> <td>465      </td> <td>1093 </td>\n",
       "        </tr>\n",
       "        <tr>\n",
       "            <td>Del Taco                           </td> <td>Eating Places </td> <td>105          </td> <td>465      </td> <td>570  </td>\n",
       "        </tr>\n",
       "        <tr>\n",
       "            <td>Boston Market                      </td> <td>Eating Places </td> <td>419          </td> <td>407      </td> <td>826  </td>\n",
       "        </tr>\n",
       "        <tr>\n",
       "            <td>Jamba Juice                        </td> <td>Eating Places </td> <td>1152         </td> <td>407      </td> <td>1559 </td>\n",
       "        </tr>\n",
       "        <tr>\n",
       "            <td>P.F. Chang's China Bistro          </td> <td>Eating Places </td> <td>628          </td> <td>407      </td> <td>1035 </td>\n",
       "        </tr>\n",
       "        <tr>\n",
       "            <td>Pieology Pizzeria                  </td> <td>Eating Places </td> <td>105          </td> <td>407      </td> <td>512  </td>\n",
       "        </tr>\n",
       "        <tr>\n",
       "            <td>Jason's Deli                       </td> <td>Eating Places </td> <td>209          </td> <td>407      </td> <td>616  </td>\n",
       "        </tr>\n",
       "        <tr>\n",
       "            <td>Schlotzsky's                       </td> <td>Eating Places </td> <td>209          </td> <td>407      </td> <td>616  </td>\n",
       "        </tr>\n",
       "        <tr>\n",
       "            <td>Logan's Roadhouse                  </td> <td>Eating Places </td> <td>419          </td> <td>407      </td> <td>826  </td>\n",
       "        </tr>\n",
       "        <tr>\n",
       "            <td>ZoÃ«s Kitchen                      </td> <td>Eating Places </td> <td>105          </td> <td>407      </td> <td>512  </td>\n",
       "        </tr>\n",
       "        <tr>\n",
       "            <td>Sarku Japan                        </td> <td>Eating Places </td> <td>628          </td> <td>407      </td> <td>1035 </td>\n",
       "        </tr>\n",
       "        <tr>\n",
       "            <td>Cheddar's Scratch Kitchen          </td> <td>Eating Places </td> <td>314          </td> <td>407      </td> <td>721  </td>\n",
       "        </tr>\n",
       "        <tr>\n",
       "            <td>Johnny Rockets                     </td> <td>Eating Places </td> <td>524          </td> <td>349      </td> <td>873  </td>\n",
       "        </tr>\n",
       "        <tr>\n",
       "            <td>Corner Bakery Cafe                 </td> <td>Eating Places </td> <td>209          </td> <td>349      </td> <td>558  </td>\n",
       "        </tr>\n",
       "        <tr>\n",
       "            <td>Yogurtland                         </td> <td>Eating Places </td> <td>314          </td> <td>349      </td> <td>663  </td>\n",
       "        </tr>\n",
       "        <tr>\n",
       "            <td>The Coffee Bean & Tea Leaf         </td> <td>Eating Places </td> <td>314          </td> <td>349      </td> <td>663  </td>\n",
       "        </tr>\n",
       "        <tr>\n",
       "            <td>Sweet Tomatoes                     </td> <td>Eating Places </td> <td>209          </td> <td>349      </td> <td>558  </td>\n",
       "        </tr>\n",
       "        <tr>\n",
       "            <td>Culver's                           </td> <td>Eating Places </td> <td>209          </td> <td>291      </td> <td>500  </td>\n",
       "        </tr>\n",
       "        <tr>\n",
       "            <td>Smashburger                        </td> <td>Eating Places </td> <td>419          </td> <td>291      </td> <td>710  </td>\n",
       "        </tr>\n",
       "        <tr>\n",
       "            <td>Jollibee US                        </td> <td>Eating Places </td> <td>105          </td> <td>291      </td> <td>396  </td>\n",
       "        </tr>\n",
       "        <tr>\n",
       "            <td>California Pizza Kitchen           </td> <td>Eating Places </td> <td>105          </td> <td>291      </td> <td>396  </td>\n",
       "        </tr>\n",
       "        <tr>\n",
       "            <td>Ben & Jerry's                      </td> <td>Eating Places </td> <td>314          </td> <td>291      </td> <td>605  </td>\n",
       "        </tr>\n",
       "        <tr>\n",
       "            <td>Great Wraps Grill                  </td> <td>Eating Places </td> <td>419          </td> <td>291      </td> <td>710  </td>\n",
       "        </tr>\n",
       "        <tr>\n",
       "            <td>Rally's Drive-In Restaurants       </td> <td>Eating Places </td> <td>209          </td> <td>291      </td> <td>500  </td>\n",
       "        </tr>\n",
       "        <tr>\n",
       "            <td>Bojangles'                         </td> <td>Eating Places </td> <td>419          </td> <td>291      </td> <td>710  </td>\n",
       "        </tr>\n",
       "        <tr>\n",
       "            <td>Captain D's Seafood Restaurant     </td> <td>Eating Places </td> <td>105          </td> <td>291      </td> <td>396  </td>\n",
       "        </tr>\n",
       "        <tr>\n",
       "            <td>TCBY                               </td> <td>Eating Places </td> <td>209          </td> <td>291      </td> <td>500  </td>\n",
       "        </tr>\n",
       "        <tr>\n",
       "            <td>Which Wich                         </td> <td>Eating Places </td> <td>838          </td> <td>233      </td> <td>1071 </td>\n",
       "        </tr>\n",
       "        <tr>\n",
       "            <td>Domino's Pizza                     </td> <td>Eating Places </td> <td>314          </td> <td>233      </td> <td>547  </td>\n",
       "        </tr>\n",
       "        <tr>\n",
       "            <td>Round Table Pizza                  </td> <td>Eating Places </td> <td>209          </td> <td>233      </td> <td>442  </td>\n",
       "        </tr>\n",
       "        <tr>\n",
       "            <td>Baja Fresh                         </td> <td>Eating Places </td> <td>105          </td> <td>233      </td> <td>338  </td>\n",
       "        </tr>\n",
       "        <tr>\n",
       "            <td>On The Border                      </td> <td>Eating Places </td> <td>314          </td> <td>233      </td> <td>547  </td>\n",
       "        </tr>\n",
       "        <tr>\n",
       "            <td>Noodles & Company                  </td> <td>Eating Places </td> <td>314          </td> <td>233      </td> <td>547  </td>\n",
       "        </tr>\n",
       "        <tr>\n",
       "            <td>A&W Restaurants                    </td> <td>Eating Places </td> <td>105          </td> <td>233      </td> <td>338  </td>\n",
       "        </tr>\n",
       "        <tr>\n",
       "            <td>Taco Bueno                         </td> <td>Eating Places </td> <td>105          </td> <td>233      </td> <td>338  </td>\n",
       "        </tr>\n",
       "        <tr>\n",
       "            <td>Portillo's Restaurants             </td> <td>Eating Places </td> <td>209          </td> <td>233      </td> <td>442  </td>\n",
       "        </tr>\n",
       "        <tr>\n",
       "            <td>FreshÃ«ns                          </td> <td>Eating Places </td> <td>314          </td> <td>233      </td> <td>547  </td>\n",
       "        </tr>\n",
       "        <tr>\n",
       "            <td>sweetFrog Premium Frozen Yogurt    </td> <td>Eating Places </td> <td>209          </td> <td>233      </td> <td>442  </td>\n",
       "        </tr>\n",
       "        <tr>\n",
       "            <td>Quiznos                            </td> <td>Eating Places </td> <td>105          </td> <td>233      </td> <td>338  </td>\n",
       "        </tr>\n",
       "        <tr>\n",
       "            <td>Uncle Maddio's Pizza Joint         </td> <td>Eating Places </td> <td>105          </td> <td>233      </td> <td>338  </td>\n",
       "        </tr>\n",
       "        <tr>\n",
       "            <td>Green Leaf's & Bananas             </td> <td>Eating Places </td> <td>209          </td> <td>233      </td> <td>442  </td>\n",
       "        </tr>\n",
       "        <tr>\n",
       "            <td>Haagen Dazs                        </td> <td>Eating Places </td> <td>524          </td> <td>233      </td> <td>757  </td>\n",
       "        </tr>\n",
       "        <tr>\n",
       "            <td>Au Bon Pain                        </td> <td>Eating Places </td> <td>209          </td> <td>233      </td> <td>442  </td>\n",
       "        </tr>\n",
       "        <tr>\n",
       "            <td>Joe's Crab Shack                   </td> <td>Eating Places </td> <td>105          </td> <td>233      </td> <td>338  </td>\n",
       "        </tr>\n",
       "        <tr>\n",
       "            <td>Perkins Restaurant & Bakery        </td> <td>Eating Places </td> <td>105          </td> <td>233      </td> <td>338  </td>\n",
       "        </tr>\n",
       "        <tr>\n",
       "            <td>Another Broken Egg Cafe            </td> <td>Eating Places </td> <td>209          </td> <td>233      </td> <td>442  </td>\n",
       "        </tr>\n",
       "        <tr>\n",
       "            <td>Blaze Pizza                        </td> <td>Eating Places </td> <td>419          </td> <td>233      </td> <td>652  </td>\n",
       "        </tr>\n",
       "        <tr>\n",
       "            <td>Carvel                             </td> <td>Eating Places </td> <td>209          </td> <td>174      </td> <td>383  </td>\n",
       "        </tr>\n",
       "        <tr>\n",
       "            <td>Tutti Frutti                       </td> <td>Eating Places </td> <td>209          </td> <td>174      </td> <td>383  </td>\n",
       "        </tr>\n",
       "        <tr>\n",
       "            <td>Cicis                              </td> <td>Eating Places </td> <td>314          </td> <td>174      </td> <td>488  </td>\n",
       "        </tr>\n",
       "        <tr>\n",
       "            <td>Krystal                            </td> <td>Eating Places </td> <td>105          </td> <td>174      </td> <td>279  </td>\n",
       "        </tr>\n",
       "        <tr>\n",
       "            <td>Shane's Rib Shack                  </td> <td>Eating Places </td> <td>209          </td> <td>174      </td> <td>383  </td>\n",
       "        </tr>\n",
       "        <tr>\n",
       "            <td>The Melting Pot Restaurant         </td> <td>Eating Places </td> <td>209          </td> <td>174      </td> <td>383  </td>\n",
       "        </tr>\n",
       "        <tr>\n",
       "            <td>Togo's Eateries                    </td> <td>Eating Places </td> <td>209          </td> <td>174      </td> <td>383  </td>\n",
       "        </tr>\n",
       "        <tr>\n",
       "            <td>Tropical Smoothie CafÃ©            </td> <td>Eating Places </td> <td>105          </td> <td>174      </td> <td>279  </td>\n",
       "        </tr>\n",
       "        <tr>\n",
       "            <td>Pinkberry                          </td> <td>Eating Places </td> <td>209          </td> <td>174      </td> <td>383  </td>\n",
       "        </tr>\n",
       "        <tr>\n",
       "            <td>Maggiano's Little Italy            </td> <td>Eating Places </td> <td>209          </td> <td>174      </td> <td>383  </td>\n",
       "        </tr>\n",
       "        <tr>\n",
       "            <td>Freddy's Frozen Custard            </td> <td>Eating Places </td> <td>314          </td> <td>174      </td> <td>488  </td>\n",
       "        </tr>\n",
       "        <tr>\n",
       "            <td>Carrabba's Italian Grill           </td> <td>Eating Places </td> <td>314          </td> <td>174      </td> <td>488  </td>\n",
       "        </tr>\n",
       "        <tr>\n",
       "            <td>Shoney's                           </td> <td>Eating Places </td> <td>105          </td> <td>174      </td> <td>279  </td>\n",
       "        </tr>\n",
       "        <tr>\n",
       "            <td>Rubio's Restaurants                </td> <td>Eating Places </td> <td>314          </td> <td>174      </td> <td>488  </td>\n",
       "        </tr>\n",
       "        <tr>\n",
       "            <td>Pita Pit                           </td> <td>Eating Places </td> <td>105          </td> <td>174      </td> <td>279  </td>\n",
       "        </tr>\n",
       "        <tr>\n",
       "            <td>Claim Jumper Restaurants           </td> <td>Eating Places </td> <td>105          </td> <td>174      </td> <td>279  </td>\n",
       "        </tr>\n",
       "        <tr>\n",
       "            <td>Marco's Pizza                      </td> <td>Eating Places </td> <td>209          </td> <td>174      </td> <td>383  </td>\n",
       "        </tr>\n",
       "        <tr>\n",
       "            <td>Macaroni Grill                     </td> <td>Eating Places </td> <td>105          </td> <td>174      </td> <td>279  </td>\n",
       "        </tr>\n",
       "        <tr>\n",
       "            <td>Wayback Burgers                    </td> <td>Eating Places </td> <td>105          </td> <td>116      </td> <td>221  </td>\n",
       "        </tr>\n",
       "        <tr>\n",
       "            <td>Rita's Italian Ice                 </td> <td>Eating Places </td> <td>314          </td> <td>116      </td> <td>430  </td>\n",
       "        </tr>\n",
       "        <tr>\n",
       "            <td>White Castle                       </td> <td>Eating Places </td> <td>105          </td> <td>116      </td> <td>221  </td>\n",
       "        </tr>\n",
       "        <tr>\n",
       "            <td>Checkers Drive-In Restaurants      </td> <td>Eating Places </td> <td>314          </td> <td>116      </td> <td>430  </td>\n",
       "        </tr>\n",
       "        <tr>\n",
       "            <td>Pollo Tropical                     </td> <td>Eating Places </td> <td>105          </td> <td>116      </td> <td>221  </td>\n",
       "        </tr>\n",
       "        <tr>\n",
       "            <td>Freshii                            </td> <td>Eating Places </td> <td>314          </td> <td>116      </td> <td>430  </td>\n",
       "        </tr>\n",
       "        <tr>\n",
       "            <td>El Torito                          </td> <td>Eating Places </td> <td>105          </td> <td>116      </td> <td>221  </td>\n",
       "        </tr>\n",
       "        <tr>\n",
       "            <td>Fuddruckers                        </td> <td>Eating Places </td> <td>419          </td> <td>116      </td> <td>535  </td>\n",
       "        </tr>\n",
       "        <tr>\n",
       "            <td>Wild Wing Cafe                     </td> <td>Eating Places </td> <td>105          </td> <td>116      </td> <td>221  </td>\n",
       "        </tr>\n",
       "        <tr>\n",
       "            <td>Chevys Fresh Mex                   </td> <td>Eating Places </td> <td>105          </td> <td>116      </td> <td>221  </td>\n",
       "        </tr>\n",
       "        <tr>\n",
       "            <td>Planet Smoothie                    </td> <td>Eating Places </td> <td>105          </td> <td>116      </td> <td>221  </td>\n",
       "        </tr>\n",
       "        <tr>\n",
       "            <td>Miller's Ale House                 </td> <td>Eating Places </td> <td>105          </td> <td>116      </td> <td>221  </td>\n",
       "        </tr>\n",
       "        <tr>\n",
       "            <td>Krispy Krunchy Chicken             </td> <td>Eating Places </td> <td>105          </td> <td>116      </td> <td>221  </td>\n",
       "        </tr>\n",
       "        <tr>\n",
       "            <td>Mimi's Cafe                        </td> <td>Eating Places </td> <td>419          </td> <td>116      </td> <td>535  </td>\n",
       "        </tr>\n",
       "        <tr>\n",
       "            <td>The Veggie Grill                   </td> <td>Eating Places </td> <td>105          </td> <td>116      </td> <td>221  </td>\n",
       "        </tr>\n",
       "        <tr>\n",
       "            <td>Hooters                            </td> <td>Eating Places </td> <td>105          </td> <td>116      </td> <td>221  </td>\n",
       "        </tr>\n",
       "        <tr>\n",
       "            <td>Tim Hortons                        </td> <td>Eating Places </td> <td>419          </td> <td>116      </td> <td>535  </td>\n",
       "        </tr>\n",
       "        <tr>\n",
       "            <td>Kona Grill                         </td> <td>Eating Places </td> <td>105          </td> <td>116      </td> <td>221  </td>\n",
       "        </tr>\n",
       "        <tr>\n",
       "            <td>Pei Wei Asian Diner                </td> <td>Eating Places </td> <td>209          </td> <td>116      </td> <td>325  </td>\n",
       "        </tr>\n",
       "        <tr>\n",
       "            <td>Potbelly Sandwich Works            </td> <td>Eating Places </td> <td>209          </td> <td>116      </td> <td>325  </td>\n",
       "        </tr>\n",
       "        <tr>\n",
       "            <td>Raising Cane's                     </td> <td>Eating Places </td> <td>209          </td> <td>116      </td> <td>325  </td>\n",
       "        </tr>\n",
       "        <tr>\n",
       "            <td>Ruth's Chris Steak House           </td> <td>Eating Places </td> <td>209          </td> <td>116      </td> <td>325  </td>\n",
       "        </tr>\n",
       "        <tr>\n",
       "            <td>Mellow Mushroom                    </td> <td>Eating Places </td> <td>209          </td> <td>116      </td> <td>325  </td>\n",
       "        </tr>\n",
       "        <tr>\n",
       "            <td>Le Pain Quotidien                  </td> <td>Eating Places </td> <td>314          </td> <td>116      </td> <td>430  </td>\n",
       "        </tr>\n",
       "        <tr>\n",
       "            <td>My Fit Foods                       </td> <td>Eating Places </td> <td>105          </td> <td>116      </td> <td>221  </td>\n",
       "        </tr>\n",
       "        <tr>\n",
       "            <td>Saltgrass Steak House              </td> <td>Eating Places </td> <td>105          </td> <td>58       </td> <td>163  </td>\n",
       "        </tr>\n",
       "        <tr>\n",
       "            <td>Chicken Express                    </td> <td>Eating Places </td> <td>105          </td> <td>58       </td> <td>163  </td>\n",
       "        </tr>\n",
       "        <tr>\n",
       "            <td>Granite City Food & Brewery        </td> <td>Eating Places </td> <td>209          </td> <td>58       </td> <td>267  </td>\n",
       "        </tr>\n",
       "        <tr>\n",
       "            <td>Bonefish Grill                     </td> <td>Eating Places </td> <td>105          </td> <td>58       </td> <td>163  </td>\n",
       "        </tr>\n",
       "        <tr>\n",
       "            <td>Hot Dog on a Stick                 </td> <td>Eating Places </td> <td>105          </td> <td>58       </td> <td>163  </td>\n",
       "        </tr>\n",
       "        <tr>\n",
       "            <td>Caffe Bene                         </td> <td>Eating Places </td> <td>105          </td> <td>58       </td> <td>163  </td>\n",
       "        </tr>\n",
       "        <tr>\n",
       "            <td>Ninety Nine Restaurants            </td> <td>Eating Places </td> <td>105          </td> <td>58       </td> <td>163  </td>\n",
       "        </tr>\n",
       "        <tr>\n",
       "            <td>Tijuana Flats                      </td> <td>Eating Places </td> <td>105          </td> <td>58       </td> <td>163  </td>\n",
       "        </tr>\n",
       "        <tr>\n",
       "            <td>Salata                             </td> <td>Eating Places </td> <td>105          </td> <td>58       </td> <td>163  </td>\n",
       "        </tr>\n",
       "        <tr>\n",
       "            <td>Old Chicago Pizza and Taproom      </td> <td>Eating Places </td> <td>105          </td> <td>58       </td> <td>163  </td>\n",
       "        </tr>\n",
       "        <tr>\n",
       "            <td>Juice Served Here                  </td> <td>Eating Places </td> <td>105          </td> <td>58       </td> <td>163  </td>\n",
       "        </tr>\n",
       "        <tr>\n",
       "            <td>Hungry Howie's Pizza & Subs        </td> <td>Eating Places </td> <td>105          </td> <td>58       </td> <td>163  </td>\n",
       "        </tr>\n",
       "        <tr>\n",
       "            <td>Friendly's Ice Cream               </td> <td>Eating Places </td> <td>314          </td> <td>58       </td> <td>372  </td>\n",
       "        </tr>\n",
       "        <tr>\n",
       "            <td>First Watch Restaurants            </td> <td>Eating Places </td> <td>105          </td> <td>58       </td> <td>163  </td>\n",
       "        </tr>\n",
       "        <tr>\n",
       "            <td>Muscle Maker Grill                 </td> <td>Eating Places </td> <td>105          </td> <td>58       </td> <td>163  </td>\n",
       "        </tr>\n",
       "        <tr>\n",
       "            <td>Anthony's Coal Fired Pizza         </td> <td>Eating Places </td> <td>105          </td> <td>58       </td> <td>163  </td>\n",
       "        </tr>\n",
       "        <tr>\n",
       "            <td>Bonanza & Ponderosa Steakhouse     </td> <td>Eating Places </td> <td>105          </td> <td>58       </td> <td>163  </td>\n",
       "        </tr>\n",
       "        <tr>\n",
       "            <td>Bullritos                          </td> <td>Eating Places </td> <td>105          </td> <td>58       </td> <td>163  </td>\n",
       "        </tr>\n",
       "        <tr>\n",
       "            <td>Islands Restaurants                </td> <td>Eating Places </td> <td>209          </td> <td>58       </td> <td>267  </td>\n",
       "        </tr>\n",
       "        <tr>\n",
       "            <td>Cherry on Top                      </td> <td>Eating Places </td> <td>105          </td> <td>58       </td> <td>163  </td>\n",
       "        </tr>\n",
       "        <tr>\n",
       "            <td>Yogen FrÃ¼z                        </td> <td>Eating Places </td> <td>105          </td> <td>58       </td> <td>163  </td>\n",
       "        </tr>\n",
       "        <tr>\n",
       "            <td>Gordon Biersch Restaurant & Brewery</td> <td>Eating Places </td> <td>105          </td> <td>58       </td> <td>163  </td>\n",
       "        </tr>\n",
       "        <tr>\n",
       "            <td>Church's Chicken                   </td> <td>Eating Places </td> <td>524          </td> <td>58       </td> <td>582  </td>\n",
       "        </tr>\n",
       "        <tr>\n",
       "            <td>L&L Hawaiian Barbecue              </td> <td>Eating Places </td> <td>105          </td> <td>58       </td> <td>163  </td>\n",
       "        </tr>\n",
       "        <tr>\n",
       "            <td>Marble Slab Creamery               </td> <td>Eating Places </td> <td>314          </td> <td>58       </td> <td>372  </td>\n",
       "        </tr>\n",
       "        <tr>\n",
       "            <td>Taco Cabana                        </td> <td>Eating Places </td> <td>209          </td> <td>58       </td> <td>267  </td>\n",
       "        </tr>\n",
       "        <tr>\n",
       "            <td>Shake Shack                        </td> <td>Eating Places </td> <td>314          </td> <td>58       </td> <td>372  </td>\n",
       "        </tr>\n",
       "        <tr>\n",
       "            <td>Red Mango                          </td> <td>Eating Places </td> <td>105          </td> <td>58       </td> <td>163  </td>\n",
       "        </tr>\n",
       "        <tr>\n",
       "            <td>PDQ                                </td> <td>Eating Places </td> <td>105          </td> <td>58       </td> <td>163  </td>\n",
       "        </tr>\n",
       "        <tr>\n",
       "            <td>Taco Maker                         </td> <td>Eating Places </td> <td>105          </td> <td>58       </td> <td>163  </td>\n",
       "        </tr>\n",
       "        <tr>\n",
       "            <td>Lettuce Entertain You (LEYE)       </td> <td>Eating Places </td> <td>314          </td> <td>58       </td> <td>372  </td>\n",
       "        </tr>\n",
       "        <tr>\n",
       "            <td>Luby's                             </td> <td>Eating Places </td> <td>209          </td> <td>58       </td> <td>267  </td>\n",
       "        </tr>\n",
       "        <tr>\n",
       "            <td>American Deli                      </td> <td>Eating Places </td> <td>105          </td> <td>58       </td> <td>163  </td>\n",
       "        </tr>\n",
       "        <tr>\n",
       "            <td>Texas de Brazil                    </td> <td>Eating Places </td> <td>105          </td> <td>58       </td> <td>163  </td>\n",
       "        </tr>\n",
       "        <tr>\n",
       "            <td>Hale and Hearty                    </td> <td>Eating Places </td> <td>105          </td> <td>58       </td> <td>163  </td>\n",
       "        </tr>\n",
       "        <tr>\n",
       "            <td>Uno Chicago Grill                  </td> <td>Eating Places </td> <td>314          </td> <td>58       </td> <td>372  </td>\n",
       "        </tr>\n",
       "        <tr>\n",
       "            <td>Giordano's                         </td> <td>Eating Places </td> <td>105          </td> <td>58       </td> <td>163  </td>\n",
       "        </tr>\n",
       "        <tr>\n",
       "            <td>Gloria Jean's Gourmet Coffees      </td> <td>Eating Places </td> <td>105          </td> <td>58       </td> <td>163  </td>\n",
       "        </tr>\n",
       "        <tr>\n",
       "            <td>Specialty's Cafe and Bakery        </td> <td>Eating Places </td> <td>105          </td> <td>58       </td> <td>163  </td>\n",
       "        </tr>\n",
       "        <tr>\n",
       "            <td>Seasons 52                         </td> <td>Eating Places </td> <td>209          </td> <td>58       </td> <td>267  </td>\n",
       "        </tr>\n",
       "        <tr>\n",
       "            <td>Papa Gino's                        </td> <td>Eating Places </td> <td>105          </td> <td>58       </td> <td>163  </td>\n",
       "        </tr>\n",
       "        <tr>\n",
       "            <td>Lawry's Restaurants Inc            </td> <td>Eating Places </td> <td>105          </td> <td>58       </td> <td>163  </td>\n",
       "        </tr>\n",
       "    </tbody>\n",
       "</table>"
      ],
      "text/plain": [
       "<IPython.core.display.HTML object>"
      ]
     },
     "metadata": {},
     "output_type": "display_data"
    }
   ],
   "source": [
    "eating_places.show()"
   ]
  },
  {
   "cell_type": "markdown",
   "metadata": {},
   "source": [
    "# Consumer Behavior #1: Location + Age "
   ]
  },
  {
   "cell_type": "markdown",
   "metadata": {},
   "source": [
    "The top three stores visisted from each unique category are located predominantly in the Eastern side of US, which suggests that most of the consumers are located in the Eastern United States. Moreover, the stored where few customers and consumers visit are located mainly or fully in the Western side of US, suggesting that a few of the customers and non-customers are located in the Western part of the US. "
   ]
  },
  {
   "cell_type": "markdown",
   "metadata": {},
   "source": [
    "# Analysis Continuation"
   ]
  },
  {
   "cell_type": "code",
   "execution_count": 137,
   "metadata": {},
   "outputs": [
    {
     "data": {
      "text/plain": [
       "11111"
      ]
     },
     "execution_count": 137,
     "metadata": {},
     "output_type": "execute_result"
    }
   ],
   "source": [
    "people_in_age = sum(age.column('Sum'))\n",
    "people_in_age"
   ]
  },
  {
   "cell_type": "code",
   "execution_count": 138,
   "metadata": {},
   "outputs": [
    {
     "data": {
      "text/html": [
       "<table border=\"1\" class=\"dataframe\">\n",
       "    <thead>\n",
       "        <tr>\n",
       "            <th>Age Range</th> <th>Non-Customers</th> <th>Customers</th> <th>Sum</th>\n",
       "        </tr>\n",
       "    </thead>\n",
       "    <tbody>\n",
       "        <tr>\n",
       "            <td>Age 0-18 </td> <td>1340         </td> <td>391      </td> <td>1731</td>\n",
       "        </tr>\n",
       "        <tr>\n",
       "            <td>Age 19-25</td> <td>502          </td> <td>1452     </td> <td>1954</td>\n",
       "        </tr>\n",
       "        <tr>\n",
       "            <td>Age 26-34</td> <td>670          </td> <td>1675     </td> <td>2345</td>\n",
       "        </tr>\n",
       "        <tr>\n",
       "            <td>Age 35-54</td> <td>1452         </td> <td>1228     </td> <td>2680</td>\n",
       "        </tr>\n",
       "        <tr>\n",
       "            <td>Age 55-64</td> <td>726          </td> <td>447      </td> <td>1173</td>\n",
       "        </tr>\n",
       "        <tr>\n",
       "            <td>Age 65+  </td> <td>837          </td> <td>391      </td> <td>1228</td>\n",
       "        </tr>\n",
       "    </tbody>\n",
       "</table>"
      ],
      "text/plain": [
       "Age Range | Non-Customers | Customers | Sum\n",
       "Age 0-18  | 1340          | 391       | 1731\n",
       "Age 19-25 | 502           | 1452      | 1954\n",
       "Age 26-34 | 670           | 1675      | 2345\n",
       "Age 35-54 | 1452          | 1228      | 2680\n",
       "Age 55-64 | 726           | 447       | 1173\n",
       "Age 65+   | 837           | 391       | 1228"
      ]
     },
     "execution_count": 138,
     "metadata": {},
     "output_type": "execute_result"
    }
   ],
   "source": [
    "age"
   ]
  },
  {
   "cell_type": "code",
   "execution_count": 139,
   "metadata": {},
   "outputs": [],
   "source": [
    "non_customers = sum(age.column('Non-Customers'))\n",
    "customers = sum(age.column('Customers'))"
   ]
  },
  {
   "cell_type": "code",
   "execution_count": 140,
   "metadata": {},
   "outputs": [
    {
     "data": {
      "text/plain": [
       "57"
      ]
     },
     "execution_count": 140,
     "metadata": {},
     "output_type": "execute_result"
    }
   ],
   "source": [
    "customers - non_customers"
   ]
  },
  {
   "cell_type": "code",
   "execution_count": 141,
   "metadata": {},
   "outputs": [
    {
     "data": {
      "text/html": [
       "<table border=\"1\" class=\"dataframe\">\n",
       "    <thead>\n",
       "        <tr>\n",
       "            <th>Stores Visited</th> <th>Chain Category</th> <th>Non-Customers</th> <th>Customers</th> <th>Sum</th>\n",
       "        </tr>\n",
       "    </thead>\n",
       "    <tbody>\n",
       "        <tr>\n",
       "            <td>SUBWAY                </td> <td>Eating Places </td> <td>5131         </td> <td>5000     </td> <td>10131</td>\n",
       "        </tr>\n",
       "        <tr>\n",
       "            <td>Starbucks US          </td> <td>Eating Places </td> <td>4817         </td> <td>4128     </td> <td>8945 </td>\n",
       "        </tr>\n",
       "        <tr>\n",
       "            <td>McDonald's            </td> <td>Eating Places </td> <td>3875         </td> <td>3895     </td> <td>7770 </td>\n",
       "        </tr>\n",
       "        <tr>\n",
       "            <td>Taco Bell             </td> <td>Eating Places </td> <td>2723         </td> <td>3023     </td> <td>5746 </td>\n",
       "        </tr>\n",
       "        <tr>\n",
       "            <td>Wendy's               </td> <td>Eating Places </td> <td>3037         </td> <td>2733     </td> <td>5770 </td>\n",
       "        </tr>\n",
       "        <tr>\n",
       "            <td>Burger King US        </td> <td>Eating Places </td> <td>2827         </td> <td>2733     </td> <td>5560 </td>\n",
       "        </tr>\n",
       "        <tr>\n",
       "            <td>Chick-fil-A           </td> <td>Eating Places </td> <td>2618         </td> <td>2384     </td> <td>5002 </td>\n",
       "        </tr>\n",
       "        <tr>\n",
       "            <td>Pizza Hut             </td> <td>Eating Places </td> <td>1257         </td> <td>2151     </td> <td>3408 </td>\n",
       "        </tr>\n",
       "        <tr>\n",
       "            <td>Chipotle Mexican Grill</td> <td>Eating Places </td> <td>1571         </td> <td>2093     </td> <td>3664 </td>\n",
       "        </tr>\n",
       "        <tr>\n",
       "            <td>Panera Bread          </td> <td>Eating Places </td> <td>1885         </td> <td>2035     </td> <td>3920 </td>\n",
       "        </tr>\n",
       "    </tbody>\n",
       "</table>\n",
       "<p>... (184 rows omitted)</p>"
      ],
      "text/plain": [
       "Stores Visited         | Chain Category | Non-Customers | Customers | Sum\n",
       "SUBWAY                 | Eating Places  | 5131          | 5000      | 10131\n",
       "Starbucks US           | Eating Places  | 4817          | 4128      | 8945\n",
       "McDonald's             | Eating Places  | 3875          | 3895      | 7770\n",
       "Taco Bell              | Eating Places  | 2723          | 3023      | 5746\n",
       "Wendy's                | Eating Places  | 3037          | 2733      | 5770\n",
       "Burger King US         | Eating Places  | 2827          | 2733      | 5560\n",
       "Chick-fil-A            | Eating Places  | 2618          | 2384      | 5002\n",
       "Pizza Hut              | Eating Places  | 1257          | 2151      | 3408\n",
       "Chipotle Mexican Grill | Eating Places  | 1571          | 2093      | 3664\n",
       "Panera Bread           | Eating Places  | 1885          | 2035      | 3920\n",
       "... (184 rows omitted)"
      ]
     },
     "execution_count": 141,
     "metadata": {},
     "output_type": "execute_result"
    }
   ],
   "source": [
    "eating_places"
   ]
  },
  {
   "cell_type": "code",
   "execution_count": 142,
   "metadata": {},
   "outputs": [],
   "source": [
    "add = 0\n",
    "for _ in range(1, 4):\n",
    "    add += age.column(2)[_]"
   ]
  },
  {
   "cell_type": "code",
   "execution_count": 143,
   "metadata": {},
   "outputs": [
    {
     "data": {
      "text/plain": [
       "0.7799068767908309"
      ]
     },
     "execution_count": 143,
     "metadata": {},
     "output_type": "execute_result"
    }
   ],
   "source": [
    "add/customers"
   ]
  },
  {
   "cell_type": "code",
   "execution_count": 144,
   "metadata": {},
   "outputs": [
    {
     "data": {
      "text/plain": [
       "5584"
      ]
     },
     "execution_count": 144,
     "metadata": {},
     "output_type": "execute_result"
    }
   ],
   "source": [
    "customers"
   ]
  },
  {
   "cell_type": "code",
   "execution_count": 145,
   "metadata": {},
   "outputs": [
    {
     "data": {
      "text/plain": [
       "0.8954154727793696"
      ]
     },
     "execution_count": 145,
     "metadata": {},
     "output_type": "execute_result"
    }
   ],
   "source": [
    "5000/5584"
   ]
  },
  {
   "cell_type": "markdown",
   "metadata": {},
   "source": [
    "78% of all customers are between the age of 19-54, which includes the working age. Given that 90% of the customers are seen in Subway alone we can conclude that most people are working and don't have time to cook food or lunches for themselves. As a result, they are seen in eating places (for the most part) and eat from there. "
   ]
  },
  {
   "cell_type": "markdown",
   "metadata": {},
   "source": [
    "# Consumer Behavior #2: Interests "
   ]
  },
  {
   "cell_type": "code",
   "execution_count": 146,
   "metadata": {},
   "outputs": [
    {
     "data": {
      "text/plain": [
       "['department_stores',\n",
       " 'drinking_places_alc',\n",
       " 'drugs_and_prop',\n",
       " 'grocery',\n",
       " 'hardware',\n",
       " 'eating_places']"
      ]
     },
     "execution_count": 146,
     "metadata": {},
     "output_type": "execute_result"
    }
   ],
   "source": [
    "tables_list"
   ]
  },
  {
   "cell_type": "code",
   "execution_count": 147,
   "metadata": {},
   "outputs": [
    {
     "data": {
      "text/html": [
       "<table border=\"1\" class=\"dataframe\">\n",
       "    <thead>\n",
       "        <tr>\n",
       "            <th>Stores Visited</th> <th>Chain Category</th> <th>Non-Customers</th> <th>Customers</th> <th>Sum</th>\n",
       "        </tr>\n",
       "    </thead>\n",
       "    <tbody>\n",
       "        <tr>\n",
       "            <td>Macy's           </td> <td>Department Stores</td> <td>942          </td> <td>1047     </td> <td>1989</td>\n",
       "        </tr>\n",
       "        <tr>\n",
       "            <td>JCPenney         </td> <td>Department Stores</td> <td>1361         </td> <td>930      </td> <td>2291</td>\n",
       "        </tr>\n",
       "        <tr>\n",
       "            <td>Sears            </td> <td>Department Stores</td> <td>1047         </td> <td>872      </td> <td>1919</td>\n",
       "        </tr>\n",
       "        <tr>\n",
       "            <td>Kohl's           </td> <td>Department Stores</td> <td>1152         </td> <td>814      </td> <td>1966</td>\n",
       "        </tr>\n",
       "        <tr>\n",
       "            <td>Saks Fifth Avenue</td> <td>Department Stores</td> <td>419          </td> <td>465      </td> <td>884 </td>\n",
       "        </tr>\n",
       "        <tr>\n",
       "            <td>Dillard's        </td> <td>Department Stores</td> <td>524          </td> <td>465      </td> <td>989 </td>\n",
       "        </tr>\n",
       "        <tr>\n",
       "            <td>Nordstrom        </td> <td>Department Stores</td> <td>419          </td> <td>291      </td> <td>710 </td>\n",
       "        </tr>\n",
       "        <tr>\n",
       "            <td>Boscov's         </td> <td>Department Stores</td> <td>105          </td> <td>116      </td> <td>221 </td>\n",
       "        </tr>\n",
       "        <tr>\n",
       "            <td>Bloomingdale's   </td> <td>Department Stores</td> <td>209          </td> <td>116      </td> <td>325 </td>\n",
       "        </tr>\n",
       "        <tr>\n",
       "            <td>Bealls Tx        </td> <td>Department Stores</td> <td>105          </td> <td>58       </td> <td>163 </td>\n",
       "        </tr>\n",
       "    </tbody>\n",
       "</table>\n",
       "<p>... (1 rows omitted)</p>"
      ],
      "text/plain": [
       "Stores Visited    | Chain Category    | Non-Customers | Customers | Sum\n",
       "Macy's            | Department Stores | 942           | 1047      | 1989\n",
       "JCPenney          | Department Stores | 1361          | 930       | 2291\n",
       "Sears             | Department Stores | 1047          | 872       | 1919\n",
       "Kohl's            | Department Stores | 1152          | 814       | 1966\n",
       "Saks Fifth Avenue | Department Stores | 419           | 465       | 884\n",
       "Dillard's         | Department Stores | 524           | 465       | 989\n",
       "Nordstrom         | Department Stores | 419           | 291       | 710\n",
       "Boscov's          | Department Stores | 105           | 116       | 221\n",
       "Bloomingdale's    | Department Stores | 209           | 116       | 325\n",
       "Bealls Tx         | Department Stores | 105           | 58        | 163\n",
       "... (1 rows omitted)"
      ]
     },
     "execution_count": 147,
     "metadata": {},
     "output_type": "execute_result"
    }
   ],
   "source": [
    "department_stores"
   ]
  },
  {
   "cell_type": "code",
   "execution_count": 148,
   "metadata": {},
   "outputs": [],
   "source": [
    "top_three = [0, 1, 2]\n",
    "top_three_tot = 0\n",
    "for _ in top_three:\n",
    "    top_three_tot += department_stores.column(3)[_]"
   ]
  },
  {
   "cell_type": "code",
   "execution_count": 149,
   "metadata": {},
   "outputs": [
    {
     "data": {
      "text/plain": [
       "0.5102077363896849"
      ]
     },
     "execution_count": 149,
     "metadata": {},
     "output_type": "execute_result"
    }
   ],
   "source": [
    "top_three_tot/customers"
   ]
  },
  {
   "cell_type": "markdown",
   "metadata": {},
   "source": [
    "About half of the customers (or less) are seen in just the three most-visited department stores. "
   ]
  },
  {
   "cell_type": "markdown",
   "metadata": {},
   "source": [
    "From the list of department stores given in the table, it seem that all the customers like to shop all their necessities from one place. The stores found in the department_stores table are mostly found in/or near malls and big shopping outlets, which indicated that customers seem to shop without having to travel around their town.  "
   ]
  },
  {
   "cell_type": "markdown",
   "metadata": {},
   "source": [
    "# Consumer Behavior #3: "
   ]
  },
  {
   "cell_type": "code",
   "execution_count": 150,
   "metadata": {},
   "outputs": [
    {
     "data": {
      "text/plain": [
       "['department_stores',\n",
       " 'drinking_places_alc',\n",
       " 'drugs_and_prop',\n",
       " 'grocery',\n",
       " 'hardware',\n",
       " 'eating_places']"
      ]
     },
     "execution_count": 150,
     "metadata": {},
     "output_type": "execute_result"
    }
   ],
   "source": [
    "tables_list"
   ]
  },
  {
   "cell_type": "code",
   "execution_count": 151,
   "metadata": {},
   "outputs": [
    {
     "data": {
      "text/html": [
       "<table border=\"1\" class=\"dataframe\">\n",
       "    <thead>\n",
       "        <tr>\n",
       "            <th>Stores Visited</th> <th>Chain Category</th> <th>Non-Customers</th> <th>Customers</th> <th>Sum</th>\n",
       "        </tr>\n",
       "    </thead>\n",
       "    <tbody>\n",
       "        <tr>\n",
       "            <td>CVS                                                        </td> <td>Drug Stores and Proprietary Stores</td> <td>4817         </td> <td>4302     </td> <td>9119</td>\n",
       "        </tr>\n",
       "        <tr>\n",
       "            <td>Walgreens                                                  </td> <td>Drug Stores and Proprietary Stores</td> <td>3456         </td> <td>3140     </td> <td>6596</td>\n",
       "        </tr>\n",
       "        <tr>\n",
       "            <td>Rite Aid                                                   </td> <td>Drug Stores and Proprietary Stores</td> <td>1780         </td> <td>1512     </td> <td>3292</td>\n",
       "        </tr>\n",
       "        <tr>\n",
       "            <td>Health Mart                                                </td> <td>Drug Stores and Proprietary Stores</td> <td>209          </td> <td>1047     </td> <td>1256</td>\n",
       "        </tr>\n",
       "        <tr>\n",
       "            <td>Good Neighbor Pharmacy                                     </td> <td>Drug Stores and Proprietary Stores</td> <td>105          </td> <td>640      </td> <td>745 </td>\n",
       "        </tr>\n",
       "        <tr>\n",
       "            <td>IACP (The International Academy of Compounding Pharmacists)</td> <td>Drug Stores and Proprietary Stores</td> <td>314          </td> <td>407      </td> <td>721 </td>\n",
       "        </tr>\n",
       "        <tr>\n",
       "            <td>Sav-on Pharmacy                                            </td> <td>Drug Stores and Proprietary Stores</td> <td>105          </td> <td>233      </td> <td>338 </td>\n",
       "        </tr>\n",
       "        <tr>\n",
       "            <td>The Medicine Shoppe                                        </td> <td>Drug Stores and Proprietary Stores</td> <td>105          </td> <td>116      </td> <td>221 </td>\n",
       "        </tr>\n",
       "        <tr>\n",
       "            <td>Duane Reade                                                </td> <td>Drug Stores and Proprietary Stores</td> <td>209          </td> <td>58       </td> <td>267 </td>\n",
       "        </tr>\n",
       "        <tr>\n",
       "            <td>USA Drug                                                   </td> <td>Drug Stores and Proprietary Stores</td> <td>105          </td> <td>58       </td> <td>163 </td>\n",
       "        </tr>\n",
       "    </tbody>\n",
       "</table>"
      ],
      "text/plain": [
       "Stores Visited                                              | Chain Category                     | Non-Customers | Customers | Sum\n",
       "CVS                                                         | Drug Stores and Proprietary Stores | 4817          | 4302      | 9119\n",
       "Walgreens                                                   | Drug Stores and Proprietary Stores | 3456          | 3140      | 6596\n",
       "Rite Aid                                                    | Drug Stores and Proprietary Stores | 1780          | 1512      | 3292\n",
       "Health Mart                                                 | Drug Stores and Proprietary Stores | 209           | 1047      | 1256\n",
       "Good Neighbor Pharmacy                                      | Drug Stores and Proprietary Stores | 105           | 640       | 745\n",
       "IACP (The International Academy of Compounding Pharmacists) | Drug Stores and Proprietary Stores | 314           | 407       | 721\n",
       "Sav-on Pharmacy                                             | Drug Stores and Proprietary Stores | 105           | 233       | 338\n",
       "The Medicine Shoppe                                         | Drug Stores and Proprietary Stores | 105           | 116       | 221\n",
       "Duane Reade                                                 | Drug Stores and Proprietary Stores | 209           | 58        | 267\n",
       "USA Drug                                                    | Drug Stores and Proprietary Stores | 105           | 58        | 163"
      ]
     },
     "execution_count": 151,
     "metadata": {},
     "output_type": "execute_result"
    }
   ],
   "source": [
    "drugs_and_prop"
   ]
  },
  {
   "cell_type": "code",
   "execution_count": 152,
   "metadata": {},
   "outputs": [
    {
     "data": {
      "text/html": [
       "<table border=\"1\" class=\"dataframe\">\n",
       "    <thead>\n",
       "        <tr>\n",
       "            <th>Stores Visited</th> <th>Chain Category</th> <th>Non-Customers</th> <th>Customers</th> <th>Sum</th>\n",
       "        </tr>\n",
       "    </thead>\n",
       "    <tbody>\n",
       "        <tr>\n",
       "            <td>ALDI                  </td> <td>Grocery Stores</td> <td>1152         </td> <td>1279     </td> <td>2431</td>\n",
       "        </tr>\n",
       "        <tr>\n",
       "            <td>Kroger                </td> <td>Grocery Stores</td> <td>628          </td> <td>1221     </td> <td>1849</td>\n",
       "        </tr>\n",
       "        <tr>\n",
       "            <td>Trader Joe's          </td> <td>Grocery Stores</td> <td>733          </td> <td>640      </td> <td>1373</td>\n",
       "        </tr>\n",
       "        <tr>\n",
       "            <td>Sprouts Farmers Market</td> <td>Grocery Stores</td> <td>419          </td> <td>581      </td> <td>1000</td>\n",
       "        </tr>\n",
       "        <tr>\n",
       "            <td>Publix Super Markets  </td> <td>Grocery Stores</td> <td>419          </td> <td>465      </td> <td>884 </td>\n",
       "        </tr>\n",
       "        <tr>\n",
       "            <td>Kinnikinnick Foods    </td> <td>Grocery Stores</td> <td>628          </td> <td>465      </td> <td>1093</td>\n",
       "        </tr>\n",
       "        <tr>\n",
       "            <td>Ralphs                </td> <td>Grocery Stores</td> <td>314          </td> <td>407      </td> <td>721 </td>\n",
       "        </tr>\n",
       "        <tr>\n",
       "            <td>Albertsons            </td> <td>Grocery Stores</td> <td>105          </td> <td>349      </td> <td>454 </td>\n",
       "        </tr>\n",
       "        <tr>\n",
       "            <td>Stater Bros. Markets  </td> <td>Grocery Stores</td> <td>105          </td> <td>349      </td> <td>454 </td>\n",
       "        </tr>\n",
       "        <tr>\n",
       "            <td>WinCo Foods           </td> <td>Grocery Stores</td> <td>105          </td> <td>291      </td> <td>396 </td>\n",
       "        </tr>\n",
       "    </tbody>\n",
       "</table>\n",
       "<p>... (35 rows omitted)</p>"
      ],
      "text/plain": [
       "Stores Visited         | Chain Category | Non-Customers | Customers | Sum\n",
       "ALDI                   | Grocery Stores | 1152          | 1279      | 2431\n",
       "Kroger                 | Grocery Stores | 628           | 1221      | 1849\n",
       "Trader Joe's           | Grocery Stores | 733           | 640       | 1373\n",
       "Sprouts Farmers Market | Grocery Stores | 419           | 581       | 1000\n",
       "Publix Super Markets   | Grocery Stores | 419           | 465       | 884\n",
       "Kinnikinnick Foods     | Grocery Stores | 628           | 465       | 1093\n",
       "Ralphs                 | Grocery Stores | 314           | 407       | 721\n",
       "Albertsons             | Grocery Stores | 105           | 349       | 454\n",
       "Stater Bros. Markets   | Grocery Stores | 105           | 349       | 454\n",
       "WinCo Foods            | Grocery Stores | 105           | 291       | 396\n",
       "... (35 rows omitted)"
      ]
     },
     "execution_count": 152,
     "metadata": {},
     "output_type": "execute_result"
    }
   ],
   "source": [
    "grocery"
   ]
  },
  {
   "cell_type": "markdown",
   "metadata": {},
   "source": [
    "This is indicative of the customers going to drugs and proprietary stores for packaged goods that they use as snacks or one-time meals. There are fewer grocery store visits than the drug and proprietary store visits, indicating that these customers may not buy fresh produce from grocery stores."
   ]
  },
  {
   "cell_type": "markdown",
   "metadata": {},
   "source": [
    "# Summary"
   ]
  },
  {
   "cell_type": "markdown",
   "metadata": {},
   "source": [
    "## Food:\n",
    "Customers don't cook at home and eat out or buy meals from proprietary stores.\n",
    "- grocery store visits are significasntly lower than drug and proprietary and eating places visits indicating that customers eat out or buy good from drug stores (and gorcery stores)\n",
    "- this is in-line with the East-Coast culture and the age of most customers: 78% of customers are in the working age and 800 (or less) customers are parents, as there are 400 customers ages 0-18\n",
    "\n",
    "\n",
    "## Lifestyle:\n",
    "Most customers are working.\n",
    "- 78% of the customers are in the working age \n",
    "- lunches in a working environment take place in eating places outside, where most of the customers are seen\n",
    "\n",
    "\n",
    "## Interests/Habits:\n",
    "It seems customers are \"smart-shoppers.\"\n",
    "- they visit department stores, where they can find a wide variety of goods (for the most part not edible)\n",
    "- drug and proprietary stores also contain a wide variety of goods (for the most part edible)"
   ]
  },
  {
   "cell_type": "markdown",
   "metadata": {},
   "source": [
    "# Non-Customer Marketing "
   ]
  },
  {
   "cell_type": "code",
   "execution_count": 153,
   "metadata": {},
   "outputs": [
    {
     "data": {
      "text/html": [
       "<table border=\"1\" class=\"dataframe\">\n",
       "    <thead>\n",
       "        <tr>\n",
       "            <th>Stores Visited</th> <th>Chain Category</th> <th>Non-Customers</th> <th>Customers</th> <th>Sum</th>\n",
       "        </tr>\n",
       "    </thead>\n",
       "    <tbody>\n",
       "        <tr>\n",
       "            <td>SUBWAY        </td> <td>Eating Places                     </td> <td>5131         </td> <td>5000     </td> <td>10131</td>\n",
       "        </tr>\n",
       "        <tr>\n",
       "            <td>CVS           </td> <td>Drug Stores and Proprietary Stores</td> <td>4817         </td> <td>4302     </td> <td>9119 </td>\n",
       "        </tr>\n",
       "        <tr>\n",
       "            <td>Starbucks US  </td> <td>Eating Places                     </td> <td>4817         </td> <td>4128     </td> <td>8945 </td>\n",
       "        </tr>\n",
       "        <tr>\n",
       "            <td>McDonald's    </td> <td>Eating Places                     </td> <td>3875         </td> <td>3895     </td> <td>7770 </td>\n",
       "        </tr>\n",
       "        <tr>\n",
       "            <td>Walgreens     </td> <td>Drug Stores and Proprietary Stores</td> <td>3456         </td> <td>3140     </td> <td>6596 </td>\n",
       "        </tr>\n",
       "        <tr>\n",
       "            <td>Taco Bell     </td> <td>Eating Places                     </td> <td>2723         </td> <td>3023     </td> <td>5746 </td>\n",
       "        </tr>\n",
       "        <tr>\n",
       "            <td>Wendy's       </td> <td>Eating Places                     </td> <td>3037         </td> <td>2733     </td> <td>5770 </td>\n",
       "        </tr>\n",
       "        <tr>\n",
       "            <td>Burger King US</td> <td>Eating Places                     </td> <td>2827         </td> <td>2733     </td> <td>5560 </td>\n",
       "        </tr>\n",
       "        <tr>\n",
       "            <td>Chick-fil-A   </td> <td>Eating Places                     </td> <td>2618         </td> <td>2384     </td> <td>5002 </td>\n",
       "        </tr>\n",
       "        <tr>\n",
       "            <td>Pizza Hut     </td> <td>Eating Places                     </td> <td>1257         </td> <td>2151     </td> <td>3408 </td>\n",
       "        </tr>\n",
       "    </tbody>\n",
       "</table>\n",
       "<p>... (258 rows omitted)</p>"
      ],
      "text/plain": [
       "Stores Visited | Chain Category                     | Non-Customers | Customers | Sum\n",
       "SUBWAY         | Eating Places                      | 5131          | 5000      | 10131\n",
       "CVS            | Drug Stores and Proprietary Stores | 4817          | 4302      | 9119\n",
       "Starbucks US   | Eating Places                      | 4817          | 4128      | 8945\n",
       "McDonald's     | Eating Places                      | 3875          | 3895      | 7770\n",
       "Walgreens      | Drug Stores and Proprietary Stores | 3456          | 3140      | 6596\n",
       "Taco Bell      | Eating Places                      | 2723          | 3023      | 5746\n",
       "Wendy's        | Eating Places                      | 3037          | 2733      | 5770\n",
       "Burger King US | Eating Places                      | 2827          | 2733      | 5560\n",
       "Chick-fil-A    | Eating Places                      | 2618          | 2384      | 5002\n",
       "Pizza Hut      | Eating Places                      | 1257          | 2151      | 3408\n",
       "... (258 rows omitted)"
      ]
     },
     "execution_count": 153,
     "metadata": {},
     "output_type": "execute_result"
    }
   ],
   "source": [
    "customer"
   ]
  },
  {
   "cell_type": "code",
   "execution_count": 160,
   "metadata": {},
   "outputs": [],
   "source": [
    "difference = customer.with_column('Difference', customer[2] - customer[3])"
   ]
  },
  {
   "cell_type": "code",
   "execution_count": 169,
   "metadata": {},
   "outputs": [],
   "source": [
    "above_0_difference = difference.where('Difference', are.above(0)).sort('Difference', descending=True)"
   ]
  },
  {
   "cell_type": "code",
   "execution_count": 174,
   "metadata": {},
   "outputs": [
    {
     "data": {
      "text/html": [
       "<table border=\"1\" class=\"dataframe\">\n",
       "    <thead>\n",
       "        <tr>\n",
       "            <th>Stores Visited</th> <th>Chain Category</th> <th>Non-Customers</th> <th>Customers</th> <th>Sum</th> <th>Difference</th>\n",
       "        </tr>\n",
       "    </thead>\n",
       "    <tbody>\n",
       "        <tr>\n",
       "            <td>Jamba Juice       </td> <td>Eating Places                     </td> <td>1152         </td> <td>407      </td> <td>1559</td> <td>745       </td>\n",
       "        </tr>\n",
       "        <tr>\n",
       "            <td>Starbucks US      </td> <td>Eating Places                     </td> <td>4817         </td> <td>4128     </td> <td>8945</td> <td>689       </td>\n",
       "        </tr>\n",
       "        <tr>\n",
       "            <td>Which Wich        </td> <td>Eating Places                     </td> <td>838          </td> <td>233      </td> <td>1071</td> <td>605       </td>\n",
       "        </tr>\n",
       "        <tr>\n",
       "            <td>CVS               </td> <td>Drug Stores and Proprietary Stores</td> <td>4817         </td> <td>4302     </td> <td>9119</td> <td>515       </td>\n",
       "        </tr>\n",
       "        <tr>\n",
       "            <td>Church's Chicken  </td> <td>Eating Places                     </td> <td>524          </td> <td>58       </td> <td>582 </td> <td>466       </td>\n",
       "        </tr>\n",
       "        <tr>\n",
       "            <td>Buffalo Wild Wings</td> <td>Eating Places                     </td> <td>1361         </td> <td>930      </td> <td>2291</td> <td>431       </td>\n",
       "        </tr>\n",
       "        <tr>\n",
       "            <td>JCPenney          </td> <td>Department Stores                 </td> <td>1361         </td> <td>930      </td> <td>2291</td> <td>431       </td>\n",
       "        </tr>\n",
       "        <tr>\n",
       "            <td>Sbarro            </td> <td>Eating Places                     </td> <td>942          </td> <td>523      </td> <td>1465</td> <td>419       </td>\n",
       "        </tr>\n",
       "        <tr>\n",
       "            <td>Applebee's        </td> <td>Eating Places                     </td> <td>1780         </td> <td>1395     </td> <td>3175</td> <td>385       </td>\n",
       "        </tr>\n",
       "        <tr>\n",
       "            <td>Kohl's            </td> <td>Department Stores                 </td> <td>1152         </td> <td>814      </td> <td>1966</td> <td>338       </td>\n",
       "        </tr>\n",
       "    </tbody>\n",
       "</table>\n",
       "<p>... (131 rows omitted)</p>"
      ],
      "text/plain": [
       "Stores Visited     | Chain Category                     | Non-Customers | Customers | Sum  | Difference\n",
       "Jamba Juice        | Eating Places                      | 1152          | 407       | 1559 | 745\n",
       "Starbucks US       | Eating Places                      | 4817          | 4128      | 8945 | 689\n",
       "Which Wich         | Eating Places                      | 838           | 233       | 1071 | 605\n",
       "CVS                | Drug Stores and Proprietary Stores | 4817          | 4302      | 9119 | 515\n",
       "Church's Chicken   | Eating Places                      | 524           | 58        | 582  | 466\n",
       "Buffalo Wild Wings | Eating Places                      | 1361          | 930       | 2291 | 431\n",
       "JCPenney           | Department Stores                  | 1361          | 930       | 2291 | 431\n",
       "Sbarro             | Eating Places                      | 942           | 523       | 1465 | 419\n",
       "Applebee's         | Eating Places                      | 1780          | 1395      | 3175 | 385\n",
       "Kohl's             | Department Stores                  | 1152          | 814       | 1966 | 338\n",
       "... (131 rows omitted)"
      ]
     },
     "execution_count": 174,
     "metadata": {},
     "output_type": "execute_result"
    }
   ],
   "source": [
    "above_0_difference"
   ]
  },
  {
   "cell_type": "markdown",
   "metadata": {},
   "source": [
    "# Extras"
   ]
  },
  {
   "cell_type": "code",
   "execution_count": 175,
   "metadata": {},
   "outputs": [
    {
     "data": {
      "text/html": [
       "<table border=\"1\" class=\"dataframe\">\n",
       "    <thead>\n",
       "        <tr>\n",
       "            <th>Stores Visited</th> <th>Chain Category</th> <th>Non-Customers</th> <th>Customers</th> <th>Sum</th>\n",
       "        </tr>\n",
       "    </thead>\n",
       "    <tbody>\n",
       "        <tr>\n",
       "            <td>SUBWAY        </td> <td>Eating Places                     </td> <td>5131         </td> <td>5000     </td> <td>10131</td>\n",
       "        </tr>\n",
       "        <tr>\n",
       "            <td>CVS           </td> <td>Drug Stores and Proprietary Stores</td> <td>4817         </td> <td>4302     </td> <td>9119 </td>\n",
       "        </tr>\n",
       "        <tr>\n",
       "            <td>Starbucks US  </td> <td>Eating Places                     </td> <td>4817         </td> <td>4128     </td> <td>8945 </td>\n",
       "        </tr>\n",
       "        <tr>\n",
       "            <td>McDonald's    </td> <td>Eating Places                     </td> <td>3875         </td> <td>3895     </td> <td>7770 </td>\n",
       "        </tr>\n",
       "        <tr>\n",
       "            <td>Walgreens     </td> <td>Drug Stores and Proprietary Stores</td> <td>3456         </td> <td>3140     </td> <td>6596 </td>\n",
       "        </tr>\n",
       "        <tr>\n",
       "            <td>Taco Bell     </td> <td>Eating Places                     </td> <td>2723         </td> <td>3023     </td> <td>5746 </td>\n",
       "        </tr>\n",
       "        <tr>\n",
       "            <td>Wendy's       </td> <td>Eating Places                     </td> <td>3037         </td> <td>2733     </td> <td>5770 </td>\n",
       "        </tr>\n",
       "        <tr>\n",
       "            <td>Burger King US</td> <td>Eating Places                     </td> <td>2827         </td> <td>2733     </td> <td>5560 </td>\n",
       "        </tr>\n",
       "        <tr>\n",
       "            <td>Chick-fil-A   </td> <td>Eating Places                     </td> <td>2618         </td> <td>2384     </td> <td>5002 </td>\n",
       "        </tr>\n",
       "        <tr>\n",
       "            <td>Pizza Hut     </td> <td>Eating Places                     </td> <td>1257         </td> <td>2151     </td> <td>3408 </td>\n",
       "        </tr>\n",
       "    </tbody>\n",
       "</table>\n",
       "<p>... (258 rows omitted)</p>"
      ],
      "text/plain": [
       "Stores Visited | Chain Category                     | Non-Customers | Customers | Sum\n",
       "SUBWAY         | Eating Places                      | 5131          | 5000      | 10131\n",
       "CVS            | Drug Stores and Proprietary Stores | 4817          | 4302      | 9119\n",
       "Starbucks US   | Eating Places                      | 4817          | 4128      | 8945\n",
       "McDonald's     | Eating Places                      | 3875          | 3895      | 7770\n",
       "Walgreens      | Drug Stores and Proprietary Stores | 3456          | 3140      | 6596\n",
       "Taco Bell      | Eating Places                      | 2723          | 3023      | 5746\n",
       "Wendy's        | Eating Places                      | 3037          | 2733      | 5770\n",
       "Burger King US | Eating Places                      | 2827          | 2733      | 5560\n",
       "Chick-fil-A    | Eating Places                      | 2618          | 2384      | 5002\n",
       "Pizza Hut      | Eating Places                      | 1257          | 2151      | 3408\n",
       "... (258 rows omitted)"
      ]
     },
     "execution_count": 175,
     "metadata": {},
     "output_type": "execute_result"
    }
   ],
   "source": [
    "#creating a visual for presentation slides\n",
    "customer"
   ]
  },
  {
   "cell_type": "code",
   "execution_count": 186,
   "metadata": {},
   "outputs": [],
   "source": [
    "grouped_table = customer.group('Chain Category', sum)"
   ]
  },
  {
   "cell_type": "code",
   "execution_count": 188,
   "metadata": {},
   "outputs": [],
   "source": [
    "grouped_sum = grouped_table.select('Chain Category', 'Sum sum')"
   ]
  },
  {
   "cell_type": "code",
   "execution_count": 204,
   "metadata": {},
   "outputs": [],
   "source": [
    "grouped_sum = grouped_sum.relabeled('Sum sum', 'Total Consumers')"
   ]
  },
  {
   "cell_type": "code",
   "execution_count": 205,
   "metadata": {},
   "outputs": [
    {
     "data": {
      "image/png": "[encoded data removed]",
      "text/plain": [
       "<Figure size 432x288 with 1 Axes>"
      ]
     },
     "metadata": {},
     "output_type": "display_data"
    }
   ],
   "source": [
    "grouped_sum.barh('Chain Category')"
   ]
  },
  {
   "cell_type": "code",
   "execution_count": 206,
   "metadata": {},
   "outputs": [
    {
     "data": {
      "text/html": [
       "<table border=\"1\" class=\"dataframe\">\n",
       "    <thead>\n",
       "        <tr>\n",
       "            <th>Age Range</th> <th>Non-Customers</th> <th>Customers</th> <th>Sum</th>\n",
       "        </tr>\n",
       "    </thead>\n",
       "    <tbody>\n",
       "        <tr>\n",
       "            <td>Age 0-18 </td> <td>1340         </td> <td>391      </td> <td>1731</td>\n",
       "        </tr>\n",
       "        <tr>\n",
       "            <td>Age 19-25</td> <td>502          </td> <td>1452     </td> <td>1954</td>\n",
       "        </tr>\n",
       "        <tr>\n",
       "            <td>Age 26-34</td> <td>670          </td> <td>1675     </td> <td>2345</td>\n",
       "        </tr>\n",
       "        <tr>\n",
       "            <td>Age 35-54</td> <td>1452         </td> <td>1228     </td> <td>2680</td>\n",
       "        </tr>\n",
       "        <tr>\n",
       "            <td>Age 55-64</td> <td>726          </td> <td>447      </td> <td>1173</td>\n",
       "        </tr>\n",
       "        <tr>\n",
       "            <td>Age 65+  </td> <td>837          </td> <td>391      </td> <td>1228</td>\n",
       "        </tr>\n",
       "    </tbody>\n",
       "</table>"
      ],
      "text/plain": [
       "Age Range | Non-Customers | Customers | Sum\n",
       "Age 0-18  | 1340          | 391       | 1731\n",
       "Age 19-25 | 502           | 1452      | 1954\n",
       "Age 26-34 | 670           | 1675      | 2345\n",
       "Age 35-54 | 1452          | 1228      | 2680\n",
       "Age 55-64 | 726           | 447       | 1173\n",
       "Age 65+   | 837           | 391       | 1228"
      ]
     },
     "execution_count": 206,
     "metadata": {},
     "output_type": "execute_result"
    }
   ],
   "source": [
    "age"
   ]
  },
  {
   "cell_type": "code",
   "execution_count": 207,
   "metadata": {},
   "outputs": [
    {
     "data": {
      "text/html": [
       "<table border=\"1\" class=\"dataframe\">\n",
       "    <thead>\n",
       "        <tr>\n",
       "            <th>Stores Visited</th> <th>Chain Category</th> <th>Non-Customers</th> <th>Customers</th> <th>Sum</th>\n",
       "        </tr>\n",
       "    </thead>\n",
       "    <tbody>\n",
       "        <tr>\n",
       "            <td>SUBWAY        </td> <td>Eating Places                     </td> <td>5131         </td> <td>5000     </td> <td>10131</td>\n",
       "        </tr>\n",
       "        <tr>\n",
       "            <td>CVS           </td> <td>Drug Stores and Proprietary Stores</td> <td>4817         </td> <td>4302     </td> <td>9119 </td>\n",
       "        </tr>\n",
       "        <tr>\n",
       "            <td>Starbucks US  </td> <td>Eating Places                     </td> <td>4817         </td> <td>4128     </td> <td>8945 </td>\n",
       "        </tr>\n",
       "        <tr>\n",
       "            <td>McDonald's    </td> <td>Eating Places                     </td> <td>3875         </td> <td>3895     </td> <td>7770 </td>\n",
       "        </tr>\n",
       "        <tr>\n",
       "            <td>Walgreens     </td> <td>Drug Stores and Proprietary Stores</td> <td>3456         </td> <td>3140     </td> <td>6596 </td>\n",
       "        </tr>\n",
       "        <tr>\n",
       "            <td>Taco Bell     </td> <td>Eating Places                     </td> <td>2723         </td> <td>3023     </td> <td>5746 </td>\n",
       "        </tr>\n",
       "        <tr>\n",
       "            <td>Wendy's       </td> <td>Eating Places                     </td> <td>3037         </td> <td>2733     </td> <td>5770 </td>\n",
       "        </tr>\n",
       "        <tr>\n",
       "            <td>Burger King US</td> <td>Eating Places                     </td> <td>2827         </td> <td>2733     </td> <td>5560 </td>\n",
       "        </tr>\n",
       "        <tr>\n",
       "            <td>Chick-fil-A   </td> <td>Eating Places                     </td> <td>2618         </td> <td>2384     </td> <td>5002 </td>\n",
       "        </tr>\n",
       "        <tr>\n",
       "            <td>Pizza Hut     </td> <td>Eating Places                     </td> <td>1257         </td> <td>2151     </td> <td>3408 </td>\n",
       "        </tr>\n",
       "    </tbody>\n",
       "</table>\n",
       "<p>... (258 rows omitted)</p>"
      ],
      "text/plain": [
       "Stores Visited | Chain Category                     | Non-Customers | Customers | Sum\n",
       "SUBWAY         | Eating Places                      | 5131          | 5000      | 10131\n",
       "CVS            | Drug Stores and Proprietary Stores | 4817          | 4302      | 9119\n",
       "Starbucks US   | Eating Places                      | 4817          | 4128      | 8945\n",
       "McDonald's     | Eating Places                      | 3875          | 3895      | 7770\n",
       "Walgreens      | Drug Stores and Proprietary Stores | 3456          | 3140      | 6596\n",
       "Taco Bell      | Eating Places                      | 2723          | 3023      | 5746\n",
       "Wendy's        | Eating Places                      | 3037          | 2733      | 5770\n",
       "Burger King US | Eating Places                      | 2827          | 2733      | 5560\n",
       "Chick-fil-A    | Eating Places                      | 2618          | 2384      | 5002\n",
       "Pizza Hut      | Eating Places                      | 1257          | 2151      | 3408\n",
       "... (258 rows omitted)"
      ]
     },
     "execution_count": 207,
     "metadata": {},
     "output_type": "execute_result"
    }
   ],
   "source": [
    "customer"
   ]
  },
  {
   "cell_type": "code",
   "execution_count": null,
   "metadata": {},
   "outputs": [],
   "source": []
  }
 ],
 "metadata": {
  "kernelspec": {
   "display_name": "Python 3",
   "language": "python",
   "name": "python3"
  },
  "language_info": {
   "codemirror_mode": {
    "name": "ipython",
    "version": 3
   },
   "file_extension": ".py",
   "mimetype": "text/x-python",
   "name": "python",
   "nbconvert_exporter": "python",
   "pygments_lexer": "ipython3",
   "version": "3.6.7"
  }
 },
 "nbformat": 4,
 "nbformat_minor": 2
}
